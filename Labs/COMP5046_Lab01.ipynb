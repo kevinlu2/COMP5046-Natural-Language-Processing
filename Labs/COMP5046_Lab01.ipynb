{
  "nbformat": 4,
  "nbformat_minor": 0,
  "metadata": {
    "colab": {
      "name": "COMP5046_Lab01.ipynb",
      "provenance": [],
      "collapsed_sections": [
        "3-tNXEbFOf-g",
        "lONWx3FtSwWJ",
        "7g3eNemEOklg",
        "I2cusD7IovCi",
        "P4rd7JPrr4sc",
        "rJfYbAtPrMNS"
      ],
      "toc_visible": true
    },
    "kernelspec": {
      "name": "python3",
      "display_name": "Python 3"
    },
    "accelerator": "GPU"
  },
  "cells": [
    {
      "cell_type": "markdown",
      "metadata": {
        "id": "3-tNXEbFOf-g"
      },
      "source": [
        "# Lab 01"
      ]
    },
    {
      "cell_type": "markdown",
      "metadata": {
        "id": "6Vmb3ZK5SOhz"
      },
      "source": [
        "# PyTorch"
      ]
    },
    {
      "cell_type": "markdown",
      "metadata": {
        "id": "9jJgT_lITGdG"
      },
      "source": [
        "[PyTorch](https://pytorch.org/) is an open source machine learning library used for applications such as natural language processing and computer vision. It is based on the [Torch](http://torch.ch/) library.\n",
        "\n",
        "Before we use Pytorch it is (obviously) neccessary to understand what Pytorch is. Let's start from the two core concepts: **Tensor**, **(Computational) Graph** and **Automatic Differentiation**\n",
        "\n",
        "\n",
        "## Tensor\n",
        "A tensor is a generalization of vectors and matrices to potentially higher dimensions. It is the primary data structure used by neural networks. Normally, we can use **nd**-tensor to call any of its instances where **nd** stands for **n** **dimensional**.\n",
        "\n",
        "There are three basic attributes we need to know about tensors:\n",
        "*   *Rank*: The number of dimensions present within the tensor. e.g. rank-2 tensor means 2d-tensor.\n",
        "*   *Axes*: Used to refer to a specific dimensions. The number of axes equals to the number of dimensions. The length of an axis represents the number of elements running along this axis. \n",
        "*   *Shape*: Formed by the length of each axis. e.g. shape(1,2) means a 2d-tensor with the first axis of length 1 and the second axis of length 2. \n",
        "\n",
        "\n",
        "![Tensor_Rank](https://drive.google.com/uc?id=1o5wulLHGxUuPxH3t3xfV8U7d2CrsL1oG)\n",
        "\n",
        "\n",
        "A [torch.Tensor](https://pytorch.org/docs/stable/tensors.html) (tensor in PyTorch) has the following key properties : \n",
        "*   *torch.dtype*: an object representing the data type of a torch.Tensor. e.g. torch.float32\n",
        "*   *torch.device*: an object representing the device on which a torch.Tensor is or will be allocated. e.g. CPU or CUDA (GPU)\n",
        "*   *torch.layout*: an object representing the memory layout of a torch.Tensor.\n",
        "\n",
        "More details with illustrative examples can be found [here](https://pytorch.org/docs/stable/tensor_attributes.html#tensor-attributes-doc) \n",
        "\n",
        "\n"
      ]
    },
    {
      "cell_type": "markdown",
      "metadata": {
        "id": "lONWx3FtSwWJ"
      },
      "source": [
        "## Computational Graph and Automatic Differentiation\n",
        "PyTorch uses (directed acyclic) computational graphs  to graph the functional operations that are applied to tensors inside neural networks so as to computationally calculate derivatives for the network optimization. In graphs, the nodes are Tensors while the eages are functions that produce output Tensors from input Tensors (e.g. summation, mutiplication). Those graphs enable PyTorch to do the automatic differentiation for us, i.e. it can automatically calculate the derivatives that are needed for network optimization. We will learn more about it through pratical examples in following sections.\n",
        "\n",
        "Specifically, PyTorch generates the computational graph on the fly as when operations are created during forward passes in neural networks, which is refered as dynamic computational graph. This is the one of the main differences between PyTorch and TensorFlow which uses static computational graphs.  \n",
        "\n"
      ]
    },
    {
      "cell_type": "markdown",
      "metadata": {
        "id": "xWQxFb_W8flk"
      },
      "source": [
        "## Importing PyTorch library\n",
        "[Google Colab](https://colab.research.google.com/notebooks/welcome.ipynb) has torch library installed as default so you just need to import it as below:"
      ]
    },
    {
      "cell_type": "code",
      "metadata": {
        "id": "horLjqk6TNZX",
        "colab": {
          "base_uri": "https://localhost:8080/"
        },
        "outputId": "70d80e4e-f4c4-4eb7-aa1f-f356a86647f3"
      },
      "source": [
        "import torch\n",
        "print(torch.__version__) #check version"
      ],
      "execution_count": null,
      "outputs": [
        {
          "output_type": "stream",
          "text": [
            "1.7.1+cu101\n"
          ],
          "name": "stdout"
        }
      ]
    },
    {
      "cell_type": "markdown",
      "metadata": {
        "id": "XPp2MGCe1apL"
      },
      "source": [
        "## Tensor creation\n",
        "With PyTorch, we will be implementing lots of models. To get started, let's  have a look at how to create a tensor.\n",
        "\n",
        "We can creating tensors **with numerical data**, typically numpy arrays."
      ]
    },
    {
      "cell_type": "code",
      "metadata": {
        "id": "bSymfXYxUT-8",
        "colab": {
          "base_uri": "https://localhost:8080/"
        },
        "outputId": "7c286503-4da9-44b6-8491-1e6bc679c4ee"
      },
      "source": [
        "import numpy as np\n",
        "\n",
        "# Scalar (0 Rank)\n",
        "data = torch.tensor(1)\n",
        "print(data.shape)\n",
        "\n",
        "\n",
        "# Vector (1 Rank)\n",
        "data = np.array([1,2]) \n",
        "data = torch.Tensor(data)\n",
        "print(data.shape)\n",
        "\n",
        "\n",
        "# Matrix (2 Rank)\n",
        "data = np.ones((2,2,)) \n",
        "data = torch.Tensor(data)\n",
        "print(data.shape)\n",
        "\n",
        "\n",
        "# Cube (3 Rank)\n",
        "data = np.ones((2,2,2)) \n",
        "data = torch.Tensor(data)\n",
        "print(data.shape)\n",
        "\n",
        "\n",
        "# Vector of cubes (4 Rank)\n",
        "data = np.ones((2,2,2,2)) \n",
        "data = torch.Tensor(data)\n",
        "print(data.shape)"
      ],
      "execution_count": null,
      "outputs": [
        {
          "output_type": "stream",
          "text": [
            "torch.Size([])\n",
            "torch.Size([2])\n",
            "torch.Size([2, 2])\n",
            "torch.Size([2, 2, 2])\n",
            "torch.Size([2, 2, 2, 2])\n"
          ],
          "name": "stdout"
        }
      ]
    },
    {
      "cell_type": "markdown",
      "metadata": {
        "id": "6LEAyEhrn03F"
      },
      "source": [
        "Notice that although both torch.Tensor() and torch.tensor() can be used to  generate tensors, there are some differences:\n",
        "\n",
        "*   uppercase T VS. lowercase t (obviously)\n",
        "*   torch.Tensor() is the constructor of the torch.Tensor class while the torch.tensor() is a factory function that constructs torch.Tensor objects and return them to the caller \n",
        "*   torch.Tensor() can return an empty tensor without specifying incoming data while torch.tensor() with no input data will prouduce a TypeError (you can try)\n",
        "*   torch.Tensor uses the default dtype \"float32\" while the torch.tensor() choose the same dtype based on the incoming data (type inference), this can be easily illustrated through following example:\n",
        "\n"
      ]
    },
    {
      "cell_type": "code",
      "metadata": {
        "id": "fxsULaaptyF7",
        "colab": {
          "base_uri": "https://localhost:8080/"
        },
        "outputId": "1fcdd228-c24f-40e5-e821-a313d3f644c0"
      },
      "source": [
        "data = np.array([1,2]) \n",
        "print(data.dtype)\n",
        "\n",
        "data_T = torch.Tensor(data)\n",
        "print(data_T)\n",
        "print(data_T.dtype)\n",
        "print(data_T.dtype==torch.get_default_dtype()) #get the torch default data type, \n",
        "\n",
        "#which can also be changed through 'torch.set_default_dtype(dtype)'\n",
        "print()\n",
        "\n",
        "data_t = torch.tensor(data)\n",
        "print(data_t)\n",
        "print(data_t.dtype)\n",
        "print()\n",
        "\n",
        "#we can also specify a datatype with torch.tensor()\n",
        "data_t = torch.tensor(data, dtype=torch.float64)\n",
        "print(data_t)\n",
        "print(data_t.dtype)"
      ],
      "execution_count": null,
      "outputs": [
        {
          "output_type": "stream",
          "text": [
            "int64\n",
            "tensor([1., 2.])\n",
            "torch.float32\n",
            "True\n",
            "\n",
            "tensor([1, 2])\n",
            "torch.int64\n",
            "\n",
            "tensor([1., 2.], dtype=torch.float64)\n",
            "torch.float64\n"
          ],
          "name": "stdout"
        }
      ]
    },
    {
      "cell_type": "markdown",
      "metadata": {
        "id": "cE2tWt771BYk"
      },
      "source": [
        "Expect for torch.Tensor() and torch.tensor(), We can also use torch.as_tensor and torch.from_numpy"
      ]
    },
    {
      "cell_type": "code",
      "metadata": {
        "id": "hE5zySUlbYPK",
        "colab": {
          "base_uri": "https://localhost:8080/"
        },
        "outputId": "20a174bb-1f5a-4d68-fde5-1337a38cb3c8"
      },
      "source": [
        "# Create tensor using torch.as_tensor \n",
        "data = np.ones((2,2,2)) \n",
        "data = torch.as_tensor(data)\n",
        "print(data.shape)\n",
        "\n",
        "# Create tensor using torch.from_numpy\n",
        "data = np.ones((2,2,2,2))\n",
        "data = torch.from_numpy(data)\n",
        "print(data.shape)"
      ],
      "execution_count": null,
      "outputs": [
        {
          "output_type": "stream",
          "text": [
            "torch.Size([2, 2, 2])\n",
            "torch.Size([2, 2, 2, 2])\n"
          ],
          "name": "stdout"
        }
      ]
    },
    {
      "cell_type": "markdown",
      "metadata": {
        "id": "Q-hrVh5Eb50F"
      },
      "source": [
        "Alternatively, we can also create tensors **without data** using factory functions"
      ]
    },
    {
      "cell_type": "code",
      "metadata": {
        "id": "XGnl32afcBnv",
        "colab": {
          "base_uri": "https://localhost:8080/"
        },
        "outputId": "71ac9f1f-7dc7-4828-9ff8-490eb3726ae0"
      },
      "source": [
        "# torch.eye: Returns an identity matrix \n",
        "torch.eye(2)"
      ],
      "execution_count": null,
      "outputs": [
        {
          "output_type": "execute_result",
          "data": {
            "text/plain": [
              "tensor([[1., 0.],\n",
              "        [0., 1.]])"
            ]
          },
          "metadata": {
            "tags": []
          },
          "execution_count": 5
        }
      ]
    },
    {
      "cell_type": "code",
      "metadata": {
        "id": "R8QlyKrPcxs_",
        "colab": {
          "base_uri": "https://localhost:8080/"
        },
        "outputId": "d0e21a36-f7cb-4c03-b0fa-34c60211948e"
      },
      "source": [
        "# torch.zeros: Returns a tensor of given shape filled with all zeros\n",
        "torch.zeros(2,2)"
      ],
      "execution_count": null,
      "outputs": [
        {
          "output_type": "execute_result",
          "data": {
            "text/plain": [
              "tensor([[0., 0.],\n",
              "        [0., 0.]])"
            ]
          },
          "metadata": {
            "tags": []
          },
          "execution_count": 6
        }
      ]
    },
    {
      "cell_type": "code",
      "metadata": {
        "id": "rO_IkTuSc66X",
        "colab": {
          "base_uri": "https://localhost:8080/"
        },
        "outputId": "17dbc215-be03-43f2-b99c-038b17336d6d"
      },
      "source": [
        "# torch.ones: Returns a tensor of given shape filled with all ones\n",
        "torch.ones(2,2)"
      ],
      "execution_count": null,
      "outputs": [
        {
          "output_type": "execute_result",
          "data": {
            "text/plain": [
              "tensor([[1., 1.],\n",
              "        [1., 1.]])"
            ]
          },
          "metadata": {
            "tags": []
          },
          "execution_count": 7
        }
      ]
    },
    {
      "cell_type": "code",
      "metadata": {
        "id": "BZqJpoIXc8wL",
        "colab": {
          "base_uri": "https://localhost:8080/"
        },
        "outputId": "fc455709-e4db-4f8a-c4b2-f3b638414ba9"
      },
      "source": [
        "# torch.rand: Returns a tensor of given shape filled with values drawn from a uniform distribution on [0, 1).\n",
        "torch.rand(2,2)"
      ],
      "execution_count": null,
      "outputs": [
        {
          "output_type": "execute_result",
          "data": {
            "text/plain": [
              "tensor([[0.7636, 0.4176],\n",
              "        [0.0720, 0.8193]])"
            ]
          },
          "metadata": {
            "tags": []
          },
          "execution_count": 8
        }
      ]
    },
    {
      "cell_type": "markdown",
      "metadata": {
        "id": "NTOQtikExO7M"
      },
      "source": [
        "More factory functions for tensor creation can be found [here](https://pytorch.org/cppdocs/notes/tensor_creation.html#factory-functions)"
      ]
    },
    {
      "cell_type": "markdown",
      "metadata": {
        "id": "Bff_DPKHbSvY"
      },
      "source": [
        "## Basic tensor operations"
      ]
    },
    {
      "cell_type": "markdown",
      "metadata": {
        "id": "rKz1UOFEHYVr"
      },
      "source": [
        "The list of operations with examples can be found [here](https://pytorch.org/docs/stable/torch.html#math-operations). Please go through and try to practise yourself with examples before you move on. You don't need to remember all of them, you can easily refer back when needed."
      ]
    },
    {
      "cell_type": "markdown",
      "metadata": {
        "id": "IE91VTvN_YVB"
      },
      "source": [
        "## Simple Linear Regression\n",
        "\n",
        "![Linear_Regression](https://upload.wikimedia.org/wikipedia/commons/thumb/3/3a/Linear_regression.svg/320px-Linear_regression.svg.png)\n",
        "\n",
        "The following code implements a simple linear regression algorithm.\n",
        "\n"
      ]
    },
    {
      "cell_type": "markdown",
      "metadata": {
        "id": "3fXyR-6lGlie"
      },
      "source": [
        "### Linear Regression from scratch"
      ]
    },
    {
      "cell_type": "markdown",
      "metadata": {
        "id": "ALnKOtUpGZyk"
      },
      "source": [
        "Prepare data"
      ]
    },
    {
      "cell_type": "code",
      "metadata": {
        "id": "uK900tGJBcbt"
      },
      "source": [
        "import numpy\n",
        "import matplotlib.pyplot as plt\n",
        "import torch\n",
        "\n",
        "# training data\n",
        "x_training = numpy.asarray([1,2,5,8,9,12,14,16,18,20])\n",
        "y_training = numpy.asarray([1500,3500,7200,11000,12500,18500,22000,24500,28000,30500])\n",
        "\n",
        "x_test = numpy.asarray([3,7,13,15,19])\n",
        "y_test = numpy.asarray([4400,10000,19500,23500,29000])\n",
        "\n",
        "# creating tensor for trainig from training data\n",
        "x_data = torch.from_numpy(x_training)\n",
        "y_data = torch.from_numpy(y_training)\n",
        "x_test_data = torch.from_numpy(x_test)\n",
        "y_test_data = torch.from_numpy(y_test)\n"
      ],
      "execution_count": null,
      "outputs": []
    },
    {
      "cell_type": "markdown",
      "metadata": {
        "id": "u4DA9NoJG10G"
      },
      "source": [
        " Once the dataset is prepared, we can start defining our model architecture\n",
        " \n",
        " Let's first build it from scratch so as to gain a clear understanding about how the automatic differentiation works\n",
        "\n"
      ]
    },
    {
      "cell_type": "code",
      "metadata": {
        "id": "IzlkNOOpGk8r",
        "colab": {
          "base_uri": "https://localhost:8080/"
        },
        "outputId": "0c819342-573b-404c-822e-7ad35419d16d"
      },
      "source": [
        "# Define weights and biases\n",
        "weight = torch.tensor(numpy.random.randn(), requires_grad=True)\n",
        "bias = torch.tensor(numpy.random.randn(), requires_grad=True)\n",
        "print(weight)\n",
        "print(bias)"
      ],
      "execution_count": null,
      "outputs": [
        {
          "output_type": "stream",
          "text": [
            "tensor(-0.2292, requires_grad=True)\n",
            "tensor(-0.8609, requires_grad=True)\n"
          ],
          "name": "stdout"
        }
      ]
    },
    {
      "cell_type": "markdown",
      "metadata": {
        "id": "9p3lWE7DL_c2"
      },
      "source": [
        "Note that we set 'requires_grad=True' above, which turns on the automatic gradient computation for weight and bias.\r\n",
        "\r\n",
        "Every Tensor has a flag: 'requires_grad' that allows for fine grained exclusion of subgraphs from gradient computation and can increase efficiency. If there’s a single input to an operation that requires gradient, its output will also require gradient. Conversely, only if all inputs don’t require gradient, the output also won’t require it. Backward computation is never performed in the subgraphs, where all Tensors didn’t require gradients."
      ]
    },
    {
      "cell_type": "code",
      "metadata": {
        "id": "FnGNiyccJEU7"
      },
      "source": [
        "# Define the model\n",
        "# Hypothesis = W * X + b (Linear Model)\n",
        "def linearRegression(x):\n",
        "  return x * weight + bias"
      ],
      "execution_count": null,
      "outputs": []
    },
    {
      "cell_type": "code",
      "metadata": {
        "id": "eYVxYYEaJw_9",
        "colab": {
          "base_uri": "https://localhost:8080/"
        },
        "outputId": "75596cfb-f527-4e2c-8bad-806dd3579102"
      },
      "source": [
        "# Generate predictions and compare with ground truth labels\n",
        "# As we can see, we randomly initialise the weight and bias, the model does not predict properly at the moment\n",
        "predictions = linearRegression(x_data)\n",
        "print(predictions)\n",
        "print(y_data)"
      ],
      "execution_count": null,
      "outputs": [
        {
          "output_type": "stream",
          "text": [
            "tensor([-1.0901, -1.3193, -2.0068, -2.6944, -2.9236, -3.6111, -4.0695, -4.5278,\n",
            "        -4.9862, -5.4446], grad_fn=<AddBackward0>)\n",
            "tensor([ 1500,  3500,  7200, 11000, 12500, 18500, 22000, 24500, 28000, 30500])\n"
          ],
          "name": "stdout"
        }
      ]
    },
    {
      "cell_type": "code",
      "metadata": {
        "id": "4rjCmeI3KxEy"
      },
      "source": [
        "# Define loss function \n",
        "# here we use mean squared error (MSE)\n",
        "def mse(x1, x2):\n",
        "  diff = x1 - x2\n",
        "  return torch.sum(diff*diff)/diff.numel()"
      ],
      "execution_count": null,
      "outputs": []
    },
    {
      "cell_type": "code",
      "metadata": {
        "id": "MnnZ_W8yLPLw",
        "colab": {
          "base_uri": "https://localhost:8080/"
        },
        "outputId": "cecb3862-906d-48c2-9d19-cde87e02dec2"
      },
      "source": [
        "# Compute loss\n",
        "# As we all know, the lower, the better\n",
        "loss = mse(predictions, y_data)\n",
        "print(loss)"
      ],
      "execution_count": null,
      "outputs": [
        {
          "output_type": "stream",
          "text": [
            "tensor(3.4857e+08, grad_fn=<DivBackward0>)\n"
          ],
          "name": "stdout"
        }
      ]
    },
    {
      "cell_type": "markdown",
      "metadata": {
        "id": "Ua8D9hd2MmSb"
      },
      "source": [
        "As is mentioned, PyTorch automatically compute the gradient/derivative of the loss (with regard to the weight and bias here). This was enabled when we set 'requires_grad=True' to them.\n",
        "\n",
        "All we need to do now is to call the backward() over our loss, which will trigger the automatical computation of gradients based on the chain rule."
      ]
    },
    {
      "cell_type": "code",
      "metadata": {
        "id": "cQ5PL5rbNJ09"
      },
      "source": [
        "# Compute gradients\n",
        "loss.backward()"
      ],
      "execution_count": null,
      "outputs": []
    },
    {
      "cell_type": "markdown",
      "metadata": {
        "id": "qwuD_tYMNnZP"
      },
      "source": [
        "After the backward passing, the gradients are stored in the .grad property of the involved tensors. Let's have a look."
      ]
    },
    {
      "cell_type": "code",
      "metadata": {
        "id": "w5glqZhkN1Fl",
        "colab": {
          "base_uri": "https://localhost:8080/"
        },
        "outputId": "ccfe8a82-30b0-4147-8bb7-35db561a6588"
      },
      "source": [
        "# Gradient for weight\n",
        "print(weight)\n",
        "print(weight.grad)\n",
        "print()\n",
        "\n",
        "# Gradient for bias\n",
        "print(bias)\n",
        "print(bias.grad)"
      ],
      "execution_count": null,
      "outputs": [
        {
          "output_type": "stream",
          "text": [
            "tensor(-0.2292, requires_grad=True)\n",
            "tensor(-456286.6250)\n",
            "\n",
            "tensor(-0.8609, requires_grad=True)\n",
            "tensor(-31846.5371)\n"
          ],
          "name": "stdout"
        }
      ]
    },
    {
      "cell_type": "markdown",
      "metadata": {
        "id": "bvHjhErrPiDk"
      },
      "source": [
        "Now we can easily adjust the weight and bias using the gradients.\n",
        "\n",
        "We need to reset the gradients before the next forward pass, because PyTorch accumulates gradients."
      ]
    },
    {
      "cell_type": "code",
      "metadata": {
        "id": "F_HXZkOUP-vB",
        "colab": {
          "base_uri": "https://localhost:8080/"
        },
        "outputId": "03f0df43-9b04-4d73-fde6-c996b0ad1b36"
      },
      "source": [
        "# We do not want gradient for the update operation\n",
        "# There will not be automatic gradient computation within the torch.no_grad() \n",
        "# We use learning rate of 1e-5 here\n",
        "\n",
        "with torch.no_grad(): \n",
        "  weight -= weight.grad * 1e-5\n",
        "  bias -= bias * 1e-5\n",
        "  # remember to reset the gradients\n",
        "  weight.grad.zero_()\n",
        "  bias.grad.zero_()\n",
        "print(weight)\n",
        "print(bias)\n"
      ],
      "execution_count": null,
      "outputs": [
        {
          "output_type": "stream",
          "text": [
            "tensor(4.3337, requires_grad=True)\n",
            "tensor(-0.8609, requires_grad=True)\n"
          ],
          "name": "stdout"
        }
      ]
    },
    {
      "cell_type": "code",
      "metadata": {
        "id": "MSj4yiSSSOJj",
        "colab": {
          "base_uri": "https://localhost:8080/"
        },
        "outputId": "bfe88218-901a-434a-e916-d85924c60eba"
      },
      "source": [
        "print(weight.grad)\n",
        "print(bias.grad)"
      ],
      "execution_count": null,
      "outputs": [
        {
          "output_type": "stream",
          "text": [
            "tensor(0.)\n",
            "tensor(0.)\n"
          ],
          "name": "stdout"
        }
      ]
    },
    {
      "cell_type": "markdown",
      "metadata": {
        "id": "3rmo63CASlPp"
      },
      "source": [
        "Let's predict and compute loss again. The loss should be lower with new weights and biases"
      ]
    },
    {
      "cell_type": "code",
      "metadata": {
        "id": "xRBatrmLSxmW",
        "colab": {
          "base_uri": "https://localhost:8080/"
        },
        "outputId": "fc44788f-fc38-4649-b841-6ec88429d1cb"
      },
      "source": [
        "predictions = linearRegression(x_data)\n",
        "loss = mse(predictions, y_data)\n",
        "print(loss)"
      ],
      "execution_count": null,
      "outputs": [
        {
          "output_type": "stream",
          "text": [
            "tensor(3.4649e+08, grad_fn=<DivBackward0>)\n"
          ],
          "name": "stdout"
        }
      ]
    },
    {
      "cell_type": "markdown",
      "metadata": {
        "id": "OE05OxGETIGd"
      },
      "source": [
        "Hope you now have an initial clear understanding of how automatic gradient computing works.\n",
        "\n",
        "Let's start training the model for multiple epochs.\n",
        "\n",
        "We can just simply create python loop to do it."
      ]
    },
    {
      "cell_type": "code",
      "metadata": {
        "id": "glakWvo4TmmU",
        "colab": {
          "base_uri": "https://localhost:8080/",
          "height": 1000
        },
        "outputId": "ae8ccd53-1c37-4113-e28b-392e5f759b2f"
      },
      "source": [
        "# An epoch is one iteration over the entire input data\n",
        "no_of_epochs = 5000\n",
        "# How often you want to display training info.\n",
        "display_interval = 200\n",
        "\n",
        "for epoch in range(no_of_epochs):\n",
        "  predictions = linearRegression(x_data)\n",
        "  loss = mse(predictions, y_data)\n",
        "  loss.backward()\n",
        "  with torch.no_grad():\n",
        "    weight -= weight.grad * 1e-5\n",
        "    bias -= bias.grad * 1e-5\n",
        "    weight.grad.zero_()\n",
        "    bias.grad.zero_()\n",
        "  if epoch % display_interval == 0 :\n",
        "      # calculate the cost of the current model\n",
        "      predictions = linearRegression(x_data)\n",
        "      loss = mse(predictions, y_data)           \n",
        "      print(\"Epoch:\", '%04d' %(epoch), \"loss=\", \"{:.8f}\".format(loss), \"W=\", \"{:.4f}\".format(weight), \"b=\",  \"{:.4f}\".format(bias))\n",
        "\n",
        "print(\"=========================================================\")\n",
        "training_loss = mse(linearRegression(x_data), y_data)   \n",
        "print(\"Optimised:\", \"loss=\", \"{:.9f}\".format(training_loss.data), \\\n",
        "              \"W=\", \"{:.9f}\".format(weight.data), \"b=\", \"{:.9f}\".format(bias.data))\n",
        "    \n",
        "# Plot training data on the graph\n",
        "plt.plot(x_training, y_training, 'ro', label='Training data')\n",
        "plt.plot(x_training, weight.data * x_training + bias.data, label='Linear')\n",
        "plt.legend()\n",
        "plt.show()\n",
        "\n",
        "# Calculate testing loss\n",
        "testing_loss = mse(linearRegression(x_test_data), y_test_data) \n",
        "print(\"Testing loss=\", \"{:.9f}\".format(testing_loss.data))\n",
        "print(\"Absolute mean square loss difference:\", \"{:.9f}\".format(abs(\n",
        "      training_loss.data - testing_loss.data)))\n",
        "  \n",
        "# Plot testing data on the graph\n",
        "plt.plot(x_test, y_test, 'bo', label='Testing data')\n",
        "plt.plot(x_test, weight.data * x_test + bias.data, label='Linear')\n",
        "plt.legend()\n",
        "plt.show()"
      ],
      "execution_count": null,
      "outputs": [
        {
          "output_type": "stream",
          "text": [
            "Epoch: 0000 loss= 344410624.00000000 W= 8.8829 b= -0.5434\n",
            "Epoch: 0200 loss= 103652992.00000000 W= 691.4767 b= 46.9696\n",
            "Epoch: 0400 loss= 31407328.00000000 W= 1065.4122 b= 72.7668\n",
            "Epoch: 0600 loss= 9728059.00000000 W= 1270.2671 b= 86.6685\n",
            "Epoch: 0800 loss= 3222532.25000000 W= 1382.5010 b= 94.0543\n",
            "Epoch: 1000 loss= 1270271.00000000 W= 1443.9985 b= 97.8709\n",
            "Epoch: 1200 loss= 684355.43750000 W= 1477.7026 b= 99.7325\n",
            "Epoch: 1400 loss= 508454.15625000 W= 1496.1807 b= 100.5235\n",
            "Epoch: 1600 loss= 455579.31250000 W= 1506.3187 b= 100.7283\n",
            "Epoch: 1800 loss= 439621.15625000 W= 1511.8889 b= 100.6122\n",
            "Epoch: 2000 loss= 434742.25000000 W= 1514.9563 b= 100.3205\n",
            "Epoch: 2200 loss= 433188.59375000 W= 1516.6526 b= 99.9329\n",
            "Epoch: 2400 loss= 432633.93750000 W= 1517.5979 b= 99.4930\n",
            "Epoch: 2600 loss= 432377.68750000 W= 1518.1317 b= 99.0246\n",
            "Epoch: 2800 loss= 432212.56250000 W= 1518.4402 b= 98.5410\n",
            "Epoch: 3000 loss= 432074.00000000 W= 1518.6244 b= 98.0491\n",
            "Epoch: 3200 loss= 431944.06250000 W= 1518.7411 b= 97.5530\n",
            "Epoch: 3400 loss= 431816.81250000 W= 1518.8210 b= 97.0548\n",
            "Epoch: 3600 loss= 431690.06250000 W= 1518.8782 b= 96.5559\n",
            "Epoch: 3800 loss= 431564.56250000 W= 1518.9270 b= 96.0569\n",
            "Epoch: 4000 loss= 431438.65625000 W= 1518.9758 b= 95.5579\n",
            "Epoch: 4200 loss= 431313.68750000 W= 1519.0149 b= 95.0590\n",
            "Epoch: 4400 loss= 431188.40625000 W= 1519.0499 b= 94.5600\n",
            "Epoch: 4600 loss= 431064.31250000 W= 1519.0850 b= 94.0622\n",
            "Epoch: 4800 loss= 430939.93750000 W= 1519.1199 b= 93.5647\n",
            "=========================================================\n",
            "Optimised: loss= 430815.750000000 W= 1519.154663086 b= 93.069793701\n"
          ],
          "name": "stdout"
        },
        {
          "output_type": "display_data",
          "data": {
            "image/png": "[encoded data removed]",
            "text/plain": [
              "<Figure size 432x288 with 1 Axes>"
            ]
          },
          "metadata": {
            "tags": [],
            "needs_background": "light"
          }
        },
        {
          "output_type": "stream",
          "text": [
            "Testing loss= 218860.078125000\n",
            "Absolute mean square loss difference: 211955.671875000\n"
          ],
          "name": "stdout"
        },
        {
          "output_type": "display_data",
          "data": {
            "image/png": "[encoded data removed]",
            "text/plain": [
              "<Figure size 432x288 with 1 Axes>"
            ]
          },
          "metadata": {
            "tags": [],
            "needs_background": "light"
          }
        }
      ]
    },
    {
      "cell_type": "markdown",
      "metadata": {
        "id": "54_Tj-BIaDPU"
      },
      "source": [
        "### Linear Regression using PyTorch built-ins"
      ]
    },
    {
      "cell_type": "markdown",
      "metadata": {
        "id": "yUrcVErtayVN"
      },
      "source": [
        "Prepare data"
      ]
    },
    {
      "cell_type": "code",
      "metadata": {
        "id": "5DwoqFKbaiSY"
      },
      "source": [
        "import numpy\n",
        "import matplotlib.pyplot as plt\n",
        "import torch\n",
        "import torch.nn as nn\n",
        "\n",
        "# training data: this time we use 2d array\n",
        "# Assuming we have 90 samples of 10 features about a house condition, such as bedroom number, distance to city center etc.\n",
        "# and will predict the house price \n",
        "x_data = torch.randn(90, 10)\n",
        "y_data = torch.randn(90, 1)\n",
        "\n",
        "# testing data:\n",
        "x_test_data = torch.randn(10, 10)\n",
        "y_test_data = torch.randn(10, 1)\n",
        "\n"
      ],
      "execution_count": null,
      "outputs": []
    },
    {
      "cell_type": "markdown",
      "metadata": {
        "id": "79_tCTbKa_Go"
      },
      "source": [
        "This time we don't need to initialize the weight and bias manually. Instead, we will define the model using the built-in [torch.nn.Linear](https://pytorch.org/docs/stable/nn.html#linear).\n",
        "\n",
        "[**torch.nn**](https://pytorch.org/docs/stable/nn.html) is a subpackage that contains modules and extensible classes for us to build neural networks.\n",
        "\n"
      ]
    },
    {
      "cell_type": "code",
      "metadata": {
        "id": "rA8sqMF_bOSL",
        "colab": {
          "base_uri": "https://localhost:8080/"
        },
        "outputId": "7ee97c57-fb6a-4db6-fd23-79ee5d7fa5a6"
      },
      "source": [
        "# Define model\n",
        "linearRegression =  nn.Linear(10,1)\n",
        "print(linearRegression.weight)\n",
        "print(linearRegression.bias)"
      ],
      "execution_count": null,
      "outputs": [
        {
          "output_type": "stream",
          "text": [
            "Parameter containing:\n",
            "tensor([[-0.0140, -0.0774, -0.2631,  0.3152, -0.2011, -0.2240,  0.1659, -0.2902,\n",
            "         -0.2685, -0.0984]], requires_grad=True)\n",
            "Parameter containing:\n",
            "tensor([-0.2102], requires_grad=True)\n"
          ],
          "name": "stdout"
        }
      ]
    },
    {
      "cell_type": "markdown",
      "metadata": {
        "id": "D4UxFi0bbeC3"
      },
      "source": [
        "Similarly, we don't manually updating the weight and bias using gradients by ourselves. Instead, we will use the optimizer optim.SGD.\n",
        "\n",
        "[**torch.optim**](https://pytorch.org/docs/stable/optim.html) is a subpackage that contains the standard optimization operations like Adam and SGD.\n",
        "\n"
      ]
    },
    {
      "cell_type": "code",
      "metadata": {
        "id": "k62ayy77bu5W"
      },
      "source": [
        "# Define optimizer\n",
        "# Just pass the model parameters to be updated and specify the learning rate when calling optim.SGD\n",
        "# SGD optimizer in PyTorch actually is Mini-batch Gradient Descent with momentum.\n",
        "# In this case, as the batch size of our model is N, SGD here is actually Batch Gradient Descent.\n",
        "optimizer = torch.optim.SGD(linearRegression.parameters(), lr=1e-5)"
      ],
      "execution_count": null,
      "outputs": []
    },
    {
      "cell_type": "markdown",
      "metadata": {
        "id": "vfKM513UcH-4"
      },
      "source": [
        "Again, we use the built-in loss function mse_loss instead of defining it manually.\n",
        "\n",
        "We will need the [**torch.nn.functional**](https://pytorch.org/docs/stable/nn.functional.html) interface, which contains typical operations used for building neural networks such as convolution operations, activation functions and loss functions we need here."
      ]
    },
    {
      "cell_type": "code",
      "metadata": {
        "id": "sKWCYuiocOUS",
        "colab": {
          "base_uri": "https://localhost:8080/"
        },
        "outputId": "1fc3487b-031e-4e99-d164-dc7e7922783f"
      },
      "source": [
        "# Import nn.functional \n",
        "import torch.nn.functional as F\n",
        "\n",
        "# Define the loss function\n",
        "loss_func = F.mse_loss\n",
        "\n",
        "# Calculate loss\n",
        "loss = loss_func(linearRegression(x_data), y_data)\n",
        "print(loss)"
      ],
      "execution_count": null,
      "outputs": [
        {
          "output_type": "stream",
          "text": [
            "tensor(1.1964, grad_fn=<MseLossBackward>)\n"
          ],
          "name": "stdout"
        }
      ]
    },
    {
      "cell_type": "markdown",
      "metadata": {
        "id": "l1pjqzZCNJgJ"
      },
      "source": [
        "Train the model"
      ]
    },
    {
      "cell_type": "code",
      "metadata": {
        "id": "xbYtLruwwRfr",
        "colab": {
          "base_uri": "https://localhost:8080/"
        },
        "outputId": "d8acde58-a59c-4c3e-f438-e0fea4265135"
      },
      "source": [
        "# An epoch is one iteration over the entire input data\n",
        "no_of_epochs = 5000\n",
        "# How often you want to display training info.\n",
        "display_interval = 200\n",
        "\n",
        "for epoch in range(no_of_epochs):\n",
        "  predictions = linearRegression(x_data)\n",
        "  loss = loss_func(predictions, y_data)\n",
        "  loss.backward()\n",
        "  optimizer.step() #call step() to automatically update the parameters through our defined optimizer, which can be called once after backward()\n",
        "  optimizer.zero_grad() #reset the gradient as what we did before\n",
        "  if epoch % display_interval == 0 :\n",
        "      # calculate the cost of the current model\n",
        "      predictions = linearRegression(x_data)\n",
        "      loss = loss_func(predictions, y_data)          \n",
        "      print(\"Epoch:\", '%04d' % (epoch), \"loss=\", \"{:.8f}\".format(loss))\n",
        "\n",
        "print(\"=========================================================\")\n",
        "training_loss = mse(linearRegression(x_data), y_data)   \n",
        "print(\"Optimised:\", \"loss=\", \"{:.9f}\".format(training_loss.data))\n",
        "\n",
        "\n",
        "# Calculate testing loss\n",
        "testing_loss = loss_func(linearRegression(x_test_data), y_test_data) \n",
        "print(\"Testing loss=\", \"{:.9f}\".format(testing_loss.data))\n",
        "print(\"Absolute mean square loss difference:\", \"{:.9f}\".format(abs(\n",
        "      training_loss.data - testing_loss.data)))"
      ],
      "execution_count": null,
      "outputs": [
        {
          "output_type": "stream",
          "text": [
            "Epoch: 0000 loss= 1.19639134\n",
            "Epoch: 0200 loss= 1.19183135\n",
            "Epoch: 0400 loss= 1.18731523\n",
            "Epoch: 0600 loss= 1.18284488\n",
            "Epoch: 0800 loss= 1.17841876\n",
            "Epoch: 1000 loss= 1.17403519\n",
            "Epoch: 1200 loss= 1.16969395\n",
            "Epoch: 1400 loss= 1.16539490\n",
            "Epoch: 1600 loss= 1.16113830\n",
            "Epoch: 1800 loss= 1.15692353\n",
            "Epoch: 2000 loss= 1.15274978\n",
            "Epoch: 2200 loss= 1.14861631\n",
            "Epoch: 2400 loss= 1.14452243\n",
            "Epoch: 2600 loss= 1.14046931\n",
            "Epoch: 2800 loss= 1.13645589\n",
            "Epoch: 3000 loss= 1.13248062\n",
            "Epoch: 3200 loss= 1.12854278\n",
            "Epoch: 3400 loss= 1.12464273\n",
            "Epoch: 3600 loss= 1.12078166\n",
            "Epoch: 3800 loss= 1.11695743\n",
            "Epoch: 4000 loss= 1.11317015\n",
            "Epoch: 4200 loss= 1.10941863\n",
            "Epoch: 4400 loss= 1.10570264\n",
            "Epoch: 4600 loss= 1.10202360\n",
            "Epoch: 4800 loss= 1.09837914\n",
            "=========================================================\n",
            "Optimised: loss= 1.094786763\n",
            "Testing loss= 1.086732626\n",
            "Absolute mean square loss difference: 0.008054137\n"
          ],
          "name": "stdout"
        }
      ]
    },
    {
      "cell_type": "markdown",
      "metadata": {
        "id": "7g3eNemEOklg"
      },
      "source": [
        "# NLTK Library and WordNet"
      ]
    },
    {
      "cell_type": "markdown",
      "metadata": {
        "id": "D8btJKEBxSS1"
      },
      "source": [
        "WordNet® is a large lexical database of English. Nouns, verbs, adjectives and adverbs are grouped into sets of cognitive synonyms (synsets), each expressing a distinct concept."
      ]
    },
    {
      "cell_type": "markdown",
      "metadata": {
        "id": "ofWRw7omOeWf"
      },
      "source": [
        "In Python, NLTK library includes English WordNet.\n",
        "\n",
        "**To use wordnet, you need to download the wordnet data via NLTK library**\n",
        "\n",
        " * **[NLTK](https://www.nltk.org/)** is a **N**atural **L**anguage **T**ool**k**iit for python. "
      ]
    },
    {
      "cell_type": "code",
      "metadata": {
        "id": "iVqxuaIpOIOl"
      },
      "source": [
        "import nltk"
      ],
      "execution_count": null,
      "outputs": []
    },
    {
      "cell_type": "markdown",
      "metadata": {
        "id": "I2cusD7IovCi"
      },
      "source": [
        "## WordNet"
      ]
    },
    {
      "cell_type": "code",
      "metadata": {
        "id": "OuDwzN6OosjB",
        "colab": {
          "base_uri": "https://localhost:8080/"
        },
        "outputId": "fc21a312-21d9-4be5-c290-9fa6408b0755"
      },
      "source": [
        "nltk.download('wordnet')"
      ],
      "execution_count": null,
      "outputs": [
        {
          "output_type": "stream",
          "text": [
            "[nltk_data] Downloading package wordnet to /root/nltk_data...\n",
            "[nltk_data]   Unzipping corpora/wordnet.zip.\n"
          ],
          "name": "stdout"
        },
        {
          "output_type": "execute_result",
          "data": {
            "text/plain": [
              "True"
            ]
          },
          "metadata": {
            "tags": []
          },
          "execution_count": 27
        }
      ]
    },
    {
      "cell_type": "code",
      "metadata": {
        "id": "1JKvb0XKNzxw"
      },
      "source": [
        "from nltk.corpus import wordnet as wn"
      ],
      "execution_count": null,
      "outputs": []
    },
    {
      "cell_type": "markdown",
      "metadata": {
        "id": "ucVb1XeAnnFo"
      },
      "source": [
        "Let's get a set of synonyms that share a common meaning."
      ]
    },
    {
      "cell_type": "code",
      "metadata": {
        "id": "ecoLLQPlxlOc"
      },
      "source": [
        "dog = wn.synset('dog.n.01')\n",
        "person = wn.synset('person.n.01')\n",
        "cat = wn.synset('cat.n.01')\n",
        "computer = wn.synset('computer.n.01')"
      ],
      "execution_count": null,
      "outputs": []
    },
    {
      "cell_type": "markdown",
      "metadata": {
        "id": "P4rd7JPrr4sc"
      },
      "source": [
        "### path_similarity()\n",
        "path_similarity() returns a score denoting how similar two word senses are, based on the shortest path that connects the senses in the is-a (hypernym/hypnoym) taxonomy. The score is in the range 0 to 1."
      ]
    },
    {
      "cell_type": "code",
      "metadata": {
        "id": "aiTFSsHqsREt",
        "colab": {
          "base_uri": "https://localhost:8080/"
        },
        "outputId": "a3ed7544-e30e-48cf-b7dd-50e8601e6701"
      },
      "source": [
        "print(\"dog<->cat : \", wn.path_similarity(dog,cat))\n",
        "print(\"person<->cat : \", wn.path_similarity(person,cat))\n",
        "print(\"person<->dog : \", wn.path_similarity(person,dog))\n",
        "print(\"person<->computer : \", wn.path_similarity(person,computer))"
      ],
      "execution_count": null,
      "outputs": [
        {
          "output_type": "stream",
          "text": [
            "dog<->cat :  0.2\n",
            "person<->cat :  0.1\n",
            "person<->dog :  0.2\n",
            "person<->computer :  0.1111111111111111\n"
          ],
          "name": "stdout"
        }
      ]
    },
    {
      "cell_type": "markdown",
      "metadata": {
        "id": "rJfYbAtPrMNS"
      },
      "source": [
        "### Wu-Palmer Similarity (wup_similarity() )\n",
        "wup_similarity() returns a score denoting how similar two word senses are, based on the depth of the two senses in the taxonomy and that of their Least Common Subsumer (most specific ancestor node)."
      ]
    },
    {
      "cell_type": "code",
      "metadata": {
        "id": "Jno6d9Mdrbu0",
        "colab": {
          "base_uri": "https://localhost:8080/"
        },
        "outputId": "4c432cde-8abe-41d2-8e0d-db9d198e265f"
      },
      "source": [
        "print(\"dog<->cat : \", wn.wup_similarity(dog,cat))\n",
        "print(\"person<->cat : \", wn.wup_similarity(person,cat))\n",
        "print(\"person<->dog : \", wn.wup_similarity(person,dog))\n",
        "print(\"person<->computer : \", wn.wup_similarity(person,computer))"
      ],
      "execution_count": null,
      "outputs": [
        {
          "output_type": "stream",
          "text": [
            "dog<->cat :  0.8571428571428571\n",
            "person<->cat :  0.5714285714285714\n",
            "person<->dog :  0.75\n",
            "person<->computer :  0.5\n"
          ],
          "name": "stdout"
        }
      ]
    },
    {
      "cell_type": "markdown",
      "metadata": {
        "id": "RVtVC7LnqS9T"
      },
      "source": [
        "# TFIDF (Term Frequency Inverse Document Frequency)\n",
        "\n",
        "TFIDF is a statistical measure used to evaluate how important a word is to a document in a collection or corpus. The importance increases proportionally to the number of times a word appears in the document but is offset by the frequency of the word in the corpus.\n",
        "\n",
        "\n",
        "**Tokenization**"
      ]
    },
    {
      "cell_type": "code",
      "metadata": {
        "id": "hcjJPxPIHsVo",
        "colab": {
          "base_uri": "https://localhost:8080/"
        },
        "outputId": "fe19485b-9e62-4ef0-c805-b8afa954f651"
      },
      "source": [
        "import nltk\n",
        "nltk.download('punkt')\n",
        "from nltk.tokenize import word_tokenize, sent_tokenize\n",
        "\n",
        "import re\n",
        "import numpy as np\n",
        "\n",
        "nltk.download('stopwords')\n",
        "from nltk.corpus import stopwords as sw\n",
        "\n",
        "corpus = [\n",
        "    'Caren loves the NLP. The NLP hates Caren', #document 1\n",
        "    'Caren hates the NLP' #document 2\n",
        "]\n",
        "\n",
        "# Tokenize sentences - for only doc1\n",
        "tokenized_sentence = sent_tokenize(corpus[0])\n",
        "print(\"\\ntokenized_sentence: \")\n",
        "print(tokenized_sentence)\n",
        "\n",
        "# Remove punctuations - for only doc1\n",
        "clean_doc1 = re.sub(r'[^\\w\\s]','',corpus[0])\n",
        "print(\"\\nclean_sentence: \")\n",
        "print(clean_doc1)\n",
        "\n",
        "# Tokenize words - for only doc1\n",
        "tokenized_doc1 = word_tokenize(clean_doc1)\n",
        "print(\"\\ntokenized_word: \")\n",
        "print(tokenized_doc1)\n",
        "\n",
        "# Convert the tokens into lowercase: lower_tokens\n",
        "lower_tokens = [t.lower() for t in tokenized_doc1]\n",
        "print(\"\\nlower_case: \")\n",
        "print(lower_tokens)\n",
        "\n",
        "# stop word removal\n",
        "sww = sw.words()\n",
        "tokenized_doc1 = [w for w in lower_tokens if not w in sww]\n",
        "print(\"\\ntokensized_word (in lower case, w/o stopwords): \")\n",
        "print(tokenized_doc1)\n",
        "\n",
        "# same process for doc2\n",
        "clean_doc2 = re.sub(r'[^\\w\\s]','',corpus[1])\n",
        "tokenized_doc2 = word_tokenize(clean_doc2)\n",
        "lower_tokens2 = [t.lower() for t in tokenized_doc2]\n",
        "tokenized_doc2 = [w for w in lower_tokens2 if not w in sww]\n",
        "\n",
        "tokensized_docs = [tokenized_doc1, tokenized_doc2]\n",
        "print(\"\\nfinal_docs: \")\n",
        "print(tokensized_docs[0])\n",
        "print(tokensized_docs[1])"
      ],
      "execution_count": null,
      "outputs": [
        {
          "output_type": "stream",
          "text": [
            "[nltk_data] Downloading package punkt to /root/nltk_data...\n",
            "[nltk_data]   Unzipping tokenizers/punkt.zip.\n",
            "[nltk_data] Downloading package stopwords to /root/nltk_data...\n",
            "[nltk_data]   Unzipping corpora/stopwords.zip.\n",
            "\n",
            "tokenized_sentence: \n",
            "['Caren loves the NLP.', 'The NLP hates Caren']\n",
            "\n",
            "clean_sentence: \n",
            "Caren loves the NLP The NLP hates Caren\n",
            "\n",
            "tokenized_word: \n",
            "['Caren', 'loves', 'the', 'NLP', 'The', 'NLP', 'hates', 'Caren']\n",
            "\n",
            "lower_case: \n",
            "['caren', 'loves', 'the', 'nlp', 'the', 'nlp', 'hates', 'caren']\n",
            "\n",
            "tokensized_word (in lower case, w/o stopwords): \n",
            "['caren', 'loves', 'nlp', 'nlp', 'hates', 'caren']\n",
            "\n",
            "final_docs: \n",
            "['caren', 'loves', 'nlp', 'nlp', 'hates', 'caren']\n",
            "['caren', 'hates', 'nlp']\n"
          ],
          "name": "stdout"
        }
      ]
    },
    {
      "cell_type": "markdown",
      "metadata": {
        "id": "NSeX6VnhTeA5"
      },
      "source": [
        "**Document Frequency (DF)**\n",
        "\n",
        "DF is the count of occurrences of term t in the document set N\n",
        "\n",
        "*df(t) = occurrence of t in documents*\n",
        "\n",
        "*idf(t) = log(N/(df + 1))*\n",
        "\n"
      ]
    },
    {
      "cell_type": "code",
      "metadata": {
        "id": "aEOTCuiZTdl6",
        "colab": {
          "base_uri": "https://localhost:8080/"
        },
        "outputId": "e025634e-3318-407e-eea1-d8a0867b7413"
      },
      "source": [
        "DF = {}\n",
        "\n",
        "for tokensized_doc in tokensized_docs:\n",
        "    # get each unique word in the doc - and count the number of occurrences in the document\n",
        "    for term in np.unique(tokensized_doc):\n",
        "        try:\n",
        "            DF[term] +=1\n",
        "        except:\n",
        "            DF[term] =1\n",
        "\n",
        "DF"
      ],
      "execution_count": null,
      "outputs": [
        {
          "output_type": "execute_result",
          "data": {
            "text/plain": [
              "{'caren': 2, 'hates': 2, 'loves': 1, 'nlp': 2}"
            ]
          },
          "metadata": {
            "tags": []
          },
          "execution_count": 33
        }
      ]
    },
    {
      "cell_type": "code",
      "metadata": {
        "id": "G6s15-FpdhrM",
        "colab": {
          "base_uri": "https://localhost:8080/"
        },
        "outputId": "359337f2-f538-4158-bc88-282a4e9789e4"
      },
      "source": [
        "DF['caren']"
      ],
      "execution_count": null,
      "outputs": [
        {
          "output_type": "execute_result",
          "data": {
            "text/plain": [
              "2"
            ]
          },
          "metadata": {
            "tags": []
          },
          "execution_count": 34
        }
      ]
    },
    {
      "cell_type": "markdown",
      "metadata": {
        "id": "AEpq2ws8Lsos"
      },
      "source": [
        "**TF-IDF calculation**"
      ]
    },
    {
      "cell_type": "markdown",
      "metadata": {
        "id": "K9QHJ8gA1iMO"
      },
      "source": [
        "In the following sample code, we will use [Counter](https://docs.python.org/3/library/collections.html#collections.Counter) to easily count the word occurance in a document. [Counter](https://docs.python.org/3/library/collections.html#collections.Counter) is a Python class that enables counting for elements from an iterable."
      ]
    },
    {
      "cell_type": "code",
      "metadata": {
        "id": "tNeraCvfIO3E",
        "colab": {
          "base_uri": "https://localhost:8080/"
        },
        "outputId": "e36b5ee8-844f-41fc-daec-517eb74e1b46"
      },
      "source": [
        "from nltk.corpus import stopwords\n",
        "from nltk.tokenize import word_tokenize\n",
        "from collections import Counter\n",
        "import math\n",
        "\n",
        "\n",
        "tf_idf = {}\n",
        "\n",
        "# total number of documents\n",
        "N = len(tokensized_docs) \n",
        "\n",
        "doc_id = 0\n",
        "# get each tokenised doc\n",
        "for tokensized_doc in tokensized_docs:\n",
        "    # initialise counter for the doc\n",
        "    counter = Counter(tokensized_doc)\n",
        "    # calculate total number of words in the doc\n",
        "    total_num_words = len(tokensized_doc)    \n",
        "\n",
        "    # get each unique word in the doc\n",
        "    for term in np.unique(tokensized_doc):\n",
        "\n",
        "        # calculate Term Frequency \n",
        "        tf = counter[term]/total_num_words\n",
        "        \n",
        "        # calculate Document Frequency\n",
        "        df = DF[term]\n",
        "\n",
        "        # calculate Inverse Document Frequency\n",
        "        idf = math.log(N/(df+1))+1\n",
        "\n",
        "        # calculate TF-IDF\n",
        "        tf_idf[doc_id, term] = tf*idf\n",
        "\n",
        "    doc_id += 1\n",
        "\n",
        "tf_idf"
      ],
      "execution_count": null,
      "outputs": [
        {
          "output_type": "execute_result",
          "data": {
            "text/plain": [
              "{(0, 'caren'): 0.19817829729727854,\n",
              " (0, 'hates'): 0.09908914864863927,\n",
              " (0, 'loves'): 0.16666666666666666,\n",
              " (0, 'nlp'): 0.19817829729727854,\n",
              " (1, 'caren'): 0.19817829729727854,\n",
              " (1, 'hates'): 0.19817829729727854,\n",
              " (1, 'nlp'): 0.19817829729727854}"
            ]
          },
          "metadata": {
            "tags": []
          },
          "execution_count": 35
        }
      ]
    },
    {
      "cell_type": "markdown",
      "metadata": {
        "id": "tETfBpygMC-u"
      },
      "source": [
        "**Sort by the importance - Descending Order**"
      ]
    },
    {
      "cell_type": "markdown",
      "metadata": {
        "id": "hAB7bU-15uK1"
      },
      "source": [
        "We use Python built-in function [sorted](https://docs.python.org/3/howto/sorting.html) for sorting the words based on its tf_idf values."
      ]
    },
    {
      "cell_type": "code",
      "metadata": {
        "id": "0R4BI1-UH35-",
        "colab": {
          "base_uri": "https://localhost:8080/"
        },
        "outputId": "e4b48b6a-78fe-49c5-bb88-26b0a92578da"
      },
      "source": [
        "import numpy as np\n",
        "#sort the dictionary based on values\n",
        "dict_exmaple = tf_idf\n",
        "sorted_dict = sorted(dict_exmaple.items(), key=lambda x: x[1], reverse=True)\n",
        "sorted_dict"
      ],
      "execution_count": null,
      "outputs": [
        {
          "output_type": "execute_result",
          "data": {
            "text/plain": [
              "[((0, 'caren'), 0.19817829729727854),\n",
              " ((0, 'nlp'), 0.19817829729727854),\n",
              " ((1, 'caren'), 0.19817829729727854),\n",
              " ((1, 'hates'), 0.19817829729727854),\n",
              " ((1, 'nlp'), 0.19817829729727854),\n",
              " ((0, 'loves'), 0.16666666666666666),\n",
              " ((0, 'hates'), 0.09908914864863927)]"
            ]
          },
          "metadata": {
            "tags": []
          },
          "execution_count": 36
        }
      ]
    },
    {
      "cell_type": "markdown",
      "metadata": {
        "id": "aqD22EW5PZRa"
      },
      "source": [
        "# Exercise\n",
        "Please complete the following **two questions** E1 and E2 and you should submit **\"ipynb\" file to Canvas** (You can download it from \"File\" > \"Download .ipynb\")."
      ]
    },
    {
      "cell_type": "markdown",
      "metadata": {
        "id": "KF-vRmAYVpMk"
      },
      "source": [
        "##E1. What are the advantages of using TF-IDF over TF (Term Frequency)?\r\n",
        "Please write down your answer below with a **supportive example**, using your own words. "
      ]
    },
    {
      "cell_type": "code",
      "metadata": {
        "cellView": "form",
        "id": "jMj_HobwXgR8"
      },
      "source": [
        "#@Lab01 - E1\r\n",
        "\r\n",
        "Answer = \" Type in here \" #@param {type:\"raw\"}"
      ],
      "execution_count": null,
      "outputs": []
    },
    {
      "cell_type": "markdown",
      "metadata": {
        "id": "wda8pzFGy4LS"
      },
      "source": [
        "## E2. Write a function which returns the top N (e.g. 10 or 20) words with the largest TF value and with the largest TF-IDF values for a paragraph of corpus (Wikipedia page)."
      ]
    },
    {
      "cell_type": "markdown",
      "metadata": {
        "id": "-Zqy-jz_zJKR"
      },
      "source": [
        "In thise exercise, we will simply use the documents by using the [wikipedia library](https://pypi.org/project/wikipedia/), which is a Python library that makes it easy to access and parse data from Wikipedia. "
      ]
    },
    {
      "cell_type": "code",
      "metadata": {
        "id": "bAd2bqFR3CfJ",
        "colab": {
          "base_uri": "https://localhost:8080/"
        },
        "outputId": "530ea798-95d2-497d-c02b-4f04cf883b3b"
      },
      "source": [
        "# Install and import the wikipedia library\n",
        "!pip install wikipedia\n",
        "import wikipedia"
      ],
      "execution_count": null,
      "outputs": [
        {
          "output_type": "stream",
          "text": [
            "Collecting wikipedia\n",
            "  Downloading https://files.pythonhosted.org/packages/67/35/25e68fbc99e672127cc6fbb14b8ec1ba3dfef035bf1e4c90f78f24a80b7d/wikipedia-1.4.0.tar.gz\n",
            "Requirement already satisfied: beautifulsoup4 in /usr/local/lib/python3.7/dist-packages (from wikipedia) (4.6.3)\n",
            "Requirement already satisfied: requests<3.0.0,>=2.0.0 in /usr/local/lib/python3.7/dist-packages (from wikipedia) (2.23.0)\n",
            "Requirement already satisfied: certifi>=2017.4.17 in /usr/local/lib/python3.7/dist-packages (from requests<3.0.0,>=2.0.0->wikipedia) (2020.12.5)\n",
            "Requirement already satisfied: urllib3!=1.25.0,!=1.25.1,<1.26,>=1.21.1 in /usr/local/lib/python3.7/dist-packages (from requests<3.0.0,>=2.0.0->wikipedia) (1.24.3)\n",
            "Requirement already satisfied: chardet<4,>=3.0.2 in /usr/local/lib/python3.7/dist-packages (from requests<3.0.0,>=2.0.0->wikipedia) (3.0.4)\n",
            "Requirement already satisfied: idna<3,>=2.5 in /usr/local/lib/python3.7/dist-packages (from requests<3.0.0,>=2.0.0->wikipedia) (2.10)\n",
            "Building wheels for collected packages: wikipedia\n",
            "  Building wheel for wikipedia (setup.py) ... \u001b[?25l\u001b[?25hdone\n",
            "  Created wheel for wikipedia: filename=wikipedia-1.4.0-cp37-none-any.whl size=11686 sha256=4df623ec70142df94d2e7a00e7598f67bd3e14d482d8c069dd8a088c0dc95284\n",
            "  Stored in directory: /root/.cache/pip/wheels/87/2a/18/4e471fd96d12114d16fe4a446d00c3b38fb9efcb744bd31f4a\n",
            "Successfully built wikipedia\n",
            "Installing collected packages: wikipedia\n",
            "Successfully installed wikipedia-1.4.0\n"
          ],
          "name": "stdout"
        }
      ]
    },
    {
      "cell_type": "code",
      "metadata": {
        "id": "4JSYTirTx6ML",
        "colab": {
          "base_uri": "https://localhost:8080/"
        },
        "outputId": "6ceaa740-421f-4ed8-954e-9cb3691415cc"
      },
      "source": [
        "# Let's collect the page content from the following COVID-19 related wiki pages as documents\n",
        "# by using wikipedia.page(COVID).content, which returns a list of COVID-19 related documents \n",
        "COVID_docs = [\"COVID-19_pandemic\", \"Coronavirus_disease_2019\", \"Long_COVID\"]\n",
        "documents = [wikipedia.page(COVID).content for COVID in COVID_docs]\n",
        "\n",
        "documents\n"
      ],
      "execution_count": null,
      "outputs": [
        {
          "output_type": "execute_result",
          "data": {
            "text/plain": [
              "['The COVID-19 pandemic, also known as the coronavirus pandemic, is an ongoing pandemic of coronavirus disease 2019 (COVID-19) caused by severe acute respiratory syndrome coronavirus 2 (SARS-CoV-2). It was first identified in December 2019 in Wuhan, China. The World Health Organization declared the outbreak a Public Health Emergency of International Concern in January 2020 and a pandemic in March 2020. As of 4 March 2021, more than 115 million cases have been confirmed, with more than 2.56 million deaths attributed to COVID-19, making it one of the deadliest pandemics in history.\\nSymptoms of COVID-19 are highly variable, ranging from none to life-threatening illness. The virus spreads mainly through the air when people are near each other. It leaves an infected person as they breathe, cough, sneeze, or speak and enters another person via their mouth, nose, or eyes. It may also spread via contaminated surfaces. People remain infectious for up to two weeks, and can spread the virus even if they do not show symptoms.Recommended preventive measures include social distancing, wearing face masks in public, ventilation and air-filtering, hand washing, covering one\\'s mouth when sneezing or coughing, disinfecting surfaces, and monitoring and self-isolation for people exposed or symptomatic. Several vaccines are being developed and distributed. Current treatments focus on addressing symptoms while work is underway to develop therapeutic drugs that inhibit the virus. Authorities worldwide have responded by implementing travel restrictions, lockdowns, workplace hazard controls, and facility closures. Many places have also worked to increase testing capacity and trace contacts of the infected.The responses to the pandemic have resulted in significant global social and economic disruption, including the largest global recession since the Great Depression. It has led to the postponement or cancellation of events, widespread supply shortages exacerbated by panic buying, agricultural disruption and food shortages, and decreased emissions of pollutants and greenhouse gases. Many educational institutions and public areas have been partially or fully closed. Misinformation has circulated through social media and mass media. The pandemic has raised issues of racial and geographic discrimination, health equity, and the balance between public health imperatives and individual rights.\\n\\n\\n== Epidemiology ==\\n\\n\\n=== Background ===\\nAlthough it is still unknown exactly where the outbreak first started, many early cases of COVID-19 have been attributed to people who have visited the Huanan Seafood Wholesale Market, located in Wuhan, Hubei, China. On 11 February 2020, the World Health Organization (WHO) named the disease \"COVID-19\", which is short for coronavirus disease 2019. The virus that caused the outbreak is known as severe acute respiratory syndrome coronavirus 2 (SARS-CoV-2), a newly discovered virus closely related to bat coronaviruses, pangolin coronaviruses, and SARS-CoV. Scientific consensus is that COVID-19 is a zoonotic virus that arose from bats in a natural setting.The earliest known person with symptoms was later discovered to have fallen ill on 1 December 2019, and that person did not have visible connections with the later wet market cluster. However, an earlier case of infection could have occurred on 17 November. Of the early cluster of cases reported that month, two thirds were found to have a link with the market. There are several theories about when and where the very first case (the so-called patient zero) originated.\\n\\n\\n=== Cases ===\\n\\nOfficial case counts refer to the number of people who have been tested for COVID-19 and whose test has been confirmed positive according to official protocols. Many countries, early on, had official policies to not test those with only mild symptoms. An analysis of the early phase of the outbreak up to 23 January estimated 86 percent of COVID-19 infections had not been detected, and that these undocumented infections were the source for 79 percent of documented cases. Several other studies, using a variety of methods, have estimated that numbers of infections in many countries are likely to be considerably greater than the reported cases.On 9 April 2020, preliminary results found that 15 percent of people tested in Gangelt, the centre of a major infection cluster in Germany, tested positive for antibodies. Screening for COVID-19 in pregnant women in New York City, and blood donors in the Netherlands, has also found rates of positive antibody tests that may indicate more infections than reported. Seroprevalence based estimates are conservative as some studies show that persons with mild symptoms do not have detectable antibodies. Some results (such as the Gangelt study) have received substantial press coverage without first passing through peer review.Analysis by age in China indicates that a relatively low proportion of cases occur in individuals under 20. It was not clear whether this was because young people were less likely to be infected, or less likely to develop serious symptoms and seek medical attention and be tested. A retrospective cohort study in China found that children and adults were just as likely to be infected.Initial estimates of the basic reproduction number (R0) for COVID-19 in January were between 1.4 and 2.5, but a subsequent analysis concluded that it may be about 5.7 (with a 95 percent confidence interval of 3.8 to 8.9). R0 can vary across populations and is not to be confused with the effective reproduction number (commonly just called R), which takes into account effects such as social distancing and herd immunity. By mid-May 2020, the effective R was close to or below 1.0 in many countries, meaning the spread of the disease in these areas at that time was stable or decreasing.\\n\\n\\t\\t\\n\\t\\t\\n\\n\\n=== Deaths ===\\n\\nOfficial deaths from COVID-19 generally refer to people who died after testing positive according to protocols. These counts may ignore deaths of people who die without having been tested. Conversely, deaths of people who had underlying conditions may lead to over-counting. Comparisons of statistics for deaths for all causes versus the seasonal average indicate excess mortality in many countries. This may include deaths due to strained healthcare systems and bans on elective surgery. The first confirmed death was in Wuhan on 9 January 2020. The first reported death outside of China occurred on 1 February in the Philippines, and the first reported death outside Asia was in the United States on 6 February.More than 95 percent of the people who contract COVID-19 recover. Otherwise, the time between symptoms onset and death usually ranges from 6 to 41 days, typically about 14 days. As of 4 March 2021, more than 2.56 million deaths have been attributed to COVID-19. People at the greatest risk from COVID-19 tend to be those with underlying conditions, such as those with a weakened immune system, serious heart or lung problems, severe obesity, or the elderly (including individuals age 65 years or older).On 24 March 2020, the Centers for Disease Control and Prevention (CDC) of the United States, indicated the WHO had provided two codes for COVID-19: U07.1 when confirmed by laboratory testing and U07.2 for clinically or epidemiological diagnosis where laboratory confirmation is inconclusive or not available. The CDC noted that \"Because laboratory test results are not typically reported on death certificates in the U.S., [the National Center for Health Statistics (NCHS)] is not planning to implement U07.2 for mortality statistics\" and that U07.1 would be used \"If the death certificate reports terms such as \\'probable COVID-19\\' or \\'likely COVID-19\\'.\" The CDC also noted \"It Is not likely that NCHS will follow up on these cases\" and while the \"underlying cause depends upon what and where conditions are reported on the death certificate, ... the rules for coding and selection of the ... cause of death are expected to result in COVID–19 being the underlying cause more often than not.\"On 16 April 2020, the WHO, in its formal publication of the two codes, U07.1 and U07.2, \"recognized that in many countries detail as to the laboratory confirmation... will not be reported [and] recommended, for mortality purposes only, to code COVID-19 provisionally to code U07.1 unless it is stated as \\'probable\\' or \\'suspected\\'.\" It was also noted that the WHO \"does not distinguish\" between infection by SARS-CoV-2 and COVID-19.Multiple measures are used to quantify mortality. These numbers vary by region and over time, influenced by testing volume, healthcare system quality, treatment options, government response, time since the initial outbreak, and population characteristics, such as age, sex, and overall health. Countries like Belgium include deaths from suspected cases of COVID-19, regardless of whether the person was tested, resulting in higher numbers compared to countries that include only test-confirmed cases.The death-to-case ratio reflects the number of deaths attributed to COVID-19 divided by the number of diagnosed cases within a given time interval. Based on Johns Hopkins University statistics, the global death-to-case ratio is 2.2 percent (2,565,369 deaths for 115,467,624 cases) as of 4 March 2021. The number varies by region.\\n\\n\\t\\t\\n\\n\\n==== Infection fatality ratio (IFR) ====\\nA crucial metric in assessing the severity of a disease is the infection fatality ratio (IFR), which is the cumulative number of deaths attributed to the disease divided by the cumulative number of infected individuals (including asymptomatic and undiagnosed infections) as measured or estimated as of a specific date. Epidemiologists frequently refer to this metric as the \\'infection fatality rate\\' to clarify that it is expressed in percentage points (not as a decimal). Other published studies refer to this metric as the \\'infection fatality risk\\'.In April 2020, an IFR range of 0.12–1.08% was derived from non-peer-reviewed serology surveys, with the upper bound characterised as much more credible and the range indicated as from 3 to 27 times deadlier than influenza (0.04%).In June 2020, a peer-reviewed analysis of pre-serology data from mainland China yielded an overall IFR of 0.66% (with age-bracketed values ranging from 0.00161% for 0–9 years to 0.595% for 50–59 years to 7.8% for > 80 years).In July 2020, the US CDC adopted the IFR as a \"more directly measurable parameter for disease severity for COVID-19\" and computed an overall \\'best estimate\\' for planning purposes for the U.S. of 0.65%.\\nIn August 2020, the WHO reported serology testing for three locations in Europe (with some data through 2 June) that showed IFR overall estimates converging at approximately 0.5–1%. A systematic review article in The BMJ advised that \"caution is warranted ... using serological tests for ... epidemiological surveillance\" and called for higher quality studies assessing accuracy with reference to a standard of \"RT-PCR performed on at least two consecutive specimens, and, when feasible, includ[ing] viral cultures.\" CEBM researchers have called for in-hospital \\'case definition\\' to record \"CT lung findings and associated blood tests\" and for the WHO to produce a \"protocol to standardise the use and interpretation of PCR\" with continuous re-calibration.In September, the CDC computed an age-bracketed \\'best estimate\\' for the U.S. of 0.003% for 0–19 years; 0.02% for 20–49 years; 0.5% for 50–69 years; and 5.4% for 70+ years. The range of CDC estimates for each age group were as follows.In September 2020, a Bulletin of the World Health Organization article by John Ioannidis estimated the median global IFR inferred from seroprevalence data at 0.23% overall (with rates of 0.09% in areas with low mortality, and 0.57% in areas with high mortality) and 0.05% for people < 70 years (a range of 0.00–0.31%), much lower than estimates made earlier in the pandemic.On 6 October 2020, Dr. Mike Ryan, director of the WHO\\'s Health Emergencies Programme announced \"Our current best estimates tell us that about 10% of the global population may have been infected by this virus.\" Also in October, the Centre for Evidence-Based Medicine (CEBM) reported a \\'presumed estimate\\' of global IFR at between 0.10% to 0.35%, noting that this will vary between populations due to differences in demographics. These researchers noted a decrease in IFR in England over time; and, for the UK and Italy (the two European nations worst hit by COVID-19), attribute the rise in daily cases, stability in daily deaths, and shift of cases to a younger population to waning viral circulation, misapplication of testing, and misinterpretation of test results rather than to prevention, treatment, or virus mutation.In November 2020, a review article in Nature reported estimates of population-weighted IFRs for a number of countries, excluding deaths in elderly care facilities, and found a median range of 0.24% to 1.49%.In December 2020, a systematic review and meta-analysis published in the European Journal of Epidemiology estimated that population-weighted IFR was 0.5% to 1% in some countries (France, Netherlands, New Zealand, and Portugal), 1% to 2% in several other countries (Australia, England, Lithuania, and Spain), and about 2.5% in Italy; these estimates included fatalities in elderly care facilities. This study also found that most of the differences in IFR across locations reflected corresponding differences in the age composition of the population and the age-specific pattern of infection rates, due to very low IFRs for children and younger adults (e.g., 0.002% at age 10 and 0.01% at age 25) and progressively higher IFRs for older adults (0.4% at age 55, 1.4% at age 65, 4.6% at age 75, and 15% at age 85). These results were also highlighted in a December 2020 report issued by the World Health Organization.\\n\\n\\n==== Case fatality ratio (CFR) ====\\nAnother metric in assessing death rate is the case fatality ratio (CFR), which is deaths attributed to disease divided by individuals diagnosed to-date. This metric can be misleading because of the delay between symptom onset and death and because testing focuses on individuals with symptoms (and particularly on those manifesting more severe symptoms). On 4 August, WHO indicated \"at this early stage of the pandemic, most estimates of fatality ratios have been based on cases detected through surveillance and calculated using crude methods, giving rise to widely variable estimates of CFR by country – from less than 0.1% to over 25%.\"\\n\\n\\n== Disease ==\\n\\n\\n=== Signs and symptoms ===\\n\\n\\n=== Transmission ===\\n\\n\\n=== Cause ===\\n\\n\\n=== Diagnosis ===\\n\\n\\n=== Prevention ===\\n\\n\\n=== Vaccines ===\\n\\nOn 21 December 2020, the European Community decided to approve the Pfizer BioNTech vaccine. Vaccinations began to be administered on 27 December 2020. The Moderna vaccine was authorized on 6 January 2021 and the AstraZeneca vaccine was authorized on 29 January 2021.\\nOn 4 February 2020, US Secretary of Health and Human Services Alex Azar published a notice of declaration under the Public Readiness and Emergency Preparedness Act for medical countermeasures against COVID‑19, covering \"any vaccine, used to treat, diagnose, cure, prevent, or mitigate COVID‑19, or the transmission of SARS-CoV-2 or a virus mutating therefrom\", and stating that the declaration precludes \"liability claims alleging negligence by a manufacturer in creating a vaccine, or negligence by a health care provider in prescribing the wrong dose, absent willful misconduct\". The declaration is effective in the United States through 1 October 2024. On 8 December it was reported that the AstraZeneca vaccine is about 70% effective, according to a study.\\n\\n\\n=== Treatment ===\\nThere is no specific, effective treatment or cure for coronavirus disease 2019 (COVID-19), the disease caused by the SARS-CoV-2 virus. Thus, the cornerstone of management of COVID-19 is supportive care, which includes treatment to relieve symptoms, fluid therapy, oxygen support and prone positioning as needed, and medications or devices to support other affected vital organs.\\nMost cases of COVID-19 are mild. In these, supportive care includes medication such as paracetamol or NSAIDs to relieve symptoms (fever, body aches, cough), proper intake of fluids, rest, and nasal breathing. Good personal hygiene and a healthy diet are also recommended. The U.S. Centers for Disease Control and Prevention (CDC) recommend that those who suspect they are carrying the virus isolate themselves at home and wear a face mask.People with more severe cases may need treatment in hospital. In those with low oxygen levels, use of the glucocorticoid dexamethasone is strongly recommended, as it can reduce the risk of death. Noninvasive ventilation and, ultimately, admission to an intensive care unit for mechanical ventilation may be required to support breathing. Extracorporeal membrane oxygenation (ECMO) has been used to address the issue of respiratory failure, but its benefits are still under consideration.Several experimental treatments are being actively studied in clinical trials. Others were thought to be promising early in the pandemic, such as hydroxychloroquine and lopinavir/ritonavir, but later research found them to be ineffective or even harmful. Despite ongoing research, there is still not enough high-quality evidence to recommend so-called early treatment. Nevertheless, in the United States, two monoclonal antibody-based therapies are available for early use in cases thought to be at high risk of progression to severe disease. The antiviral remdesivir is available in the U.S., Canada, Australia, and several other countries, with varying restrictions; however, it is not recommended for people needing mechanical ventilation, and is discouraged altogether by the World Health Organization (WHO), due to limited evidence of its efficacy.\\n\\n\\n=== Variants ===\\n\\nSeveral variants of SARS-CoV-2 have emerged that are spreading globally. The most currently prevalent, all of which share the D614G mutation, are:\\nB.1.1.7, first detected in the UK, which has spread to over 70 countries\\nP.1, first detected in Brazil, which has spread to more than 4 countries\\nB.1.351, first detected in South Africa, which has spread to over 30 countries\\n\\n\\n=== Prognosis ===\\n\\n\\n== Mitigation ==\\nSpeed and scale are key to mitigation, due to the fat-tailed nature of pandemic risk and the exponential growth of COVID-19 infections. For mitigation to be effective, (a) chains of transmission must be broken as quickly as possible through screening and containment, (b) health care must be available to provide for the needs of those infected, and (c) contingencies must be in place to allow for effective rollout of (a) and (b).\\n\\n\\n=== Screening, containment and mitigation ===\\n\\nStrategies in the control of an outbreak are screening, containment (or suppression), and mitigation. Screening is done with a device such as a thermometer to detect the elevated body temperature associated with fevers caused by the coronavirus. Containment is undertaken in the early stages of the outbreak and aims to trace and isolate those infected as well as introduce other measures to stop the disease from spreading. When it is no longer possible to contain the disease, efforts then move to the mitigation stage: measures are taken to slow the spread and mitigate its effects on the healthcare system and society. A combination of both containment and mitigation measures may be undertaken at the same time. Suppression requires more extreme measures so as to reverse the pandemic by reducing the basic reproduction number to less than 1.Part of managing an infectious disease outbreak is trying to delay and decrease the epidemic peak, known as flattening the epidemic curve. This decreases the risk of health services being overwhelmed and provides more time for vaccines and treatments to be developed. Non-pharmaceutical interventions that may manage the outbreak include personal preventive measures such as hand hygiene, wearing face masks, and self-quarantine; community measures aimed at physical distancing such as closing schools and cancelling mass gathering events; community engagement to encourage acceptance and participation in such interventions; as well as environmental measures such surface cleaning.More drastic actions aimed at containing the outbreak were taken in China once the severity of the outbreak became apparent, such as quarantining entire cities and imposing strict travel bans. Other countries also adopted a variety of measures aimed at limiting the spread of the virus. South Korea introduced mass screening and localised quarantines and issued alerts on the movements of infected individuals. Singapore provided financial support for those infected who quarantined themselves and imposed large fines for those who failed to do so. Taiwan increased face mask production and penalised the hoarding of medical supplies.Simulations for Great Britain and the United States show that mitigation (slowing but not stopping epidemic spread) and suppression (reversing epidemic growth) have major challenges. Optimal mitigation policies might reduce peak healthcare demand by two-thirds and deaths by half, but still result in hundreds of thousands of deaths and overwhelmed health systems. Suppression can be preferred but needs to be maintained for as long as the virus is circulating in the human population (or until a vaccine becomes available), as transmission otherwise quickly rebounds when measures are relaxed. Long-term intervention to suppress the pandemic has considerable social and economic costs.\\n\\n\\n==== Contact tracing ====\\n\\nContact tracing is an important method for health authorities to determine the source of infection and to prevent further transmission. The use of location data from mobile phones by governments for this purpose has prompted privacy concerns, with Amnesty International and more than a hundred other organisations issuing a statement calling for limits on this kind of surveillance.Several mobile apps have been implemented or proposed for voluntary use, and as of 7 April 2020 more than a dozen expert groups were working on privacy-friendly solutions such as using Bluetooth to log a user\\'s proximity to other cellphones. (Users are alerted if they have been near someone who subsequently tests positive.)On 10 April 2020, Google and Apple jointly announced an initiative for privacy-preserving contact tracing based on Bluetooth technology and cryptography. The system is intended to allow governments to create official privacy-preserving coronavirus tracking apps, with the eventual goal of integration of this functionality directly into the iOS and Android mobile platforms. In Europe and in the U.S., Palantir Technologies is also providing COVID-19 tracking services.\\n\\n\\n=== Health care ===\\n\\nIncreasing capacity and adapting healthcare for the needs of COVID-19 patients is described by the WHO as a fundamental outbreak response measure. The ECDC and the European regional office of the WHO have issued guidelines for hospitals and primary healthcare services for shifting of resources at multiple levels, including focusing laboratory services towards COVID-19 testing, cancelling elective procedures whenever possible, separating and isolating COVID-19 positive patients, and increasing intensive care capabilities by training personnel and increasing the number of available ventilators and beds. In addition, in an attempt to maintain physical distancing, and to protect both patients and clinicians, in some areas non-emergency healthcare services are being provided virtually.Due to capacity limitations in the standard supply chains, some manufacturers are 3D printing healthcare material such as nasal swabs and ventilator parts. In one example, when an Italian hospital urgently required a ventilator valve, and the supplier was unable to deliver in the timescale required, a local startup received legal threats due to alleged patent infringement after reverse-engineering and printing the required hundred valves overnight. On 23 April 2020, NASA reported building, in 37 days, a ventilator which is currently undergoing further testing. NASA is seeking fast-track approval.\\n\\n\\n== History ==\\n\\n\\n=== 2019 ===\\n\\nBased on the retrospective analysis, starting from December 2019, the number of COVID-19 cases in Hubei gradually increased, reaching 60 by 20 December and at least 266 by 31 December.On 24 December 2019, Wuhan Central Hospital sent a bronchoalveolar lavage fluid (BAL) sample from an unresolved clinical case to sequencing company Vision Medicals. On 27 and 28 December, Vision Medicals informed the Wuhan Central Hospital and the Chinese CDC of the results of the test, showing a new coronavirus. A pneumonia cluster of unknown cause was observed on 26 December and treated by the doctor Zhang Jixian in Hubei Provincial Hospital, who informed the Wuhan Jianghan CDC on 27 December.On 30 December 2019, a test report addressed to Wuhan Central Hospital, from company CapitalBio Medlab, stated that there was an erroneous positive result for SARS, causing a group of doctors at Wuhan Central Hospital to alert their colleagues and relevant hospital authorities of the result. Eight of those doctors, including Li Wenliang (who was also punished on 3 January), were later admonished by the police for spreading false rumours; and another doctor, Ai Fen, was reprimanded by her superiors for raising the alarm. That evening, the Wuhan Municipal Health Commission issued a notice to various medical institutions about \"the treatment of pneumonia of unknown cause\". The next day, the Wuhan Municipal Health Commission made the first public announcement of a pneumonia outbreak of unknown cause, confirming 27 cases—enough to trigger an investigation.The following day, on December 31, the WHO learned about a cluster of viral pneumonia cases of an unknown cause in Wuhan. An investigation was launched at the start of January 2020.According to official Chinese sources, the early cases were mostly linked to the Huanan Seafood Wholesale Market, which also sold live animals. However, in May 2020, George Gao, the director of the Chinese Center for Disease Control and Prevention, said animal samples collected from the seafood market had tested negative for the virus, indicating the market was not the source of the initial outbreak.\\n\\n\\n=== 2020 ===\\n\\nDuring the early stages of the outbreak, the number of cases doubled approximately every seven and a half days. In early and mid-January 2020, the virus spread to other Chinese provinces, helped by the Chinese New Year migration and Wuhan being a transport hub and major rail interchange. On 10 January, the SARS-CoV-2 genetic sequence data was shared through GISAID. On 20 January, China reported nearly 140 new cases in one day, including two people in Beijing and one in Shenzhen. A retrospective official study published in March found that 6,174 people had already developed symptoms by 20 January (most of them would be diagnosed later) and more may have been infected. A report in The Lancet on 24 January indicated human transmission, strongly recommended personal protective equipment for health workers, and said testing for the virus was essential due to its \"pandemic potential\".On 30 January 2020, with 7,818 confirmed cases across 19 countries, the WHO declared the COVID-19 outbreak a Public Health Emergency of International Concern (PHEIC), and then a pandemic on 11 March 2020 as Italy, Iran, South Korea, and Japan reported increasing numbers of cases.\\nOn 31 January 2020, Italy had its first confirmed cases, two tourists from China. As of 13 March 2020, the WHO considered Europe the active centre of the pandemic. On 19 March 2020, Italy overtook China as the country with the most reported deaths. By 26 March, the United States had overtaken China and Italy with the highest number of confirmed cases in the world. Research on coronavirus genomes indicates the majority of COVID-19 cases in New York came from European travellers, rather than directly from China or any other Asian country. Retesting of prior samples found a person in France who had the virus on 27 December 2019 and a person in the United States who died from the disease on 6 February 2020.On 11 June 2020, after 55 days without a locally transmitted case being officially reported, the city of Beijing reported a single COVID-19 case, followed by two more cases on 12 June. As of 15 June 2020, 79 cases were officially confirmed. Most of these patients went to Xinfadi Wholesale Market.On 29 June 2020, WHO warned that the spread of the virus was still accelerating as countries reopened their economies, despite many countries having made progress in slowing down the spread.On 15 July 2020, one COVID-19 case was officially reported in Dalian in more than three months. The patient did not travel outside the city in the 14 days before developing symptoms, nor did he have contact with people from \"areas of attention.\"In October 2020, the WHO stated, at a special meeting of WHO leaders, that one in ten people around the world may have been infected with COVID-19. At the time, that translated to 780 million people being infected, while only 35 million infections had been confirmed.In early November 2020, Denmark reported on an outbreak of a unique mutated variant being transmitted to humans from minks in its North Jutland Region. All twelve human cases of the mutated variant were identified in September 2020. The WHO released a report saying the variant \"had a combination of mutations or changes that have not been previously observed.\" In response, Prime Minister Mette Frederiksen ordered for the country – the world\\'s largest producer of mink fur – to cull its mink population by as many as 17 million.On 9 November 2020, Pfizer released their trial results for a candidate vaccine, showing that it is 90% effective against the virus. Later that day, Novavax entered an FDA Fast Track application for their vaccine.  Virologist and U.S. National Institute of Allergy and Infectious Diseases director Anthony Fauci indicated that the Pfizer vaccine targets the spike protein used to infect cells by the virus. Some issues left to be answered are how long the vaccine offers protection, and if it offers the same level of protection to all ages. Initial doses will likely go to healthcare workers on the front lines.On 9 November 2020 the United States surpassed 10 million confirmed cases of COVID-19, making it the country with the most cases worldwide by a large margin.It was reported on 27 November, that a publication released by the Centers for Disease Control and Prevention indicated that the current numbers of viral infection are via confirmed laboratory test only. However, the true number could be about eight times the reported number; the report further indicated that the true number of virus infected cases could be around 100 million in the U.S.On 14 December 2020, Public Health England reported a new variant had been discovered in the South East of England, predominantly in Kent. The variant, named Variant of Concern 202012/01, showed changes to the spike protein which could make the virus more infectious. As of 13 December, there were 1,108 cases identified. Many countries halted all flights from the UK; France-bound Eurotunnel service was suspended and ferries carrying passengers and accompanied freight were cancelled as the French border closed to people on 20 December.\\n\\n\\n=== 2021 ===\\n\\nOn 2 January, VOC-202012/01, a variant of SARS-CoV-2 first discovered in the UK, had been identified in 33 countries around the world, including: Pakistan, South Korea, Switzerland, Taiwan, Norway, Italy, Japan, Lebanon, India, Canada, Denmark, France, Germany, Iceland, and China.On 12 January, it was reported that a team of scientists from the World Health Organization would arrive in Wuhan on the 14th of the month; this is to ascertain the origin of SARS-CoV-2 and determine what were the intermediate hosts between the original reservoir and humans. On the following day, two of the WHO members were barred from entering China because, according to the country, antibodies for the virus were detected in both.On 25 January, the Brazil variant was detected in Minnesota.On 29 January, it was reported that the Novavax vaccine was only 49% effective against the 501.V2 variant in a clinical trial in South Africa. The China COVID-19 vaccine CoronaVac indicated 50.4% effectivity in a Brazil clinical trial.As of 4 March 2021, more than 115 million cases have been reported worldwide due to COVID-19; more than 2.56 million have died and more than 65.2 million have recovered.\\n\\n\\n== National responses ==\\n\\nA total of 192 countries and territories have had at least one case of COVID-19 so far. Due to the pandemic in Europe, many countries in the Schengen Area have restricted free movement and set up border controls. National reactions have included containment measures such as quarantines and curfews (known as stay-at-home orders, shelter-in-place orders, or lockdowns). The WHO\\'s recommendation on curfews and lockdowns is that they should be short-term measures to reorganise, regroup, rebalance resources, and protect health workers who are exhausted. To achieve a balance between restrictions and normal life, the long-term responses to the pandemic should consist of strict personal hygiene, effective contact tracing, and isolating when ill.By 26 March 2020, 1.7 billion people worldwide were under some form of lockdown, which increased to 3.9 billion people by the first week of April—more than half the world\\'s population.By late April 2020, around 300 million people were under lockdown in nations of Europe, including but not limited to Italy, Spain, France, and the United Kingdom, while around 200 million people were under lockdown in Latin America. Nearly 300 million people, or about 90 percent of the population, were under some form of lockdown in the United States, around 100 million people in the Philippines, about 59 million people in South Africa, and 1.3 billion people have been under lockdown in India. On 21 May 2020, 100,000 new infections occurred worldwide, the most since the start of the pandemic, while overall 5 million cases were surpassed.\\n\\n\\n=== Asia ===\\n\\nAs of 30 April 2020, cases have been reported in all Asian countries except for Turkmenistan and North Korea, although these countries likely also have cases. Despite being the first area of the world hit by the outbreak, the early wide-scale response of some Asian states, particularly Bhutan, Mongolia, Singapore, South Korea, Taiwan, Vietnam, has allowed them to fare comparatively well. China was criticised for initially minimising the severity of the outbreak, but its wide-scale response has largely contained the disease since March 2020. As of 29 January 2021, Singapore has the lowest case fatality rate in the world at <0.1%.The pandemic has had direct side effects, per a report on 28 November, in Japan. According to the report by the country\\'s National Police Agency, suicides had increased to 2,153 in October. Experts also state that the pandemic has worsened mental health issues due to lockdowns and isolation from family members, among other issues.\\n\\n\\n==== China ====\\n\\nAs of 14 July 2020, there are 83,545 cases confirmed in China— excluding 114 asymptomatic cases, 62 of which were imported, under medical observation; asymptomatic cases have not been reported prior to 31 March 2020—with 4,634 deaths and 78,509 recoveries, meaning there are only 402 cases. Hubei has the most cases, followed by Xinjiang. By March 2020, COVID-19 infections have largely been put under control in China, with minor outbreaks since. It was reported on 25 November, that some 1 million people in the country of China have been vaccinated according to China\\'s state council; the vaccines against COVID-19 come from Sinopharm which makes two and one produced by Sinovac.\\n\\n\\n==== India ====\\n\\nThe first case of COVID-19 in India was reported on 30 January 2020. India ordered a nationwide lockdown for the entire population starting 24 March 2020, with a phased unlock beginning 1 June 2020. Six cities account for around half of all reported cases in the country—Mumbai, Delhi, Ahmedabad, Chennai, Pune and Kolkata. On 10 June 2020, India\\'s recoveries exceeded active cases for the first time.On 30 August 2020, India surpassed the US record for the most cases in a single day, with more than 78,000 cases, and set a new record on 16 September 2020, with almost 98,000 cases reported that day. As of 30 August 2020, India\\'s case fatality rate is relatively low at 2.3%, against the global 4.7%.As of September 2020, India had the largest number of confirmed cases in Asia; and the second-highest number of confirmed cases in the world, behind the United States, with the number of total confirmed cases breaching the 100,000 mark on 19 May 2020, 1,000,000 on 16 July 2020, and 5,000,000 confirmed cases on 16 September 2020.On 19 December 2020, India crossed the total number of 10,000,000 confirmed cases but with a slow pace.The Indian Ministry of Science initiated a mathematical simulation of the pandemic, the so-called \"Indian Supermodel\", which correctly predicted the decrease of active cases starting in September 2020. In a paper on an improved simulation model published February 2021 the Supermodel authors estimate the immunity of the Indian population to be close to 60% and claim that India might be the only major economy that has successfully implemented a herd immunity strategy by \"letting the reach of the virus increase in a controlled manner, so that the medical infrastructure does not get overwhelmed\".\\n\\n\\n==== Iran ====\\n\\nIran reported its first confirmed cases of SARS-CoV-2 infections on 19 February 2020 in Qom, where, according to the Ministry of Health and Medical Education, two people had died that day. Early measures announced by the government included the cancellation of concerts and other cultural events, sporting events, Friday prayers, and closures of universities, higher education institutions, and schools. Iran allocated 5 trillion rials (equivalent to US$120,000,000) to combat the virus. President Hassan Rouhani said on 26 February 2020 there were no plans to quarantine areas affected by the outbreak, and only individuals would be quarantined. Plans to limit travel between cities were announced in March 2020, although heavy traffic between cities ahead of the Persian New Year Nowruz continued. Shia shrines in Qom remained open to pilgrims until 16 March.Iran became a centre of the spread of the virus after China during February 2020. More than ten countries had traced their cases back to Iran by 28 February, indicating the outbreak may have been more severe than the 388 cases reported by the Iranian government by that date. The Iranian Parliament was shut down, with 23 of its 290 members reported to have had tested positive for the virus on 3 March 2020. On 15 March 2020, the Iranian government reported a hundred deaths in a single day, the most recorded in the country since the outbreak began. At least twelve sitting or former Iranian politicians and government officials had died from the disease by 17 March 2020. By 23 March 2020, Iran was experiencing fifty new cases every hour and one new death every ten minutes due to coronavirus. According to a WHO official, there may be five times more cases in Iran than what is being reported. It is also suggested that U.S. sanctions on Iran may be affecting the country\\'s financial ability to respond to the viral outbreak.On 20 April 2020, Iran reopened shopping malls and other shopping areas across the country. After reaching a low in new cases in early May, a new peak was reported on 4 June 2020, raising fear of a second wave. On 18 July 2020, President Rouhani estimated that 25 million Iranians had already become infected, which is considerably higher than the official count. Leaked data suggest that 42,000 people had died with COVID-19 symptoms by 20 July 2020, nearly tripling the 14,405 officially reported by that date.\\n\\n\\n==== South Korea ====\\n\\nCOVID-19 was confirmed to have spread to South Korea on 20 January 2020 from China. The nation\\'s health agency reported a significant increase in confirmed cases on 20 February, largely attributed to a gathering in Daegu of the Shincheonji Church of Jesus. Shincheonji devotees visiting Daegu from Wuhan were suspected to be the origin of the outbreak. By 22 February, among 9,336 followers of the church, 1,261 or about 13 percent reported symptoms. South Korea declared the highest level of alert on 23 February 2020. On 29 February, more than 3,150 confirmed cases were reported. All South Korean military bases were quarantined after tests showed three soldiers had the virus. Airline schedules were also changed.South Korea introduced what was considered the largest and best-organised programme in the world to screen the population for the virus, isolate any infected people, and trace and quarantine those who contacted them. Screening methods included mandatory self-reporting of symptoms by new international arrivals through mobile application, drive-through testing for the virus with the results available the next day, and increasing testing capability to allow up to 20,000 people to be tested every day. Despite some early criticisms of President Moon Jae-in\\'s response to the crisis, South Korea\\'s programme is considered a success in controlling the outbreak without quarantining entire cities.On 23 March, it was reported that South Korea had the lowest one-day case total in four weeks. On 29 March it was reported that beginning 1 April all new overseas arrivals will be quarantined for two weeks. Per media reports on 1 April, South Korea has received requests for virus testing assistance from 121 different countries. Persistent local groups of infections in the greater Seoul area continued to be found, which led to Korea\\'s CDC director saying in June that the country had entered the second wave of infections, although a WHO official disagreed with that assessment.\\n\\n\\n=== Europe ===\\n\\nOn 21 August, it was reported the COVID-19 cases were climbing among younger individuals across Europe. On 21 November, it was reported by the Voice of America that Europe is the worst hit area by the COVID-19 virus, with numbers exceeding 15 million cases.\\n\\n\\n==== France ====\\n\\nAlthough it was originally thought the pandemic reached France on 24 January 2020, when the first COVID-19 case in Europe was confirmed in Bordeaux, it was later discovered that a person near Paris had tested positive for the virus on 27 December 2019 after retesting old samples. A key event in the spread of the disease in the country was the annual assembly of the Christian Open Door Church between 17 and 24 February in Mulhouse, which was attended by about 2,500 people, at least half of whom are believed to have contracted the virus.On 13 March, Prime Minister Édouard Philippe ordered the closure of all non-essential public places, and on 16 March, French President Emmanuel Macron announced mandatory home confinement, a policy which was extended at least until 11 May. As of 14 September, France has reported more than 402,000 confirmed cases, 30,000 deaths, and 90,000 recoveries, ranking fourth in number of confirmed cases. In April, there were riots in some Paris suburbs. On 18 May, it was reported that schools in France had to close again after reopening, due to COVID-19 case flare-ups.On 12 November, it was reported that France had become the worst-hit country by the COVID-19 pandemic, in all of Europe, in the process surpassing Russia. The new total of confirmed cases was more than 1.8 million and counting; additionally it was indicated by the French government that the current national lockdown would remain in place.\\n\\n\\n==== Italy ====\\n\\nThe outbreak was confirmed to have spread to Italy on 31 January, when two Chinese tourists tested positive for SARS-CoV-2 in Rome. Cases began to rise sharply, which prompted the Italian government to suspend all flights to and from China and declare a state of emergency. An unassociated cluster of COVID-19 cases was later detected, starting with 16 confirmed cases in Lombardy on 21 February.\\n\\nOn 22 February, the Council of Ministers announced a new decree-law to contain the outbreak, including quarantining more than 50,000 people from eleven different municipalities in northern Italy. Prime Minister Giuseppe Conte said, \"In the outbreak areas, entry and exit will not be provided. Suspension of work activities and sports events has already been ordered in those areas.\"On 4 March, the Italian government ordered the full closure of all schools and universities nationwide as Italy reached a hundred deaths. All major sporting events were to be held behind closed doors until April, but on 9 March, all sport was suspended completely for at least one month. On 11 March, Prime Minister Conte ordered stoppage of nearly all commercial activity except supermarkets and pharmacies.On 6 March, the Italian College of Anaesthesia, Analgesia, Resuscitation and Intensive Care (SIAARTI) published medical ethics recommendations regarding triage protocols. On 19 March, Italy overtook China as the country with the most coronavirus-related deaths in the world after reporting 3,405 fatalities from the pandemic. On 22 March, it was reported that Russia had sent nine military planes with medical equipment to Italy. As of 14 September, there were 287,753 confirmed cases, 35,610 deaths, and 213,634 recoveries in Italy, with the majority of those cases occurring in the Lombardy region. A CNN report indicated that the combination of Italy\\'s large elderly population and inability to test all who have the virus to date may be contributing to the high fatality rate. On 19 April, it was reported that the country had its lowest deaths at 433 in seven days and some businesses were asking for a loosening of restrictions after six weeks of lockdown.\\nOn 13 October 2020, the Italian government again issued restrictive rules to contain a rise in infections.On 11 November, it was reported that Silvestro Scotti, president of the Italian Federation of General Practitioners indicated that all of Italy should come under restrictions due to the coronavirus. A couple of days prior Filippo Anelli, president of the National Federation of Doctor\\'s Guilds (FNOMCEO) asked for a complete lockdown of the peninsular nation due to the pandemic. On the 10th, a day before, Italy surpassed 1 million confirmed COVID-19 cases. On 23 November, it was reported that the second wave of the virus has caused some hospitals in Italy to stop accepting patients.\\n\\n\\n==== Spain ====\\n\\n\\n==== Sweden ====\\n\\nSweden differed from most other European countries in that it mostly remained open. Per the Swedish Constitution, the Public Health Agency of Sweden has autonomy which prevents political interference and the agency\\'s policy favoured forgoing a lockdown. The Swedish strategy focused on measures that could be put in place over a longer period of time, based on the assumption that the virus would start spreading again after a shorter lockdown. The New York Times said that, as of May 2020, the outbreak had been far deadlier there but the economic impact had been reduced as Swedes have continued to go to work, restaurants, and shopping. On 19 May, it was reported that the country had in the week of 12–19 May the highest per capita deaths in Europe, 6.25 deaths per million per day. In the end of June, Sweden no longer had excess mortality.\\n\\n\\n==== United Kingdom ====\\n\\nDevolution in the United Kingdom meant that each of the four countries of the UK had its own different response to COVID-19, and the UK government, on behalf of England, moved quicker to lift restrictions. The UK government started enforcing social distancing and quarantine measures on 18 March 2020 and was criticised for a perceived lack of intensity in its response to concerns faced by the public. On 16 March, Prime Minister Boris Johnson advised against non-essential travel and social contact, suggesting people work from home and avoid venues such as pubs, restaurants, and theatres. On 20 March, the government ordered all leisure establishments to close as soon as possible, and promised to prevent unemployment. On 23 March, Johnson banned gatherings of multiple people and restricting non-essential travel and outdoor activity. Unlike previous measures, these restrictions were enforceable by police through fines and dispersal of gatherings. Most non-essential businesses were ordered to close.On 24 April, it was reported that a promising vaccine trial had begun in England; the government pledged more than £50 million towards research. A number of temporary critical care hospitals were built. The first operating was the 4,000-bed NHS Nightingale Hospital London, constructed for over nine days. On 4 May, it was announced that it would be placed on standby and remaining patients transferred to other facilities; 51 patients had been treated in the first three weeks.On 16 April, it was reported that the UK would have first access to the Oxford vaccine, due to a prior contract; should the trial be successful, some 30 million doses in the UK would be available.On 2 December, the UK became the first Western country to approve the Pfizer vaccine against the COVID-19 virus; 800,000 doses would be immediately available for use. It was reported on 5 December that the United Kingdom would begin vaccination against the virus on 8 December, less than a week after having been approved. On 9 December, MHRA stated that any individual with a significant allergic reaction to a vaccine, such as an anaphylactoid reaction, should not take the Pfizer vaccine for COVID-19 protection.\\n\\n\\n=== North America ===\\n\\n\\n==== United States ====\\n\\n\\n=== South America ===\\n\\n\\n==== Brazil ====\\n\\nOn 20 May, it was reported that Brazil had a record 1,179 deaths in a single day, for a total of almost 18,000 fatalities. With a total number of almost 272,000 cases, Brazil became the country with the third-highest number of cases, following Russia and the United States. On 25 May, Brazil exceeded the number of reported cases in Russia when they reported that 11,687 new cases had been confirmed over the previous 24 hours, bringing the total number to over 374,800, with more than 23,400 deaths. President Jair Bolsonaro has created controversy by referring to the virus as a \"little flu\" and frequently speaking out against preventive measures such as lockdowns and quarantines. His attitude towards the outbreak has been likened to that of former U.S. President Trump, with Bolsonaro being called the \"Trump of the Tropics\". Bolsonaro later tested positive for the virus.In June 2020, the government of Brazil attempted to conceal the actual figures of the COVID-19 active cases and deaths, as it stopped publishing the total number of infections and deaths. On 5 June, Brazil\\'s health ministry took down the official website reflecting the total numbers of infections and deaths. The website was live on 6 June, with only the number of infections of the previous 24 hours. The last official numbers reported about 615,000 infections and over 34,000 deaths. On 15 June, it was reported that the worldwide cases had jumped from seven to eight million in one week, citing Latin America, specifically Brazil as one of the countries where cases are surging, in this case, towards 1 million cases. Brazil briefly paused Phase III trials for the CoronavacCOVID-19 vaccine on 10 November after the suicide of a volunteer before resuming on 11 November.By early 2021, the death toll had climbed to 231,534. The total number of cases on 7 February exceeded 9.5 million. The only countries with worse outbreaks were India and the United States.\\n\\n\\n=== Africa ===\\n\\n\\n=== Oceania ===\\n\\n\\n=== Antarctica ===\\n\\n\\n== International responses ==\\n\\n\\n=== Travel restrictions ===\\n\\nAs a result of the pandemic, many countries and regions imposed quarantines, entry bans, or other restrictions, either for citizens, recent travellers to affected areas, or for all travellers. Together with a decreased willingness to travel, this had a negative economic and social impact on the travel sector. Concerns have been raised over the effectiveness of travel restrictions to contain the spread of COVID-19. A study in Science found that travel restrictions had only modestly affected the initial spread of COVID-19, unless combined with infection prevention and control measures to considerably reduce transmissions. Researchers concluded that \"travel restrictions are most useful in the early and late phase of an epidemic\" and \"restrictions of travel from Wuhan unfortunately came too late\".The European Union rejected the idea of suspending the Schengen free travel zone and introducing border controls with Italy, a decision which has been criticised by some European politicians.\\n\\n\\n=== Evacuation of foreign citizens ===\\n\\nOwing to the effective lockdown of Wuhan and Hubei, several countries evacuated their citizens and diplomatic staff from the area, primarily through chartered flights of the home nation, with Chinese authorities providing clearance. Canada, the United States, Japan, India, Sri Lanka, Australia, France, Argentina, Germany, and Thailand were among the first to plan the evacuation of their citizens. Brazil and New Zealand also evacuated their own nationals and some other people. On 14 March 2020, South Africa repatriated 112 South Africans who tested negative for the virus from Wuhan, while four who showed symptoms were left behind to mitigate risk. Pakistan said it would not evacuate citizens from China.On 15 February 2020, the U.S. announced it would evacuate Americans aboard the cruise ship Diamond Princess, and on 21 February, Canada evacuated 129 Canadian passengers from the ship. In early March, the Indian government began evacuating its citizens from Iran. On 20 March, the United States began to partially withdraw its troops from Iraq due to the pandemic.\\n\\n\\n=== United Nations response measures ===\\n\\nThe United Nations response to the pandemic has been led by its Secretary-General and can be divided into formal resolutions at the General Assembly and the Security Council (UNSC), and operations via its specialised agencies.In June 2020, the Secretary-General launched its \\'UN Comprehensive Response to COVID-19\\'. The United Nations Conference on Trade and Development (UNSC) has been criticised for a slow coordinated response, especially regarding the UN\\'s global ceasefire, which aims to open up humanitarian access to the world\\'s most vulnerable in conflict zones.\\n\\n\\n==== WHO response measures ====\\n\\n\\n=== Protests against governmental measures ===\\nIn several countries, protests have risen against governmental restrictive responses to the COVID-19 pandemic, such as lockdowns – ironically, some of these protests have been directly linked to a rise in cases.\\n\\n\\n== Impact ==\\n\\n\\n=== Economics ===\\n\\nThe outbreak is a major destabilising threat to the global economy. Agathe Demarais of the Economist Intelligence Unit has forecast that markets will remain volatile until a clearer image emerges on potential outcomes. One estimate from an expert at Washington University in St. Louis gave a $300+ billion impact on the world\\'s supply chain that could last up to two years. Global stock markets fell on 24 February due to a significant rise in the number of COVID-19 cases outside China. On 27 February, due to mounting worries about the coronavirus outbreak, U.S. stock indexes posted their sharpest falls since 2008, with the Dow falling 1,191 points (the largest one-day drop since the financial crisis of 2007–08) and all three major indexes ending the week down more than 10 percent. On 28 February, Scope Ratings GmbH affirmed China\\'s sovereign credit rating but maintained a Negative Outlook. Stocks plunged again due to coronavirus fears, the largest fall being on 16 March.Lloyd\\'s of London has estimated that the global insurance industry will absorb losses of US$204 billion, exceeding the losses from the 2017 Atlantic hurricane season and 11 September attacks, suggesting the COVID-19 pandemic will likely go down in history as the costliest disaster ever in human history.\\n\\nTourism is one of the worst affected sectors due to travel bans, closing of public places including travel attractions, and advice of governments against travel. Numerous airlines have cancelled flights due to lower demand, and British regional airline Flybe collapsed. The cruise line industry was hard hit, and several train stations and ferry ports have also been closed. International mail between some countries stopped or was delayed due to reduced transportation between them or suspension of domestic service.The retail sector has been impacted globally, with reductions in store hours or temporary closures. Visits to retailers in Europe and Latin America declined by 40 percent. North America and Middle East retailers saw a 50–60 percent drop. This also resulted in a 33–43 percent drop in foot traffic to shopping centres in March compared to February. Shopping mall operators around the world imposed additional measures, such as increased sanitation, installation of thermal scanners to check the temperature of shoppers, and cancellation of events.\\n\\nHundreds of millions of jobs could be lost globally. More than 40 million Americans lost their jobs and filed unemployment insurance claims. The economic impact and mass unemployment caused by the pandemic has raised fears of a mass eviction crisis, with an analysis by the Aspen Institute indicating between 30 and 40 million Americans are at risk for eviction by the end of 2020. According to a report by Yelp, about 60% of U.S. businesses that have closed since the start of the pandemic will stay shut permanently.According to a United Nations Economic Commission for Latin America estimate, the pandemic-induced recession could leave 14–22 million more people in extreme poverty in Latin America than would have been in that situation without the pandemic. According to the World Bank, up to 100 million more people globally could fall into extreme poverty due to the shutdowns. The International Labour Organization (ILO) informed that the income generated in the first nine months of 2020 from work across the world dropped by 10.7 per cent, or $3.5 trillion, amidst the coronavirus outbreak.\\n\\n\\n==== Supply shortages ====\\n\\nThe outbreak has been blamed for several instances of supply shortages, stemming from globally increased usage of equipment to fight outbreaks, panic buying (which in several places led to shelves being cleared of grocery essentials such as food, toilet paper, and bottled water), and disruption to factory and logistic operations. The spread of panic buying has been found to stem from perceived threat, perceived scarcity, fear of the unknown, coping behaviour and social psychological factors (e.g. social influence and trust). The technology industry, in particular, has warned of delays to shipments of electronic goods. According to the WHO director-general Tedros Adhanom, demand for personal protection equipment has risen a hundredfold, leading to prices up to twenty times the normal price and also delays in the supply of medical items of four to six months. It has also caused a shortage of personal protective equipment worldwide, with the WHO warning that this will endanger health workers.The impact of the coronavirus outbreak was worldwide. The virus created a shortage of precursors (raw material) used in the manufacturing of fentanyl and methamphetamine. The Yuancheng Group, headquartered in Wuhan, is one of the leading suppliers. Price increases and shortages in these illegal drugs have been noticed on the streets of the UK. U.S. law enforcement also told the New York Post Mexican drug cartels were having difficulty in obtaining precursors.The pandemic has disrupted global food supplies and threatens to trigger a new food crisis. David Beasley, head of the World Food Programme (WFP), said \"we could be facing multiple famines of biblical proportions within a short few months.\" Senior officials at the United Nations estimated in April 2020 that an additional 130 million people could starve, for a total of 265 million by the end of 2020.\\n\\n\\n==== Oil and other energy markets ====\\nIn early February 2020, Organization of the Petroleum Exporting Countries (OPEC) \"scrambled\" after a steep decline in oil prices due to lower demand from China. On Monday, 20 April, the price of West Texas Intermediate (WTI) went negative and fell to a record low (minus $37.63 a barrel) due to traders\\' offloading holdings so as not to take delivery and incur storage costs. June prices were down but in the positive range, with a barrel of West Texas trading above $20.\\n\\n\\n=== Culture ===\\n\\nThe performing arts and cultural heritage sectors have been profoundly affected by the pandemic, impacting organisations\\' operations as well as individuals—both employed and independent—globally. Arts and culture sector organisations attempted to uphold their (often publicly funded) mission to provide access to cultural heritage to the community, maintain the safety of their employees and the public, and support artists where possible. By March 2020, across the world and to varying degrees, museums, libraries, performance venues, and other cultural institutions had been indefinitely closed with their exhibitions, events and performances cancelled or postponed. In response there were intensive efforts to provide alternative services through digital platforms.\\n\\nHoly Week observances in Rome, which occur during the last week of the Christian penitential season of Lent, were cancelled. Many dioceses have recommended older Christians stay home rather than attend Mass on Sundays; services have been made available via radio, online live streaming and television, though some congregations have made provisions for drive-in worship. With the Roman Catholic Diocese of Rome closing its churches and chapels and St. Peter\\'s Square emptied of Christian pilgrims, other religious bodies also cancelled in-person services and limited public gatherings in churches, mosques, synagogues, temples and gurdwaras. Iran\\'s Health Ministry announced the cancellation of Friday prayers in areas affected by the outbreak and shrines were later closed, while Saudi Arabia banned the entry of foreign pilgrims as well as its residents to holy sites in Mecca and Medina. The 2020 Hajj was limited to around 1,000 selected pilgrims, in contrast to the usual number of over 2 million.The pandemic has caused the most significant disruption to the worldwide sporting calendar since the Second World War. Most major sporting events have been cancelled or postponed, including the 2019–20 UEFA Champions League, 2019–20 Premier League, UEFA Euro 2020, 2019–20 NBA season, and 2019–20 NHL season. The outbreak disrupted plans for the 2020 Summer Olympics in Tokyo, Japan, which were originally scheduled to start at 24 July 2020, and were postponed by the International Olympic Committee to 23 July 2021.The entertainment industry has also been affected, with many music groups suspending or cancelling concert tours. The Eurovision Song Contest, which was due to be held in Rotterdam, the Netherlands in May, was cancelled; however, the Netherlands was retained as host for 2021. Many large theatres such as those on Broadway also suspended all performances. Some artists have explored ways to continue to produce and share work over the internet as an alternative to traditional live performance, such as live streaming concerts or creating web-based \"festivals\" for artists to perform, distribute, and publicise their work.The large number of people working or learning from home via videoconferencing software led to several new terms and trends, including \"Zoom fatigue\", a decline in demand for formal clothing, and increased fashion focus on masks and clothes for the upper body (the lower body generally not being visible on a videoconference). The term \"doomscrolling\" became more widely used. Online, numerous COVID-19-themed Internet memes have spread as many turn to humour and distraction amid the uncertainty. A popular Twitter account called \"Room Rater\" jokingly commented on and assigned numerical scores to the backgrounds of journalists and others appearing in mass media from home.\\n\\n\\n=== Politics ===\\n\\nThe pandemic has affected the political systems of multiple countries, causing suspensions of legislative activities, isolations or deaths of multiple politicians, and rescheduling of elections due to fears of spreading the virus. Starting in late May, large-scale protests against police brutality in at least 200 U.S. cities and later worldwide in response to the killing of George Floyd raised concerns of a resurgence of the virus, although research has determined that they were not.Although they have broad support among epidemiologists, social distancing measures have been politically controversial in many countries. Intellectual opposition to social distancing has come primarily from writers of other fields, although there are a few heterodox epidemiologists.On 23 March 2020, United Nations Secretary-General António Manuel de Oliveira Guterres issued an appeal for a global ceasefire in response to the pandemic; 172 UN Member States and Observers signed a non-binding statement in support of the appeal in June, and the UN Security Council passed a resolution supporting it in July.\\n\\n\\n==== China ====\\n\\nThe government of China has been criticised by the United States, the UK Minister for the Cabinet Office Michael Gove, and others for its handling of the pandemic. A number of provincial-level administrators of the Communist Party of China were dismissed over their handling of the quarantine measures in China, a sign of discontent with their response to the outbreak. Some commentators believed this move was intended to protect CCP general secretary Xi Jinping from the controversy. The U.S. intelligence community claims China intentionally under-reported its number of coronavirus cases. The Chinese government maintains it has acted swiftly and transparently. However, journalists and activists who have reported on the pandemic have been detained by authorities, such as Zhang Zhan, who was arrested and tortured for reporting on the pandemic and the detainment of other independent journalists.\\n\\n\\n==== Italy ====\\nIn early March, the Italian government criticised the EU\\'s lack of solidarity with coronavirus-affected Italy—Maurizio Massari, Italy\\'s ambassador to the EU, said \"only China responded bilaterally\", not the EU. On 22 March, after a phone call with Italian Prime Minister Giuseppe Conte, Russian president Vladimir Putin had the Russian army send military medics, disinfection vehicles, and other medical equipment to Italy. President of Lombardy Attilio Fontana and Italian Foreign Minister Luigi Di Maio expressed their gratitude for the aid. Russia also sent a cargo plane with medical aid to the United States. Kremlin spokesman Dmitry Peskov said \"when offering assistance to U.S. colleagues, [Putin] assumes that when U.S. manufacturers of medical equipment and materials gain momentum, they will also be able to reciprocate if necessary.\"\\nIn early April, Norway and EU states like Romania and Austria started to offer help by sending medical personnel and disinfectant, and Ursula von der Leyen offered an official apology to the country.\\n\\n\\n==== United States ====\\n\\nThe outbreak prompted calls for the United States to adopt social policies common in other wealthy countries, including universal health care, universal child care, paid sick leave, and higher levels of funding for public health. Political analysts believe it may have contributed to Donald Trump\\'s loss in the 2020 presidential election. Beginning in mid-April 2020, there were protests in several U.S. states against government-imposed business closures and restricted personal movement and association. Simultaneously, protests ensued by essential workers in the form of a general strike. In early October 2020, Donald Trump, his family members, and many other government officials were diagnosed with COVID-19, further disrupting the country\\'s politics.\\n\\n\\n==== Other countries ====\\nThe planned NATO \"Defender 2020\" military exercise in Germany, Poland, and the Baltic states, the largest NATO war exercise since the end of the Cold War, was held on a reduced scale. The Campaign for Nuclear Disarmament\\'s general secretary Kate Hudson criticised the exercise, saying \"it jeopardises the lives not only of the troops from the U.S. and the many European countries participating but the inhabitants of the countries in which they are operating.\"The Iranian government has been heavily affected by the virus, with about two dozen parliament members and fifteen current or former political figures infected. Iran\\'s President Hassan Rouhani wrote a public letter to world leaders asking for help on 14 March 2020, saying they were struggling to fight the outbreak due to a lack of access to international markets from the United States sanctions against Iran. Saudi Arabia, which launched a military intervention in Yemen in March 2015, declared a ceasefire.Diplomatic relations between Japan and South Korea worsened due to the pandemic. South Korea criticised Japan\\'s \"ambiguous and passive quarantine efforts\" after Japan announced anyone coming from South Korea would be placed in quarantine for two weeks at government-designated sites. South Korean society was initially polarised on President Moon Jae-in\\'s response to the crisis; many Koreans signed petitions either calling for Moon\\'s impeachment or praising his response.Some countries have passed emergency legislation in response to the pandemic. Some commentators have expressed concern that it could allow governments to strengthen their grip on power. In the Philippines, lawmakers granted president Rodrigo Duterte temporary emergency powers during the pandemic. In Hungary, the parliament voted to allow the prime minister, Viktor Orbán, to rule by decree indefinitely, suspend parliament as well as elections, and punish those deemed to have spread false information about the virus and the government\\'s handling of the crisis. In some countries, including Egypt, Turkey, and Thailand, opposition activists and government critics have been arrested for allegedly spreading fake news about the COVID-19 pandemic.In India, journalists criticising the government\\'s response were arrested or issued warnings by police and authorities. Rates of imprisoned or detained journalists increased worldwide, with some being related to the pandemic.The government of the UK faced criticism for after the now-former Chief of Staff Dominic Cummings was discovered multiple times breaking lockdown.\\n\\n\\n=== Agriculture and food systems ===\\n\\nThe COVID-19 pandemic has disrupted agricultural and food systems worldwide. COVID-19 hit at a time when hunger or undernourishment was once again on the rise in the world, with an estimated 690 million people already going hungry in 2019. Based on the latest UN estimates, the economic recession triggered by the pandemic may lead to another 83 million people, and possibly as many as 132 million, going hungry in 2020. This is mainly due to a lack of access to food – linked to falling incomes, lost remittances and, in some cases, a rise in food prices. In countries that already suffer from high levels of acute food insecurity, it is no longer an issue of access to food alone, but increasingly also one of food production.The pandemic, alongside lockdowns and travel restrictions, has prevented movement of aid and greatly impacted food production. As a result, several famines are forecast, which the UN called a crisis \"of biblical proportions,\" or \"hunger pandemic.\" It is estimated that without intervention 30 million people may die of hunger, with Oxfam reporting that \"12,000 people per day could die from COVID-19 linked hunger\" by the end of 2020.\\nThis pandemic, in conjunction with the 2019–2021 locust infestations and several ongoing armed conflicts, is predicted to form the worst series of famines since the Great Chinese Famine, affecting between 10 and 20 percent of the global population in some way.\\n55 countries are reported to be at risk, with three dozen succumbing to crisis-level famines or above in the worst-case scenario. 265 million people are forecast to be in famine conditions, an increase of 125 million due to the coronavirus pandemic.\\n\\n\\n=== Education ===\\n\\n\\n=== Other health issues ===\\n\\n\\n=== Environment and climate ===\\n\\n\\n=== Xenophobia and racism ===\\n\\nHeightened prejudice, xenophobia, and racism have been documented around the world toward people of Chinese and East and Southeast Asian descent. Reports from February 2020 (when most confirmed cases were confined to China) documented racist sentiments expressed in groups worldwide about Chinese people \\'deserving\\' the virus. Chinese people and other Asian peoples in the United Kingdom and United States have reported increasing levels of racist abuse and assaults. Former U.S. President Donald Trump was criticised for referring to the coronavirus as the \"Chinese Virus\" and \"Kung Flu\", which has been condemned as racist and xenophobic.Following the progression of the outbreak to new hotspot countries, people from Italy (the first country in Europe to experience a serious outbreak of COVID-19) were also subjected to suspicion and xenophobia, as were people from hotspots in other countries. Discrimination against Muslims in India escalated after public health authorities identified an Islamic missionary (Tablighi Jamaat) group\\'s gathering in New Delhi in early March 2020 as a source of spread. Paris has seen riots break out over police treatment of marginalised ethnic groups during the coronavirus lockdown. Racism and xenophobia towards South Asian groups increased in the Arab states of the Persian Gulf.  In China, some people of African descent  were evicted from their homes and told to leave China within 24 hours, due to disinformation that they and other foreigners were spreading the virus. This policy was criticised by some foreign governments, diplomatic corps, and the Chinese ambassador to Zimbabwe.\\n\\n\\n== Information dissemination ==\\n\\nOngoing COVID-19 research is indexed and searchable in the NIH COVID-19 Portfolio. Some newspaper agencies removed their online paywalls for some or all of their coronavirus-related articles and posts, while scientific publishers made scientific papers related to the outbreak available with open access. Some scientists chose to share their results quickly on preprint servers such as bioRxiv.Maps have played a key role in disseminating information concerning the spatial distribution of the disease, especially with the development of dashboards to present data in near real-time. Methods of data visualisation have drawn some criticism, however, in the over-simplification of geographical patterns indicated by choropleth maps that adopt national, rather than local, map scales.\\n\\n\\n=== Misinformation ===\\n\\n\\n== See also ==\\n\\nEmerging infectious disease\\nGlobalisation and disease\\nImmune system\\nList of epidemics and pandemics\\nTimeline of the COVID-19 pandemic\\nLists of disasters\\nZoonosis\\n\\n\\n== Notes ==\\n\\n\\n== References ==\\n\\n\\n== Further reading ==\\n\"Progress report on the coronavirus pandemic\". Nature. 584 (7821): 325. 20 August 2020. doi:10.1038/d41586-020-02414-1. PMID 32814893.\\nTay MZ, Poh CM, Rénia L, MacAry PA, Ng LF (June 2020). \"The trinity of COVID-19: immunity, inflammation and intervention\". Nat. Rev. Immunol. 20 (6): 363–374. doi:10.1038/s41577-020-0311-8. PMC 7187672. PMID 32346093.\\nCOVID-19 infection prevention and control measures for primary care, including general practitioner practices, dental clinics and pharmacy settings: first update. European Centre for Disease Prevention and Control (ECDC) (Report). October 2020.\\n\\n\\n== External links ==\\n\\n\\n=== Health agencies ===\\nCOVID-19 (Questions & Answers, instructional videos; Facts/MythBusters) by the World Health Organization\\nCOVID-19 by the Government of Canada\\nCOVID-19 by the National Health Commission, China\\nCOVID-19 (Q&A) by the European Centre for Disease Prevention and Control\\nCOVID-19 (Q&A) by the Ministry of Health, Singapore\\nCOVID-19 (Q&A) by the U.S. Centers for Disease Control\\nNIH COVID-19 Portfolio by the U.S. National Institutes of Health\\nCoronavirus Disease 2019 (Q&A) by the U.S. National Institute for Occupational Safety and Health\\n\\n\\n=== Research foundations ===\\n\"COVID-19 Daily Dispatch & news HUB\". tctMD.com. Cardiovascular Research Foundation.\\n\\n\\n=== Directories ===\\nCOVID-19 Directory on Curlie\\nCOVID-19 Resource Directory on OpenMD\\nCoronavirus Resource Center at the Center for Inquiry\\n\\n\\n=== Data and graphs ===\\nCoronavirus disease (COVID-2019) situation reports and map by the World Health Organization\\nCoronavirus Resource Center, map, and historical data by Johns Hopkins University\\nHistorical data about COVID-19 cases published by the European Centre for Disease Prevention and Control (ECDC)\\nWorld Travel Restrictions based on WFP data\\nCoronavirus Observer based on Johns Hopkins University data\\nCOVID-19 coronavirus pandemic published by Worldometer\\nCoronavirus Disease (COVID-19) Statistics and Research published by Our World in Data\\nCOVID-19 Projections for many countries published by Institute for Health Metrics and Evaluation\\nSpreadsheets: Country comparisons\\nSpreadsheets: Historical data with additional computations\\nEpidemic Calculator\\nStat News COVID-19 Tracker\\n\\n\\n=== Medical journals ===\\nCoronavirus: News and Resources by BMJ Publishing Group\\nNovel Coronavirus Information Center by Elsevier\\nCoronavirus Disease 2019 (COVID-19) by JAMA\\nCOVID-19 Resource Centre by The Lancet\\nSARS-CoV-2 and COVID-19 by Nature\\nCoronavirus (COVID-19) by The New England Journal of Medicine\\nCOVID-19 pandemic (2019–20) Collection by PLOS\\nCOVID-19: Novel Coronavirus by Wiley Publishing',\n",
              " 'Coronavirus disease 2019 (COVID-19) is a contagious disease caused by severe acute respiratory syndrome coronavirus 2 (SARS-CoV-2). The first case was identified in Wuhan, China, in December 2019. The disease has since spread worldwide, leading to an ongoing pandemic.Symptoms of COVID-19 are variable, but often include fever, cough, fatigue, breathing difficulties, and loss of smell and taste. Symptoms begin one to fourteen days after exposure to the virus. Of those people who develop noticeable symptoms, most (81%) develop mild to moderate symptoms (up to mild pneumonia), while 14% develop severe symptoms (dyspnea, hypoxia, or more than 50% lung involvement on imaging), and 5% suffer critical symptoms (respiratory failure, shock, or multiorgan dysfunction). At least a third of the people who are infected with the virus remain asymptomatic and do not develop noticeable symptoms at any point in time, but they still can spread the disease. Some people continue to experience a range of effects—known as long COVID—for months after recovery, and damage to organs has been observed. Multi-year studies are underway to further investigate the long-term effects of the disease.The virus that causes COVID-19 spreads mainly when an infected person is in close contact with another person. Small droplets and aerosols containing the virus can spread from an infected person\\'s nose and mouth as they breathe, cough, sneeze, sing, or speak. Other people are infected if the virus gets into their mouth, nose or eyes. The virus may also spread via contaminated surfaces, although this is not thought to be the main route of transmission. The exact route of transmission is rarely proven conclusively, but infection mainly happens when people are near each other for long enough. People who are infected can transmit the virus to another person up to two days before they themselves show symptoms, as can people who do not experience symptoms. People remain infectious for up to ten days after the onset of symptoms in moderate cases and up to 20 days in severe cases.\\nSeveral testing methods have been developed to diagnose the disease. The standard diagnostic method is by detection of the virus\\' nucleic acid by real-time reverse transcription polymerase chain reaction (rRT-PCR), transcription-mediated amplification (TMA), or by loop-mediated isothermal amplification from a nasopharyngeal swab.\\nPreventive measures include physical or social distancing, quarantining, ventilation of indoor spaces, covering coughs and sneezes, hand washing, and keeping unwashed hands away from the face. The use of face masks or coverings has been recommended in public settings to minimise the risk of transmissions. Several vaccines have been developed and several countries have initiated mass vaccination campaigns.\\nAlthough work is underway to develop drugs that inhibit the virus, the primary treatment is currently symptomatic. Management involves the treatment of symptoms, supportive care, isolation, and experimental measures.\\n\\n\\n== Signs and symptoms ==\\n\\n\\n== Cause ==\\nCOVID-19 is caused by infection with the severe acute respiratory syndrome coronavirus 2 (SARS-CoV-2) virus strain.\\n\\n\\n=== Transmission ===\\n\\nCoronavirus disease 2019 (COVID-19) spreads from person to person mainly through the respiratory route after an infected person coughs, sneezes, sings, talks or breathes. A new infection occurs when virus-containing particles exhaled by an infected person, either respiratory droplets or aerosols, get into the mouth, nose, or eyes of other people who are in close contact with the infected person. During human-to-human transmission, an average 1000 infectious SARS-CoV-2 virions are thought to initiate a new infection.The closer people interact, and the longer they interact, the more likely they are to transmit COVID-19. Closer distances can involve larger droplets (which fall to the ground) and aerosols, whereas longer distances only involve aerosols. Larger droplets can also turn into aerosols (known as droplet nuclei) through evaporation. The relative importance of the larger droplets and the aerosols is not clear as of November 2020; however, the virus is not known to spread between rooms over long distances such as through air ducts. Airborne transmission is able to particularly occur indoors, in high risk locations such as restaurants, choirs, gyms, nightclubs, offices, and religious venues, often when they are crowded or less ventilated. It also occurs in healthcare settings, often when aerosol-generating medical procedures are performed on COVID-19 patients.Although it is considered possible there is no direct evidence of the virus being transmitted by skin to skin contact. A person could get COVID-19 indirectly by touching a contaminated surface or object before touching their own mouth, nose, or eyes, though this is not thought to be the main way the virus spreads. The virus is not known to spread through feces, urine, breast milk, food, wastewater, drinking water, or via animal disease vectors (although some animals can contract the virus from humans). It very rarely transmits from mother to baby during pregnancy.Social distancing and the wearing of cloth face masks, surgical masks, respirators, or other face coverings are controls for droplet transmission. Transmission may be decreased indoors with well maintained heating and ventilation systems to maintain good air circulation and increase the use of outdoor air.The number of people generally infected by one infected person varies.  Coronavirus disease 2019 is more infectious than influenza, but less so than measles. It often spreads in clusters, where infections can be traced back to an index case or geographical location. There is a major role of \"super-spreading events\", where many people are infected by one person.A person who is infected can transmit the virus to others up to two days before they themselves show symptoms, and even if symptoms never appear. People remain infectious in moderate cases for 7–12 days, and up to two weeks in severe cases. In October 2020, medical scientists reported evidence of reinfection in one person.\\n\\n\\n=== Virology ===\\n\\nSevere acute respiratory syndrome coronavirus 2 (SARS-CoV-2) is a novel severe acute respiratory syndrome coronavirus. It was first isolated from three people with pneumonia connected to the cluster of acute respiratory illness cases in Wuhan. All structural features of the novel SARS-CoV-2 virus particle occur in related coronaviruses in nature.Outside the human body, the virus is destroyed by household soap, which bursts its protective bubble.SARS-CoV-2 is closely related to the original SARS-CoV. It is thought to have an animal (zoonotic) origin. Genetic analysis has revealed that the coronavirus genetically clusters with the genus Betacoronavirus, in subgenus Sarbecovirus (lineage B) together with two bat-derived strains. It is 96% identical at the whole genome level to other bat coronavirus samples (BatCov RaTG13). The structural proteins of SARS-CoV-2 include membrane glycoprotein (M), envelope protein (E), nucleocapsid protein (N), and the spike protein (S). The M protein of SARS-CoV-2 is about 98% similar to the M protein of bat SARS-CoV, maintains around 98% homology with pangolin SARS-CoV, and has 90% homology with the M protein of SARS-CoV; whereas, the similarity is only around 38% with the M protein of MERS-CoV. The structure of the M protein resembles the sugar transporter SemiSWEET.The many thousands of SARS-CoV-2 variants are grouped into clades. Several different clade nomenclatures have been proposed. Nextstrain divides the variants into five clades (19A, 19B, 20A, 20B, and 20C), while GISAID divides them into seven (L, O, V, S, G, GH, and GR).Several notable variants of SARS-CoV-2 emerged in late 2020. Cluster 5 emerged among minks and mink farmers in Denmark. After strict quarantines and a mink euthanasia campaign, it is believed to have been eradicated. The Variant of Concern 202012/01 (VOC 202012/01) is believed to have emerged in the United Kingdom in September. The 501Y.V2 Variant, which has the same N501Y mutation, arose independently in South Africa.\\n\\n\\n=== SARS-CoV-2 variants ===\\n\\nThree known variants of COVID-19 are currently spreading among global populations as of January 2021 including the UK Variant (referred to as B.1.1.7) first found in London and Kent, a variant discovered in South Africa (referred to as 1.351), and a variant discovered in Brazil (referred to as P.1).Using Whole Genome Sequencing, epidemiology and modelling suggest the new UK variant ‘VUI – 202012/01’ (the first Variant Under Investigation in December 2020) transmits more easily than other strains.\\n\\n\\n== Pathophysiology ==\\n\\nCOVID-19 can affect the upper respiratory tract (sinuses, nose, and throat) and the lower respiratory tract (windpipe and lungs). The lungs are the organs most affected by COVID-19 because the virus accesses host cells via the enzyme angiotensin-converting enzyme 2 (ACE2), which is most abundant in type II alveolar cells of the lungs. The virus uses a special surface glycoprotein called a \"spike\" (peplomer) to connect to ACE2 and enter the host cell. The density of ACE2 in each tissue correlates with the severity of the disease in that tissue and decreasing ACE2 activity might be protective, though another view is that increasing ACE2 using angiotensin II receptor blocker medications could be protective. As the alveolar disease progresses, respiratory failure might develop and death may follow.Whether SARS-CoV-2 is able to invade the nervous system remains unknown. The virus is not detected in the CNS of the majority of COVID-19 people with neurological issues. However, SARS-CoV-2 has been detected at low levels in the brains of those who have died from COVID-19, but these results need to be confirmed. SARS-CoV-2 could cause respiratory failure through affecting the brain stem as other coronaviruses have been found to invade the CNS. While virus has been detected in cerebrospinal fluid of autopsies, the exact mechanism by which it invades the CNS remains unclear and may first involve invasion of peripheral nerves given the low levels of ACE2 in the brain. The virus may also enter the bloodstream from the lungs and cross the blood-brain barrier to gain access to the CNS, possibly within an infected white blood cell.\\n\\nThe virus also affects gastrointestinal organs as ACE2 is abundantly expressed in the glandular cells of gastric, duodenal and rectal epithelium as well as endothelial cells and enterocytes of the small intestine.The virus can cause acute myocardial injury and chronic damage to the cardiovascular system. An acute cardiac injury was found in 12% of infected people admitted to the hospital in Wuhan, China, and is more frequent in severe disease. Rates of cardiovascular symptoms are high, owing to the systemic inflammatory response and immune system disorders during disease progression, but acute myocardial injuries may also be related to ACE2 receptors in the heart. ACE2 receptors are highly expressed in the heart and are involved in heart function. A high incidence of thrombosis and venous thromboembolism have been found people transferred to Intensive care unit (ICU) with COVID-19 infections, and may be related to poor prognosis. Blood vessel dysfunction and clot formation (as suggested by high D-dimer levels caused by blood clots) are thought to play a significant role in mortality, incidences of clots leading to pulmonary embolisms, and ischaemic events within the brain have been noted as complications leading to death in people infected with SARS-CoV-2. Infection appears to set off a chain of vasoconstrictive responses within the body, constriction of blood vessels within the pulmonary circulation has also been posited as a mechanism in which oxygenation decreases alongside the presentation of viral pneumonia. Furthermore, microvascular blood vessel damage has been reported in a small number of tissue samples of the brains – without detected SARS-CoV-2 – and the olfactory bulbs from those who have died from COVID-19.Another common cause of death is complications related to the kidneys. Early reports show that up to 30% of hospitalized patients both in China and in New York have experienced some injury to their kidneys, including some persons with no previous kidney problems.Autopsies of people who died of COVID-19 have found diffuse alveolar damage, and lymphocyte-containing inflammatory infiltrates within the lung.\\n\\n\\n=== Immunopathology ===\\n\\nAlthough SARS-CoV-2 has a tropism for ACE2-expressing epithelial cells of the respiratory tract, people with severe COVID-19 have symptoms of systemic hyperinflammation. Clinical laboratory findings of elevated IL-2, IL-7, IL-6, granulocyte-macrophage colony-stimulating factor (GM-CSF), interferon-γ inducible protein 10 (IP-10), monocyte chemoattractant protein 1 (MCP-1), macrophage inflammatory protein 1-α (MIP-1α), and tumour necrosis factor-α (TNF-α) indicative of cytokine release syndrome (CRS) suggest an underlying immunopathology.Additionally, people with COVID-19 and acute respiratory distress syndrome (ARDS) have classical serum biomarkers of CRS, including elevated C-reactive protein (CRP), lactate dehydrogenase (LDH), D-dimer, and ferritin.Systemic inflammation results in vasodilation, allowing inflammatory lymphocytic and monocytic infiltration of the lung and the heart. In particular, pathogenic GM-CSF-secreting T-cells were shown to correlate with the recruitment of inflammatory IL-6-secreting monocytes and severe lung pathology in people with COVID-19 . Lymphocytic infiltrates have also been reported at autopsy.\\n\\n\\n=== Viral and host factors ===\\n\\n\\n==== Virus proteins ====\\n\\nMultiple viral and host factors affect the pathogenesis of the virus. The S-protein, otherwise known as the spike protein, is the viral component that attaches to the host receptor via the ACE2 receptors. It includes two subunits: S1 and S2. S1 determines the virus host range and cellular tropism via the receptor binding domain. S2 mediates the membrane fusion of the virus to its potential cell host via the H1 and HR2, which are heptad repeat regions. Studies have shown that S1 domain induced IgG and IgA antibody levels at a much higher capacity. It is the focus spike proteins expression that are involved in many effective COVID-19 vaccines.The M protein is the viral protein responsible for the transmembrane transport of nutrients. It is the cause of the bud release and the formation of the viral envelope. The N and E protein are accessory proteins that interfere with the host\\'s immune response.\\n\\n\\n==== Host factors ====\\nHuman angiotensin converting enzyme 2 (hACE2) is the host factor that SARS-COV2 virus targets causing COVID-19. Theoretically the usage of angiotensin receptor blockers (ARB) and ACE inhibitors upregulating ACE2 expression might increase morbidity with COVID-19, though animal data suggest some potential protective effect of ARB. However no clinical studies have proven susceptibility or outcomes. Until further data is available, guidelines and recommendations for hypertensive patients remain.The virus\\' effect on ACE2 cell surfaces leads to leukocytic infiltration, increased blood vessel permeability, alveolar wall permeability, as well as decreased secretion of lung surfactants. These effects cause the majority of the respiratory symptoms. However, the aggravation of local inflammation causes a cytokine storm eventually leading to a systemic inflammatory response syndrome.\\n\\n\\n=== Host cytokine response ===\\n\\nThe severity of the inflammation can be attributed to the severity of what is known as the cytokine storm. Levels of interleukin 1B, interferon-gamma, interferon-inducible protein 10, and monocyte chemoattractant protein 1 were all associated with COVID-19 disease severity. Treatment has been proposed to combat the cytokine storm as it remains to be one of the leading causes of morbidity and mortality in COVID-19 disease.A cytokine storm is due to an acute hyperinflammatory response that is responsible for clinical illness in an array of diseases but in COVID-19, it is related to worse prognosis and increased fatality. The storm causes the acute respiratory distress syndrome, blood clotting events such as strokes, myocardial infarction, encephalitis, acute kidney injury, and vasculitis.  The production  of IL-1, IL-2, IL-6, TNF-alpha, and interferon-gamma, all crucial components of normal immune responses, inadvertently become the causes of a cytokine storm. The cells of the central nervous system, the microglia, neurons, and astrocytes, are also be involved in the release of pro-inflammatory cytokines affecting the nervous system, and effects of cytokine storms toward the CNS are not uncommon.\\n\\n\\n== Diagnosis ==\\nCOVID-19 can provisionally be diagnosed on the basis of symptoms and confirmed using reverse transcription polymerase chain reaction (RT-PCR) or other nucleic acid testing of infected secretions. Along with laboratory testing, chest CT scans may be helpful to diagnose COVID-19 in individuals with a high clinical suspicion of infection. Detection of a past infection is possible with serological tests, which detect antibodies produced by the body in response to the infection.\\n\\n\\n=== Viral testing ===\\n\\nThe standard methods of testing for presence of SARS-CoV-2 are nucleic acid tests, which detects the presence of viral RNA fragments. As these tests detect RNA but not infectious virus, its \"ability to determine duration of infectivity of patients is limited.\" The test is typically done on respiratory samples obtained by a nasopharyngeal swab; however, a nasal swab or sputum sample may also be used. Results are generally available within hours. The WHO has published several testing protocols for the disease.A number of laboratories and companies have developed serological tests, which detect antibodies produced by the body in response to infection. Several have been evaluated by Public Health England and approved for use in the UK.The University of Oxford\\'s CEBM has pointed to mounting evidence that \"a good proportion of \\'new\\' mild cases and people re-testing positives after quarantine or discharge from hospital are not infectious, but are simply clearing harmless virus particles which their immune system has efficiently dealt with\" and have called for \"an international effort to standardize and periodically calibrate testing\" On 7 September, the UK government issued \"guidance for procedures to be implemented in laboratories to provide assurance of positive SARS-CoV-2 RNA results during periods of low prevalence, when there is a reduction in the predictive value of positive test results.\"\\n\\n\\n=== Imaging ===\\n\\nChest CT scans may be helpful to diagnose COVID-19 in individuals with a high clinical suspicion of infection but are not recommended for routine screening. Bilateral multilobar ground-glass opacities with a peripheral, asymmetric, and posterior distribution are common in early infection. Subpleural dominance, crazy paving (lobular septal thickening with variable alveolar filling), and consolidation may appear as the disease progresses. Characteristic imaging features on chest radiographs and computed tomography (CT) of people who are symptomatic include asymmetric peripheral ground-glass opacities without pleural effusions.Many groups have created COVID-19 datasets that include imagery such as the Italian Radiological Society which has compiled an international online database of imaging findings for confirmed cases. Due to overlap with other infections such as adenovirus, imaging without confirmation by rRT-PCR is of limited specificity in identifying COVID-19. A large study in China compared chest CT results to PCR and demonstrated that though imaging is less specific for the infection, it is faster and more sensitive.\\n\\n\\n=== Coding ===\\nIn late 2019, the WHO assigned emergency ICD-10 disease codes U07.1 for deaths from lab-confirmed SARS-CoV-2 infection and U07.2 for deaths from clinically or epidemiologically diagnosed COVID-19 without lab-confirmed SARS-CoV-2 infection.\\n\\n\\n=== Pathology ===\\nThe main pathological findings at autopsy are:\\nMacroscopy: pericarditis, lung consolidation and pulmonary oedema\\nLung findings:\\nminor serous exudation, minor fibrin exudation\\npulmonary oedema, pneumocyte hyperplasia, large atypical pneumocytes, interstitial inflammation with lymphocytic infiltration and multinucleated giant cell formation\\ndiffuse alveolar damage (DAD) with diffuse alveolar exudates. DAD is the cause of acute respiratory distress syndrome (ARDS) and severe hypoxemia.\\norganisation of exudates in alveolar cavities and pulmonary interstitial fibrosis\\nplasmocytosis in BAL\\nBlood: disseminated intravascular coagulation (DIC); leukoerythroblastic reaction\\nLiver: microvesicular steatosis\\n\\n\\n== Prevention ==\\n\\nPreventive measures to reduce the chances of infection include staying at home, wearing a mask in public, avoiding crowded places, keeping distance from others, ventilating indoor spaces, washing hands with soap and water often and for at least 20 seconds, practising good respiratory hygiene, and avoiding touching the eyes, nose, or mouth with unwashed hands.Those diagnosed with COVID-19 or who believe they may be infected are advised by the CDC to stay home except to get medical care, call ahead before visiting a healthcare provider, wear a face mask before entering the healthcare provider\\'s office and when in any room or vehicle with another person, cover coughs and sneezes with a tissue, regularly wash hands with soap and water and avoid sharing personal household items.The first COVID-19 vaccine was granted regulatory approval on 2 December by the UK medicines regulator MHRA. It was evaluated for emergency use authorization (EUA) status by the US FDA, and in several other countries. Initially, the US National Institutes of Health guidelines do not recommend any medication for prevention of COVID-19, before or after exposure to the SARS-CoV-2 virus, outside the setting of a clinical trial. Without a vaccine, other prophylactic measures, or effective treatments, a key part of managing COVID-19 is trying to decrease and delay the epidemic peak, known as \"flattening the curve\". This is done by slowing the infection rate to decrease the risk of health services being overwhelmed, allowing for better treatment of current cases, and delaying additional cases until effective treatments or a vaccine become available.\\n\\n\\n=== Vaccine ===\\n\\n\\n=== Social distancing ===\\n\\nSocial distancing (also known as physical distancing) includes infection control actions intended to slow the spread of the disease by minimising close contact between individuals. Methods include quarantines; travel restrictions; and the closing of schools, workplaces, stadiums, theatres, or shopping centres. Individuals may apply social distancing methods by staying at home, limiting travel, avoiding crowded areas, using no-contact greetings, and physically distancing themselves from others. Many governments are now mandating or recommending social distancing in regions affected by the outbreak.Outbreaks have occurred in prisons due to crowding and an inability to enforce adequate social distancing. In the United States, the prisoner population is aging and many of them are at high risk for poor outcomes from COVID-19 due to high rates of coexisting heart and lung disease, and poor access to high-quality healthcare.\\n\\n\\n=== Self-isolation ===\\nSelf-isolation at home has been recommended for those diagnosed with COVID-19 and those who suspect they have been infected. Health agencies have issued detailed instructions for proper self-isolation. Many governments have mandated or recommended self-quarantine for entire populations. The strongest self-quarantine instructions have been issued to those in high-risk groups. Those who may have been exposed to someone with COVID-19 and those who have recently travelled to a country or region with the widespread transmission have been advised to self-quarantine for 14 days from the time of last possible exposure.\\n\\n\\n=== Face masks and respiratory hygiene ===\\n\\nThe WHO and the US CDC recommend individuals wear non-medical face coverings in public settings where there is an increased risk of transmission and where social distancing measures are difficult to maintain. This recommendation is meant to reduce the spread of the disease by asymptomatic and pre-symptomatic individuals and is complementary to established preventive measures such as social distancing. Face coverings limit the volume and travel distance of expiratory droplets dispersed when talking, breathing, and coughing. A face covering without vents or holes will also filter out particles containing the virus from inhaled and exhaled air, reducing the chances of infection. But, if the mask include an exhalation valve, a wearer that is infected (maybe without having noticed that, and asymptomatic) would transmit the virus outwards through it, despite any certification they can have. So the masks with exhalation valve are not for the infected wearers, and are not reliable to stop the pandemic in a large scale. Many countries and local jurisdictions encourage or mandate the use of face masks or cloth face coverings by members of the public to limit the spread of the virus.Masks are also strongly recommended for those who may have been infected and those taking care of someone who may have the disease. When not wearing a mask, the CDC recommends covering the mouth and nose with a tissue when coughing or sneezing and recommends using the inside of the elbow if no tissue is available. Proper hand hygiene after any cough or sneeze is encouraged. Healthcare professionals interacting directly with people who have COVID-19 are advised to use respirators at least as protective as NIOSH-certified N95 or equivalent, in addition to other personal protective equipment.\\n\\n\\n=== Hand-washing and hygiene ===\\n\\nThorough hand hygiene after any cough or sneeze is required. The WHO also recommends that individuals wash hands often with soap and water for at least 20 seconds, especially after going to the toilet or when hands are visibly dirty, before eating and after blowing one\\'s nose. The CDC recommends using an alcohol-based hand sanitiser with at least 60% alcohol, but only when soap and water are not readily available. For areas where commercial hand sanitisers are not readily available, the WHO provides two formulations for local production. In these formulations, the antimicrobial activity arises from ethanol or isopropanol. Hydrogen peroxide is used to help eliminate bacterial spores in the alcohol; it is \"not an active substance for hand antisepsis\". Glycerol is added as a humectant.\\n\\n\\n=== Surface cleaning ===\\nAfter being expelled from the body, coronaviruses can survive on surfaces for hours to days.  If a person touches the dirty surface, they may deposit the virus at the eyes, nose, or mouth where it can enter the body cause infection. Current evidence indicates that contact with infected surfaces is not the main driver of Covid-19, leading to recommendations for optimised disinfection procedures to avoid issues such as the increase of antimicrobial resistance through the use of inappropriate cleaning products and processes. Deep cleaning and other surface sanitation has been criticized as hygiene theater, giving a false sense of security against something primarily spread through the air.The amount of time that the virus can survive depends significantly on the type of surface, the temperature, and the humidity. Coronaviruses die very quickly when exposed to the UV light in sunlight. Like other enveloped viruses, SARS-CoV-2 survives longest when the temperature is at room temperature or lower, and when the relative humidity is low (<50%).On many surfaces, including as glass, some types of plastic, stainless steel, and skin, the virus can remain infective for several days indoors at room temperature, or even about a week under ideal conditions. On some surfaces, including cotton fabric and copper, the virus usually dies after a few hours. As a general rule of thumb, the virus dies faster on porous surfaces than on non-porous surfaces. However, this rule is not absolute, and of the many surfaces tested, two with the longest survival times are N95 respirator masks and surgical masks, both of which are considered porous surfaces.Surfaces may be decontaminated with 62–71 percent ethanol, 50–100 percent isopropanol, 0.1 percent sodium hypochlorite, 0.5 percent hydrogen peroxide, and 0.2–7.5 percent povidone-iodine. Other solutions, such as benzalkonium chloride and chlorhexidine gluconate, are less effective. Ultraviolet germicidal irradiation may also be used. The CDC recommends that if a COVID-19 case is suspected or confirmed at a facility such as an office or day care, all areas such as offices, bathrooms, common areas, shared electronic equipment like tablets, touch screens, keyboards, remote controls, and ATM machines used by the ill persons should be disinfected. A datasheet comprising the authorised substances to disinfection in the food industry (including suspension or surface tested, kind of surface, use dilution, disinfectant and inocuylum volumes) can be seen in the supplementary material of.\\n\\n\\n=== Ventilation and air filtration ===\\nThe WHO recommends ventilation and air filtration in public spaces to help clear out infectious aerosols.\\n\\n\\n=== Healthy diet and lifestyle ===\\nThe Harvard T.H. Chan School of Public Health recommends a healthy diet, being physically active, managing psychological stress, and getting enough sleep.While there is no evidence that vitamin D is an effective treatment for COVID-19, there is limited evidence that vitamin D deficiency increases the risk of severe COVID-19 symptoms. This has led to recommendations for individuals with vitamin D deficiency to take vitamin D supplements as a way of mitigating the risk of COVID-19 and other health issues associated with a possible increase in deficiency due to social distancing.\\n\\n\\n== Treatment ==\\n\\n\\n== Prognosis ==\\n\\nThe severity of COVID-19 varies. The disease may take a mild course with few or no symptoms, resembling other common upper respiratory diseases such as the common cold. In 3–4% of cases (7.4% for those over age 65) symptoms are severe enough to cause hospitalization. Mild cases typically recover within two weeks, while those with severe or critical diseases may take three to six weeks to recover. Among those who have died, the time from symptom onset to death has ranged from two to eight weeks. The Italian Istituto Superiore di Sanità reported that the median time between the onset of symptoms and death was twelve days, with seven being hospitalised. However, people transferred to an ICU had a median time of ten days between hospitalisation and death. Prolonged prothrombin time and elevated C-reactive protein levels on admission to the hospital are associated with severe course of COVID-19 and with a transfer to ICU.Some early studies suggest 10% to 20% of people with COVID-19 will experience symptoms lasting longer than a month. A majority of those who were admitted to hospital with severe disease report long-term problems including fatigue and shortness of breath. On 30 October 2020 WHO chief Tedros Adhanom warned that \"to a significant number of people, the COVID virus poses a range of serious long-term effects\". He has described the vast spectrum of COVID-19 symptoms that fluctuate over time as \"really concerning.\" They range from fatigue, a cough and shortness of breath, to inflammation and injury of major organs – including the lungs and heart, and also neurological and psychologic effects. Symptoms often overlap and can affect any system in the body. Infected people have reported cyclical bouts of fatigue, headaches, months of complete exhaustion, mood swings, and other symptoms. Tedros has concluded that therefore herd immunity is \"morally unconscionable and unfeasible\".In terms of hospital readmissions about 9% of 106,000 individuals had to return for hospital treatment within 2 months of discharge. The average to readmit was 8 days since first hospital visit. There are several risk factors that have been identified as being a cause of multiple admissions to a hospital facility. Among these are advanced age (above 65 years of age) and presence of a chronic condition such as diabetes, COPD, heart failure or chronic kidney disease.According to scientific reviews smokers are more likely to require intensive care or die compared to non-smokers, air pollution is similarly associated with risk factors, and pre-existing heart and lung diseases and also obesity contributes to an increased health risk of COVID-19.It is also assumed that those that are immunocompromised are at higher risk of getting severely sick from SARS-CoV-2. One research that looked into the COVID-19 infections in hospitalized kidney transplant recipients found a mortality rate of 11%.\\n\\nChildren make up a small proportion of reported cases, with about 1% of cases being under 10 years and 4% aged 10–19 years. They are likely to have milder symptoms and a lower chance of severe disease than adults. A European multinational study of hospitalized children published in The Lancet on 25 June 2020 found that about 8% of children admitted to a hospital needed intensive care. Four of those 582 children (0.7%) died, but the actual mortality rate could be \"substantially lower\" since milder cases that did not seek medical help were not included in the study.Genetics also plays an important role in the ability to fight off the disease. For instance, those that do not produce detectable type I interferons or produce auto-antibodies against these may get much sicker from COVID-19. Genetic screening is able to detect interferon effector genes.Pregnant women may be at higher risk of severe COVID-19 infection based on data from other similar viruses, like SARS and MERS, but data for COVID-19 is lacking.\\n\\n\\n=== Complications ===\\n\\nComplications may include pneumonia, acute respiratory distress syndrome (ARDS), multi-organ failure, septic shock, and death. Cardiovascular complications may include heart failure, arrhythmias, heart inflammation, and blood clots. Approximately 20–30% of people who present with COVID-19 have elevated liver enzymes, reflecting liver injury.Neurologic manifestations include seizure, stroke, encephalitis, and Guillain–Barré syndrome (which includes loss of motor functions). Following the infection, children may develop paediatric multisystem inflammatory syndrome, which has symptoms similar to Kawasaki disease, which can be fatal. In very rare cases, acute encephalopathy can occur, and it can be considered in those who have been diagnosed with COVID-19 and have an altered mental status.\\n\\n\\n=== Longer-term effects ===\\n\\nSome early studies suggest that that 10 to 20% of people with COVID-19 will experience symptoms lasting longer than a month. A majority of those who were admitted to hospital with severe disease report long-term problems, including fatigue and shortness of breath. About 5-10% of patients admitted to hospital progress to severe or critical disease, including pneumonia and acute respiratory failure.By a variety of mechanisms, the lungs are the organs most affected in COVID-19. The majority of CT scans performed show lung abnormalities in people tested after 28 days of illness.People with advanced age, severe disease, prolonged ICU stays, or who smoke are more likely to have long lasting effects, including pulmonary fibrosis. Overall, approximately one third of those investigated after 4 weeks will have findings of pulmonary fibrosis or reduced lung function as measured by DLCO, even in people who are asymptomatic, but with the suggestion of continuing improvement with the passing of more time.\\n\\n\\n=== Immunity ===\\n\\nThe immune response by humans to CoV-2 virus occurs as a combination of the cell-mediated immunity and antibody production, just as with most other infections. Since SARS-CoV-2 has been in the human population only since December 2019, it remains unknown if the immunity is long-lasting in people who recover from the disease. The presence of neutralizing antibodies in blood strongly correlates with protection from infection, but the level of neutralizing antibody declines with time. Those with asymptomatic or mild disease had undetectable levels of neutralizing antibody two months after infection. In another study, the level of neutralizing antibody fell 4-fold 1 to 4 months after the onset of symptoms. However, the lack of antibody in the blood does not mean antibody will not be rapidly produced upon reexposure to SARS-CoV-2. Memory B cells specific for the spike and nucleocapsid proteins of SARS-CoV-2 last for at least 6 months after appearance of symptoms. Nevertheless, 15 cases of reinfection with SARS-CoV-2 have been reported using stringent CDC criteria requiring identification of a different variant from the second infection. There are likely to be many more people who have been reinfected with the virus. Herd immunity will not eliminate the virus if reinfection is common. Some other coronaviruses circulating in people are capable of reinfection after roughly a year. Nonetheless, on 3 March 2021, scientists reported that a much more contagious Covid-19 variant, Lineage P.1, first detected in Japan, and subsequently found in Brazil, as well as in several places in the United States, may be associated with Covid-19 disease reinfection after recovery from an earlier Covid-19 infection.\\n\\n\\n== Mortality ==\\n\\nSeveral measures are commonly used to quantify mortality. These numbers vary by region and over time and are influenced by the volume of testing, healthcare system quality, treatment options, time since the initial outbreak, and population characteristics such as age, sex, and overall health. The mortality rate reflects the number of deaths within a specific demographic group divided by the population of that demographic group. Consequently, the mortality rate reflects the prevalence as well as the severity of the disease within a given population. Mortality rates are highly correlated to age, with relatively low rates for young people and relatively high rates among the elderly.The case fatality rate (CFR) reflects the number of deaths divided by the number of diagnosed cases within a given time interval. Based on Johns Hopkins University statistics, the global death-to-case ratio is 2.2% (2,565,369/115,467,624) as of 4 March 2021. The number varies by region. The CFR may not reflect the true severity of the disease, because some infected individuals remain asymptomatic or experience only mild symptoms, and hence such infections may not be included in official case reports. Moreover, the CFR may vary markedly over time and across locations due to the availability of live virus tests.\\n\\n\\t\\t\\n\\t\\t\\n\\t\\t\\n\\n\\n=== Infection fatality rate ===\\nA key metric in gauging the severity of COVID-19 is the infection fatality rate (IFR), also referred to as the infection fatality ratio or infection fatality risk. This metric is calculated by dividing the total number of deaths from the disease by the total number of infected individuals; hence, in contrast to the CFR, the IFR incorporates asymptomatic and undiagnosed infections as well as reported cases.\\n\\n\\n==== Current estimates ====\\n\\nA December 2020 systematic review and meta-analysis estimated that population IFR during the first wave of the pandemic was about 0.5% to 1% in many locations (including France, Netherlands, New Zealand, and Portugal), 1% to 2% in other locations (Australia, England, Lithuania, and Spain), and exceeded 2% in Italy. That study also found that most of these differences in IFR reflected corresponding differences in the age composition of the population and age-specific infection rates; in particular, the metaregression estimate of IFR is very low for children and younger adults (e.g., 0.002% at age 10 and 0.01% at age 25) but increases progressively to 0.4% at age 55, 1.4% at age 65, 4.6% at age 75, and 15% at age 85. These results were also highlighted in a December 2020 report issued by the WHO.\\n\\n\\n==== Earlier estimates of IFR ====\\nAt an early stage of the pandemic, the World Health Organization reported estimates of IFR between 0.3% and 1%. On 2 July, The WHO\\'s chief scientist reported that the average IFR estimate presented at a two-day WHO expert forum was about 0.6%. In August, the WHO found that studies incorporating data from broad serology testing in Europe showed IFR estimates converging at approximately 0.5–1%. Firm lower limits of IFRs have been established in a number of locations such as New York City and Bergamo in Italy since the IFR cannot be less than the population fatality rate. As of 10 July, in New York City, with a population of 8.4 million, 23,377 individuals (18,758 confirmed and 4,619 probable) have died with COVID-19 (0.3% of the population). Antibody testing in New York City suggested an IFR of ~0.9%, and ~1.4%. In Bergamo province, 0.6% of the population has died. In September 2020 the U.S. Center for Disease Control & Prevention reported preliminary estimates of age-specific IFRs for public health planning purposes.\\n\\n\\n=== Sex differences ===\\n\\nEarly reviews of epidemiologic data showed gendered impact of the pandemic and a higher mortality rate in men in China and Italy. The Chinese Center for Disease Control and Prevention reported the death rate was 2.8% for men and 1.7% for women. Later reviews in June 2020 indicated that there is no significant difference in susceptibility or in CFR between genders. One review acknowledges the different mortality rates in Chinese men, suggesting that it may be attributable to lifestyle choices such as smoking and drinking alcohol rather than genetic factors. Sex-based immunological differences, lesser prevalence of smoking in women and men developing co-morbid conditions such as hypertension at a younger age than women could have contributed to the higher mortality in men. In Europe, 57% of the infected people were men and 72% of those died with COVID-19 were men. As of April 2020, the US government is not tracking sex-related data of COVID-19 infections. Research has shown that viral illnesses like Ebola, HIV, influenza and SARS affect men and women differently.\\n\\n\\n=== Ethnic differences ===\\nIn the US, a greater proportion of deaths due to COVID-19 have occurred among African Americans and other minority groups. Structural factors that prevent them from practicing social distancing include their concentration in crowded substandard housing and in \"essential\" occupations such as retail grocery workers, public transit employees, health-care workers and custodial staff.  Greater prevalence of lacking health insurance and care and of underlying conditions such as diabetes, hypertension and heart disease also increase their risk of death. Similar issues affect Native American and Latino communities. According to a US health policy non-profit, 34% of American Indian and Alaska Native People (AIAN) non-elderly adults are at risk of serious illness compared to 21% of white non-elderly adults. The source attributes it to disproportionately high rates of many health conditions that may put them at higher risk as well as living conditions like lack of access to clean water. Leaders have called for efforts to research and address the disparities. In the U.K., a greater proportion of deaths due to COVID-19 have occurred in those of a Black, Asian, and other ethnic minority background. More severe impacts upon victims including the relative incidence of the necessity of hospitalization requirements, and vulnerability to the disease has been associated via DNA analysis to be expressed in genetic variants at chromosomal region 3, features that are associated with European Neanderthal heritage. That structure imposes greater risks that those affected will develop a more severe form of the disease. The findings are from Professor Svante Pääbo and researchers he leads at the Max Planck Institute for Evolutionary Anthropology and the Karolinska Institutet. This admixture of modern human and Neanderthal genes is estimated to have occurred roughly between 50,000 and 60,000 years ago in Southern Europe.\\n\\n\\n=== Comorbidities ===\\nMost of those who die of COVID-19 have pre-existing (underlying) conditions, including hypertension, diabetes mellitus, and cardiovascular disease. According to March data from the United States, 89% of those hospitalised had preexisting conditions. The Italian Istituto Superiore di Sanità reported that out of 8.8% of deaths where medical charts were available, 96.1% of people had at least one comorbidity with the average person having 3.4 diseases. According to this report the most common comorbidities are hypertension (66% of deaths), type 2 diabetes (29.8% of deaths), Ischemic Heart Disease (27.6% of deaths), atrial fibrillation (23.1% of deaths) and chronic renal failure (20.2% of deaths).\\nMost critical respiratory comorbidities according to the CDC, are: moderate or severe asthma, pre-existing COPD, pulmonary fibrosis, cystic fibrosis. Evidence stemming from meta-analysis of several smaller research papers also suggests that smoking can be associated with worse outcomes. When someone with existing respiratory problems is infected with COVID-19, they might be at greater risk for severe symptoms. COVID-19 also poses a greater risk to people who misuse opioids and methamphetamines, insofar as their drug use may have caused lung damage.In August 2020 the CDC issued a caution that tuberculosis infections could increase the risk of severe illness or death. The WHO recommended that people with respiratory symptoms be screened for both diseases, as testing positive for COVID-19 couldn\\'t rule out co-infections. Some projections have estimated that reduced TB detection due to the pandemic could result in 6.3 million additional TB cases and 1.4 million TB related deaths by 2025.\\n\\n\\n== Name ==\\nDuring the initial outbreak in Wuhan, China, the virus and disease were commonly referred to as \"coronavirus\" and \"Wuhan coronavirus\", with the disease sometimes called \"Wuhan pneumonia\". In the past, many diseases have been named after geographical locations, such as the Spanish flu, Middle East Respiratory Syndrome, and Zika virus.In January 2020, the WHO recommended 2019-nCov and 2019-nCoV acute respiratory disease as interim names for the virus and disease per 2015 guidance and international guidelines against using geographical locations (e.g. Wuhan, China), animal species, or groups of people in disease and virus names in part to prevent social stigma.The official names COVID-19 and SARS-CoV-2 were issued by the WHO on 11 February 2020. Tedros Adhanom explained: CO for corona, VI for virus, D for disease and 19 for when the outbreak was first identified (31 December 2019). The WHO additionally uses \"the COVID-19 virus\" and \"the virus responsible for COVID-19\" in public communications.\\n\\n\\n== History ==\\n\\nThe virus is thought to be natural and has an animal origin, through spillover infection. There are several theories about where the first case (the so-called patient zero) originated. Phylogenetics estimates that SARS-CoV-2 arose in October or November 2019. Evidence suggests that it descends from a coronavirus that infects wild bats and spread to humans through an intermediary wildlife host.The first known human infections were in Wuhan, Hubei, China. A study of the first 41 cases of confirmed COVID-19, published in January 2020 in The Lancet, reported the earliest date of onset of symptoms as 1 December 2019. Official publications from the WHO reported the earliest onset of symptoms as 8 December 2019. Human-to-human transmission was confirmed by the WHO and Chinese authorities by 20 January 2020. According to official Chinese sources, these were mostly linked to the Huanan Seafood Wholesale Market, which also sold live animals. In May 2020, George Gao, the director of the CDC, said animal samples collected from the seafood market had tested negative for the virus, indicating that the market was the site of an early superspreading event, but it was not the site of the initial outbreak. Traces of the virus have been found in wastewater that was collected from Milan and Turin, Italy, on 18 December 2019.By December 2019, the spread of infection was almost entirely driven by human-to-human transmission. The number of coronavirus cases in Hubei gradually increased, reaching 60 by 20 December and at least 266 by 31 December. On 24 December, Wuhan Central Hospital sent a bronchoalveolar lavage fluid (BAL) sample from an unresolved clinical case to sequencing company Vision Medicals. On 27 and 28 December, Vision Medicals informed the Wuhan Central Hospital and the Chinese CDC of the results of the test, showing a new coronavirus. A pneumonia cluster of unknown cause was observed on 26 December and treated by the doctor Zhang Jixian in Hubei Provincial Hospital, who informed the Wuhan Jianghan CDC on 27 December. On 30 December, a test report addressed to Wuhan Central Hospital, from company CapitalBio Medlab, stated an erroneous positive result for SARS, causing a group of doctors at Wuhan Central Hospital to alert their colleagues and relevant hospital authorities of the result. That evening, the Wuhan Municipal Health Commission issued a notice to various medical institutions on \"the treatment of pneumonia of unknown cause\". Eight of these doctors, including Li Wenliang (punished on 3 January), were later admonished by the police for spreading false rumours, and another, Ai Fen, was reprimanded by her superiors for raising the alarm.The Wuhan Municipal Health Commission made the first public announcement of a pneumonia outbreak of unknown cause on 31 December, confirming 27 cases—enough to trigger an investigation.During the early stages of the outbreak, the number of cases doubled approximately every seven and a half days. In early and mid-January 2020, the virus spread to other Chinese provinces, helped by the Chinese New Year migration and Wuhan being a transport hub and major rail interchange. On 20 January, China reported nearly 140 new cases in one day, including two people in Beijing and one in Shenzhen. Later official data shows 6,174 people had already developed symptoms by then, and more may have been infected. A report in The Lancet on 24 January indicated human transmission, strongly recommended personal protective equipment for health workers, and said testing for the virus was essential due to its \"pandemic potential\". On 30 January, the WHO declared the coronavirus a Public Health Emergency of International Concern. By this time, the outbreak spread by a factor of 100 to 200 times.On 31 January 2020, Italy had its first confirmed cases, two tourists from China. As of 13 March 2020, the WHO considered Europe the active centre of the pandemic. On 19 March 2020, Italy overtook China as the country with the most deaths. By 26 March, the United States had overtaken China and Italy with the highest number of confirmed cases in the world. Research on coronavirus genomes indicates the majority of COVID-19 cases in New York came from European travellers, rather than directly from China or any other Asian country. Retesting of prior samples found a person in France who had the virus on 27 December 2019 and a person in the United States who died from the disease on 6 February 2020.On 11 June 2020, after 55 days without a locally transmitted case, Beijing reported the first COVID-19 case, followed by two more cases on 12 June. By 15 June 79 cases were officially confirmed. Most of these people went to Xinfadi Wholesale Market.RT-PCR testing of untreated wastewater samples from Brazil and Italy have suggested detection of SARS-CoV-2 as early as November and December 2019, respectively, but the methods of such sewage studies have not been optimised, many have not been peer reviewed, details are often missing, and there is a risk of false positives due to contamination or if only one gene target is detected. A September 2020 review journal article said, \"The possibility that the COVID-19 infection had already spread to Europe at the end of last year is now indicated by abundant, even if partially circumstantial, evidence\", including pneumonia case numbers and radiology in France and Italy in November and December.\\n\\n\\n== Misinformation ==\\n\\nAfter the initial outbreak of COVID-19, misinformation and disinformation regarding the origin, scale, prevention, treatment, and other aspects of the disease rapidly spread online.In September 2020, the U.S. CDC published preliminary estimates of the risk of death by age groups in the United States, but those estimates were widely misreported and misunderstood.\\n\\n\\n== Other animals ==\\nHumans appear to be capable of spreading the virus to some other animals, a type of disease transmission referred to as zooanthroponosis. \\nSome pets, especially Cats and Ferrets, can catch this virus from infected humans. Symptoms in cats include respiratory (such as a cough) and digestive symptoms. Cats can spread the virus to other cats, and may be able to spread the virus to humans, but cat-to-human transmission of SARS-CoV-2 has not been proven. Compared to cats, Dogs are less susceptible to this infection. Behaviors which increase the risk of transmission include kissing, licking, and petting the animal.The virus does not appear to be able to infect pigs, ducks, or Chickens at all. Mice, Rats, and Rabbits, if they can be infected at all, are unlikely to be involved in spreading the virus.Tigers and lions in zoos have become infected as a result of contact with infected humans. As expected, Monkeys and great ape species such as Orangutans can also be infected with the COVID-19 virus.Minks, which are in the same family as ferrets, have been infected. Minks may be asymptomatic, and can also spread the virus to humans. Multiple countries have identified infected animals in Mink farms. Denmark, a major producer of mink pelts, ordered the slaughter of all minks over fears of viral mutations. A vaccine for mink and other animals is being researched.\\n\\n\\n== Research ==\\n\\nInternational research on vaccines and medicines in COVID-19 is underway by government organisations, academic groups, and industry researchers. The CDC has classified it to require a BSL3 grade laboratory. There has been a great deal of COVID-19 research, involving accelerated research processes and publishing shortcuts to meet the global demand.As of December 2020, hundreds of clinical trials have been undertaken, with research happening on every continent except Antarctica. As of November 2020, more than 200 possible treatments had been studied in humans so far.\\n\\n\\n=== Transmission and prevention research ===\\n\\nModelling research has been conducted with several objectives, including predictions of the dynamics of transmission, diagnosis and prognosis of infection, estimation of the impact of interventions, or allocation of resources. Modelling studies are mostly based on epidemiological models, estimating the number of infected people over time under given conditions. Several other types of models have been developed and used during the COVID-19 including computational fluid dynamics models to study the flow physics of COVID-19, retrofits of crowd movement models to study occupant exposure, mobility-data based models to investigate transmission, or the use of macroeconomic models to assess the economic impact of the pandemic. Further, conceptual frameworks from crisis management research have been applied to better understand the effects of COVID-19 on organizations worldwide.\\n\\n\\n=== Treatment-related research ===\\n\\nRepurposed antiviral drugs make up most of the research into COVID-19 treatments. Other candidates in trials include vasodilators, corticosteroids, immune therapies, lipoic acid, bevacizumab, and recombinant angiotensin-converting enzyme 2.In March 2020, the World Health Organization (WHO) initiated the Solidarity trial to assess the treatment effects of some promising drugs:  an experimental drug called remdesivir; anti-malarial drugs chloroquine and hydroxychloroquine; two anti-HIV drugs, lopinavir/ritonavir; and interferon-beta. More than 300 active clinical trials were underway as of April 2020.Research on the antimalarial drugs hydroxychloroquine and chloroquine showed that they were ineffective at best, and that they may reduce the antiviral activity of remdesivir.  By May 2020, France, Italy, and Belgium had banned the use of hydroxychloroquine as a COVID-19 treatment.In June, initial results from the randomised RECOVERY Trial in the United Kingdom showed that dexamethasone reduced mortality by one third for people who are critically ill on ventilators and one fifth for those receiving supplemental oxygen. Because this is a well-tested and widely available treatment, it was welcomed by the WHO, which is in the process of updating treatment guidelines to include dexamethasone and other steroids. Based on those preliminary results, dexamethasone treatment has been recommended by the NIH for patients with COVID-19 who are mechanically ventilated or who require supplemental oxygen but not in patients with COVID-19 who do not require supplemental oxygen.In September 2020, the WHO released updated guidance on using corticosteroids for COVID-19. The WHO recommends systemic corticosteroids rather than no systemic corticosteroids for the treatment of people with severe and critical COVID-19 (strong recommendation, based on moderate certainty evidence). The WHO suggests not to use corticosteroids in the treatment of people with non-severe COVID-19 (conditional recommendation, based on low certainty evidence). The updated guidance was based on a meta-analysis of clinical trials of critically ill COVID-19 patients.In September 2020, the European Medicines Agency (EMA) endorsed the use of dexamethasone in adults and adolescents from twelve years of age and weighing at least 40 kilograms (88 lb) who require supplemental oxygen therapy. Dexamethasone can be taken by mouth or given as an injection or infusion (drip) into a vein.In November 2020, the U.S. Food and Drug Administration (FDA) issued an emergency use authorization for the investigational monoclonal antibody therapy bamlanivimab for the treatment of mild-to-moderate COVID-19. Bamlanivimab is authorized for people with positive results of direct SARS-CoV-2 viral testing who are twelve years of age and older weighing at least 40 kilograms (88 lb), and who are at high risk for progressing to severe COVID-19 or hospitalization. This includes those who are 65 years of age or older, or who have chronic medical conditions.\\n\\n\\n==== Cytokine storm ====\\n\\nA cytokine storm can be a complication in the later stages of severe COVID-19. A cytokine storm is a potentially deadly immune reaction where a large amount of pro-inflammatory cytokines and chemokines are released too quickly; A cytokine storm can lead to ARDS and multiple organ failure. Data collected from Jin Yin-tan Hospital in Wuhan, China indicates that patients who had more severe responses to COVID-19 had greater amounts of pro-inflammatory cytokines and chemokines in their system than patients who had milder responses; These high levels of pro-inflammatory cytokines and chemokines indicate presence of a cytokine storm.Tocilizumab has been included in treatment guidelines by China\\'s National Health Commission after a small study was completed. It is undergoing a Phase II non-randomised trial at the national level in Italy after showing positive results in people with severe disease. Combined with a serum ferritin blood test to identify a cytokine storm (also called cytokine storm syndrome, not to be confused with cytokine release syndrome), it is meant to counter such developments, which are thought to be the cause of death in some affected people. The interleukin-6 receptor antagonist was approved by the FDA to undergo a Phase III clinical trial assessing its effectiveness on COVID-19 based on retrospective case studies for the treatment of steroid-refractory cytokine release syndrome induced by a different cause, CAR T cell therapy, in 2017. To date, there is no randomised, controlled evidence that tocilizumab is an efficacious treatment for CRS. Prophylactic tocilizumab has been shown to increase serum IL-6 levels by saturating the IL-6R, driving IL-6 across the blood-brain barrier, and exacerbating neurotoxicity while having no effect on the incidence of CRS.Lenzilumab, an anti-GM-CSF monoclonal antibody, is protective in murine models for CAR T cell-induced CRS and neurotoxicity and is a viable therapeutic option due to the observed increase of pathogenic GM-CSF secreting T-cells in hospitalised patients with COVID-19.\\n\\n\\n==== Passive antibodies ====\\n\\nTransferring purified and concentrated antibodies produced by the immune systems of those who have recovered from COVID-19 to people who need them is being investigated as a non-vaccine method of passive immunisation. Viral neutralization is the anticipated mechanism of action by which passive antibody therapy can mediate defence against SARS-CoV-2. The spike protein of SARS-CoV-2 is the primary target for neutralizing antibodies. As of 8 August 2020, eight neutralizing antibodies targeting the spike protein of SARS-CoV-2 have entered clinical studies. It has been proposed that selection of broad-neutralizing antibodies against SARS-CoV-2 and SARS-CoV might be useful for treating not only COVID-19 but also future SARS-related CoV infections. Other mechanisms, however, such as antibody-dependent cellular cytotoxicity and/or phagocytosis, may be possible. Other forms of passive antibody therapy, for example, using manufactured monoclonal antibodies, are in development.The use of passive antibodies to treat people with active COVID-19 is also being studied. This involves the production of convalescent serum, which consists of the liquid portion of the blood from people who recovered from the infection and contains antibodies specific to this virus, which is then administered to current patients. This strategy was tried for SARS with inconclusive results. A Cochrane review in October 2020 found insufficient evidence to recommend for or against this treatment in COVID-19, due in large part to the methodology of the clinical trials conducted so far. Specifically, there are no trials yet conducted for which the safety of convalescent serum administration to people with COVID-19 can be determined, and the differing outcomes measured in different studies limits their use in determining efficacy.\\n\\n\\n== Effect on other diseases and the pharmacy trade ==\\nThere was a report on 3 March 2021 that social distancing and common wearing of surgical masks and similar as a common precaution against Covid-19 caused such a drop in the spread rate of the common cold and flu that in Britain the sale of cough liquids and throat lozenges and decongestants in 30 November 2020 to 21 February 2021 was about a half of the sale a year earlier, and that Public Health England reported no cases of flu in year 2021 to date, and that there was an 89% rise in sales of Vitamin D to try to boost immunity.\\n\\n\\n== See also ==\\n\\nCoronavirus diseases, a group of closely related syndromes\\nDisease X, a WHO term\\n\\n\\n== Notes ==\\n\\n\\n== References ==\\n\\n\\n== Further reading ==\\n\\n\\n== External links ==\\n\"COVAX: Ensuring global equitable access to COVID-19 vaccines\". GAVI. 2020. Archived from the original on 25 September 2020. Retrieved 28 August 2020.\\n\\n\\n=== Health agencies ===\\nCoronavirus disease (COVID-19) FACTS by the World Health Organization (WHO)\\nCoronavirus 2019 (COVID-19) by the US Centers for Disease Control and Prevention (CDC)\\nCoronavirus (COVID-19) by the UK National Health Service (NHS)\\n\\n\\n=== Directories ===\\nCoronavirus Resource Center at the Center for Inquiry\\nCOVID-19 at Curlie\\nCOVID-19 Resource Directory on OpenMD\\n\\n\\n=== Medical journals ===\\nCoronavirus Disease 2019 (COVID-19) by JAMA\\nBMJ\\'s Coronavirus (covid-19) Hub by the BMJ\\nNovel Coronavirus Information Center by Elsevier\\nCOVID-19 Resource Centre by The Lancet\\nSARS-CoV-2 and COVID-19 by Nature\\nCoronavirus (Covid-19) by The New England Journal of Medicine\\nCovid-19: Novel Coronavirus by Wiley Publishing\\n\\n\\n=== Treatment guidelines ===\\n\"JHMI Clinical Recommendations for Available Pharmacologic Therapies for COVID-19\" (PDF). The Johns Hopkins University.\\n\"Bouncing Back From COVID-19: Your Guide to Restoring Movement\" (PDF). The Johns Hopkins School of Medicine.\\n\"Guidelines on the Treatment and Management of Patients with COVID-19\" (PDF). Infectious Diseases Society of America. Lay summary.\\n\"Coronavirus Disease 2019 (COVID-19) Treatment Guidelines\" (PDF). National Institutes of Health. Lay summary.\\nWorld Health Organization (2020). Therapeutics and COVID-19: living guideline, 17 December 2020 (Report). hdl:10665/337876. WHO/2019-nCoV/therapeutics/2020.1. Lay summary.\\nNHS England and NHS Improvement. National Guidance for post-COVID syndrome assessment clinics (PDF) (Report). Lay summary.',\n",
              " 'Long COVID, also known as Post-Acute Sequelae of SARS-CoV-2 infection (PASC), chronic COVID syndrome (CCS) and long-haul COVID, is the condition characterized by long-term sequelae—persisting after the typical convalescence period—of coronavirus disease 2019 (COVID-19). Persistent symptoms include fatigue, headaches, shortness of breath, anosmia (loss of smell), muscle weakness, low fever and cognitive dysfunction (brain fog).Sufferers of long COVID are sometimes called long haulers.  The exact number of people who experience long-term symptoms is unknown and varies according to the population being studied, the definition used, and the time period used in the study.  However, some studies suggest that approximately 10% of people who tested positive for SARS-CoV-2 experienced one or more symptoms for longer than 12 weeks.While studies into various aspects of long COVID are underway, as of January 2021, it is too early to draw conclusions on the mechanism. Health systems in some countries or jurisdictions have been mobilized to deal with this group of patients by creating specialized clinics and providing advice.\\nAnyone infected with SARS-CoV-2 can suffer from long COVID after the infection is considered to have ended, including young, healthy people, and even if the initial disease at its peak only caused minor symptoms.  While long COVID is observed after infection, it has not been reported after vaccination, with over 100,000 participants included in vaccine trials as of December 2020.\\n\\n\\n== Terminology and definitions ==\\nLong COVID is a patient-created term which was reportedly first used in May 2020 as a hashtag on Twitter by Elisa Perego, an archaeologist at University College London.Sufferers are often referred to as long-haulers.Long COVID has no single, strict definition.  It is normal and expected that people who experience severe symptoms or complications such as post-intensive care syndrome or secondary infections will naturally take longer to recover than people who had mild illness and no such complications.  This natural variation can make it difficult to determine whether a specific individual\\'s set of ongoing symptoms represent a fundamentally normal, if long, convalescence, or if long COVID is present.  One rule of thumb is that long COVID represents symptoms that have been present for longer than two months.\\n\\n\\n=== British definition ===\\nThe British National Institute for Health and Care Excellence (NICE) divides COVID-19 into three clinical definitions:\\n\\nacute COVID-19 for signs and symptoms during the first 4 weeks after infection with severe acute respiratory syndrome coronavirus 2 (SARS-CoV-2),\\nnew or ongoing symptoms 4 weeks or more after the start of acute COVID-19, which is divided into:\\nongoing symptomatic COVID-19 for effects from 4 to 12 weeks after onset, and\\npost-COVID-19 syndrome for effects that persist 12 or more weeks after onset.NICE describes the term long COVID, which it uses \"in addition to the clinical case definitions\", as \"commonly used to describe signs and symptoms that continue or develop after acute COVID-19. It includes both ongoing symptomatic COVID-19 (from 4 to 12 weeks) and post-COVID-19 syndrome (12 weeks or more)\".NICE defines post-COVID-19 syndrome as \"Signs and symptoms that develop during or after an infection consistent with COVID‑19, continue for more than 12 weeks and are not explained by an alternative diagnosis. It usually presents with clusters of symptoms, often overlapping, which can fluctuate and change over time and can affect any system in the body. Post‑COVID‑19 syndrome may be considered before 12 weeks while the possibility of an alternative underlying disease is also being assessed\".\\n\\n\\n=== U.S. definition ===\\nIn February 2021, the National Institutes of Health said symptoms of Long COVID can include fatigue, shortness of breath, \"brain fog\", sleep disorders, intermittant fevers, gastrointestinal symptoms, anxiety, and depression. Symptoms can persist for months and can range from mild to incapacitating, with new symptoms arising well after the time of infection. NIH Director Francis Collins said the condition can be collectively referred to as Post-Acute Sequelae of SARS-CoV-2 infection (PASC).\\n\\n\\n== Incidence ==\\nSome reports of long-term illness after infection appeared early during the COVID-19 pandemic, including in people who had a mild or moderate initial infection as well as those who were admitted to hospital with more severe infection.As of January 2021, the precise incidence was unknown.  The incidence declines over time, as many people slowly recover.  Some early studies suggested that between 20% and 33% of people with COVID-19 experienced symptoms lasting longer than a month.  A telephone survey in the US in the first half of 2020 showed that about 35% of people who had tested positive for SARS-CoV-2 experienced a range of symptoms that lasted longer than three weeks.  As of December 2020, the Office of National Statistics in the UK estimated that, of all people with a positive test for SARS-CoV-2, about 21% experienced symptoms for longer than five weeks, and about 10% experienced symptoms for longer than 12 weeks.Long COVID also occurs in children. There seems to be a female predominance among children.Although anyone who gets infected can develop long COVID, people who become so sick that they require hospitalization take longer to recover.  A majority (up to 80%) of those who were admitted to hospital with severe disease experience long-term problems including fatigue and shortness of breath (dyspnoea). Patients with severe initial infection, particularly those who required mechanical ventilation to help breathing, are also likely to suffer from post-intensive care syndrome following recovery. A study of patients who had been hospitalised in Wuhan found that the majority still had at least one symptom after six months. Patients who had been more severely ill  still showed severe  incapacity in lung function. Among the 1733 patients who had been discharged from hospital and followed up about six months later, the most common symptoms were fatigue or muscle weakness (63%), sleep difficulties (26%), and anxiety or depression (23%).In January 2021, a study in the UK reported that 30% of recovered patients were readmitted to hospital within 140 days, and 12% of the total died. This points to a recurrence of previously unidentified complications including significantly elevated diabetes; the mode of insulin failure was at that point unknown.\\n\\n\\n== Cause ==\\nIt is currently unknown why most people recover fully within two to three weeks and others experience symptoms for weeks or months longer.  An early analysis by the United Kingdom\\'s National Institute for Health Research suggests that ongoing long COVID symptoms may be due to four syndromes:\\npermanent damage to the lungs and heart,\\npost-intensive care syndrome,\\nPost-viral fatigue, also known as Myalgic Encephalomyelitis / Chronic Fatigue Syndrome (ME/CFS), and\\ncontinuing COVID-19 symptoms.Other situations that might cause new and ongoing symptoms include:\\n\\nthe virus being present for a longer time than usual, due to an ineffective immune response;\\nreinfection (e.g., with another strain of the virus);\\ndamage caused by inflammation and a strong immune response to the infection;\\nphysical deconditioning due to a lack of exercise while ill; and\\npost-traumatic stress or other mental sequelae, especially in people who had previously experienced anxiety, depression, insomnia, or other mental health difficulties.Long COVID is similar to  post-Ebola syndrome and the post-infection syndromes seen in chikungunya and the infections that appear to trigger ME/CFS, and the pathophysiology of long COVID may be similar to these other conditions.\\n\\n\\n== Risk factors ==\\nAccording to a King\\'s College London study initially posted on 21 October 2020 risk factors for long COVID may include:\\nAge – particularly those aged over 50\\nExcess weight\\nAsthma\\nReporting more than five symptoms (e.g. more than cough, fatigue, headache, diarrhoea, loss of sense of smell) in the first week of COVID-19 infection; five is the median number reportedWomen are less likely to develop severe acute COVID but more likely to develop long COVID than men.  Some research suggests this is due primarily to hormonal differences, while other research points to other factors, including chromosomal genetics, sex-dependent differences in immune system behavior, and non-biological factors may be relevant.\\n\\n\\n== In children ==\\nCommon symptoms persisting beyond the usual recovery period in children were fatigue, dyspnoea, heart palpitations or chest pain. A study in Italy, which analyzed 129 children under the age of 18, examined health data obtained via a questionnaire between September 2020 and January 1, 2021. 53% of the group experienced COVID-19 symptoms more than 120 days after their diagnosis. Symptoms included chest tightness and pain, nasal congestion, tiredness, difficulty concentrating and muscle pain. A small amount (7%) also reported joint pain. A case report of 5 children in Sweden also reported symptoms (fatigue, heart palpitations, dyspnoea, headaches, muscle weakness and difficulty concentration) persisting for 6–8 months after diagnosis.\\n\\n\\n== Health system responses ==\\n\\n\\n=== United States ===\\nDr. Anthony S. Fauci has described long-term Covid-19 as “...a phenomenon that is really quite real and quite extensive,”On February 23, 2021, National Institutes of Health Director Francis Collins announced a major initiative to identify the causes and ultimately the means of prevention and treatment of people who are suffering from Long COVID. Part of this initiative includes the creation of the COVID-19 Project, which will gather data on neurological symptoms associated with PASC.\\n\\n\\n=== Australia ===\\nIn October 2020, a guide published by the Royal Australian College of General Practitioners (RACGP) says that ongoing post-COVID-19 infection symptoms such as fatigue, shortness of breath and chest pain will require management by GPs, in addition to the more severe conditions already documented.\\n\\n\\n=== United Kingdom ===\\nIn Britain, the National Health Service set up specialist clinics for the treatment of long COVID. The four Chief Medical Officers of the UK were warned of academic concern over long COVID on 21 September 2020 in a letter written by Trisha Greenhalgh published in The BMJ signed by academics including David Hunter, Martin McKee, Susan Michie, Melinda Mills, Christina Pagel, Stephen Reicher, Gabriel Scally, Devi Sridhar, Charles Tannock, Yee Whye Teh, and Harry Burns, former CMO for Scotland. In October 2020, NHS England\\'s head Simon Stevens announced the NHS had committed £10 million to be spent that year on setting up long COVID clinics to assess patients\\' physical, cognitive, and psychological conditions and to provide specialist treatment. Future clinical guidelines were announced, with further research on 10,000 patients planned and a designated task-force to be set up, along with an online rehabilitation service – \"Your Covid Recovery\". The clinics include a variety of medical professionals and therapists, with the aim of providing \"joined-up care for physical and mental health”.The National Institute for Health Research has allocated funding for research into the mechanisms behind symptoms of Long COVID.In December 2020, University College London Hospitals (UCLH) opened a second Long Covid clinic at the National Hospital for Neurology and Neurosurgery for patients with post-Covid neurological issues. The first clinic had opened in May, primarily focused on respiratory problems, but both clinics refer patients to other specialists where needed, including cardiologists, physiotherapists and psychiatrists.On 18 December 2020, the National Institute for Health and Care Excellence (NICE), the Royal College of General Practitioners (RCGP) and the Scottish Intercollegiate Guidelines Network (SIGN) published a guide to the management of Long COVID.\\n\\n\\n=== South Africa ===\\nIn October 2020, the DATCOV Hospital Surveillance Department of the National Institute for Communicable Diseases (NICD) looked into a partnership with the International Severe Acute Respiratory and emerging Infection Consortium (ISARIC) in order to conduct clinical research into the impact PASC may have within the South African Context. As of the 30th of January 2021, the project has yet to receive ethical approval for the commencement of data collection. Ethics approval was granted on the 3rd of February 2021 and formal data collection began on the 8th of February 2021.\\n\\n\\n== Public response ==\\nSome people experiencing long COVID have formed groups on social media sites. There is an active international long COVID patient advocacy movement which includes research led by patients themselves.In many of these groups, individuals express frustration and their sense that their problems have been dismissed by medical professionals.\\n\\n\\n== List of symptoms ==\\nSymptoms reported by people with long COVID include:\\n\\n\\n== See also ==\\nPost viral cerebellar ataxia – clumsy movement appearing a few weeks after a viral infection\\nPost-Ebola virus syndrome – symptoms that persist after recovering from Ebola\\nPost-polio syndrome – delayed reaction appearing years after acute polio infection resolves\\n\\n\\n== References ==\\n\\n\\n== Further reading ==\\n\\n\\n== External links ==\\n Long Covid on YouTube (21 October 2020). – UK Government film about long COVID.\\n\"About\". Long COVID Support. – International support group.\\n\"LongCovidSOS\". – Advocacy and awareness group in the UK.\\n\"PHOSP\". Home. University of Leicester. The Post-hospitalisation COVID-19 study (PHOSP-COVID) is a consortium of leading researchers and clinicians from across the UK working together to understand and improve long-term health outcomes for patients who have been in hospital with confirmed or suspected COVID-19.']"
            ]
          },
          "metadata": {
            "tags": []
          },
          "execution_count": 38
        }
      ]
    },
    {
      "cell_type": "markdown",
      "metadata": {
        "id": "OTE6EjOF_TBx"
      },
      "source": [
        "### Complete this section"
      ]
    },
    {
      "cell_type": "markdown",
      "metadata": {
        "id": "_r3bS9yT2Z2k"
      },
      "source": [
        "\r\n",
        "Please fill in the following functions with code body: \r\n",
        "\r\n",
        "Pass both the (list of) documents and the number of (top) words to focus into the function.\r\n",
        "\r\n",
        "In the function, you may:\r\n",
        "  \r\n",
        "*   process the documents (e.g. tokenization) - provided in the sample code above. **Please add two additional stop words: covid19 and covid.**\r\n",
        "*   calculate the tf/tfidf values for each unique words ([Counter](https://docs.python.org/3/library/collections.html#collections.Counter) can be a one of the good choices)\r\n",
        "*   sorting the words based on the tf/tfidf values (Using Python built-in function [sorted](https://docs.python.org/3/howto/sorting.html) might be helpful for sorting)\r\n",
        "*   print out the top n tf words tfidf words from the sorted list in parallel for comparison\r\n",
        "\r\n",
        "In your final submission, the print log should be kept in the cell execution output field. Note that you can write extra functions if you need, but do remember to include the functions in this section for final submission.\r\n",
        "\r\n",
        "  \r\n",
        "  \r\n",
        "  "
      ]
    },
    {
      "cell_type": "code",
      "metadata": {
        "id": "w7urSTB005hb"
      },
      "source": [
        "\r\n",
        "\r\n",
        "def get_tf_and_idf(corpus, top_n):\r\n",
        "  ## Write your code body here\r\n",
        "\r\n",
        "  # process the document (** add covid19 and covid as two additional stop words)\r\n",
        "\r\n",
        "  # calculate the tf/tfidf values for each unique words\r\n",
        "\r\n",
        "  # sorting the words based on the tf/tfidf valuse\r\n",
        "\r\n",
        "  # print out the top n tf words and top n tfidf words from the sorted list in parallel for comparision\r\n",
        "  \r\n",
        "   \r\n",
        "# Call the funtion, the execution print out log should be kept for submission\r\n",
        "get_tf_and_idf(corpus, 10)"
      ],
      "execution_count": null,
      "outputs": []
    }
  ]
}