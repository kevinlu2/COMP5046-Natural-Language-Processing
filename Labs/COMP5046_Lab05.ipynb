{
  "nbformat": 4,
  "nbformat_minor": 0,
  "metadata": {
    "colab": {
      "name": "Copy of COMP5046_Lab05.ipynb",
      "provenance": [],
      "collapsed_sections": [],
      "toc_visible": true
    },
    "kernelspec": {
      "name": "python3",
      "display_name": "Python 3"
    },
    "accelerator": "GPU"
  },
  "cells": [
    {
      "cell_type": "markdown",
      "metadata": {
        "id": "2JX8CSelGdJf"
      },
      "source": [
        "# Lab 05"
      ]
    },
    {
      "cell_type": "markdown",
      "metadata": {
        "id": "be_7UFUxGfke"
      },
      "source": [
        "# Preprocessing\n",
        "\n",
        "Text preprocessing is an important step for natural language processing (NLP) tasks. It transforms text into a more digestible form so that machine learning algorithms can perform better. It is important to understand what each preprocessing method does in order to help decide if it is appropriate for your particular task."
      ]
    },
    {
      "cell_type": "markdown",
      "metadata": {
        "id": "ee0J8xZ9Kxwk"
      },
      "source": [
        "## Text Wrangling"
      ]
    },
    {
      "cell_type": "markdown",
      "metadata": {
        "id": "18BJU1JqYnSD"
      },
      "source": [
        "Text wrangling is converting/gathering/extracting formatted text from raw data. "
      ]
    },
    {
      "cell_type": "markdown",
      "metadata": {
        "id": "tWOVJtY-L1Sm"
      },
      "source": [
        "For example, **HTML** does not include only text. Even when you extract only the text from **HTML**, it is not all meaningful (e.g. advertisements).\n",
        "\n",
        "Have a look at the [news article](https://www.smh.com.au/national/nsw/macquarie-uni-suspends-teaching-for-10-days-to-move-learning-online-20200317-p54avs.html). We might be only interested in getting the headline and body of the article.\n",
        "\n",
        "The following code removes some irrelevant tags (i.e. script, style, link, etc.) and displays the remaining tags. We will mainly utilize two packages: \n",
        "\n",
        "\n",
        "*   `urllib`: is a package that collects several modules for working with URLs. We will use `urllib.request` for opening and reading URLs (See details at [urllib.request](https://docs.python.org/3/library/urllib.request.html#module-urllib.request)). \n",
        "*   `BeautifulSoup`: Beautiful Soup is a library that makes it easy to scrape information from web pages. It sits atop an HTML or XML parser, providing Pythonic idioms for iterating, searching, and modifying the parse tree (See details at [BeautifulSoup](https://pypi.org/project/beautifulsoup4/)).\n",
        "\n",
        "\n",
        "    \n"
      ]
    },
    {
      "cell_type": "code",
      "metadata": {
        "id": "4_FeckidL1k0",
        "colab": {
          "base_uri": "https://localhost:8080/"
        },
        "outputId": "6ce54ccf-1937-49aa-abf9-e59ced1742bc"
      },
      "source": [
        "import urllib \n",
        "from bs4 import BeautifulSoup\n",
        "\n",
        "url = \"https://www.smh.com.au/national/nsw/macquarie-uni-suspends-teaching-for-10-days-to-move-learning-online-20200317-p54avs.html\"\n",
        "html = urllib.request.urlopen(url).read()\n",
        "soup = BeautifulSoup(html)\n",
        "\n",
        "# remove irrelevant tags (script, style, link, etc.)\n",
        "for script in soup([\"script\", \"style\", \"link\", \"head\", \"noscript\"]):\n",
        "    script.extract()    # rip it out, i.e remove the tag from the tree\n",
        "\n",
        "# The get_text() returns all the human-readable text beneath the tag as string\n",
        "text = soup.get_text()\n",
        "#print(text) # you can uncomment to have a look the returned text\n",
        "\n",
        "# The prettify() method will turn a Beautiful Soup parse tree into a nicely formatted Unicode string, with a separate line for each tag and each string\n",
        "print(soup.prettify())"
      ],
      "execution_count": 1,
      "outputs": [
        {
          "output_type": "stream",
          "text": [
            "<!DOCTYPE html>\n",
            "<html lang=\"en\">\n",
            " <body>\n",
            "  <div id=\"app\">\n",
            "   <div aria-atomic=\"true\" aria-live=\"off\" class=\"_2O3rv\" id=\"page_announcer\" tabindex=\"-1\">\n",
            "    University of Sydney to move fully online while Macquarie cancels classes\n",
            "   </div>\n",
            "   <div>\n",
            "   </div>\n",
            "   <div class=\"_2IxwW\" role=\"\">\n",
            "    <svg aria-hidden=\"true\" class=\"QMY9O _13Ea4\" focusable=\"false\" height=\"1em\" width=\"1em\">\n",
            "     <use xlink:href=\"#icon-exclamation\">\n",
            "     </use>\n",
            "    </svg>\n",
            "    <p>\n",
            "     We’re sorry, this service is currently unavailable. Please try again later.\n",
            "    </p>\n",
            "    <button class=\"YSssh\">\n",
            "     Dismiss\n",
            "    </button>\n",
            "   </div>\n",
            "   <nav class=\"RbLp5\">\n",
            "    <a href=\"#sections\">\n",
            "     Skip to sections navigation\n",
            "    </a>\n",
            "    <a href=\"#content\">\n",
            "     Skip to content\n",
            "    </a>\n",
            "    <a href=\"#footer\">\n",
            "     Skip to footer\n",
            "    </a>\n",
            "   </nav>\n",
            "   <header class=\"_21UZG noPrint\">\n",
            "    <div class=\"_2L98J\">\n",
            "     <ul>\n",
            "      <li class=\"PJUwX\">\n",
            "       <button aria-controls=\"navigation\" aria-expanded=\"false\" class=\"_1k8VI\">\n",
            "        Our network\n",
            "       </button>\n",
            "      </li>\n",
            "      <li class=\"_3CYE0\">\n",
            "      </li>\n",
            "     </ul>\n",
            "    </div>\n",
            "    <div class=\"h-Jxc\">\n",
            "     <div class=\"_1hN2k\">\n",
            "      <button aria-controls=\"navigation\" aria-expanded=\"false\" class=\"_2g2-4 _2FxXH\" id=\"sections\">\n",
            "       <span class=\"_2Wsmd\">\n",
            "        <em>\n",
            "         Open\n",
            "        </em>\n",
            "       </span>\n",
            "       <span class=\"yHQ5k\">\n",
            "        Menu\n",
            "       </span>\n",
            "      </button>\n",
            "     </div>\n",
            "     <div class=\"_2FAuv\">\n",
            "      <div class=\"_3uPYr _2qnYw\">\n",
            "       <a class=\"_2ABN- YClUs\" href=\"/\">\n",
            "        <h2>\n",
            "         The Sydney Morning Herald\n",
            "        </h2>\n",
            "       </a>\n",
            "      </div>\n",
            "     </div>\n",
            "     <div class=\"gLolC _2fVGr\">\n",
            "      <a class=\"_1GI7o WvV_s\" href=\"https://subscribe.smh.com.au/?promote_channel=HI_HL_GNL\">\n",
            "       Subscribe\n",
            "      </a>\n",
            "     </div>\n",
            "    </div>\n",
            "   </header>\n",
            "   <div class=\"_3ic7p printOnly\">\n",
            "    <div class=\"_3uPYr _2qnYw\">\n",
            "     <a class=\"_2ABN- YClUs\" href=\"/\">\n",
            "      <h2>\n",
            "       The Sydney Morning Herald\n",
            "      </h2>\n",
            "     </a>\n",
            "    </div>\n",
            "   </div>\n",
            "   <div aria-hidden=\"true\" class=\"_2yAUQ\" id=\"navigation\">\n",
            "    <button class=\"_2dmHA\">\n",
            "     close\n",
            "    </button>\n",
            "    <form class=\"_3b67L\">\n",
            "     <label for=\"site-search\">\n",
            "      Search Site\n",
            "     </label>\n",
            "     <input class=\"_2q19s\" id=\"site-search\" name=\"query\" placeholder=\"Search\" type=\"search\" value=\"\"/>\n",
            "     <input class=\"JaNbC\" type=\"submit\" value=\"Search\"/>\n",
            "    </form>\n",
            "    <ul class=\"_2fq7t\" role=\"tablist\">\n",
            "     <li class=\"rGXdz\" role=\"presentation\">\n",
            "      <a aria-controls=\"sections\" aria-selected=\"true\" href=\"#sections\" id=\"navSections\" role=\"tab\" tabindex=\"0\">\n",
            "       Sections\n",
            "      </a>\n",
            "     </li>\n",
            "     <li class=\"\" role=\"presentation\">\n",
            "      <a aria-selected=\"false\" href=\"#network\" id=\"navNetwork\" role=\"tab\" tabindex=\"-1\">\n",
            "       Network\n",
            "      </a>\n",
            "     </li>\n",
            "    </ul>\n",
            "    <div class=\"RTABy\">\n",
            "     <nav aria-hidden=\"false\" aria-labelledby=\"navSections\" class=\"rGXdz _2PKwb\" role=\"tabpanel\">\n",
            "      <div>\n",
            "       <ul role=\"tree\">\n",
            "        <li class=\"\" role=\"treeitem\">\n",
            "         <a href=\"/\">\n",
            "          Home\n",
            "         </a>\n",
            "        </li>\n",
            "        <li class=\"\" role=\"treeitem\">\n",
            "         <a href=\"/sydney-news\" id=\"section-sydney\">\n",
            "          Sydney\n",
            "         </a>\n",
            "        </li>\n",
            "        <li class=\"\" role=\"treeitem\">\n",
            "         <a href=\"/national/nsw\" id=\"section-nsw\">\n",
            "          NSW\n",
            "         </a>\n",
            "        </li>\n",
            "        <li aria-expanded=\"false\" class=\"_3kQ2X\" role=\"treeitem\">\n",
            "         <a href=\"/politics\" id=\"section-politics\">\n",
            "          Politics\n",
            "         </a>\n",
            "         <button aria-controls=\"subsection-politics\" aria-expanded=\"false\" class=\"\">\n",
            "          <span class=\"_1KXcO\">\n",
            "           Show subsections\n",
            "          </span>\n",
            "          <span class=\"_35a30\">\n",
            "           <svg aria-hidden=\"true\" class=\"QMY9O\" focusable=\"false\" height=\"1em\" width=\"1em\">\n",
            "            <use xlink:href=\"#icon-arrowsdown\">\n",
            "            </use>\n",
            "           </svg>\n",
            "          </span>\n",
            "         </button>\n",
            "         <ul aria-hidden=\"true\" aria-labelledby=\"section-politics\" class=\"_3Nydp\" id=\"subsection-politics\" role=\"group\">\n",
            "          <li class=\"\" role=\"treeitem\">\n",
            "           <a href=\"/politics/federal\" id=\"section-politics-federal\">\n",
            "            Federal\n",
            "           </a>\n",
            "          </li>\n",
            "          <li class=\"\" role=\"treeitem\">\n",
            "           <a href=\"/politics/nsw\" id=\"section-politics-nsw\">\n",
            "            NSW\n",
            "           </a>\n",
            "          </li>\n",
            "          <li class=\"\" role=\"treeitem\">\n",
            "           <a href=\"/politics/victoria\" id=\"section-politics-victoria\">\n",
            "            Victoria\n",
            "           </a>\n",
            "          </li>\n",
            "          <li class=\"\" role=\"treeitem\">\n",
            "           <a href=\"/politics/queensland\" id=\"section-politics-queensland\">\n",
            "            Queensland\n",
            "           </a>\n",
            "          </li>\n",
            "          <li class=\"\" role=\"treeitem\">\n",
            "           <a href=\"/politics/western-australia\" id=\"section-politics-western-australia\">\n",
            "            Western Australia\n",
            "           </a>\n",
            "          </li>\n",
            "         </ul>\n",
            "        </li>\n",
            "        <li aria-expanded=\"false\" class=\"_3kQ2X\" role=\"treeitem\">\n",
            "         <a href=\"/business\" id=\"section-business\">\n",
            "          Business\n",
            "         </a>\n",
            "         <button aria-controls=\"subsection-business\" aria-expanded=\"false\" class=\"\">\n",
            "          <span class=\"_1KXcO\">\n",
            "           Show subsections\n",
            "          </span>\n",
            "          <span class=\"_35a30\">\n",
            "           <svg aria-hidden=\"true\" class=\"QMY9O\" focusable=\"false\" height=\"1em\" width=\"1em\">\n",
            "            <use xlink:href=\"#icon-arrowsdown\">\n",
            "            </use>\n",
            "           </svg>\n",
            "          </span>\n",
            "         </button>\n",
            "         <ul aria-hidden=\"true\" aria-labelledby=\"section-business\" class=\"_3Nydp\" id=\"subsection-business\" role=\"group\">\n",
            "          <li class=\"\" role=\"treeitem\">\n",
            "           <a href=\"/business/companies\" id=\"section-business-companies\">\n",
            "            Companies\n",
            "           </a>\n",
            "          </li>\n",
            "          <li class=\"\" role=\"treeitem\">\n",
            "           <a href=\"/business/markets\" id=\"section-business-markets\">\n",
            "            Markets\n",
            "           </a>\n",
            "          </li>\n",
            "          <li class=\"\" role=\"treeitem\">\n",
            "           <a href=\"/business/the-economy\" id=\"section-business-the-economy\">\n",
            "            The economy\n",
            "           </a>\n",
            "          </li>\n",
            "          <li class=\"\" role=\"treeitem\">\n",
            "           <a href=\"/business/banking-and-finance\" id=\"section-business-banking-&amp;-finance\">\n",
            "            Banking &amp; finance\n",
            "           </a>\n",
            "          </li>\n",
            "          <li class=\"\" role=\"treeitem\">\n",
            "           <a href=\"/topic/startups-629\" id=\"section-business-startups\">\n",
            "            Startups\n",
            "           </a>\n",
            "          </li>\n",
            "          <li class=\"\" role=\"treeitem\">\n",
            "           <a href=\"/business/consumer-affairs\" id=\"section-business-consumer-affairs\">\n",
            "            Consumer affairs\n",
            "           </a>\n",
            "          </li>\n",
            "          <li class=\"\" role=\"treeitem\">\n",
            "           <a href=\"/business/workplace\" id=\"section-business-workplace\">\n",
            "            Workplace\n",
            "           </a>\n",
            "          </li>\n",
            "         </ul>\n",
            "        </li>\n",
            "        <li aria-expanded=\"false\" class=\"_3kQ2X\" role=\"treeitem\">\n",
            "         <a href=\"/world\" id=\"section-world\">\n",
            "          World\n",
            "         </a>\n",
            "         <button aria-controls=\"subsection-world\" aria-expanded=\"false\" class=\"\">\n",
            "          <span class=\"_1KXcO\">\n",
            "           Show subsections\n",
            "          </span>\n",
            "          <span class=\"_35a30\">\n",
            "           <svg aria-hidden=\"true\" class=\"QMY9O\" focusable=\"false\" height=\"1em\" width=\"1em\">\n",
            "            <use xlink:href=\"#icon-arrowsdown\">\n",
            "            </use>\n",
            "           </svg>\n",
            "          </span>\n",
            "         </button>\n",
            "         <ul aria-hidden=\"true\" aria-labelledby=\"section-world\" class=\"_3Nydp\" id=\"subsection-world\" role=\"group\">\n",
            "          <li class=\"\" role=\"treeitem\">\n",
            "           <a href=\"/world/north-america\" id=\"section-world-north-america\">\n",
            "            North America\n",
            "           </a>\n",
            "          </li>\n",
            "          <li class=\"\" role=\"treeitem\">\n",
            "           <a href=\"/world/europe\" id=\"section-world-europe\">\n",
            "            Europe\n",
            "           </a>\n",
            "          </li>\n",
            "          <li class=\"\" role=\"treeitem\">\n",
            "           <a href=\"/world/asia\" id=\"section-world-asia\">\n",
            "            Asia\n",
            "           </a>\n",
            "          </li>\n",
            "          <li class=\"\" role=\"treeitem\">\n",
            "           <a href=\"/world/middle-east\" id=\"section-world-middle-east\">\n",
            "            Middle East\n",
            "           </a>\n",
            "          </li>\n",
            "          <li class=\"\" role=\"treeitem\">\n",
            "           <a href=\"/world/oceania\" id=\"section-world-oceania\">\n",
            "            Oceania\n",
            "           </a>\n",
            "          </li>\n",
            "          <li class=\"\" role=\"treeitem\">\n",
            "           <a href=\"/world/south-america\" id=\"section-world-south-america\">\n",
            "            South America\n",
            "           </a>\n",
            "          </li>\n",
            "          <li class=\"\" role=\"treeitem\">\n",
            "           <a href=\"/world/africa\" id=\"section-world-africa\">\n",
            "            Africa\n",
            "           </a>\n",
            "          </li>\n",
            "         </ul>\n",
            "        </li>\n",
            "        <li aria-expanded=\"false\" class=\"_3kQ2X\" role=\"treeitem\">\n",
            "         <a href=\"/national\" id=\"section-national\">\n",
            "          National\n",
            "         </a>\n",
            "         <button aria-controls=\"subsection-national\" aria-expanded=\"false\" class=\"\">\n",
            "          <span class=\"_1KXcO\">\n",
            "           Show subsections\n",
            "          </span>\n",
            "          <span class=\"_35a30\">\n",
            "           <svg aria-hidden=\"true\" class=\"QMY9O\" focusable=\"false\" height=\"1em\" width=\"1em\">\n",
            "            <use xlink:href=\"#icon-arrowsdown\">\n",
            "            </use>\n",
            "           </svg>\n",
            "          </span>\n",
            "         </button>\n",
            "         <ul aria-hidden=\"true\" aria-labelledby=\"section-national\" class=\"_3Nydp\" id=\"subsection-national\" role=\"group\">\n",
            "          <li class=\"\" role=\"treeitem\">\n",
            "           <a href=\"/national/victoria\" id=\"section-national-victoria\">\n",
            "            Victoria\n",
            "           </a>\n",
            "          </li>\n",
            "          <li class=\"\" role=\"treeitem\">\n",
            "           <a href=\"/national/queensland\" id=\"section-national-queensland\">\n",
            "            Queensland\n",
            "           </a>\n",
            "          </li>\n",
            "          <li class=\"\" role=\"treeitem\">\n",
            "           <a href=\"/national/western-australia\" id=\"section-national-western-australia\">\n",
            "            Western Australia\n",
            "           </a>\n",
            "          </li>\n",
            "         </ul>\n",
            "        </li>\n",
            "        <li class=\"\" role=\"treeitem\">\n",
            "         <a href=\"/opinion\" id=\"section-opinion\">\n",
            "          Opinion\n",
            "         </a>\n",
            "        </li>\n",
            "        <li class=\"\" role=\"treeitem\">\n",
            "         <a href=\"http://www.domain.com.au\">\n",
            "          Property\n",
            "         </a>\n",
            "        </li>\n",
            "        <li aria-expanded=\"false\" class=\"_3kQ2X\" role=\"treeitem\">\n",
            "         <a href=\"/sport\" id=\"section-sport\">\n",
            "          Sport\n",
            "         </a>\n",
            "         <button aria-controls=\"subsection-sport\" aria-expanded=\"false\" class=\"\">\n",
            "          <span class=\"_1KXcO\">\n",
            "           Show subsections\n",
            "          </span>\n",
            "          <span class=\"_35a30\">\n",
            "           <svg aria-hidden=\"true\" class=\"QMY9O\" focusable=\"false\" height=\"1em\" width=\"1em\">\n",
            "            <use xlink:href=\"#icon-arrowsdown\">\n",
            "            </use>\n",
            "           </svg>\n",
            "          </span>\n",
            "         </button>\n",
            "         <ul aria-hidden=\"true\" aria-labelledby=\"section-sport\" class=\"_3Nydp\" id=\"subsection-sport\" role=\"group\">\n",
            "          <li aria-expanded=\"false\" class=\"_3kQ2X\" role=\"treeitem\">\n",
            "           <a href=\"/sport/nrl\" id=\"section-sport-nrl\">\n",
            "            NRL\n",
            "           </a>\n",
            "          </li>\n",
            "          <li aria-expanded=\"false\" class=\"_3kQ2X\" role=\"treeitem\">\n",
            "           <a href=\"/sport/rugby-union\" id=\"section-sport-rugby-union\">\n",
            "            Rugby union\n",
            "           </a>\n",
            "          </li>\n",
            "          <li aria-expanded=\"false\" class=\"_3kQ2X\" role=\"treeitem\">\n",
            "           <a href=\"/sport/cricket\" id=\"section-sport-cricket\">\n",
            "            Cricket\n",
            "           </a>\n",
            "          </li>\n",
            "          <li class=\"\" role=\"treeitem\">\n",
            "           <a href=\"/sport/soccer\" id=\"section-sport-soccer\">\n",
            "            Soccer\n",
            "           </a>\n",
            "          </li>\n",
            "          <li aria-expanded=\"false\" class=\"_3kQ2X\" role=\"treeitem\">\n",
            "           <a href=\"/sport/afl\" id=\"section-sport-afl\">\n",
            "            AFL\n",
            "           </a>\n",
            "          </li>\n",
            "          <li class=\"\" role=\"treeitem\">\n",
            "           <a href=\"/sport/racing\" id=\"section-sport-racing\">\n",
            "            Racing\n",
            "           </a>\n",
            "          </li>\n",
            "          <li class=\"\" role=\"treeitem\">\n",
            "           <a href=\"/sport/tennis\" id=\"section-sport-tennis\">\n",
            "            Tennis\n",
            "           </a>\n",
            "          </li>\n",
            "          <li aria-expanded=\"false\" class=\"_3kQ2X\" role=\"treeitem\">\n",
            "           <a href=\"/sport/netball\" id=\"section-sport-netball\">\n",
            "            Netball\n",
            "           </a>\n",
            "          </li>\n",
            "          <li class=\"\" role=\"treeitem\">\n",
            "           <a href=\"/sport/basketball\" id=\"section-sport-basketball\">\n",
            "            Basketball\n",
            "           </a>\n",
            "          </li>\n",
            "          <li class=\"\" role=\"treeitem\">\n",
            "           <a href=\"/sport/motorsport\" id=\"section-sport-motorsport\">\n",
            "            Motorsport\n",
            "           </a>\n",
            "          </li>\n",
            "          <li class=\"\" role=\"treeitem\">\n",
            "           <a href=\"/sport/cycling\" id=\"section-sport-cycling\">\n",
            "            Cycling\n",
            "           </a>\n",
            "          </li>\n",
            "          <li class=\"\" role=\"treeitem\">\n",
            "           <a href=\"/sport/golf\" id=\"section-sport-golf\">\n",
            "            Golf\n",
            "           </a>\n",
            "          </li>\n",
            "          <li class=\"\" role=\"treeitem\">\n",
            "           <a href=\"/sport/nfl\" id=\"section-sport-nfl\">\n",
            "            NFL\n",
            "           </a>\n",
            "          </li>\n",
            "          <li class=\"\" role=\"treeitem\">\n",
            "           <a href=\"/sport/athletics\" id=\"section-sport-athletics\">\n",
            "            Athletics\n",
            "           </a>\n",
            "          </li>\n",
            "          <li class=\"\" role=\"treeitem\">\n",
            "           <a href=\"/sport/swimming\" id=\"section-sport-swimming\">\n",
            "            Swimming\n",
            "           </a>\n",
            "          </li>\n",
            "          <li class=\"\" role=\"treeitem\">\n",
            "           <a href=\"/sport/boxing\" id=\"section-sport-boxing\">\n",
            "            Boxing\n",
            "           </a>\n",
            "          </li>\n",
            "         </ul>\n",
            "        </li>\n",
            "        <li aria-expanded=\"false\" class=\"_3kQ2X\" role=\"treeitem\">\n",
            "         <a href=\"/culture\" id=\"section-culture\">\n",
            "          Culture\n",
            "         </a>\n",
            "         <button aria-controls=\"subsection-culture\" aria-expanded=\"false\" class=\"\">\n",
            "          <span class=\"_1KXcO\">\n",
            "           Show subsections\n",
            "          </span>\n",
            "          <span class=\"_35a30\">\n",
            "           <svg aria-hidden=\"true\" class=\"QMY9O\" focusable=\"false\" height=\"1em\" width=\"1em\">\n",
            "            <use xlink:href=\"#icon-arrowsdown\">\n",
            "            </use>\n",
            "           </svg>\n",
            "          </span>\n",
            "         </button>\n",
            "         <ul aria-hidden=\"true\" aria-labelledby=\"section-culture\" class=\"_3Nydp\" id=\"subsection-culture\" role=\"group\">\n",
            "          <li class=\"\" role=\"treeitem\">\n",
            "           <a href=\"/culture/movies\" id=\"section-culture-movies\">\n",
            "            Movies\n",
            "           </a>\n",
            "          </li>\n",
            "          <li aria-expanded=\"false\" class=\"_3kQ2X\" role=\"treeitem\">\n",
            "           <a href=\"/culture/tv-and-radio\" id=\"section-culture-tv-&amp;-radio\">\n",
            "            TV &amp; radio\n",
            "           </a>\n",
            "          </li>\n",
            "          <li class=\"\" role=\"treeitem\">\n",
            "           <a href=\"/culture/music\" id=\"section-culture-music\">\n",
            "            Music\n",
            "           </a>\n",
            "          </li>\n",
            "          <li class=\"\" role=\"treeitem\">\n",
            "           <a href=\"/culture/celebrity\" id=\"section-culture-celebrity\">\n",
            "            Celebrity\n",
            "           </a>\n",
            "          </li>\n",
            "          <li class=\"\" role=\"treeitem\">\n",
            "           <a href=\"/culture/books\" id=\"section-culture-books\">\n",
            "            Books\n",
            "           </a>\n",
            "          </li>\n",
            "          <li class=\"\" role=\"treeitem\">\n",
            "           <a href=\"/culture/comedy\" id=\"section-culture-comedy\">\n",
            "            Comedy\n",
            "           </a>\n",
            "          </li>\n",
            "          <li class=\"\" role=\"treeitem\">\n",
            "           <a href=\"/culture/dance\" id=\"section-culture-dance\">\n",
            "            Dance\n",
            "           </a>\n",
            "          </li>\n",
            "          <li class=\"\" role=\"treeitem\">\n",
            "           <a href=\"/culture/musicals\" id=\"section-culture-musicals\">\n",
            "            Musicals\n",
            "           </a>\n",
            "          </li>\n",
            "          <li class=\"\" role=\"treeitem\">\n",
            "           <a href=\"/culture/opera\" id=\"section-culture-opera\">\n",
            "            Opera\n",
            "           </a>\n",
            "          </li>\n",
            "          <li class=\"\" role=\"treeitem\">\n",
            "           <a href=\"/culture/theatre\" id=\"section-culture-theatre\">\n",
            "            Theatre\n",
            "           </a>\n",
            "          </li>\n",
            "          <li class=\"\" role=\"treeitem\">\n",
            "           <a href=\"/culture/art-and-design\" id=\"section-culture-art-&amp;-design\">\n",
            "            Art &amp; design\n",
            "           </a>\n",
            "          </li>\n",
            "          <li class=\"\" role=\"treeitem\">\n",
            "           <a href=\"https://tvguide.smh.com.au\">\n",
            "            TV guide\n",
            "           </a>\n",
            "          </li>\n",
            "         </ul>\n",
            "        </li>\n",
            "        <li aria-expanded=\"false\" class=\"_3kQ2X\" role=\"treeitem\">\n",
            "         <a href=\"/lifestyle\" id=\"section-lifestyle\">\n",
            "          Lifestyle\n",
            "         </a>\n",
            "         <button aria-controls=\"subsection-lifestyle\" aria-expanded=\"false\" class=\"\">\n",
            "          <span class=\"_1KXcO\">\n",
            "           Show subsections\n",
            "          </span>\n",
            "          <span class=\"_35a30\">\n",
            "           <svg aria-hidden=\"true\" class=\"QMY9O\" focusable=\"false\" height=\"1em\" width=\"1em\">\n",
            "            <use xlink:href=\"#icon-arrowsdown\">\n",
            "            </use>\n",
            "           </svg>\n",
            "          </span>\n",
            "         </button>\n",
            "         <ul aria-hidden=\"true\" aria-labelledby=\"section-lifestyle\" class=\"_3Nydp\" id=\"subsection-lifestyle\" role=\"group\">\n",
            "          <li class=\"\" role=\"treeitem\">\n",
            "           <a href=\"/lifestyle/health-and-wellness\" id=\"section-lifestyle-health-&amp;-wellness\">\n",
            "            Health &amp; wellness\n",
            "           </a>\n",
            "          </li>\n",
            "          <li class=\"\" role=\"treeitem\">\n",
            "           <a href=\"/lifestyle/fashion\" id=\"section-lifestyle-fashion\">\n",
            "            Fashion\n",
            "           </a>\n",
            "          </li>\n",
            "          <li class=\"\" role=\"treeitem\">\n",
            "           <a href=\"/lifestyle/life-and-relationships\" id=\"section-lifestyle-life-&amp;-relationships\">\n",
            "            Life &amp; relationships\n",
            "           </a>\n",
            "          </li>\n",
            "          <li class=\"\" role=\"treeitem\">\n",
            "           <a href=\"/lifestyle/beauty\" id=\"section-lifestyle-beauty\">\n",
            "            Beauty\n",
            "           </a>\n",
            "          </li>\n",
            "          <li class=\"\" role=\"treeitem\">\n",
            "           <a href=\"/topic/style-luxury-1nij\" id=\"section-lifestyle-style\">\n",
            "            Style\n",
            "           </a>\n",
            "          </li>\n",
            "          <li class=\"\" role=\"treeitem\">\n",
            "           <a href=\"/topic/horoscopes-5yc\" id=\"section-lifestyle-horoscopes\">\n",
            "            Horoscopes\n",
            "           </a>\n",
            "          </li>\n",
            "         </ul>\n",
            "        </li>\n",
            "        <li class=\"\" role=\"treeitem\">\n",
            "         <a href=\"/topic/good-weekend-1qq\" id=\"section-good-weekend\">\n",
            "          Good Weekend\n",
            "         </a>\n",
            "        </li>\n",
            "        <li class=\"\" role=\"treeitem\">\n",
            "         <a href=\"/topic/spectrum-smh-hog\" id=\"section-spectrum\">\n",
            "          Spectrum\n",
            "         </a>\n",
            "        </li>\n",
            "        <li class=\"\" role=\"treeitem\">\n",
            "         <a href=\"/topic/sunday-life-1ni3\" id=\"section-sunday-life\">\n",
            "          Sunday Life\n",
            "         </a>\n",
            "        </li>\n",
            "        <li aria-expanded=\"false\" class=\"_3kQ2X\" role=\"treeitem\">\n",
            "         <a href=\"/money\" id=\"section-money\">\n",
            "          Money\n",
            "         </a>\n",
            "         <button aria-controls=\"subsection-money\" aria-expanded=\"false\" class=\"\">\n",
            "          <span class=\"_1KXcO\">\n",
            "           Show subsections\n",
            "          </span>\n",
            "          <span class=\"_35a30\">\n",
            "           <svg aria-hidden=\"true\" class=\"QMY9O\" focusable=\"false\" height=\"1em\" width=\"1em\">\n",
            "            <use xlink:href=\"#icon-arrowsdown\">\n",
            "            </use>\n",
            "           </svg>\n",
            "          </span>\n",
            "         </button>\n",
            "         <ul aria-hidden=\"true\" aria-labelledby=\"section-money\" class=\"_3Nydp\" id=\"subsection-money\" role=\"group\">\n",
            "          <li class=\"\" role=\"treeitem\">\n",
            "           <a href=\"/money/super-and-retirement\" id=\"section-money-super-&amp;-retirement\">\n",
            "            Super &amp; retirement\n",
            "           </a>\n",
            "          </li>\n",
            "          <li class=\"\" role=\"treeitem\">\n",
            "           <a href=\"/money/investing\" id=\"section-money-investing\">\n",
            "            Investing\n",
            "           </a>\n",
            "          </li>\n",
            "          <li class=\"\" role=\"treeitem\">\n",
            "           <a href=\"/money/banking\" id=\"section-money-banking\">\n",
            "            Banking\n",
            "           </a>\n",
            "          </li>\n",
            "          <li class=\"\" role=\"treeitem\">\n",
            "           <a href=\"/money/borrowing\" id=\"section-money-borrowing\">\n",
            "            Borrowing\n",
            "           </a>\n",
            "          </li>\n",
            "          <li class=\"\" role=\"treeitem\">\n",
            "           <a href=\"/money/saving\" id=\"section-money-saving\">\n",
            "            Saving\n",
            "           </a>\n",
            "          </li>\n",
            "          <li class=\"\" role=\"treeitem\">\n",
            "           <a href=\"/money/tax\" id=\"section-money-tax\">\n",
            "            Tax\n",
            "           </a>\n",
            "          </li>\n",
            "          <li class=\"\" role=\"treeitem\">\n",
            "           <a href=\"/money/planning-and-budgeting\" id=\"section-money-planning-&amp;-budgeting\">\n",
            "            Planning &amp; budgeting\n",
            "           </a>\n",
            "          </li>\n",
            "          <li class=\"\" role=\"treeitem\">\n",
            "           <a href=\"/money/insurance\" id=\"section-money-insurance\">\n",
            "            Insurance\n",
            "           </a>\n",
            "          </li>\n",
            "         </ul>\n",
            "        </li>\n",
            "        <li class=\"\" role=\"treeitem\">\n",
            "         <a href=\"/education\" id=\"section-education\">\n",
            "          Education\n",
            "         </a>\n",
            "        </li>\n",
            "        <li class=\"\" role=\"treeitem\">\n",
            "         <a href=\"/healthcare\" id=\"section-healthcare\">\n",
            "          Healthcare\n",
            "         </a>\n",
            "        </li>\n",
            "        <li aria-expanded=\"false\" class=\"_3kQ2X\" role=\"treeitem\">\n",
            "         <a href=\"/environment\" id=\"section-environment\">\n",
            "          Environment\n",
            "         </a>\n",
            "         <button aria-controls=\"subsection-environment\" aria-expanded=\"false\" class=\"\">\n",
            "          <span class=\"_1KXcO\">\n",
            "           Show subsections\n",
            "          </span>\n",
            "          <span class=\"_35a30\">\n",
            "           <svg aria-hidden=\"true\" class=\"QMY9O\" focusable=\"false\" height=\"1em\" width=\"1em\">\n",
            "            <use xlink:href=\"#icon-arrowsdown\">\n",
            "            </use>\n",
            "           </svg>\n",
            "          </span>\n",
            "         </button>\n",
            "         <ul aria-hidden=\"true\" aria-labelledby=\"section-environment\" class=\"_3Nydp\" id=\"subsection-environment\" role=\"group\">\n",
            "          <li class=\"\" role=\"treeitem\">\n",
            "           <a href=\"/environment/conservation\" id=\"section-environment-conservation\">\n",
            "            Conservation\n",
            "           </a>\n",
            "          </li>\n",
            "          <li class=\"\" role=\"treeitem\">\n",
            "           <a href=\"/environment/climate-change\" id=\"section-environment-climate-change\">\n",
            "            Climate change\n",
            "           </a>\n",
            "          </li>\n",
            "          <li class=\"\" role=\"treeitem\">\n",
            "           <a href=\"/environment/sustainability\" id=\"section-environment-sustainability\">\n",
            "            Sustainability\n",
            "           </a>\n",
            "          </li>\n",
            "          <li class=\"\" role=\"treeitem\">\n",
            "           <a href=\"/environment/weather\" id=\"section-environment-weather\">\n",
            "            Weather\n",
            "           </a>\n",
            "          </li>\n",
            "         </ul>\n",
            "        </li>\n",
            "        <li aria-expanded=\"false\" class=\"_3kQ2X\" role=\"treeitem\">\n",
            "         <a href=\"/technology\" id=\"section-technology\">\n",
            "          Technology\n",
            "         </a>\n",
            "         <button aria-controls=\"subsection-technology\" aria-expanded=\"false\" class=\"\">\n",
            "          <span class=\"_1KXcO\">\n",
            "           Show subsections\n",
            "          </span>\n",
            "          <span class=\"_35a30\">\n",
            "           <svg aria-hidden=\"true\" class=\"QMY9O\" focusable=\"false\" height=\"1em\" width=\"1em\">\n",
            "            <use xlink:href=\"#icon-arrowsdown\">\n",
            "            </use>\n",
            "           </svg>\n",
            "          </span>\n",
            "         </button>\n",
            "         <ul aria-hidden=\"true\" aria-labelledby=\"section-technology\" class=\"_3Nydp\" id=\"subsection-technology\" role=\"group\">\n",
            "          <li class=\"\" role=\"treeitem\">\n",
            "           <a href=\"/technology/video-games\" id=\"section-technology-video-games\">\n",
            "            Video games\n",
            "           </a>\n",
            "          </li>\n",
            "          <li class=\"\" role=\"treeitem\">\n",
            "           <a href=\"/topic/home-technology-hqq\" id=\"section-technology-home-tech\">\n",
            "            Home tech\n",
            "           </a>\n",
            "          </li>\n",
            "          <li class=\"\" role=\"treeitem\">\n",
            "           <a href=\"/topic/phones-5zt\" id=\"section-technology-phones\">\n",
            "            Phones\n",
            "           </a>\n",
            "          </li>\n",
            "          <li class=\"\" role=\"treeitem\">\n",
            "           <a href=\"/topic/gadgets-hqp\" id=\"section-technology-gadgets\">\n",
            "            Gadgets\n",
            "           </a>\n",
            "          </li>\n",
            "         </ul>\n",
            "        </li>\n",
            "        <li class=\"\" role=\"treeitem\">\n",
            "         <a href=\"http://www.drive.com.au\">\n",
            "          Drive\n",
            "         </a>\n",
            "        </li>\n",
            "        <li class=\"\" role=\"treeitem\">\n",
            "         <a href=\"http://www.traveller.com.au\">\n",
            "          Traveller\n",
            "         </a>\n",
            "        </li>\n",
            "        <li class=\"\" role=\"treeitem\">\n",
            "         <a href=\"http://www.goodfood.com.au\">\n",
            "          Good Food\n",
            "         </a>\n",
            "        </li>\n",
            "       </ul>\n",
            "       <ul class=\"Uffnp _375G7\" role=\"tree\">\n",
            "        <li>\n",
            "         <h4>\n",
            "          Premium\n",
            "         </h4>\n",
            "         <a class=\"Khnen _1Zci0 _3_hLE _252xb\" data-ffx-event-action=\"cta click\" data-ffx-event-attribute=\"menu\" data-ffx-event-category=\"component\" data-ffx-event-label=\"subscribe\" data-ffx-hittype=\"event\" href=\"https://subscribe.smh.com.au/?promote_channel=HI_IL_GNL&amp;utm_source=PremiumIndex&amp;utm_medium=HouseInventory&amp;utm_campaign=General\">\n",
            "          Subscribe\n",
            "         </a>\n",
            "        </li>\n",
            "        <li role=\"treeitem\">\n",
            "         <a data-ffx-event-action=\"cta click\" data-ffx-event-attribute=\"menu\" data-ffx-event-category=\"component\" data-ffx-event-label=\"todays paper\" data-ffx-hittype=\"event\" href=\"/todays-newspaper\" id=\"section-today’s-paper\">\n",
            "          <svg aria-hidden=\"true\" class=\"QMY9O\" focusable=\"false\" height=\"24px\" width=\"24px\">\n",
            "           <use xlink:href=\"#icon-menu-todays-paper\">\n",
            "           </use>\n",
            "          </svg>\n",
            "          Today’s Paper\n",
            "         </a>\n",
            "        </li>\n",
            "        <li role=\"treeitem\">\n",
            "         <a data-ffx-event-action=\"cta click\" data-ffx-event-attribute=\"menu\" data-ffx-event-category=\"component\" data-ffx-event-label=\"crosswords\" data-ffx-hittype=\"event\" href=\"/puzzles/crosswords\" id=\"section-daily-crosswords\">\n",
            "          <svg aria-hidden=\"true\" class=\"QMY9O\" focusable=\"false\" height=\"24px\" width=\"24px\">\n",
            "           <use xlink:href=\"#icon-menu-crossword\">\n",
            "           </use>\n",
            "          </svg>\n",
            "          Daily Crosswords\n",
            "         </a>\n",
            "        </li>\n",
            "       </ul>\n",
            "       <ul class=\"Uffnp undefined\" role=\"tree\">\n",
            "        <li>\n",
            "         <h4>\n",
            "          More\n",
            "         </h4>\n",
            "        </li>\n",
            "        <li role=\"treeitem\">\n",
            "         <a href=\"/topic/smh-letters-1r7\" id=\"section-letters\">\n",
            "          Letters\n",
            "         </a>\n",
            "        </li>\n",
            "        <li role=\"treeitem\">\n",
            "         <a href=\"/topic/smh-editorial-1r6\" id=\"section-editorial\">\n",
            "          Editorial\n",
            "         </a>\n",
            "        </li>\n",
            "        <li role=\"treeitem\">\n",
            "         <a href=\"/topic/column-8-1r4\" id=\"section-column-8\">\n",
            "          Column 8\n",
            "         </a>\n",
            "        </li>\n",
            "        <li role=\"treeitem\">\n",
            "         <a href=\"/topic/obituaries-1qv\" id=\"section-obituaries\">\n",
            "          Obituaries\n",
            "         </a>\n",
            "        </li>\n",
            "        <li role=\"treeitem\">\n",
            "         <a href=\"/topic/explainers-1lz9\" id=\"section-explainers\">\n",
            "          Explainers\n",
            "         </a>\n",
            "        </li>\n",
            "        <li role=\"treeitem\">\n",
            "         <a href=\"/topic/quizzes-1qx\" id=\"section-quizzes\">\n",
            "          Quizzes\n",
            "         </a>\n",
            "        </li>\n",
            "        <li role=\"treeitem\">\n",
            "         <a href=\"https://weather.smh.com.au/local-forecast/nsw/sydney\" id=\"section-weather\">\n",
            "          Weather\n",
            "         </a>\n",
            "        </li>\n",
            "       </ul>\n",
            "      </div>\n",
            "     </nav>\n",
            "     <nav aria-hidden=\"true\" aria-labelledby=\"navNetwork\" class=\"_2PKwb\" role=\"tabpanel\">\n",
            "      <div class=\"_2fv33\">\n",
            "       <ul class=\"_32aAr\">\n",
            "        <li class=\"_1IQO_\">\n",
            "         The Sydney Morning Herald\n",
            "        </li>\n",
            "        <li>\n",
            "         <a href=\"https://www.theage.com.au\">\n",
            "          The Age\n",
            "         </a>\n",
            "        </li>\n",
            "        <li>\n",
            "         <a href=\"https://www.brisbanetimes.com.au\">\n",
            "          Brisbane Times\n",
            "         </a>\n",
            "        </li>\n",
            "        <li>\n",
            "         <a href=\"https://www.watoday.com.au\">\n",
            "          WAtoday\n",
            "         </a>\n",
            "        </li>\n",
            "        <li>\n",
            "         <a href=\"https://www.afr.com\">\n",
            "          The Australian Financial Review\n",
            "         </a>\n",
            "        </li>\n",
            "       </ul>\n",
            "       <ul class=\"_32aAr\">\n",
            "        <li>\n",
            "         <a href=\"https://www.domain.com.au\">\n",
            "          Domain\n",
            "         </a>\n",
            "        </li>\n",
            "        <li>\n",
            "         <a href=\"https://www.commercialrealestate.com.au\">\n",
            "          Commercial Real Estate\n",
            "         </a>\n",
            "        </li>\n",
            "        <li>\n",
            "         <a href=\"https://www.drive.com.au\">\n",
            "          Drive\n",
            "         </a>\n",
            "        </li>\n",
            "        <li>\n",
            "         <a href=\"https://www.goodfood.com.au\">\n",
            "          Good Food\n",
            "         </a>\n",
            "        </li>\n",
            "        <li>\n",
            "         <a href=\"http://www.traveller.com.au\">\n",
            "          Traveller\n",
            "         </a>\n",
            "        </li>\n",
            "       </ul>\n",
            "       <ul class=\"_32aAr\">\n",
            "        <li>\n",
            "         <a href=\"https://www.rsvp.com.au\">\n",
            "          RSVP\n",
            "         </a>\n",
            "        </li>\n",
            "       </ul>\n",
            "      </div>\n",
            "     </nav>\n",
            "    </div>\n",
            "   </div>\n",
            "   <main id=\"content\">\n",
            "    <div class=\"_1JART _3ECgH _2TEVJ OK924 KNwOD\">\n",
            "     <div class=\"_34z61 _2iGMx\">\n",
            "      <div class=\"adWrapper _2UMq- noPrint\">\n",
            "       <small class=\"_3ToRr\">\n",
            "        Advertisement\n",
            "       </small>\n",
            "       <div class=\"_2KSwt\" id=\"adspot-970x250_728x90-pos1\">\n",
            "       </div>\n",
            "      </div>\n",
            "     </div>\n",
            "     <article class=\"_2yRSr\">\n",
            "      <header class=\"_16lwx _2-5AL\">\n",
            "       <div class=\"_2JwnJ\">\n",
            "        <div class=\"JwYux\">\n",
            "         <div class=\"_2YAR2\">\n",
            "          <ul>\n",
            "           <li class=\"_3wukJ\">\n",
            "            <a href=\"/national\" title=\"National\">\n",
            "             National\n",
            "            </a>\n",
            "           </li>\n",
            "           <li class=\"_3wukJ\">\n",
            "            <a href=\"/national/nsw\" title=\"NSW\">\n",
            "             NSW\n",
            "            </a>\n",
            "           </li>\n",
            "           <li class=\"_1pMb9\">\n",
            "            <a href=\"/coronavirus-pandemic\" title=\"Coronavirus pandemic\">\n",
            "             Coronavirus pandemic\n",
            "            </a>\n",
            "           </li>\n",
            "          </ul>\n",
            "         </div>\n",
            "         <p class=\"CpcU1\">\n",
            "          <span>\n",
            "           This was published\n",
            "           <!-- -->\n",
            "           1\n",
            "           <!-- -->\n",
            "           <!-- -->\n",
            "           year\n",
            "           <!-- -->\n",
            "           ago\n",
            "          </span>\n",
            "         </p>\n",
            "         <h1 data-testid=\"headline\" itemprop=\"headline\">\n",
            "          University of Sydney to move fully online while Macquarie cancels classes\n",
            "         </h1>\n",
            "        </div>\n",
            "       </div>\n",
            "      </header>\n",
            "      <section class=\"_3OhA4\">\n",
            "       <div class=\"_2h56q\">\n",
            "        <div class=\"_3J1te\">\n",
            "         <h5 class=\"_3-xPQ\">\n",
            "          By\n",
            "          <span>\n",
            "           <span>\n",
            "            <a href=\"/by/natassia-chrysanthos-h17jwj\" title=\"Articles by Natassia Chrysanthos\">\n",
            "             Natassia Chrysanthos\n",
            "            </a>\n",
            "           </span>\n",
            "           and\n",
            "           <span>\n",
            "            <a href=\"/by/anna-patty-hvebs\" title=\"Articles by Anna Patty\">\n",
            "             Anna Patty\n",
            "            </a>\n",
            "           </span>\n",
            "          </span>\n",
            "         </h5>\n",
            "         <div class=\"_3xKNx\">\n",
            "          <span class=\"_1IjU5\">\n",
            "           Updated\n",
            "          </span>\n",
            "          <span class=\"_2xetH\">\n",
            "           <time class=\"_2_zR-\" datetime=\"2020-03-17T18:07:15+11:00\">\n",
            "            March 17, 2020 — 6.07pm\n",
            "           </time>\n",
            "          </span>\n",
            "          <span class=\"_2tV7D\" hidden=\"\">\n",
            "           first published\n",
            "           <!-- -->\n",
            "           at\n",
            "           <time class=\"_2_zR-\" datetime=\"2020-03-17T11:38:26+11:00\">\n",
            "            11.38am\n",
            "           </time>\n",
            "          </span>\n",
            "         </div>\n",
            "        </div>\n",
            "       </div>\n",
            "       <div class=\"_2CSKo noPrint\">\n",
            "        <div class=\"_1KqZ_\">\n",
            "         <div class=\"hLTvJ\">\n",
            "          <button aria-checked=\"false\" aria-describedby=\"saveTooltip\" aria-label=\"Save article to read later\" class=\"_31ZN0\" role=\"switch\" type=\"button\">\n",
            "           <svg aria-hidden=\"true\" class=\"QMY9O _11R7m\" focusable=\"false\" height=\"1em\" width=\"1em\">\n",
            "            <use xlink:href=\"#icon-save\">\n",
            "            </use>\n",
            "           </svg>\n",
            "           <span class=\"_3-fU6\">\n",
            "            Save\n",
            "           </span>\n",
            "          </button>\n",
            "          <div aria-hidden=\"true\" class=\"_1lwFz uXbxr\" id=\"saveTooltip\" role=\"tooltip\">\n",
            "           <button>\n",
            "            Log in\n",
            "           </button>\n",
            "           ,\n",
            "           <!-- -->\n",
            "           <a data-testid=\"login-register\" href=\"https://smh.myfairfax.com.au/channel/zHE9EWDHf1XPuz3Phk0YIg/members/signups/new?callback_uri=\">\n",
            "            register\n",
            "           </a>\n",
            "           <!-- -->\n",
            "           or\n",
            "           <a href=\"https://subscribe.smh.com.au/?promote_channel=HI_HL_GNL\">\n",
            "            subscribe\n",
            "           </a>\n",
            "           <!-- -->\n",
            "           to save articles for later.\n",
            "          </div>\n",
            "         </div>\n",
            "         <div class=\"_2Cn91\">\n",
            "          <div class=\"_2KkCz\">\n",
            "           <button class=\"_30X7v _2-NUy\" data-ffx-event-action=\"cta click\" data-ffx-event-category=\"component\" data-ffx-event-label=\"font size normal\" data-ffx-event-value=\"0\" data-ffx-hittype=\"event\">\n",
            "            Normal text size\n",
            "           </button>\n",
            "           <button class=\"_3Rq_0\" data-ffx-event-action=\"cta click\" data-ffx-event-category=\"component\" data-ffx-event-label=\"font size large\" data-ffx-event-value=\"0\" data-ffx-hittype=\"event\">\n",
            "            Larger text size\n",
            "           </button>\n",
            "           <button class=\"_3VkdU\" data-ffx-event-action=\"cta click\" data-ffx-event-category=\"component\" data-ffx-event-label=\"font size extra large\" data-ffx-event-value=\"0\" data-ffx-hittype=\"event\">\n",
            "            Very large text size\n",
            "           </button>\n",
            "          </div>\n",
            "         </div>\n",
            "        </div>\n",
            "       </div>\n",
            "      </section>\n",
            "      <section class=\"_1Rw6X\" data-testid=\"articleBodyTop\">\n",
            "       <aside class=\"_2GZaf\">\n",
            "        <div class=\"_3sCHz\">\n",
            "         <div class=\"adWrapper _2UMq- noPrint\">\n",
            "          <small class=\"_3ToRr\">\n",
            "           Advertisement\n",
            "          </small>\n",
            "          <div class=\"\" id=\"adspot-300x600_300x250_160x600-pos2\">\n",
            "          </div>\n",
            "         </div>\n",
            "        </div>\n",
            "       </aside>\n",
            "       <div class=\"_1ysFk\">\n",
            "        <div class=\"_1665V undefined\">\n",
            "         <p>\n",
            "          The University of Sydney will suspend all face-to-face teaching from Monday and move fully online while Macquarie University has cancelled classes altogether in order to make the digital transition, revealing one of its students tested positive for COVID-19.\n",
            "         </p>\n",
            "         <p>\n",
            "          The University of Sydney's 10,000 staff members have been encouraged to work remotely to slow the spread of coronavirus, but the campus Wi-Fi network and facilities will remain open with enhanced cleaning protocols and social distancing measures.\n",
            "         </p>\n",
            "         <figure class=\"_3ujPS _3x3-4 _2XZQH RMwbY\">\n",
            "          <div aria-label=\"enlarge image\" class=\"_1lwW_\" role=\"button\" tabindex=\"0\">\n",
            "           <picture class=\"\">\n",
            "            <source media=\"(min-width: 1024px)\" srcset=\"https://static.ffx.io/images/$zoom_0.378%2C$multiply_1.0582%2C$ratio_1.5%2C$width_756%2C$x_0%2C$y_0/t_crop_custom/q_86%2Cf_auto/a55013287ad8bff02b821a4b1e189316a0ca3580, https://static.ffx.io/images/$zoom_0.378%2C$multiply_2.1164%2C$ratio_1.5%2C$width_756%2C$x_0%2C$y_0/t_crop_custom/q_62%2Cf_auto/a55013287ad8bff02b821a4b1e189316a0ca3580 2x\"/>\n",
            "            <source media=\"(min-width: 768px)\" srcset=\"https://static.ffx.io/images/$zoom_0.378%2C$multiply_0.963%2C$ratio_1.5%2C$width_756%2C$x_0%2C$y_0/t_crop_custom/q_86%2Cf_auto/a55013287ad8bff02b821a4b1e189316a0ca3580, https://static.ffx.io/images/$zoom_0.378%2C$multiply_1.9259%2C$ratio_1.5%2C$width_756%2C$x_0%2C$y_0/t_crop_custom/q_62%2Cf_auto/a55013287ad8bff02b821a4b1e189316a0ca3580 2x\"/>\n",
            "            <img alt=\"Sydney University will move fully online from next week.\" src=\"https://static.ffx.io/images/$zoom_0.378%2C$multiply_0.4431%2C$ratio_1.5%2C$width_756%2C$x_0%2C$y_0/t_crop_custom/q_86%2Cf_auto/a55013287ad8bff02b821a4b1e189316a0ca3580\" srcset=\"https://static.ffx.io/images/$zoom_0.378%2C$multiply_0.4431%2C$ratio_1.5%2C$width_756%2C$x_0%2C$y_0/t_crop_custom/q_86%2Cf_auto/a55013287ad8bff02b821a4b1e189316a0ca3580, https://static.ffx.io/images/$zoom_0.378%2C$multiply_0.8862%2C$ratio_1.5%2C$width_756%2C$x_0%2C$y_0/t_crop_custom/q_62%2Cf_auto/a55013287ad8bff02b821a4b1e189316a0ca3580 2x\"/>\n",
            "           </picture>\n",
            "          </div>\n",
            "          <figcaption class=\"_3CZmy\">\n",
            "           <p>\n",
            "            <span class=\"_2Li3P\">\n",
            "             Sydney University will move fully online from next week.\n",
            "            </span>\n",
            "            <cite class=\"ojLwA\">\n",
            "             <span class=\"_30ROC\">\n",
            "              Credit:\n",
            "             </span>\n",
            "             Louise Kennerley\n",
            "            </cite>\n",
            "           </p>\n",
            "          </figcaption>\n",
            "         </figure>\n",
            "         <p>\n",
            "          Courses with labs and practical components will be adapted for online or suspended until later in the semester while clinical placements for health students will go ahead under strict guidelines, Vice-Chancellor Michael Spence wrote to staff on Tuesday afternoon.\n",
            "         </p>\n",
            "         <p>\n",
            "          \"We are anticipating this will be for the whole of semester and we’re planning on that,\" Dr Spence told the\n",
            "          <em>\n",
            "           Herald.\n",
            "          </em>\n",
            "          He said some business school courses had been designed from scratch, while teachers would adapt other courses throughout semester based on student feedback.\n",
            "         </p>\n",
            "        </div>\n",
            "        <div class=\"_1lC_G\">\n",
            "        </div>\n",
            "        <div class=\"_1665V undefined\">\n",
            "         <p>\n",
            "          \"We’ve put a lot of effort and thought into how to do it. I think this is a tremendous opportunity. This could be an interesting pedagogical experiment,\" he said.\n",
            "         </p>\n",
            "         <p>\n",
            "          The university\n",
            "          <a href=\"/link/follow-20170101-p546ef\">\n",
            "           has already projected $200 million losses due to coronavirus\n",
            "          </a>\n",
            "          . Dr Spence said the expense of adapting courses, bolstering IT systems and student support would \"cost us more overall\" than regular teaching.\n",
            "         </p>\n",
            "         <p>\n",
            "          \"At the moment we have to spend money to put education online to make sure our students' experience is uninterrupted as possible. There has been an overwhelming response from students that [is what they want].\"\n",
            "         </p>\n",
            "         <p>\n",
            "          Universities Australia deputy chief executive officer Anne-Marie Lansdown said 39 universities were providing online learning where possible amid the coronavirus pandemic. She said the challenge was increasing the amount of content that can be put online in a very short period of time.\n",
            "         </p>\n",
            "         <p>\n",
            "          \"For some courses it will be much harder – especially those with significant practical or technical requirements,\" Ms Lansdown said. \"In the case of practical-based learning, where online may not be possible, universities are offering maximum flexibility, including delaying or deferring those components.\"\n",
            "         </p>\n",
            "        </div>\n",
            "       </div>\n",
            "      </section>\n",
            "      <div class=\"_1FVfK\">\n",
            "       <div class=\"adWrapper _2UMq- noPrint\">\n",
            "        <small class=\"_3ToRr\">\n",
            "         Advertisement\n",
            "        </small>\n",
            "        <div class=\"\" id=\"adspot-970x250_728x90-pos3\">\n",
            "        </div>\n",
            "       </div>\n",
            "      </div>\n",
            "      <section class=\"vPaWe\" data-testid=\"articleBodyBottom\">\n",
            "       <div class=\"_1ysFk\">\n",
            "        <div class=\"_1665V undefined\">\n",
            "         <div class=\"ymInT _3uJpn _3by58 noPrint\">\n",
            "          <span class=\"_2wzgv D5idv _3lVFK\">\n",
            "           <span class=\"_29Qt8\">\n",
            "           </span>\n",
            "           <span class=\"_3qqDc\">\n",
            "            Loading\n",
            "           </span>\n",
            "          </span>\n",
            "         </div>\n",
            "         <p>\n",
            "          Macquarie Vice-Chancellor Professor Bruce Dowton said in an email to staff on Tuesday morning that face-to-face and online teaching will be suspended for 12 days from Wednesday while the university transitions to online delivery of lectures and seminars.\n",
            "         </p>\n",
            "         <p>\n",
            "          \"It will also allow us to redesign campus-based delivery of our units to modes that support social distancing and remote support,\" he said.\n",
            "         </p>\n",
            "         <p>\n",
            "          Hours later, Macquarie confirmed a student had tested positive for COVID-19 the day before, and that several locations on campus had been cleaned overnight.\n",
            "         </p>\n",
            "         <p>\n",
            "          \"The current advice is that the rest of campus can continue to operate as normal after the completion of intensive cleaning operations and in line with ... moving to increase online delivery of educational programs,\" a spokesperson said.\n",
            "         </p>\n",
            "        </div>\n",
            "        <div class=\"_1lC_G\">\n",
            "        </div>\n",
            "        <div class=\"_1665V undefined\">\n",
            "         <p>\n",
            "          But students were concerned they had not been told where the infected student had been on campus and whether some needed to self-isolate.\n",
            "         </p>\n",
            "         <p>\n",
            "          \"Many of the students are shocked that we could be left in the dark and that the university has not been able to make decisions for weeks about how to handle the virus situation,\" one student, who requested anonymity, said.\n",
            "         </p>\n",
            "         <p>\n",
            "          The surrounding area of Macquarie Park was\n",
            "          <a href=\"/link/follow-20170101-p546lf\">\n",
            "           the first hotspot for coronavirus community transmission in Sydney\n",
            "          </a>\n",
            "          . Macquarie's mid-semester Easter break, due to take place between April 13-26, will now be a normal teaching period. Staff have been encouraged to work from home and non-essential events will been cancelled.\n",
            "         </p>\n",
            "         <p>\n",
            "          The University of NSW on Tuesday confirmed a third student tested positive for COVID-19 and had exhibited mild symptoms while in a three-hour evening science class last week.\n",
            "         </p>\n",
            "         <p>\n",
            "          UNSW is\n",
            "          <a href=\"/link/follow-20170101-p54ag0\">\n",
            "           making a quick transition to online learning\n",
            "          </a>\n",
            "          and its law school, which does not routinely record its lectures, will cease face-to-face lessons from Wednesday to move all classes online.\n",
            "         </p>\n",
            "        </div>\n",
            "        <div class=\"_1lC_G\">\n",
            "        </div>\n",
            "        <div class=\"_1665V undefined\">\n",
            "         <p>\n",
            "          \"We are currently working to finalise details around classes and, down the track, assessment... There will be some changes to the way that courses are delivered, including to involve more online activities as a replacement for classroom face-to-face discussions. Those are likely to evolve over the term,\" acting head of the law school Melanie Schwartz wrote to students on Monday.\n",
            "          <em>\n",
            "           <strong>\n",
            "           </strong>\n",
            "          </em>\n",
            "         </p>\n",
            "         <h3>\n",
            "          Unis try to avoid infection in share accommodation\n",
            "         </h3>\n",
            "         <p>\n",
            "          Universities around the country are also seeking advice from public health experts on how to minimise the spread of COVID-19 among students living in campus accommodation and other share housing.\n",
            "         </p>\n",
            "         <p>\n",
            "          The Australian National University said many students congregated in residential halls \"so across our student residences we’re implementing considered social distancing measures for our dining halls, kitchens and self-catering\".\n",
            "         </p>\n",
            "         <p>\n",
            "          \"We’ve also reformatted social and academic support events and activities so that they have smaller numbers (25 people or less) and in some cases, these will be offered as online connections – we’re being creative to ensure pastoral care and community wellbeing are maintained,\" a spokesperson said.\n",
            "         </p>\n",
            "        </div>\n",
            "        <div class=\"_1lC_G\">\n",
            "        </div>\n",
            "        <div class=\"_1665V undefined\">\n",
            "         <div class=\"ymInT _3uJpn _3by58 noPrint\">\n",
            "          <span class=\"_2wzgv D5idv _3lVFK\">\n",
            "           <span class=\"_29Qt8\">\n",
            "           </span>\n",
            "           <span class=\"_3qqDc\">\n",
            "            Loading\n",
            "           </span>\n",
            "          </span>\n",
            "         </div>\n",
            "         <p>\n",
            "          University of Sydney-owned student accommodation and residential colleges have also started additional cleaning and sanitation of common areas. Students are being provided with hand sanitisers, tissues and face masks and advised to keep a physical distance from each other. Housing\n",
            "          <a href=\"/link/follow-20170101-p5479m\">\n",
            "           is being provided\n",
            "          </a>\n",
            "          to students that live in university-owned accommodation who need to self isolate.\n",
            "         </p>\n",
            "         <p>\n",
            "          Dining times have also been extended to allow students to stagger their meals and restrict access to communal utensils.\n",
            "         </p>\n",
            "         <p>\n",
            "          The University of NSW has asked students who need to self-isolate to avoid communal areas and avoid sharing utensils and tea towels. They have been advised to use separate bathroom and kitchen facilities and to regularly clean shared facilities. They should also wear a surgical mask while in the same room with any other people.\n",
            "         </p>\n",
            "        </div>\n",
            "        <div class=\"noPrint\">\n",
            "         <div>\n",
            "         </div>\n",
            "        </div>\n",
            "        <div class=\"_22FRK _2spQv\">\n",
            "         <section class=\"aKWhn noPrint\" id=\"endOfArticle\">\n",
            "          <div class=\"dLGbc\">\n",
            "           <div class=\"hLTvJ\">\n",
            "            <button aria-checked=\"false\" aria-describedby=\"saveTooltip\" aria-label=\"Save article to read later\" class=\"_31ZN0\" role=\"switch\" type=\"button\">\n",
            "             <svg aria-hidden=\"true\" class=\"QMY9O _11R7m\" focusable=\"false\" height=\"1em\" width=\"1em\">\n",
            "              <use xlink:href=\"#icon-save\">\n",
            "              </use>\n",
            "             </svg>\n",
            "             <span class=\"_3-fU6\">\n",
            "              Save\n",
            "             </span>\n",
            "            </button>\n",
            "            <div aria-hidden=\"true\" class=\"_1lwFz uXbxr\" id=\"saveTooltip\" role=\"tooltip\">\n",
            "             <button>\n",
            "              Log in\n",
            "             </button>\n",
            "             ,\n",
            "             <!-- -->\n",
            "             <a data-testid=\"login-register\" href=\"https://smh.myfairfax.com.au/channel/zHE9EWDHf1XPuz3Phk0YIg/members/signups/new?callback_uri=\">\n",
            "              register\n",
            "             </a>\n",
            "             <!-- -->\n",
            "             or\n",
            "             <a href=\"https://subscribe.smh.com.au/?promote_channel=HI_HL_GNL\">\n",
            "              subscribe\n",
            "             </a>\n",
            "             <!-- -->\n",
            "             to save articles for later.\n",
            "            </div>\n",
            "           </div>\n",
            "           <div class=\"_8Cum8\">\n",
            "            <a class=\"_4oUp_\" href=\"http://rightsportal.copyright.com.au/pages/republicationpage.aspx?author=Natassia%20Chrysanthos%20and%20Anna%20Patty&amp;publication=SMH&amp;publicationdate=2020-03-17T07%3A07%3A15Z&amp;publisher=fxj&amp;title=University%20of%20Sydney%20to%20move%20fully%20online%20while%20Macquarie%20cancels%20classes&amp;url=https%3A%2F%2Fwww.smh.com.au%2Fnational%2Fnsw%2Fmacquarie-uni-suspends-teaching-for-10-days-to-move-learning-online-20200317-p54avs.html\">\n",
            "             License this article\n",
            "            </a>\n",
            "           </div>\n",
            "           <div class=\"ZFgNO\">\n",
            "            <ul class=\"_3Nz34\">\n",
            "             <li>\n",
            "              <a class=\"_2Tz1_\" href=\"/coronavirus-pandemic\">\n",
            "               Coronavirus pandemic\n",
            "              </a>\n",
            "             </li>\n",
            "             <li>\n",
            "              <a class=\"_2Tz1_\" href=\"/education\">\n",
            "               Education\n",
            "              </a>\n",
            "             </li>\n",
            "             <li>\n",
            "              <a class=\"_2Tz1_\" href=\"/topic/university-63k\">\n",
            "               University\n",
            "              </a>\n",
            "             </li>\n",
            "            </ul>\n",
            "           </div>\n",
            "          </div>\n",
            "         </section>\n",
            "         <div class=\"iQMz1\" hidden=\"\">\n",
            "          <div class=\"_2Xaw4\">\n",
            "           <h5 class=\"_3NFLJ\">\n",
            "            <a href=\"/by/natassia-chrysanthos-h17jwj\" title=\"Articles by Natassia Chrysanthos\">\n",
            "             Natassia Chrysanthos\n",
            "            </a>\n",
            "           </h5>\n",
            "           <ul class=\"_2BYUe\">\n",
            "            <li>\n",
            "             <a href=\"//twitter.com/natassiazc?lang=en\" rel=\"noopener noreferrer\" target=\"_blank\">\n",
            "              <span class=\"_3kzaw\">\n",
            "               Twitter\n",
            "              </span>\n",
            "              <svg aria-hidden=\"true\" class=\"QMY9O\" focusable=\"false\" height=\"1em\" width=\"1em\">\n",
            "               <use xlink:href=\"#icon-twitter\">\n",
            "               </use>\n",
            "              </svg>\n",
            "             </a>\n",
            "            </li>\n",
            "            <li>\n",
            "             <a href=\"mailto:n.chrysanthos@smh.com.au\">\n",
            "              <span class=\"_3kzaw\">\n",
            "               Email\n",
            "              </span>\n",
            "              <svg aria-hidden=\"true\" class=\"QMY9O\" focusable=\"false\" height=\"1em\" width=\"1em\">\n",
            "               <use xlink:href=\"#icon-email\">\n",
            "               </use>\n",
            "              </svg>\n",
            "             </a>\n",
            "            </li>\n",
            "           </ul>\n",
            "          </div>\n",
            "          <p class=\"_2g0-m\">\n",
            "           Natassia is the education reporter for The Sydney Morning Herald.\n",
            "          </p>\n",
            "         </div>\n",
            "         <div class=\"iQMz1\" hidden=\"\">\n",
            "          <div class=\"_2Xaw4\">\n",
            "           <h5 class=\"_3NFLJ\">\n",
            "            <a href=\"/by/anna-patty-hvebs\" title=\"Articles by Anna Patty\">\n",
            "             Anna Patty\n",
            "            </a>\n",
            "           </h5>\n",
            "           <ul class=\"_2BYUe\">\n",
            "            <li>\n",
            "             <a href=\"//www.facebook.com/Anna-Patty-1480824402179729\" rel=\"noopener noreferrer\" target=\"_blank\">\n",
            "              <span class=\"_3kzaw\">\n",
            "               Facebook\n",
            "              </span>\n",
            "              <svg aria-hidden=\"true\" class=\"QMY9O\" focusable=\"false\" height=\"1em\" width=\"1em\">\n",
            "               <use xlink:href=\"#icon-facebook\">\n",
            "               </use>\n",
            "              </svg>\n",
            "             </a>\n",
            "            </li>\n",
            "            <li>\n",
            "             <a href=\"//twitter.com/annapattysmh?lang=en\" rel=\"noopener noreferrer\" target=\"_blank\">\n",
            "              <span class=\"_3kzaw\">\n",
            "               Twitter\n",
            "              </span>\n",
            "              <svg aria-hidden=\"true\" class=\"QMY9O\" focusable=\"false\" height=\"1em\" width=\"1em\">\n",
            "               <use xlink:href=\"#icon-twitter\">\n",
            "               </use>\n",
            "              </svg>\n",
            "             </a>\n",
            "            </li>\n",
            "            <li>\n",
            "             <a href=\"mailto:apatty@theage.com.au\">\n",
            "              <span class=\"_3kzaw\">\n",
            "               Email\n",
            "              </span>\n",
            "              <svg aria-hidden=\"true\" class=\"QMY9O\" focusable=\"false\" height=\"1em\" width=\"1em\">\n",
            "               <use xlink:href=\"#icon-email\">\n",
            "               </use>\n",
            "              </svg>\n",
            "             </a>\n",
            "            </li>\n",
            "           </ul>\n",
            "          </div>\n",
            "          <p class=\"_2g0-m\">\n",
            "           Anna Patty is a Senior Writer for The Sydney Morning Herald with a focus on higher education. She is a former Workplace Editor, Education Editor, State Political Reporter and Health Reporter.\n",
            "          </p>\n",
            "         </div>\n",
            "         <div class=\"noPrint\">\n",
            "          <section aria-busy=\"true\" aria-live=\"polite\" class=\"_2zaYr\" style=\"height:380px\">\n",
            "           <header class=\"_2qhpu\">\n",
            "            <h2 class=\"_2qhpu\">\n",
            "             Most Viewed in National\n",
            "            </h2>\n",
            "           </header>\n",
            "           <div class=\"_29X_Z\">\n",
            "            <span class=\"_2wzgv D5idv _3lVFK\">\n",
            "             <span class=\"_29Qt8\">\n",
            "             </span>\n",
            "             <span class=\"_3qqDc\">\n",
            "              Loading\n",
            "             </span>\n",
            "            </span>\n",
            "           </div>\n",
            "          </section>\n",
            "         </div>\n",
            "        </div>\n",
            "        <div class=\"_2QXvK _3xMIO noPrint\">\n",
            "         <div class=\"OUTBRAIN\" data-src=\"https://www.smh.com.au/national/nsw/macquarie-uni-suspends-teaching-for-10-days-to-move-learning-online-20200317-p54avs.html\" data-testid=\"outbrain-top\" data-widget-id=\"AR_3\">\n",
            "         </div>\n",
            "         <div class=\"OUTBRAIN\" data-ob-template=\"SMH\" data-src=\"https://www.smh.com.au/national/nsw/macquarie-uni-suspends-teaching-for-10-days-to-move-learning-online-20200317-p54avs.html\" data-testid=\"outbrain-bottom\" data-widget-id=\"AR_1\">\n",
            "         </div>\n",
            "        </div>\n",
            "       </div>\n",
            "       <aside class=\"_1ki1P noPrint\">\n",
            "        <div class=\"_2MFEO\">\n",
            "         <div class=\"_3DvAw noPrint\" id=\"articlePartnerStories\">\n",
            "          <h3>\n",
            "           From our partners\n",
            "          </h3>\n",
            "          <div class=\"adWrapper _2lnjx\">\n",
            "           <div class=\"_2Tsxq\" id=\"adspot-N-6x2-pos1\">\n",
            "            <div class=\"_2bMG3\">\n",
            "             <div class=\"_1vxqb\">\n",
            "              <svg aria-labelledby=\"Loading 3rd party ad content\" ltr=\"true\" preserveaspectratio=\"none\" role=\"img\" viewbox=\"0 0 96 96\">\n",
            "               <title>\n",
            "                Loading 3rd party ad content\n",
            "               </title>\n",
            "               <rect clip-path=\"url(#ogstej11dnq)\" height=\"96\" style=\"fill:url(#72ob52gxf4m)\" width=\"96\" x=\"0\" y=\"0\">\n",
            "               </rect>\n",
            "               <defs>\n",
            "                <clippath id=\"ogstej11dnq\">\n",
            "                 <rect height=\"96\" rx=\"0\" ry=\"0\" width=\"96\" x=\"0\" y=\"4\">\n",
            "                 </rect>\n",
            "                </clippath>\n",
            "                <lineargradient id=\"72ob52gxf4m\">\n",
            "                 <stop offset=\"0%\" stop-color=\"#f6f6f6\" stop-opacity=\"1\">\n",
            "                  <animate attributename=\"offset\" dur=\"2s\" keytimes=\"0; 0.25; 1\" repeatcount=\"indefinite\" values=\"-2; -2; 1\">\n",
            "                  </animate>\n",
            "                 </stop>\n",
            "                 <stop offset=\"50%\" stop-color=\"#f0f0f0\" stop-opacity=\"1\">\n",
            "                  <animate attributename=\"offset\" dur=\"2s\" keytimes=\"0; 0.25; 1\" repeatcount=\"indefinite\" values=\"-1; -1; 2\">\n",
            "                  </animate>\n",
            "                 </stop>\n",
            "                 <stop offset=\"100%\" stop-color=\"#f6f6f6\" stop-opacity=\"1\">\n",
            "                  <animate attributename=\"offset\" dur=\"2s\" keytimes=\"0; 0.25; 1\" repeatcount=\"indefinite\" values=\"0; 0; 3\">\n",
            "                  </animate>\n",
            "                 </stop>\n",
            "                </lineargradient>\n",
            "               </defs>\n",
            "              </svg>\n",
            "             </div>\n",
            "             <div class=\"he87U\">\n",
            "              <svg aria-labelledby=\"Loading 3rd party ad content\" ltr=\"true\" preserveaspectratio=\"none\" role=\"img\" style=\"height:100px;width:100%\" viewbox=\"0 0 360 100\">\n",
            "               <title>\n",
            "                Loading 3rd party ad content\n",
            "               </title>\n",
            "               <rect clip-path=\"url(#7s0juel980p)\" height=\"100\" style=\"fill:url(#wuo0o3ufq4)\" width=\"360\" x=\"0\" y=\"0\">\n",
            "               </rect>\n",
            "               <defs>\n",
            "                <clippath id=\"7s0juel980p\">\n",
            "                 <rect height=\"14\" rx=\"2\" ry=\"2\" width=\"90\" x=\"0\" y=\"4\">\n",
            "                 </rect>\n",
            "                 <rect class=\"cH9H_\" height=\"18\" rx=\"2\" ry=\"2\" width=\"90%\" x=\"0\" y=\"34\">\n",
            "                 </rect>\n",
            "                 <rect class=\"_9d-2y\" height=\"18\" rx=\"2\" ry=\"2\" width=\"80%\" x=\"0\" y=\"56\">\n",
            "                 </rect>\n",
            "                 <rect class=\"_1k_M1\" height=\"18\" rx=\"2\" ry=\"2\" width=\"70%\" x=\"0\" y=\"78\">\n",
            "                 </rect>\n",
            "                </clippath>\n",
            "                <lineargradient id=\"wuo0o3ufq4\">\n",
            "                 <stop offset=\"0%\" stop-color=\"#f6f6f6\" stop-opacity=\"1\">\n",
            "                  <animate attributename=\"offset\" dur=\"2s\" keytimes=\"0; 0.25; 1\" repeatcount=\"indefinite\" values=\"-2; -2; 1\">\n",
            "                  </animate>\n",
            "                 </stop>\n",
            "                 <stop offset=\"50%\" stop-color=\"#f0f0f0\" stop-opacity=\"1\">\n",
            "                  <animate attributename=\"offset\" dur=\"2s\" keytimes=\"0; 0.25; 1\" repeatcount=\"indefinite\" values=\"-1; -1; 2\">\n",
            "                  </animate>\n",
            "                 </stop>\n",
            "                 <stop offset=\"100%\" stop-color=\"#f6f6f6\" stop-opacity=\"1\">\n",
            "                  <animate attributename=\"offset\" dur=\"2s\" keytimes=\"0; 0.25; 1\" repeatcount=\"indefinite\" values=\"0; 0; 3\">\n",
            "                  </animate>\n",
            "                 </stop>\n",
            "                </lineargradient>\n",
            "               </defs>\n",
            "              </svg>\n",
            "             </div>\n",
            "            </div>\n",
            "           </div>\n",
            "          </div>\n",
            "          <div class=\"adWrapper _2lnjx\">\n",
            "           <div class=\"_1GUN5\" id=\"adspot-N-6x2-pos2\">\n",
            "            <div class=\"_2bMG3\">\n",
            "             <div class=\"_1vxqb\">\n",
            "              <svg aria-labelledby=\"Loading 3rd party ad content\" ltr=\"true\" preserveaspectratio=\"none\" role=\"img\" viewbox=\"0 0 96 96\">\n",
            "               <title>\n",
            "                Loading 3rd party ad content\n",
            "               </title>\n",
            "               <rect clip-path=\"url(#ui9cdzgidpr)\" height=\"96\" style=\"fill:url(#unslkty1fj)\" width=\"96\" x=\"0\" y=\"0\">\n",
            "               </rect>\n",
            "               <defs>\n",
            "                <clippath id=\"ui9cdzgidpr\">\n",
            "                 <rect height=\"96\" rx=\"0\" ry=\"0\" width=\"96\" x=\"0\" y=\"4\">\n",
            "                 </rect>\n",
            "                </clippath>\n",
            "                <lineargradient id=\"unslkty1fj\">\n",
            "                 <stop offset=\"0%\" stop-color=\"#f6f6f6\" stop-opacity=\"1\">\n",
            "                  <animate attributename=\"offset\" dur=\"2s\" keytimes=\"0; 0.25; 1\" repeatcount=\"indefinite\" values=\"-2; -2; 1\">\n",
            "                  </animate>\n",
            "                 </stop>\n",
            "                 <stop offset=\"50%\" stop-color=\"#f0f0f0\" stop-opacity=\"1\">\n",
            "                  <animate attributename=\"offset\" dur=\"2s\" keytimes=\"0; 0.25; 1\" repeatcount=\"indefinite\" values=\"-1; -1; 2\">\n",
            "                  </animate>\n",
            "                 </stop>\n",
            "                 <stop offset=\"100%\" stop-color=\"#f6f6f6\" stop-opacity=\"1\">\n",
            "                  <animate attributename=\"offset\" dur=\"2s\" keytimes=\"0; 0.25; 1\" repeatcount=\"indefinite\" values=\"0; 0; 3\">\n",
            "                  </animate>\n",
            "                 </stop>\n",
            "                </lineargradient>\n",
            "               </defs>\n",
            "              </svg>\n",
            "             </div>\n",
            "             <div class=\"he87U\">\n",
            "              <svg aria-labelledby=\"Loading 3rd party ad content\" ltr=\"true\" preserveaspectratio=\"none\" role=\"img\" style=\"height:100px;width:100%\" viewbox=\"0 0 360 100\">\n",
            "               <title>\n",
            "                Loading 3rd party ad content\n",
            "               </title>\n",
            "               <rect clip-path=\"url(#a6u9vl4d21)\" height=\"100\" style=\"fill:url(#or987zutl6e)\" width=\"360\" x=\"0\" y=\"0\">\n",
            "               </rect>\n",
            "               <defs>\n",
            "                <clippath id=\"a6u9vl4d21\">\n",
            "                 <rect height=\"14\" rx=\"2\" ry=\"2\" width=\"90\" x=\"0\" y=\"4\">\n",
            "                 </rect>\n",
            "                 <rect class=\"cH9H_\" height=\"18\" rx=\"2\" ry=\"2\" width=\"90%\" x=\"0\" y=\"34\">\n",
            "                 </rect>\n",
            "                 <rect class=\"_9d-2y\" height=\"18\" rx=\"2\" ry=\"2\" width=\"80%\" x=\"0\" y=\"56\">\n",
            "                 </rect>\n",
            "                 <rect class=\"_1k_M1\" height=\"18\" rx=\"2\" ry=\"2\" width=\"70%\" x=\"0\" y=\"78\">\n",
            "                 </rect>\n",
            "                </clippath>\n",
            "                <lineargradient id=\"or987zutl6e\">\n",
            "                 <stop offset=\"0%\" stop-color=\"#f6f6f6\" stop-opacity=\"1\">\n",
            "                  <animate attributename=\"offset\" dur=\"2s\" keytimes=\"0; 0.25; 1\" repeatcount=\"indefinite\" values=\"-2; -2; 1\">\n",
            "                  </animate>\n",
            "                 </stop>\n",
            "                 <stop offset=\"50%\" stop-color=\"#f0f0f0\" stop-opacity=\"1\">\n",
            "                  <animate attributename=\"offset\" dur=\"2s\" keytimes=\"0; 0.25; 1\" repeatcount=\"indefinite\" values=\"-1; -1; 2\">\n",
            "                  </animate>\n",
            "                 </stop>\n",
            "                 <stop offset=\"100%\" stop-color=\"#f6f6f6\" stop-opacity=\"1\">\n",
            "                  <animate attributename=\"offset\" dur=\"2s\" keytimes=\"0; 0.25; 1\" repeatcount=\"indefinite\" values=\"0; 0; 3\">\n",
            "                  </animate>\n",
            "                 </stop>\n",
            "                </lineargradient>\n",
            "               </defs>\n",
            "              </svg>\n",
            "             </div>\n",
            "            </div>\n",
            "           </div>\n",
            "          </div>\n",
            "         </div>\n",
            "         <div class=\"_1R0g5\">\n",
            "          <div class=\"sticky-outer-wrapper\">\n",
            "           <div class=\"sticky-inner-wrapper\" style=\"position:relative;top:0px\">\n",
            "            <div class=\"adWrapper _2UMq- noPrint\">\n",
            "             <small class=\"_3ToRr\">\n",
            "              Advertisement\n",
            "             </small>\n",
            "             <div class=\"\" id=\"adspot-300x600_300x250_160x600-pos4\">\n",
            "             </div>\n",
            "            </div>\n",
            "           </div>\n",
            "          </div>\n",
            "         </div>\n",
            "        </div>\n",
            "       </aside>\n",
            "      </section>\n",
            "     </article>\n",
            "     <div class=\"noPrint\">\n",
            "      <div class=\"videoPlayerLoader\">\n",
            "      </div>\n",
            "     </div>\n",
            "    </div>\n",
            "   </main>\n",
            "   <footer class=\"y77aF noPrint\" id=\"footer\">\n",
            "    <div class=\"_39_V0\">\n",
            "     <div class=\"_3uPYr _2AynF\">\n",
            "      <a class=\"_2ABN- YClUs\" href=\"/\">\n",
            "       <h2>\n",
            "        The Sydney Morning Herald\n",
            "       </h2>\n",
            "      </a>\n",
            "     </div>\n",
            "     <ul class=\"_2tZpI\">\n",
            "      <li>\n",
            "       <a href=\"https://twitter.com/smh\">\n",
            "        <span>\n",
            "         Twitter\n",
            "        </span>\n",
            "        <svg aria-hidden=\"true\" class=\"QMY9O\" focusable=\"false\" height=\"1em\" width=\"1em\">\n",
            "         <use xlink:href=\"#icon-twitter\">\n",
            "         </use>\n",
            "        </svg>\n",
            "       </a>\n",
            "      </li>\n",
            "      <li>\n",
            "       <a href=\"http://www.facebook.com/sydneymorningherald\">\n",
            "        <span>\n",
            "         Facebook\n",
            "        </span>\n",
            "        <svg aria-hidden=\"true\" class=\"QMY9O\" focusable=\"false\" height=\"1em\" width=\"1em\">\n",
            "         <use xlink:href=\"#icon-facebook\">\n",
            "         </use>\n",
            "        </svg>\n",
            "       </a>\n",
            "      </li>\n",
            "      <li>\n",
            "       <a href=\"https://www.instagram.com/sydneymorningherald\">\n",
            "        <span>\n",
            "         Instagram\n",
            "        </span>\n",
            "        <svg aria-hidden=\"true\" class=\"QMY9O\" focusable=\"false\" height=\"1em\" width=\"1em\">\n",
            "         <use xlink:href=\"#icon-instagram\">\n",
            "         </use>\n",
            "        </svg>\n",
            "       </a>\n",
            "      </li>\n",
            "      <li>\n",
            "       <a href=\"/rssheadlines\">\n",
            "        <span>\n",
            "         RSS\n",
            "        </span>\n",
            "        <svg aria-hidden=\"true\" class=\"QMY9O\" focusable=\"false\" height=\"1em\" width=\"1em\">\n",
            "         <use xlink:href=\"#icon-rss\">\n",
            "         </use>\n",
            "        </svg>\n",
            "       </a>\n",
            "      </li>\n",
            "     </ul>\n",
            "     <section class=\"_2cb-t\">\n",
            "      <nav class=\"_3WLzB\">\n",
            "       <h3 class=\"_2_Vga\">\n",
            "        <button class=\"_3amNM _17muu\">\n",
            "         <span class=\"_2g7Mb\">\n",
            "          Our Sites\n",
            "         </span>\n",
            "         <span class=\"_2hufO\">\n",
            "          <svg aria-hidden=\"true\" class=\"QMY9O\" focusable=\"false\" height=\"1em\" width=\"12px\">\n",
            "           <use xlink:href=\"#icon-arrowsdown\">\n",
            "           </use>\n",
            "          </svg>\n",
            "         </span>\n",
            "        </button>\n",
            "       </h3>\n",
            "       <ul aria-expanded=\"false\" class=\"_2q5mS\" role=\"region\">\n",
            "        <li>\n",
            "         <a href=\"https://www.smh.com.au\">\n",
            "          The Sydney Morning Herald\n",
            "         </a>\n",
            "        </li>\n",
            "        <li>\n",
            "         <a href=\"https://www.theage.com.au\">\n",
            "          The Age\n",
            "         </a>\n",
            "        </li>\n",
            "        <li>\n",
            "         <a href=\"https://www.brisbanetimes.com.au\">\n",
            "          Brisbane Times\n",
            "         </a>\n",
            "        </li>\n",
            "        <li>\n",
            "         <a href=\"https://www.watoday.com.au\">\n",
            "          WAtoday\n",
            "         </a>\n",
            "        </li>\n",
            "        <li>\n",
            "         <a href=\"https://www.afr.com\">\n",
            "          The Australian Financial Review\n",
            "         </a>\n",
            "        </li>\n",
            "        <li>\n",
            "         <a href=\"https://www.domain.com.au\">\n",
            "          Domain\n",
            "         </a>\n",
            "        </li>\n",
            "        <li>\n",
            "         <a href=\"http://www.traveller.com.au\">\n",
            "          Traveller\n",
            "         </a>\n",
            "        </li>\n",
            "        <li>\n",
            "         <a href=\"https://www.goodfood.com.au\">\n",
            "          Good Food\n",
            "         </a>\n",
            "        </li>\n",
            "        <li>\n",
            "         <a href=\"https://www.drive.com.au\">\n",
            "          Drive\n",
            "         </a>\n",
            "        </li>\n",
            "        <li>\n",
            "         <a href=\"https://www.caradvice.com.au\">\n",
            "          CarAdvice\n",
            "         </a>\n",
            "        </li>\n",
            "        <li>\n",
            "         <a href=\"https://www.rsvp.com.au\">\n",
            "          RSVP\n",
            "         </a>\n",
            "        </li>\n",
            "       </ul>\n",
            "      </nav>\n",
            "      <nav class=\"_3WLzB\">\n",
            "       <h3 class=\"_2_Vga\">\n",
            "        <button class=\"_3amNM _17muu\">\n",
            "         <span class=\"_2g7Mb\">\n",
            "          Classifieds\n",
            "         </span>\n",
            "         <span class=\"_2hufO\">\n",
            "          <svg aria-hidden=\"true\" class=\"QMY9O\" focusable=\"false\" height=\"1em\" width=\"12px\">\n",
            "           <use xlink:href=\"#icon-arrowsdown\">\n",
            "           </use>\n",
            "          </svg>\n",
            "         </span>\n",
            "        </button>\n",
            "       </h3>\n",
            "       <ul aria-expanded=\"false\" class=\"_2q5mS\" role=\"region\">\n",
            "        <li>\n",
            "         <a href=\"http://tributes.smh.com.au/obituaries/smh-au/\">\n",
            "          Tributes\n",
            "         </a>\n",
            "        </li>\n",
            "        <li>\n",
            "         <a href=\"http://celebrations.smh.com.au/celebration/smh-au/\">\n",
            "          Celebrations\n",
            "         </a>\n",
            "        </li>\n",
            "        <li>\n",
            "         <a href=\"https://advertisers.com.au\">\n",
            "          Place your ad\n",
            "         </a>\n",
            "        </li>\n",
            "        <li>\n",
            "         <a href=\"https://www.commercialrealestate.com.au\">\n",
            "          Commercial Real Estate\n",
            "         </a>\n",
            "        </li>\n",
            "        <li>\n",
            "         <a href=\"https://www.oneflare.com.au\">\n",
            "          Oneflare\n",
            "         </a>\n",
            "        </li>\n",
            "       </ul>\n",
            "      </nav>\n",
            "      <nav class=\"_3WLzB\">\n",
            "       <h3 class=\"_2_Vga\">\n",
            "        <button class=\"_3amNM _17muu\">\n",
            "         <span class=\"_2g7Mb\">\n",
            "          The Sydney Morning Herald\n",
            "         </span>\n",
            "         <span class=\"_2hufO\">\n",
            "          <svg aria-hidden=\"true\" class=\"QMY9O\" focusable=\"false\" height=\"1em\" width=\"12px\">\n",
            "           <use xlink:href=\"#icon-arrowsdown\">\n",
            "           </use>\n",
            "          </svg>\n",
            "         </span>\n",
            "        </button>\n",
            "       </h3>\n",
            "       <ul aria-expanded=\"false\" class=\"_2q5mS\" role=\"region\">\n",
            "        <li>\n",
            "         <a href=\"/contact-us\">\n",
            "          Contact &amp; support\n",
            "         </a>\n",
            "        </li>\n",
            "        <li>\n",
            "         <a href=\"https://www.nineforbrands.com.au/advertising-enquiries/\">\n",
            "          Advertise with us\n",
            "         </a>\n",
            "        </li>\n",
            "        <li>\n",
            "         <a href=\"https://smh.myfairfax.com.au/members/lite_session/new?callback_uri=https%3A%2F%2Fsmh.myfairfax.com.au%2Fbeta%2Fmembers%2Fmy_account%2Fnewsletters%3Fchannel_key%3DzHE9EWDHf1XPuz3Phk0YIg%26callback_uri%3Dhttps%253a%252f%252fwww.smh.com.au&amp;channel_key=zHE9EWDHf1XPuz3Phk0YIg\">\n",
            "          Newsletters\n",
            "         </a>\n",
            "        </li>\n",
            "        <li>\n",
            "         <a href=\"/siteguide/accessibility\">\n",
            "          Accessibility guide\n",
            "         </a>\n",
            "        </li>\n",
            "        <li>\n",
            "         <a href=\"/siteguide\">\n",
            "          Sitemap\n",
            "         </a>\n",
            "        </li>\n",
            "        <li>\n",
            "         <a href=\"https://consumer.licensing-publishing.nine.com.au\">\n",
            "          Photo sales\n",
            "         </a>\n",
            "        </li>\n",
            "        <li>\n",
            "         <a href=\"https://thestore.com.au/collections/front-pages\">\n",
            "          Purchase front pages\n",
            "         </a>\n",
            "        </li>\n",
            "        <li>\n",
            "         <a href=\"https://professional.licensing-publishing.nine.com.au\">\n",
            "          Content licensing\n",
            "         </a>\n",
            "        </li>\n",
            "        <li>\n",
            "         <a href=\"/our-events\">\n",
            "          Our events\n",
            "         </a>\n",
            "        </li>\n",
            "        <li>\n",
            "         <a href=\"https://www.nineforbrands.com.au/about/careers/\">\n",
            "          Work with us\n",
            "         </a>\n",
            "        </li>\n",
            "        <li>\n",
            "         <a href=\"/conditions-of-use\">\n",
            "          Conditions of use\n",
            "         </a>\n",
            "        </li>\n",
            "        <li>\n",
            "         <a href=\"/privacy\">\n",
            "          Privacy policy\n",
            "         </a>\n",
            "        </li>\n",
            "        <li>\n",
            "         <a href=\"https://www.presscouncil.org.au/what-we-do\">\n",
            "          Press Council\n",
            "         </a>\n",
            "        </li>\n",
            "       </ul>\n",
            "      </nav>\n",
            "      <nav class=\"_3WLzB\">\n",
            "       <h3 class=\"_2_Vga\">\n",
            "        <button class=\"_3amNM _17muu\">\n",
            "         <span class=\"_2g7Mb\">\n",
            "          Products &amp; Services\n",
            "         </span>\n",
            "         <span class=\"_2hufO\">\n",
            "          <svg aria-hidden=\"true\" class=\"QMY9O\" focusable=\"false\" height=\"1em\" width=\"12px\">\n",
            "           <use xlink:href=\"#icon-arrowsdown\">\n",
            "           </use>\n",
            "          </svg>\n",
            "         </span>\n",
            "        </button>\n",
            "       </h3>\n",
            "       <ul aria-expanded=\"false\" class=\"_2q5mS\" role=\"region\">\n",
            "        <li>\n",
            "         <a href=\"https://subscribe.smh.com.au/?promote_channel=HI_FL_GNL\">\n",
            "          Subscription packages\n",
            "         </a>\n",
            "        </li>\n",
            "        <li>\n",
            "         <a href=\"https://subscribers.smh.com.au\">\n",
            "          Subscriber benefits\n",
            "         </a>\n",
            "        </li>\n",
            "        <li>\n",
            "         <a href=\"https://www.smh.com.au/myaccount\">\n",
            "          My account\n",
            "         </a>\n",
            "        </li>\n",
            "        <li>\n",
            "         <a href=\"https://subscribers.smh.com.au/support-centre/overview\">\n",
            "          Subscriptions FAQs\n",
            "         </a>\n",
            "        </li>\n",
            "        <li>\n",
            "         <a data-ffx-event-action=\"cta click\" data-ffx-event-attribute=\"footer\" data-ffx-event-category=\"component\" data-ffx-event-label=\"todays paper\" data-ffx-hittype=\"event\" href=\"/todays-newspaper\">\n",
            "          Today’s Paper\n",
            "         </a>\n",
            "        </li>\n",
            "        <li>\n",
            "         <a data-ffx-event-action=\"cta click\" data-ffx-event-attribute=\"footer\" data-ffx-event-category=\"component\" data-ffx-event-label=\"crosswords\" data-ffx-hittype=\"event\" href=\"/puzzles/crosswords\">\n",
            "          Daily Crosswords\n",
            "         </a>\n",
            "        </li>\n",
            "       </ul>\n",
            "      </nav>\n",
            "     </section>\n",
            "     <div class=\"_1U4cI\">\n",
            "      <p>\n",
            "       Copyright ©\n",
            "       <!-- -->\n",
            "       2021\n",
            "      </p>\n",
            "      <div class=\"_1Z25A\">\n",
            "       <a class=\"_2W4Zy\" href=\"https://research.smh.com.au/jfe/form/SV_2czMGwDKUbV0QsJ\">\n",
            "        Feedback\n",
            "       </a>\n",
            "       <a class=\"_39qXI\" href=\"https://subscribe.smh.com.au/?promote_channel=HI_FL_GNL\">\n",
            "        Subscribe\n",
            "       </a>\n",
            "      </div>\n",
            "     </div>\n",
            "    </div>\n",
            "   </footer>\n",
            "  </div>\n",
            " </body>\n",
            "</html>\n"
          ],
          "name": "stdout"
        }
      ]
    },
    {
      "cell_type": "markdown",
      "metadata": {
        "id": "8RlCBsYSPkVp"
      },
      "source": [
        "**Try &lt;p&gt;  tag**\n",
        "\n",
        "Using &lt;p&gt;  tag is a common way to extract the main contents of the online news articles. BUT, do not expect this always provides what you want."
      ]
    },
    {
      "cell_type": "code",
      "metadata": {
        "id": "uEx20icxPlDx",
        "colab": {
          "base_uri": "https://localhost:8080/"
        },
        "outputId": "79220c5e-6b6b-465a-fea6-38be4c905481"
      },
      "source": [
        "# The findAll() method returns all the specified tags, it is the same as find_all()\n",
        "# Set text=True will return only the specified tags with the text inside, you can try to set text=False to compare the difference\n",
        "p_tags = soup.findAll('p', text=True) \n",
        "for i, p_tag in enumerate(p_tags): \n",
        "    print(str(i) + str(p_tag))"
      ],
      "execution_count": 2,
      "outputs": [
        {
          "output_type": "stream",
          "text": [
            "0<p>We’re sorry, this service is currently unavailable. Please try again later.</p>\n",
            "1<p>The University of Sydney will suspend all face-to-face teaching from Monday and move fully online while Macquarie University has cancelled classes altogether in order to make the digital transition, revealing one of its students tested positive for COVID-19.</p>\n",
            "2<p>The University of Sydney's 10,000 staff members have been encouraged to work remotely to slow the spread of coronavirus, but the campus Wi-Fi network and facilities will remain open with enhanced cleaning protocols and social distancing measures.</p>\n",
            "3<p>Courses with labs and practical components will be adapted for online or suspended until later in the semester while clinical placements for health students will go ahead under strict guidelines, Vice-Chancellor Michael Spence wrote to staff on Tuesday afternoon.</p>\n",
            "4<p>\"We’ve put a lot of effort and thought into how to do it. I think this is a tremendous opportunity. This could be an interesting pedagogical experiment,\" he said.</p>\n",
            "5<p>\"At the moment we have to spend money to put education online to make sure our students' experience is uninterrupted as possible. There has been an overwhelming response from students that [is what they want].\"</p>\n",
            "6<p>Universities Australia deputy chief executive officer Anne-Marie Lansdown said 39 universities were providing online learning where possible amid the coronavirus pandemic. She said the challenge was increasing the amount of content that can be put online in a very short period of time.</p>\n",
            "7<p>\"For some courses it will be much harder – especially those with significant practical or technical requirements,\" Ms Lansdown said. \"In the case of practical-based learning, where online may not be possible, universities are offering maximum flexibility, including delaying or deferring those components.\"</p>\n",
            "8<p>Macquarie Vice-Chancellor Professor Bruce Dowton said in an email to staff on Tuesday morning that face-to-face and online teaching will be suspended for 12 days from Wednesday while the university transitions to online delivery of lectures and seminars.</p>\n",
            "9<p>\"It will also allow us to redesign campus-based delivery of our units to modes that support social distancing and remote support,\" he said.</p>\n",
            "10<p>Hours later, Macquarie confirmed a student had tested positive for COVID-19 the day before, and that several locations on campus had been cleaned overnight.</p>\n",
            "11<p>\"The current advice is that the rest of campus can continue to operate as normal after the completion of intensive cleaning operations and in line with ... moving to increase online delivery of educational programs,\" a spokesperson said.</p>\n",
            "12<p>But students were concerned they had not been told where the infected student had been on campus and whether some needed to self-isolate.</p>\n",
            "13<p>\"Many of the students are shocked that we could be left in the dark and that the university has not been able to make decisions for weeks about how to handle the virus situation,\" one student, who requested anonymity, said.</p>\n",
            "14<p>The University of NSW on Tuesday confirmed a third student tested positive for COVID-19 and had exhibited mild symptoms while in a three-hour evening science class last week.</p>\n",
            "15<p>Universities around the country are also seeking advice from public health experts on how to minimise the spread of COVID-19 among students living in campus accommodation and other share housing.</p>\n",
            "16<p>The Australian National University said many students congregated in residential halls \"so across our student residences we’re implementing considered social distancing measures for our dining halls, kitchens and self-catering\".</p>\n",
            "17<p>\"We’ve also reformatted social and academic support events and activities so that they have smaller numbers (25 people or less) and in some cases, these will be offered as online connections – we’re being creative to ensure pastoral care and community wellbeing are maintained,\" a spokesperson said.</p>\n",
            "18<p>Dining times have also been extended to allow students to stagger their meals and restrict access to communal utensils.</p>\n",
            "19<p>The University of NSW has asked students who need to self-isolate to avoid communal areas and avoid sharing utensils and tea towels. They have been advised to use separate bathroom and kitchen facilities and to regularly clean shared facilities. They should also wear a surgical mask while in the same room with any other people.</p>\n",
            "20<p class=\"_2g0-m\">Natassia is the education reporter for The Sydney Morning Herald.</p>\n",
            "21<p class=\"_2g0-m\">Anna Patty is a Senior Writer for The Sydney Morning Herald with a focus on higher education. She is a former Workplace Editor, Education Editor, State Political Reporter and Health Reporter.</p>\n"
          ],
          "name": "stdout"
        }
      ]
    },
    {
      "cell_type": "markdown",
      "metadata": {
        "id": "BYnmY30W4kXq"
      },
      "source": [
        "## Punctuation removal"
      ]
    },
    {
      "cell_type": "markdown",
      "metadata": {
        "id": "WUSe0XB142YM"
      },
      "source": [
        "First, let's try to remove punctuation by using an exhaustive list of symbols! "
      ]
    },
    {
      "cell_type": "code",
      "metadata": {
        "id": "zPPA04m5CTS5",
        "colab": {
          "base_uri": "https://localhost:8080/"
        },
        "outputId": "0d0bdfcd-975e-4f4e-e22d-bf268a518400"
      },
      "source": [
        "puncts = [',', '.', '\"', ':', ')', '(', '-', '!', '?', '|', ';', \"'\", '$', '&', '/', '[', ']', '>', '%', '=', '#', '*', '+', '\\\\', '•',  '~', '@', '£', \n",
        " '·', '_', '{', '}', '©', '^', '®', '`',  '<', '→', '°', '€', '™', '›',  '♥', '←', '×', '§', '″', '′', 'Â', '█', '½', 'à', '…', \n",
        " '“', '★', '”', '–', '●', 'â', '►', '−', '¢', '²', '¬', '░', '¶', '↑', '±', '¿', '▾', '═', '¦', '║', '―', '¥', '▓', '—', '‹', '─', \n",
        " '▒', '：', '¼', '⊕', '▼', '▪', '†', '■', '’', '▀', '¨', '▄', '♫', '☆', 'é', '¯', '♦', '¤', '▲', 'è', '¸', '¾', 'Ã', '⋅', '‘', '∞', \n",
        " '∙', '）', '↓', '、', '│', '（', '»', '，', '♪', '╩', '╚', '³', '・', '╦', '╣', '╔', '╗', '▬', '❤', 'ï', 'Ø', '¹', '≤', '‡', '√', ]\n",
        "\n",
        "def remove_punctuation(x):\n",
        "    x = str(x)\n",
        "    for punct in puncts:\n",
        "        if punct in x:\n",
        "            x = x.replace(punct, '')\n",
        "    return x\n",
        "\n",
        "\n",
        "text = \"It's a nice day[]\"\n",
        "print(remove_punctuation(text))\n"
      ],
      "execution_count": 3,
      "outputs": [
        {
          "output_type": "stream",
          "text": [
            "Its a nice day\n"
          ],
          "name": "stdout"
        }
      ]
    },
    {
      "cell_type": "markdown",
      "metadata": {
        "id": "yBYYb37K46gV"
      },
      "source": [
        "Alternatively, what about using regular expressions ([re package](https://docs.python.org/3/library/re.html))?"
      ]
    },
    {
      "cell_type": "code",
      "metadata": {
        "id": "SicWED4146pe",
        "colab": {
          "base_uri": "https://localhost:8080/"
        },
        "outputId": "40cb682a-63ab-4fc5-edad-86b4ee5e4ca7"
      },
      "source": [
        "import re\n",
        "\n",
        "def remove_punctuation_re(x):\n",
        "    x = re.sub(r'[^\\w\\s]','',x)\n",
        "    \n",
        "    return x\n",
        "\n",
        "\n",
        "text = \"It's a nice day[]\"\n",
        "\n",
        "print(remove_punctuation_re(text))"
      ],
      "execution_count": 4,
      "outputs": [
        {
          "output_type": "stream",
          "text": [
            "Its a nice day\n"
          ],
          "name": "stdout"
        }
      ]
    },
    {
      "cell_type": "markdown",
      "metadata": {
        "id": "1D4zy-EAFC2B"
      },
      "source": [
        "Ok. Then what about emoticons?      **:)** or **:D** or **:(**  Some tasks may want you to keep emoticons e.g. sentiment analysis on tweets.\n"
      ]
    },
    {
      "cell_type": "code",
      "metadata": {
        "id": "lhSuQUQn7HHy"
      },
      "source": [
        "#you can find the solution from the TweetTokenizer https://www.nltk.org/_modules/nltk/tokenize/casual.html#TweetTokenizer (search \"EMOTICONS\" in the page)\n",
        "EMOTICONS = r\"\"\"\n",
        "    (?:\n",
        "      [<>]?\n",
        "      [:;=8]                     # eyes\n",
        "      [\\-o\\*\\']?                 # optional nose\n",
        "      [\\)\\]\\(\\[dDpP/\\:\\}\\{@\\|\\\\] # mouth\n",
        "      |\n",
        "      [\\)\\]\\(\\[dDpP/\\:\\}\\{@\\|\\\\] # mouth\n",
        "      [\\-o\\*\\']?                 # optional nose\n",
        "      [:;=8]                     # eyes\n",
        "      [<>]?\n",
        "      |\n",
        "      <3                         # heart\n",
        "    )\"\"\""
      ],
      "execution_count": 5,
      "outputs": []
    },
    {
      "cell_type": "markdown",
      "metadata": {
        "id": "qbr_yUC07HRT"
      },
      "source": [
        "Have a look at some contractions of words! Contractions include punctuation - how would you handle them?\n"
      ]
    },
    {
      "cell_type": "code",
      "metadata": {
        "id": "GM6nYOK__dYw"
      },
      "source": [
        "# These are just common English contractions. There are many edge cases. i.e. University's working on it.\n",
        "contraction_dict = {\"ain't\": \"is not\", \"aren't\": \"are not\",\"can't\": \"cannot\", \"'cause\": \"because\", \"could've\": \"could have\", \n",
        "                    \"couldn't\": \"could not\", \"didn't\": \"did not\",  \"doesn't\": \"does not\", \"don't\": \"do not\", \"hadn't\": \"had not\", \n",
        "                    \"hasn't\": \"has not\", \"haven't\": \"have not\", \"he'd\": \"he would\",\"he'll\": \"he will\", \"he's\": \"he is\", \"how'd\": \"how did\", \n",
        "                    \"how'd'y\": \"how do you\", \"how'll\": \"how will\", \"how's\": \"how is\",  \"I'd\": \"I would\", \"I'd've\": \"I would have\", \n",
        "                    \"I'll\": \"I will\", \"I'll've\": \"I will have\",\"I'm\": \"I am\", \"I've\": \"I have\", \"i'd\": \"i would\", \"i'd've\": \"i would have\", \n",
        "                    \"i'll\": \"i will\",  \"i'll've\": \"i will have\",\"i'm\": \"i am\", \"i've\": \"i have\", \"isn't\": \"is not\", \"it'd\": \"it would\", \n",
        "                    \"it'd've\": \"it would have\", \"it'll\": \"it will\", \"it'll've\": \"it will have\",\"it's\": \"it is\", \"let's\": \"let us\", \n",
        "                    \"ma'am\": \"madam\", \"mayn't\": \"may not\", \"might've\": \"might have\",\"mightn't\": \"might not\",\"mightn't've\": \"might not have\", \n",
        "                    \"must've\": \"must have\", \"mustn't\": \"must not\", \"mustn't've\": \"must not have\", \"needn't\": \"need not\", \"needn't've\": \"need not have\",\n",
        "                    \"o'clock\": \"of the clock\", \"oughtn't\": \"ought not\", \"oughtn't've\": \"ought not have\", \"shan't\": \"shall not\", \"sha'n't\": \"shall not\", \n",
        "                    \"shan't've\": \"shall not have\", \"she'd\": \"she would\", \"she'd've\": \"she would have\", \"she'll\": \"she will\", \"she'll've\": \"she will have\", \n",
        "                    \"she's\": \"she is\", \"should've\": \"should have\", \"shouldn't\": \"should not\", \"shouldn't've\": \"should not have\", \"so've\": \"so have\",\n",
        "                    \"so's\": \"so as\", \"this's\": \"this is\",\"that'd\": \"that would\", \"that'd've\": \"that would have\", \"that's\": \"that is\", \"there'd\": \"there would\", \n",
        "                    \"there'd've\": \"there would have\", \"there's\": \"there is\", \"here's\": \"here is\",\"they'd\": \"they would\", \"they'd've\": \"they would have\", \n",
        "                    \"they'll\": \"they will\", \"they'll've\": \"they will have\", \"they're\": \"they are\", \"they've\": \"they have\", \"to've\": \"to have\", \"wasn't\": \"was not\", \n",
        "                    \"we'd\": \"we would\", \"we'd've\": \"we would have\", \"we'll\": \"we will\", \"we'll've\": \"we will have\", \"we're\": \"we are\", \"we've\": \"we have\", \n",
        "                    \"weren't\": \"were not\", \"what'll\": \"what will\", \"what'll've\": \"what will have\", \"what're\": \"what are\",  \"what's\": \"what is\", \"what've\": \"what have\", \n",
        "                    \"when's\": \"when is\", \"when've\": \"when have\", \"where'd\": \"where did\", \"where's\": \"where is\", \"where've\": \"where have\", \"who'll\": \"who will\", \n",
        "                    \"who'll've\": \"who will have\", \"who's\": \"who is\", \"who've\": \"who have\", \"why's\": \"why is\", \"why've\": \"why have\", \"will've\": \"will have\", \n",
        "                    \"won't\": \"will not\", \"won't've\": \"will not have\", \"would've\": \"would have\", \"wouldn't\": \"would not\", \"wouldn't've\": \"would not have\", \n",
        "                    \"y'all\": \"you all\", \"y'all'd\": \"you all would\",\"y'all'd've\": \"you all would have\",\"y'all're\": \"you all are\",\"y'all've\": \"you all have\",\n",
        "                    \"you'd\": \"you would\", \"you'd've\": \"you would have\", \"you'll\": \"you will\", \"you'll've\": \"you will have\", \"you're\": \"you are\", \"you've\": \"you have\"}"
      ],
      "execution_count": 6,
      "outputs": []
    },
    {
      "cell_type": "markdown",
      "metadata": {
        "id": "fW0bu-886Tp0"
      },
      "source": [
        "## Stopwords removal\n",
        "Stopwords are the most common words in any natural language. For the purpose of analyzing text data and building NLP models, these stopwords might not add much value to the meaning of the document. Generally, the most common words used in a text are “the”, “is”, “in”, “for”, “where”, “when”, “to”, “at” etc.\n",
        "\n"
      ]
    },
    {
      "cell_type": "code",
      "metadata": {
        "id": "vh1rYL3NIavi",
        "colab": {
          "base_uri": "https://localhost:8080/"
        },
        "outputId": "53e610f1-64ea-4e7e-a57b-c32dc53a6ae4"
      },
      "source": [
        "# You must be familiar with it already since we've tried this in Lab 1\n",
        "import nltk\n",
        "nltk.download('punkt')\n",
        "nltk.download('stopwords')\n",
        "\n",
        "from nltk.corpus import stopwords as sw\n",
        "from nltk.tokenize import word_tokenize\n",
        "\n",
        "my_sent = \"Natural Language Processing is fun but challenging.\"\n",
        "tokens = word_tokenize(my_sent)\n",
        "\n",
        "stop_words = sw.words()\n",
        "filtered_sentence = [w for w in tokens if not w in stop_words]\n",
        "\n",
        "print(filtered_sentence)"
      ],
      "execution_count": 7,
      "outputs": [
        {
          "output_type": "stream",
          "text": [
            "[nltk_data] Downloading package punkt to /root/nltk_data...\n",
            "[nltk_data]   Package punkt is already up-to-date!\n",
            "[nltk_data] Downloading package stopwords to /root/nltk_data...\n",
            "[nltk_data]   Package stopwords is already up-to-date!\n",
            "['Natural', 'Language', 'Processing', 'fun', 'challenging', '.']\n"
          ],
          "name": "stdout"
        }
      ]
    },
    {
      "cell_type": "markdown",
      "metadata": {
        "id": "eap6jyY26ovD"
      },
      "source": [
        "## Case-folding\n",
        "How would you handle case? A common strategy is to do case-folding by reducing all letters to lower case"
      ]
    },
    {
      "cell_type": "code",
      "metadata": {
        "id": "yiLKuaoEIbnq",
        "colab": {
          "base_uri": "https://localhost:8080/"
        },
        "outputId": "d4aca515-44db-4d3c-fac1-a780fea541d1"
      },
      "source": [
        "text = \"Hello there!\"\n",
        "#Returns the result of converting all characters in text to lowercase.\n",
        "print(text.lower())\n",
        "\n",
        "\n",
        "#do we need to reduce all letters to lower case?\n",
        "text2 = \"I love University of Sydney :D\"\n",
        "print(text2.lower())"
      ],
      "execution_count": 8,
      "outputs": [
        {
          "output_type": "stream",
          "text": [
            "hello there!\n",
            "i love university of sydney :d\n"
          ],
          "name": "stdout"
        }
      ]
    },
    {
      "cell_type": "markdown",
      "metadata": {
        "id": "L9e4G_t5gCYG"
      },
      "source": [
        "## Stemming\n",
        "Stemming is a process of removing and replacing word suffixes to arrive at a common root form of the word.\n",
        "\n",
        "*   Try various types of NLTK stemmer in [demo](http://text-processing.com/demo/stem/)\n",
        "*   A comparative study of stemming algorithm: [Paper Link](https://pdfs.semanticscholar.org/1c0c/0fa35d4ff8a2f925eb955e48d655494bd167.pdf)\n"
      ]
    },
    {
      "cell_type": "code",
      "metadata": {
        "id": "5FhadZUH607p",
        "colab": {
          "base_uri": "https://localhost:8080/"
        },
        "outputId": "3d875f00-29ba-4ee9-86f4-89f5241b4fcf"
      },
      "source": [
        "#let's try to test with porter algorithm\n",
        "from nltk.stem.porter import *\n",
        "stemmer = PorterStemmer()\n",
        "\n",
        "plurals = ['caresses', 'flies', 'dies', 'mules', 'denied',\n",
        "            'died', 'agreed', 'owned', 'humbled', 'sized',\n",
        "            'meeting', 'stating', 'siezing', 'itemization',\n",
        "            'sensational', 'traditional', 'reference', 'colonizer',\n",
        "            'plotted']\n",
        "singles = [stemmer.stem(plural) for plural in plurals]\n",
        "\n",
        "print(singles)"
      ],
      "execution_count": 9,
      "outputs": [
        {
          "output_type": "stream",
          "text": [
            "['caress', 'fli', 'die', 'mule', 'deni', 'die', 'agre', 'own', 'humbl', 'size', 'meet', 'state', 'siez', 'item', 'sensat', 'tradit', 'refer', 'colon', 'plot']\n"
          ],
          "name": "stdout"
        }
      ]
    },
    {
      "cell_type": "markdown",
      "metadata": {
        "id": "t5Tm9Zj4K8nj"
      },
      "source": [
        "## Lemmatisation\n",
        "\n",
        "Lemmatisation is the process of grouping together the inflected forms of a word so they can be analysed as a single item, identified by the word's lemma, or dictionary form\n"
      ]
    },
    {
      "cell_type": "code",
      "metadata": {
        "id": "q0oIgt5NK8te",
        "colab": {
          "base_uri": "https://localhost:8080/"
        },
        "outputId": "ce9ff6f5-8f18-43bd-f433-dce8ff0c262e"
      },
      "source": [
        "#by NLTK Wordnet\n",
        "nltk.download('wordnet')\n",
        "\n",
        "from nltk.stem import WordNetLemmatizer\n",
        "\n",
        "lemmatizer = WordNetLemmatizer()\n",
        "\n",
        "print(lemmatizer.lemmatize(\"cats\"))\n",
        "print(lemmatizer.lemmatize(\"cacti\"))\n",
        "print(lemmatizer.lemmatize(\"geese\"))\n",
        "print(lemmatizer.lemmatize(\"rocks\"))\n",
        "print(lemmatizer.lemmatize(\"python\"))\n",
        "print(lemmatizer.lemmatize(\"better\", pos=\"a\"))\n",
        "print(lemmatizer.lemmatize(\"best\", pos=\"a\"))\n",
        "print(lemmatizer.lemmatize(\"run\"))\n",
        "print(lemmatizer.lemmatize(\"run\",'v'))"
      ],
      "execution_count": 10,
      "outputs": [
        {
          "output_type": "stream",
          "text": [
            "[nltk_data] Downloading package wordnet to /root/nltk_data...\n",
            "[nltk_data]   Package wordnet is already up-to-date!\n",
            "cat\n",
            "cactus\n",
            "goose\n",
            "rock\n",
            "python\n",
            "good\n",
            "best\n",
            "run\n",
            "run\n"
          ],
          "name": "stdout"
        }
      ]
    },
    {
      "cell_type": "markdown",
      "metadata": {
        "id": "gZQBz4bS63_S"
      },
      "source": [
        "## Tokenisation\n",
        "\n",
        "Given a character sequence and a defined document unit (word, sentence etc.), tokenisation is the task of chopping it up into pieces, called tokens, perhaps at the same time throwing away certain characters, such as punctuation\n",
        "\n",
        "Try various types of NLTK Tokenizer in [demo](http://text-processing.com/demo/tokenize/). \n",
        "\n",
        "[NLTK Tokeniser API Doc](https://www.nltk.org/api/nltk.tokenize.html)"
      ]
    },
    {
      "cell_type": "markdown",
      "metadata": {
        "id": "Jj6FSwVH9pig"
      },
      "source": [
        "**TweetTokenizer: Twitter-aware tokeniser**"
      ]
    },
    {
      "cell_type": "code",
      "metadata": {
        "id": "PLiWA6VAGfyr",
        "colab": {
          "base_uri": "https://localhost:8080/"
        },
        "outputId": "164d6594-b24c-4ef4-8440-bfd495491b78"
      },
      "source": [
        "from nltk.tokenize import TweetTokenizer\n",
        "tknzr = TweetTokenizer()\n",
        "\n",
        "s0 = \"I am so happy :) ;)\" \n",
        "\n",
        "print(tknzr.tokenize(s0))\n",
        "\n",
        "s0 = \"I am so sad :(\"\n",
        "\n",
        "print(tknzr.tokenize(s0))"
      ],
      "execution_count": 11,
      "outputs": [
        {
          "output_type": "stream",
          "text": [
            "['I', 'am', 'so', 'happy', ':)', ';)']\n",
            "['I', 'am', 'so', 'sad', ':(']\n"
          ],
          "name": "stdout"
        }
      ]
    },
    {
      "cell_type": "markdown",
      "metadata": {
        "id": "Q2aUurLvKn90"
      },
      "source": [
        "**TreebankWordTokenizer**\n",
        "\n",
        "The Treebank tokenizer uses regular expressions to tokenize text as in Penn Treebank."
      ]
    },
    {
      "cell_type": "code",
      "metadata": {
        "id": "z79eqDUw9po5",
        "colab": {
          "base_uri": "https://localhost:8080/"
        },
        "outputId": "71e10874-d677-4868-9d1f-a297b24413d9"
      },
      "source": [
        "from nltk.tokenize import TreebankWordTokenizer\n",
        "tknzr = TreebankWordTokenizer()\n",
        "\n",
        "s0 = \"I am so happy :) ;)\" \n",
        "\n",
        "print(tknzr.tokenize(s0))\n",
        "\n",
        "s0 = \"I am so sad :(\"\n",
        "\n",
        "print(tknzr.tokenize(s0))"
      ],
      "execution_count": 12,
      "outputs": [
        {
          "output_type": "stream",
          "text": [
            "['I', 'am', 'so', 'happy', ':', ')', ';', ')']\n",
            "['I', 'am', 'so', 'sad', ':', '(']\n"
          ],
          "name": "stdout"
        }
      ]
    },
    {
      "cell_type": "markdown",
      "metadata": {
        "id": "Ko6A3-sP67AA"
      },
      "source": [
        "# Word Cloud\n",
        "*   [Word Cloud](https://amueller.github.io/word_cloud/index.html)\n",
        "*   [Wikipedia Python](https://pypi.org/project/wikipedia/)\n"
      ]
    },
    {
      "cell_type": "code",
      "metadata": {
        "id": "8RL-2Nl6M8bS",
        "colab": {
          "base_uri": "https://localhost:8080/"
        },
        "outputId": "cca4690b-9fea-4fb5-cdf5-30dcea370923"
      },
      "source": [
        "!pip install wikipedia"
      ],
      "execution_count": 13,
      "outputs": [
        {
          "output_type": "stream",
          "text": [
            "Requirement already satisfied: wikipedia in /usr/local/lib/python3.7/dist-packages (1.4.0)\n",
            "Requirement already satisfied: beautifulsoup4 in /usr/local/lib/python3.7/dist-packages (from wikipedia) (4.6.3)\n",
            "Requirement already satisfied: requests<3.0.0,>=2.0.0 in /usr/local/lib/python3.7/dist-packages (from wikipedia) (2.23.0)\n",
            "Requirement already satisfied: chardet<4,>=3.0.2 in /usr/local/lib/python3.7/dist-packages (from requests<3.0.0,>=2.0.0->wikipedia) (3.0.4)\n",
            "Requirement already satisfied: idna<3,>=2.5 in /usr/local/lib/python3.7/dist-packages (from requests<3.0.0,>=2.0.0->wikipedia) (2.10)\n",
            "Requirement already satisfied: urllib3!=1.25.0,!=1.25.1,<1.26,>=1.21.1 in /usr/local/lib/python3.7/dist-packages (from requests<3.0.0,>=2.0.0->wikipedia) (1.24.3)\n",
            "Requirement already satisfied: certifi>=2017.4.17 in /usr/local/lib/python3.7/dist-packages (from requests<3.0.0,>=2.0.0->wikipedia) (2020.12.5)\n"
          ],
          "name": "stdout"
        }
      ]
    },
    {
      "cell_type": "code",
      "metadata": {
        "id": "ts5qkwsIgWs8",
        "colab": {
          "base_uri": "https://localhost:8080/",
          "height": 198
        },
        "outputId": "0115b4d9-774f-42ca-c813-74f58807105f"
      },
      "source": [
        "from wordcloud import WordCloud\n",
        "import wikipedia\n",
        "\n",
        "# Getting wikipedia contents of \"COVID-19_pandemic\"\n",
        "text = wikipedia.page(\"COVID-19_pandemic\").content\n",
        "\n",
        "# Generate a word cloud image\n",
        "wordcloud = WordCloud().generate(text)\n",
        "\n",
        "# Display the generated image:\n",
        "# the matplotlib way:\n",
        "import matplotlib.pyplot as plt\n",
        "\n",
        "plt.imshow(wordcloud, interpolation='bilinear')\n",
        "plt.axis(\"off\")\n",
        "plt.show()"
      ],
      "execution_count": 14,
      "outputs": [
        {
          "output_type": "display_data",
          "data": {
            "image/png": "[encoded data removed]",
            "text/plain": [
              "<Figure size 432x288 with 1 Axes>"
            ]
          },
          "metadata": {
            "tags": [],
            "needs_background": "light"
          }
        }
      ]
    },
    {
      "cell_type": "markdown",
      "metadata": {
        "id": "_ynb-BNSMJF3"
      },
      "source": [
        "Try more word cloud examples: [Link](https://amueller.github.io/word_cloud/auto_examples/index.html)"
      ]
    },
    {
      "cell_type": "markdown",
      "metadata": {
        "id": "Bgfxjm27_W58"
      },
      "source": [
        "# Saving and Loading Models"
      ]
    },
    {
      "cell_type": "markdown",
      "metadata": {
        "id": "z8L2SD6URVmz"
      },
      "source": [
        "**Saving model**"
      ]
    },
    {
      "cell_type": "code",
      "metadata": {
        "id": "5CIo7H32xssE",
        "colab": {
          "base_uri": "https://localhost:8080/"
        },
        "outputId": "72aa00df-ee22-4d39-e6ae-d247b0aa484a"
      },
      "source": [
        "# Let's train a model first\n",
        "import torch\n",
        "import torch.nn.functional as F\n",
        "import torch.nn as nn\n",
        "import torch.optim as optim\n",
        "import numpy as np\n",
        "import matplotlib.pyplot as plt\n",
        "\n",
        "class TheModelClass(nn.Module):\n",
        "    def __init__(self):\n",
        "        super(TheModelClass, self).__init__()\n",
        "        self.linear = nn.Linear(1, 1)\n",
        "\n",
        "    def forward(self, input):\n",
        "        output = self.linear(input)\n",
        "        return output\n",
        "\n",
        "no_of_epochs = 500\n",
        "display_interval = 20\n",
        "learning_rate=0.01\n",
        "\n",
        "# training data\n",
        "x_training = np.asarray([[1],[2],[5],[8],[9],[12],[14],[16],[18],[20]])\n",
        "y_training = np.asarray([100,200,501,780,901,1201,1399,1598,1800,2000])\n",
        "\n",
        "x_data_torch = torch.from_numpy(x_training).float()\n",
        "y_data_torch = torch.from_numpy(y_training).float() \n",
        "\n",
        "model = TheModelClass()\n",
        "optimizer = optim.SGD(model.parameters(), lr=learning_rate)\n",
        "\n",
        "for epoch in range(no_of_epochs):\n",
        "\n",
        "    # zero the parameter gradients\n",
        "    optimizer.zero_grad()\n",
        "\n",
        "    # forward + backward + optimize\n",
        "    outputs = model(x_data_torch)\n",
        "    loss = torch.sum(torch.pow(outputs-y_data_torch.view(-1,1),2))/(2*x_training.shape[0])\n",
        "    loss.backward()\n",
        "    optimizer.step()\n",
        "\n",
        "    if epoch%display_interval == display_interval-1:\n",
        "        print('Epoch: %d, loss: %.3f' %(epoch + 1, loss.item() ))"
      ],
      "execution_count": 15,
      "outputs": [
        {
          "output_type": "stream",
          "text": [
            "Epoch: 20, loss: 32.166\n",
            "Epoch: 40, loss: 30.787\n",
            "Epoch: 60, loss: 29.545\n",
            "Epoch: 80, loss: 28.426\n",
            "Epoch: 100, loss: 27.419\n",
            "Epoch: 120, loss: 26.511\n",
            "Epoch: 140, loss: 25.694\n",
            "Epoch: 160, loss: 24.958\n",
            "Epoch: 180, loss: 24.295\n",
            "Epoch: 200, loss: 23.698\n",
            "Epoch: 220, loss: 23.160\n",
            "Epoch: 240, loss: 22.676\n",
            "Epoch: 260, loss: 22.240\n",
            "Epoch: 280, loss: 21.847\n",
            "Epoch: 300, loss: 21.493\n",
            "Epoch: 320, loss: 21.174\n",
            "Epoch: 340, loss: 20.887\n",
            "Epoch: 360, loss: 20.629\n",
            "Epoch: 380, loss: 20.396\n",
            "Epoch: 400, loss: 20.186\n",
            "Epoch: 420, loss: 19.998\n",
            "Epoch: 440, loss: 19.827\n",
            "Epoch: 460, loss: 19.674\n",
            "Epoch: 480, loss: 19.536\n",
            "Epoch: 500, loss: 19.412\n"
          ],
          "name": "stdout"
        }
      ]
    },
    {
      "cell_type": "code",
      "metadata": {
        "id": "zxBZETGT3pHZ"
      },
      "source": [
        "# Now we save the trained model to the file named 'filename.pt'\n",
        "torch.save(model, 'filename.pt')"
      ],
      "execution_count": 16,
      "outputs": []
    },
    {
      "cell_type": "markdown",
      "metadata": {
        "id": "ZHlFto63RYdM"
      },
      "source": [
        "**Loading model**"
      ]
    },
    {
      "cell_type": "code",
      "metadata": {
        "id": "cxoYkzWp51Kr",
        "colab": {
          "base_uri": "https://localhost:8080/"
        },
        "outputId": "370bb673-9f70-444b-e6aa-a1172a80158f"
      },
      "source": [
        "# Please note that you have to run the code for defining the TheModelClass in the above section then you can load the model weights from the saved model file\n",
        "the_saved_model = torch.load('filename.pt')\n",
        "the_saved_model.eval()"
      ],
      "execution_count": 17,
      "outputs": [
        {
          "output_type": "execute_result",
          "data": {
            "text/plain": [
              "TheModelClass(\n",
              "  (linear): Linear(in_features=1, out_features=1, bias=True)\n",
              ")"
            ]
          },
          "metadata": {
            "tags": []
          },
          "execution_count": 17
        }
      ]
    },
    {
      "cell_type": "code",
      "metadata": {
        "id": "j13TVA787FYG",
        "colab": {
          "base_uri": "https://localhost:8080/"
        },
        "outputId": "016bb63a-0627-4a6a-8fc9-41aa9f7223e0"
      },
      "source": [
        "prediction = the_saved_model(x_data_torch).detach().numpy()\n",
        "for i in range(len(y_training)):\n",
        "    print('X: %d, Y_true: %d, Y_predict: %.3f'%(x_training[i][0],y_training[i],prediction[i][0]))"
      ],
      "execution_count": 18,
      "outputs": [
        {
          "output_type": "stream",
          "text": [
            "X: 1, Y_true: 100, Y_predict: 99.990\n",
            "X: 2, Y_true: 200, Y_predict: 199.861\n",
            "X: 5, Y_true: 501, Y_predict: 499.474\n",
            "X: 8, Y_true: 780, Y_predict: 799.086\n",
            "X: 9, Y_true: 901, Y_predict: 898.957\n",
            "X: 12, Y_true: 1201, Y_predict: 1198.570\n",
            "X: 14, Y_true: 1399, Y_predict: 1398.311\n",
            "X: 16, Y_true: 1598, Y_predict: 1598.053\n",
            "X: 18, Y_true: 1800, Y_predict: 1797.795\n",
            "X: 20, Y_true: 2000, Y_predict: 1997.536\n"
          ],
          "name": "stdout"
        }
      ]
    },
    {
      "cell_type": "markdown",
      "metadata": {
        "id": "t6iDS4iMSj_L"
      },
      "source": [
        "**How to Save (Upload) the model to your Google Drive**\n",
        "\n",
        "There are various ways to upload the files on Google Drive.\n",
        "\n",
        "[This tutorial](https://colab.research.google.com/notebooks/io.ipynb#scrollTo=RWSJpsyKqHjH) will guide you how to save the files on your Google Drive.\n",
        "\n",
        "1.   Mounting Google Drive locally\n",
        "2.   Create a new Drive file\n"
      ]
    },
    {
      "cell_type": "markdown",
      "metadata": {
        "id": "rxxHsS-lxK7o"
      },
      "source": [
        "# Bi-LSTM with Hidden State Extraction\n",
        "\n",
        "The folllowing image represents a Bi-LSTM for an N to 1 task. In an N to 1 task, it is usually required to extract the last hidden states of forward lstm and backward lstm and combine (concat) them. (Please check the lecture 5 recording, please!)\n",
        "\n",
        "Bi-LSTM: Bidirectional LSTM, which means the signal propagates backward as well as forward in time.\n",
        "\n",
        "![alt text](https://usydnlpgroup.files.wordpress.com/2020/03/bi-lstm_nto1-e1585416735686.png)"
      ]
    },
    {
      "cell_type": "markdown",
      "metadata": {
        "id": "AglSfOJyMot4"
      },
      "source": [
        "## nn.Embedding\n",
        "In lab4 E2, we provide the embeddings for each token in each sentence. These are constructed by the pre-trained word embedding model. For example, if the sequence length of the corpus is 8 (think about why we want a uniform sequence length for the whole dataset), the embedding for the sentence \"i am crazy in love\" should be $[W_{i}, W_{am}, W_{crazy}，W_{in}, W_{love}, W_{[PAD]}, W_{[PAD]}, W_{[PAD]}]$(if you choose post-padding) or $[W_{[PAD]}, W_{[PAD]},W_{[PAD]}, W_{i}, W_{am}, W_{crazy}，W_{in}, W_{love}]$(if you choose pre-padding).\n",
        "\n",
        "Therefore, after getting the embedding of each sentence, you will get a tensor with the shape of (train_size, seq_length, emb_dimension). However, if these three values (train_size, seq_length, emb_dimension) are large enough, you might get Out-Of-Memory(OOM) problem due to limited CPU/GPU.\n",
        "\n",
        "One solution is using **nn.Embedding** as a lookup table to get the embedding for each token/word during the training process instead of generating them all beforehand. (You should have already seen it before in the lab4 E2 sample solution).\n"
      ]
    },
    {
      "cell_type": "code",
      "metadata": {
        "id": "7yf5iTXwbSbu"
      },
      "source": [
        "# Toy Data for sentiment analysis\n",
        "sentences = [['i','like','that'],\n",
        "             ['i','love','it'],\n",
        "             ['i','hate','that'],\n",
        "             ['i','do','not','like','it']]\n",
        "labels = [\"Positive\",\"Positive\",\"Negative\",\"Negative\"]"
      ],
      "execution_count": 19,
      "outputs": []
    },
    {
      "cell_type": "code",
      "metadata": {
        "colab": {
          "base_uri": "https://localhost:8080/"
        },
        "id": "o4BPx7dgP2XO",
        "outputId": "6f759fd9-48ba-4fdd-fba8-c04fd7ab2ac8"
      },
      "source": [
        "# Set is a hashtable in python\n",
        "word_set = set() \n",
        "for sent in sentences:\n",
        "    for word in sent:\n",
        "        word_set.add(word)\n",
        "# Sometimes you can use same token to present PAD and UNKOWN if you just want to set them as all zeros\n",
        "word_set.add('[PAD]')\n",
        "word_set.add('[UNKNOWN]')\n",
        "\n",
        "word_list = list(word_set) \n",
        "# Although in some python versions, converting a set to list will return a ordered result, \n",
        "# It is still highly recommended that you sort this list to make sure the reproducibility of your code\n",
        "word_list.sort()\n",
        "print(word_list)\n",
        "\n",
        "word_index = {}\n",
        "ind = 0\n",
        "for word in word_list:\n",
        "    word_index[word] = ind\n",
        "    ind += 1\n",
        "print(word_index)"
      ],
      "execution_count": 20,
      "outputs": [
        {
          "output_type": "stream",
          "text": [
            "['[PAD]', '[UNKNOWN]', 'do', 'hate', 'i', 'it', 'like', 'love', 'not', 'that']\n",
            "{'[PAD]': 0, '[UNKNOWN]': 1, 'do': 2, 'hate': 3, 'i': 4, 'it': 5, 'like': 6, 'love': 7, 'not': 8, 'that': 9}\n"
          ],
          "name": "stdout"
        }
      ]
    },
    {
      "cell_type": "code",
      "metadata": {
        "colab": {
          "base_uri": "https://localhost:8080/"
        },
        "id": "PTH00TdBUdcr",
        "outputId": "1e47eb7e-dc4a-4141-9714-c344f30e9dc3"
      },
      "source": [
        "# Convert the sentences to the word index\n",
        "len_list = [len(s) for s in sentences]\n",
        "seq_length = max(len_list)\n",
        "\n",
        "def encode_and_add_padding(sentences, seq_length, word_index):\n",
        "    sent_encoded = []\n",
        "    for sent in sentences:\n",
        "        temp_encoded = [word_index[word] for word in sent]\n",
        "        if len(temp_encoded) < seq_length:\n",
        "            temp_encoded += [word_index['[PAD]']] * (seq_length - len(temp_encoded))\n",
        "        sent_encoded.append(temp_encoded)\n",
        "    return sent_encoded\n",
        "\n",
        "sent_encoded = encode_and_add_padding(sentences, seq_length, word_index)\n",
        "print(sent_encoded)"
      ],
      "execution_count": 21,
      "outputs": [
        {
          "output_type": "stream",
          "text": [
            "[[4, 6, 9, 0, 0], [4, 7, 5, 0, 0], [4, 3, 9, 0, 0], [4, 2, 8, 6, 5]]\n"
          ],
          "name": "stdout"
        }
      ]
    },
    {
      "cell_type": "code",
      "metadata": {
        "id": "KlQM7sUGV5rv"
      },
      "source": [
        "# Download Pre-trained Embedding\n",
        "import gensim.downloader as api\n",
        "word_emb_model = api.load(\"glove-twitter-25\")"
      ],
      "execution_count": 22,
      "outputs": []
    },
    {
      "cell_type": "code",
      "metadata": {
        "id": "d8qy1GsrXRRE",
        "colab": {
          "base_uri": "https://localhost:8080/"
        },
        "outputId": "648b855a-7830-452c-e121-64f8d183b199"
      },
      "source": [
        "# Create the Embedding lookup table\n",
        "import numpy as np\n",
        "emb_dim = word_emb_model.vector_size\n",
        "\n",
        "emb_table = []\n",
        "for i, word in enumerate(word_list):\n",
        "    if word in word_emb_model:\n",
        "        emb_table.append(word_emb_model[word])\n",
        "    else:\n",
        "        emb_table.append([0]*emb_dim)\n",
        "emb_table = np.array(emb_table)\n",
        "    \n",
        "print(emb_table)"
      ],
      "execution_count": 23,
      "outputs": [
        {
          "output_type": "stream",
          "text": [
            "[[ 0.00000000e+00  0.00000000e+00  0.00000000e+00  0.00000000e+00\n",
            "   0.00000000e+00  0.00000000e+00  0.00000000e+00  0.00000000e+00\n",
            "   0.00000000e+00  0.00000000e+00  0.00000000e+00  0.00000000e+00\n",
            "   0.00000000e+00  0.00000000e+00  0.00000000e+00  0.00000000e+00\n",
            "   0.00000000e+00  0.00000000e+00  0.00000000e+00  0.00000000e+00\n",
            "   0.00000000e+00  0.00000000e+00  0.00000000e+00  0.00000000e+00\n",
            "   0.00000000e+00]\n",
            " [ 0.00000000e+00  0.00000000e+00  0.00000000e+00  0.00000000e+00\n",
            "   0.00000000e+00  0.00000000e+00  0.00000000e+00  0.00000000e+00\n",
            "   0.00000000e+00  0.00000000e+00  0.00000000e+00  0.00000000e+00\n",
            "   0.00000000e+00  0.00000000e+00  0.00000000e+00  0.00000000e+00\n",
            "   0.00000000e+00  0.00000000e+00  0.00000000e+00  0.00000000e+00\n",
            "   0.00000000e+00  0.00000000e+00  0.00000000e+00  0.00000000e+00\n",
            "   0.00000000e+00]\n",
            " [ 1.64769995e+00  1.29030004e-01  7.69110024e-01 -3.08539998e-02\n",
            "   2.75059998e-01 -4.92980003e-01  8.20599973e-01 -1.25589997e-01\n",
            "   5.70680022e-01 -7.98979998e-01 -1.69120002e+00 -1.76559997e+00\n",
            "  -5.31860018e+00 -1.25109994e+00 -7.30130017e-01 -9.06970024e-01\n",
            "  -1.09319997e+00 -5.36339998e-01  1.79670006e-01 -1.62469995e+00\n",
            "  -2.91760010e-03  1.31840003e+00  4.55940008e-01  3.68200004e-01\n",
            "   8.75909984e-01]\n",
            " [ 6.65229976e-01  7.37760007e-01  2.29579993e-02  1.31770000e-01\n",
            "  -7.06300020e-01  6.46420002e-01  2.10680008e+00 -5.60580015e-01\n",
            "  -7.03520000e-01  8.38069975e-01 -1.14250004e+00 -9.27250013e-02\n",
            "  -4.43779993e+00 -7.62220025e-01  1.82490006e-01  7.24720001e-01\n",
            "   6.00109994e-03 -7.36519992e-01  2.35920004e-03 -3.48300010e-01\n",
            "   6.52300000e-01  1.01479995e+00  1.95040002e-01 -3.15840006e-01\n",
            "  -5.09710014e-01]\n",
            " [-2.60789990e-01  5.91080010e-01  6.16219997e-01 -7.03679979e-01\n",
            "  -8.51589978e-01 -2.32380003e-01  1.04809999e+00  6.66420013e-02\n",
            "  -5.49070001e-01  7.00469971e-01 -8.72210026e-01 -1.39539996e-02\n",
            "  -5.96710014e+00 -4.31059986e-01 -9.15400028e-01  5.37440002e-01\n",
            "   5.70990026e-01 -2.71809995e-01 -8.41780007e-01 -5.96819997e-01\n",
            "   4.51599985e-01  3.40970010e-01  7.68690035e-02  2.28400007e-01\n",
            "   2.75799990e-01]\n",
            " [ 1.67579994e-01  2.14340001e-01 -9.30859968e-02  1.63790002e-01\n",
            "  -6.00009978e-01 -3.71030010e-02  1.85769999e+00 -2.43059993e-01\n",
            "  -4.48639989e-01  2.87339985e-01 -4.36089993e-01  1.08389997e+00\n",
            "  -6.03849983e+00 -1.48719996e-01  3.18430007e-01  8.26300010e-02\n",
            "   4.75620002e-01 -5.00899971e-01 -9.93840024e-02 -1.80340007e-01\n",
            "  -1.06140003e-01  1.52380005e-01  3.25320005e-01  7.37950027e-01\n",
            "  -4.08589989e-01]\n",
            " [ 6.80039972e-02  1.07369997e-01  6.12919986e-01  3.54460001e-01\n",
            "  -2.85759985e-01  4.40950006e-01  1.75740004e+00 -7.90570024e-03\n",
            "  -6.65610015e-01  2.04329997e-01 -5.14209986e-01  4.67970014e-01\n",
            "  -5.34899998e+00 -9.97460008e-01 -1.20690003e-01  1.14330001e-01\n",
            "   3.73549998e-01 -9.72190022e-01 -8.97469968e-02 -1.49820000e-01\n",
            "   3.41410011e-01  5.89869976e-01  5.12260020e-01 -6.50900006e-02\n",
            "  -6.88169971e-02]\n",
            " [-6.26450002e-01 -8.23889971e-02  7.05379993e-02  5.78199983e-01\n",
            "  -8.71990025e-01 -1.48159996e-01  2.23149991e+00  9.85729992e-01\n",
            "  -1.31540000e+00 -3.49209994e-01 -8.84700000e-01  1.45850003e-01\n",
            "  -4.96999979e+00 -7.33690023e-01 -9.43589985e-01  3.58589999e-02\n",
            "  -2.67329998e-02 -7.75380015e-01 -3.00139993e-01  4.88530010e-01\n",
            "  -1.66779995e-01 -1.66510008e-02 -5.31639993e-01  6.42359972e-01\n",
            "  -1.09219998e-01]\n",
            " [ 3.53769988e-01  3.26040000e-01 -2.26820007e-01 -3.24119985e-01\n",
            "  -1.85550004e-01  1.48599997e-01  1.39139998e+00 -6.51539981e-01\n",
            "  -3.81969988e-01  1.71289995e-01 -4.34049994e-01  3.91539991e-01\n",
            "  -5.79180002e+00 -2.02010006e-01 -2.32160002e-01 -1.06380001e-01\n",
            "   7.08350018e-02 -2.14599997e-01 -9.43849981e-02 -1.08510005e+00\n",
            "   6.16829991e-01  8.21839988e-01 -3.51020008e-01  1.91770002e-01\n",
            "  -4.38180000e-01]\n",
            " [ 2.08230004e-01  2.24759996e-01 -7.09490031e-02  2.39170000e-01\n",
            "  -3.60760003e-01 -2.34430000e-01  1.86329997e+00 -4.57300007e-01\n",
            "  -4.08939987e-01 -5.50789982e-02 -1.15989998e-01  1.05680001e+00\n",
            "  -6.26140022e+00 -2.49119997e-01  3.71230006e-01  2.18909994e-01\n",
            "   6.79260015e-01 -3.55850011e-01  1.84410006e-01 -1.18210003e-01\n",
            "   5.88060021e-01  5.99160016e-01  4.08829987e-01  1.58739999e-01\n",
            "  -5.53380013e-01]]\n"
          ],
          "name": "stdout"
        }
      ]
    },
    {
      "cell_type": "code",
      "metadata": {
        "colab": {
          "base_uri": "https://localhost:8080/"
        },
        "id": "OVuQAwJrbUSJ",
        "outputId": "648c6b43-5257-4b3e-cb9c-94e59d008505"
      },
      "source": [
        "# LabelEncoder can help us encode target labels with value between 0 and n_classes-1.\n",
        "# Details can be found from: https://scikit-learn.org/stable/modules/generated/sklearn.preprocessing.LabelEncoder.html\n",
        "from sklearn.preprocessing import LabelEncoder\n",
        "\n",
        "lEnc = LabelEncoder()\n",
        "lEnc.fit(labels)\n",
        "label_encoded= lEnc.transform(labels)\n",
        "\n",
        "print(label_encoded)\n",
        "print(labels)"
      ],
      "execution_count": 24,
      "outputs": [
        {
          "output_type": "stream",
          "text": [
            "[1 1 0 0]\n",
            "['Positive', 'Positive', 'Negative', 'Negative']\n"
          ],
          "name": "stdout"
        }
      ]
    },
    {
      "cell_type": "code",
      "metadata": {
        "id": "FhridrFgxSPD"
      },
      "source": [
        "vocab_size = len(word_list)\n",
        "unique_labels = np.unique(labels)\n",
        "n_class = len(unique_labels)\n",
        "n_hidden = 32\n",
        "learning_rate = 0.01\n",
        "total_epoch = 10"
      ],
      "execution_count": 25,
      "outputs": []
    },
    {
      "cell_type": "code",
      "metadata": {
        "id": "ffYFrRaE1Ju5",
        "colab": {
          "base_uri": "https://localhost:8080/"
        },
        "outputId": "0d590bf2-ce85-4d10-c1a0-29e4238849a9"
      },
      "source": [
        "import torch\n",
        "import torch.nn as nn\n",
        "import torch.nn.functional as F\n",
        "import torch.optim as optim\n",
        "from sklearn.metrics import accuracy_score\n",
        "\n",
        "device = torch.device(\"cuda\" if torch.cuda.is_available() else \"cpu\")\n",
        "\n",
        "class Bi_LSTM_Emb(nn.Module):\n",
        "    def __init__(self):\n",
        "        super(Bi_LSTM_Emb, self).__init__()\n",
        "        self.emb = nn.Embedding(vocab_size, emb_dim)\n",
        "        # Initialize the Embedding layer with the lookup table we created \n",
        "        self.emb.weight.data.copy_(torch.from_numpy(emb_table))\n",
        "        # Optional: set requires_grad = False to make this lookup table untrainable\n",
        "        # self.emb.weight.requires_grad = False\n",
        "\n",
        "        self.lstm = nn.LSTM(emb_dim, n_hidden, batch_first =True, bidirectional=True)\n",
        "        self.linear = nn.Linear(n_hidden*2, n_class)\n",
        "\n",
        "    def forward(self, x):\n",
        "        # Get the embeded tensor\n",
        "        x = self.emb(x)        \n",
        "        # we will use the returned h_n of shape (num_layers * num_directions, batch, hidden_size): tensor containing the hidden state for t = seq_len.\n",
        "        # details of the outputs from nn.LSTM can be found from: https://pytorch.org/docs/stable/generated/torch.nn.LSTM.html\n",
        "        lstm_out, (h_n,c_n) = self.lstm(x)\n",
        "        # concat the last hidden state from two direction\n",
        "        hidden_out =torch.cat((h_n[0,:,:],h_n[1,:,:]),1)\n",
        "        z = self.linear(hidden_out)\n",
        "        return z\n",
        "\n",
        "# Move the model to GPU\n",
        "model = Bi_LSTM_Emb().to(device)\n",
        "# Loss function and optimizer\n",
        "criterion = nn.CrossEntropyLoss()\n",
        "optimizer = optim.Adam(model.parameters(), lr=learning_rate)\n",
        "\n",
        "# Preparing input\n",
        "input_torch = torch.from_numpy(np.array(sent_encoded)).to(device)\n",
        "targe_torch = torch.from_numpy(np.array(label_encoded)).view(-1).to(device)\n",
        "\n",
        "\n",
        "for epoch in range(total_epoch):  \n",
        "    \n",
        "    # Set the flag to training\n",
        "    model.train()\n",
        "    \n",
        "    # forward + backward + optimize\n",
        "    optimizer.zero_grad()\n",
        "    outputs = model(input_torch) \n",
        "    loss = criterion(outputs, targe_torch)\n",
        "    loss.backward()\n",
        "    optimizer.step()\n",
        "    \n",
        "    predicted = torch.argmax(outputs, -1)\n",
        "    acc= accuracy_score(predicted.cpu().numpy(),targe_torch.cpu().numpy())\n",
        "\n",
        "    print('Epoch: %d, loss: %.5f, train_acc: %.2f' %(epoch + 1, loss.item(), acc))\n",
        "\n",
        "print('Finished Training')\n",
        "\n",
        "\n"
      ],
      "execution_count": 26,
      "outputs": [
        {
          "output_type": "stream",
          "text": [
            "Epoch: 1, loss: 0.69548, train_acc: 0.50\n",
            "Epoch: 2, loss: 0.62066, train_acc: 0.75\n",
            "Epoch: 3, loss: 0.55080, train_acc: 0.75\n",
            "Epoch: 4, loss: 0.47745, train_acc: 0.75\n",
            "Epoch: 5, loss: 0.39895, train_acc: 0.75\n",
            "Epoch: 6, loss: 0.31585, train_acc: 1.00\n",
            "Epoch: 7, loss: 0.23069, train_acc: 1.00\n",
            "Epoch: 8, loss: 0.14835, train_acc: 1.00\n",
            "Epoch: 9, loss: 0.08014, train_acc: 1.00\n",
            "Epoch: 10, loss: 0.03747, train_acc: 1.00\n",
            "Finished Training\n"
          ],
          "name": "stdout"
        }
      ]
    },
    {
      "cell_type": "code",
      "metadata": {
        "id": "kal8eNsMezo_",
        "colab": {
          "base_uri": "https://localhost:8080/"
        },
        "outputId": "b41f272c-2c89-4a7d-b6d0-e29eaab7faf8"
      },
      "source": [
        "# You can check whether model.emb.weight changed\n",
        "# You can also try to comment self.emb.weight.requires_grad = False and then train the model and check again\n",
        "print(model.emb.weight)"
      ],
      "execution_count": 27,
      "outputs": [
        {
          "output_type": "stream",
          "text": [
            "Parameter containing:\n",
            "tensor([[-2.2890e-03, -8.4043e-02, -8.6589e-02, -3.6060e-02, -7.3638e-02,\n",
            "         -3.3174e-02, -7.8907e-02,  2.3799e-02,  7.7564e-02, -8.2469e-02,\n",
            "          8.7146e-02, -7.0297e-02,  4.4890e-02,  7.2598e-02, -5.2777e-02,\n",
            "         -1.6596e-02,  9.2562e-02, -7.5815e-02,  5.0648e-02,  4.9406e-02,\n",
            "         -1.1305e-02, -8.4661e-02, -7.8074e-02, -7.1980e-02,  1.7167e-02],\n",
            "        [ 0.0000e+00,  0.0000e+00,  0.0000e+00,  0.0000e+00,  0.0000e+00,\n",
            "          0.0000e+00,  0.0000e+00,  0.0000e+00,  0.0000e+00,  0.0000e+00,\n",
            "          0.0000e+00,  0.0000e+00,  0.0000e+00,  0.0000e+00,  0.0000e+00,\n",
            "          0.0000e+00,  0.0000e+00,  0.0000e+00,  0.0000e+00,  0.0000e+00,\n",
            "          0.0000e+00,  0.0000e+00,  0.0000e+00,  0.0000e+00,  0.0000e+00],\n",
            "        [ 1.7037e+00,  2.1458e-01,  8.5135e-01, -1.1940e-01,  3.5287e-01,\n",
            "         -4.1929e-01,  8.8718e-01, -1.7753e-01,  6.5412e-01, -7.1046e-01,\n",
            "         -1.7793e+00, -1.8246e+00, -5.2556e+00, -1.3392e+00, -6.8427e-01,\n",
            "         -8.3402e-01, -1.1815e+00, -4.4965e-01,  2.7166e-01, -1.6813e+00,\n",
            "          4.8494e-02,  1.4032e+00,  4.8451e-01,  4.2749e-01,  7.9228e-01],\n",
            "        [ 7.3300e-01,  8.0602e-01,  9.8597e-02,  3.4895e-02, -6.1624e-01,\n",
            "          6.6756e-01,  2.1918e+00, -6.2037e-01, -6.1139e-01,  9.3048e-01,\n",
            "         -1.2364e+00, -1.5716e-01, -4.3821e+00, -8.5214e-01,  2.5143e-01,\n",
            "          8.2242e-01, -8.8158e-02, -6.4050e-01,  9.5110e-02, -4.1057e-01,\n",
            "          7.1816e-01,  1.0826e+00,  2.5517e-01, -2.9268e-01, -6.0370e-01],\n",
            "        [-2.5663e-01,  6.5108e-01,  6.5590e-01, -6.3512e-01, -8.1005e-01,\n",
            "         -2.2124e-01,  1.0778e+00,  1.5753e-01, -6.1139e-01,  6.2370e-01,\n",
            "         -7.9911e-01, -3.3581e-02, -5.9276e+00, -4.4154e-01, -1.0068e+00,\n",
            "          5.3905e-01,  6.5282e-01, -3.3827e-01, -9.2696e-01, -5.5327e-01,\n",
            "          3.7141e-01,  3.1617e-01,  4.2541e-02,  1.3610e-01,  3.0941e-01],\n",
            "        [ 1.7861e-01,  2.3937e-01, -3.9013e-02,  2.6050e-01, -6.5243e-01,\n",
            "         -5.8382e-02,  1.9343e+00, -1.8909e-01, -5.4577e-01,  3.0826e-01,\n",
            "         -3.4255e-01,  1.1728e+00, -6.0937e+00, -2.1018e-01,  2.4792e-01,\n",
            "          9.4177e-02,  5.4185e-01, -5.3659e-01, -1.6282e-01, -2.1094e-01,\n",
            "         -1.7061e-01,  2.0580e-01,  3.8428e-01,  8.3244e-01, -3.9448e-01],\n",
            "        [-2.4282e-02,  5.0869e-02,  5.8114e-01,  4.5117e-01, -3.4818e-01,\n",
            "          4.1893e-01,  1.7836e+00,  8.4678e-02, -7.6185e-01,  1.1389e-01,\n",
            "         -4.2217e-01,  5.2993e-01, -5.4420e+00, -1.0095e+00, -2.1413e-01,\n",
            "          2.3211e-02,  4.6798e-01, -1.0648e+00, -1.8567e-01, -6.2696e-02,\n",
            "          2.5102e-01,  5.8927e-01,  4.8656e-01, -7.5701e-03,  2.3001e-02],\n",
            "        [-6.8981e-01, -1.4445e-01, -1.4113e-02,  6.7346e-01, -9.2360e-01,\n",
            "         -1.3958e-01,  2.1446e+00,  1.0487e+00, -1.4062e+00, -4.4223e-01,\n",
            "         -7.9285e-01,  2.0992e-01, -5.0591e+00, -6.5159e-01, -1.0339e+00,\n",
            "         -5.3665e-02,  6.8279e-02, -8.7021e-01, -3.9294e-01,  5.5215e-01,\n",
            "         -2.2932e-01, -8.1043e-02, -5.7108e-01,  6.2134e-01, -1.6280e-02],\n",
            "        [ 3.9597e-01,  3.8638e-01, -1.4995e-01, -4.1800e-01, -9.8215e-02,\n",
            "          1.9463e-01,  1.4776e+00, -6.9007e-01, -3.3779e-01,  2.6009e-01,\n",
            "         -5.2262e-01,  3.4823e-01, -5.8209e+00, -2.4180e-01, -1.7928e-01,\n",
            "         -1.7185e-02, -1.9900e-02, -1.2263e-01, -1.0763e-03, -1.1456e+00,\n",
            "          6.5457e-01,  9.0999e-01, -2.8574e-01,  2.7002e-01, -4.8126e-01],\n",
            "        [ 2.8072e-01,  2.3973e-01, -5.2167e-02,  2.0331e-01, -4.4118e-01,\n",
            "         -2.9515e-01,  1.9289e+00, -5.0749e-01, -3.9102e-01,  1.9080e-02,\n",
            "         -1.5966e-01,  9.7495e-01, -6.2678e+00, -2.6956e-01,  4.3954e-01,\n",
            "          2.4890e-01,  6.7588e-01, -3.3799e-01,  1.9770e-01, -1.7237e-01,\n",
            "          6.7009e-01,  6.3751e-01,  4.9390e-01,  1.7372e-01, -5.6874e-01]],\n",
            "       device='cuda:0', requires_grad=True)\n"
          ],
          "name": "stdout"
        }
      ]
    },
    {
      "cell_type": "markdown",
      "metadata": {
        "id": "sr2KEpT8EVnL"
      },
      "source": [
        "# Exercise"
      ]
    },
    {
      "cell_type": "markdown",
      "metadata": {
        "id": "GyJ0EurQEfVe"
      },
      "source": [
        "## E1. Briefly describe the difference between Stemming and Lemmatisation.\n",
        "Please write down your answer below in your own words with **examples**"
      ]
    },
    {
      "cell_type": "markdown",
      "metadata": {
        "id": "nxvu2s-QEy4c"
      },
      "source": [
        "Your answer:\n",
        "Stemming and Lemmatisation are both forms of Text Processing. \n",
        "\n",
        "Stemming crudely removes the stem of words, also known as affixes, to reach a common root amongst words. However, this often leads to incorrect spelling of words and meanings. For example, the sentence “NLP tasks needs to do text pre-processing” will be reduced to “NLP task need to do text pre-process”. \n",
        "\n",
        "Lemmatisation takes into account of the context the word is in and converts the word to a meaningful base form. However, it needs to find the correct headword from a specified word dictionary. Whereas, stemming does not require external libraries as it only removes affixes in place. For example, under lemmatisation the words teaching, teaches, teacher and teachable will be converted to the base form teach."
      ]
    },
    {
      "cell_type": "markdown",
      "metadata": {
        "id": "z9dPCF1BMNpv"
      },
      "source": [
        "## E2. Preprocessing and Model Saving\n",
        "In this exercise, you are to preprocess the train and test data, and apply different pre-trained embeddings.\n",
        "\n",
        "**Note**: We won't mark your exercise based on the test set performance, we will only check whether the preprocessing part and embedding part are correct.\n",
        "\n"
      ]
    },
    {
      "cell_type": "code",
      "metadata": {
        "id": "jKxN3z5FPRcw"
      },
      "source": [
        "import torch\n",
        "#You can enable GPU here (cuda); or just CPU\n",
        "device = torch.device(\"cuda\" if torch.cuda.is_available() else \"cpu\")"
      ],
      "execution_count": 28,
      "outputs": []
    },
    {
      "cell_type": "markdown",
      "metadata": {
        "id": "DC69XgVlLuPi"
      },
      "source": [
        "### Download Dataset"
      ]
    },
    {
      "cell_type": "code",
      "metadata": {
        "id": "zl7OaslvLuPo"
      },
      "source": [
        "# Code to download file into Colaboratory:\n",
        "!pip install -U -q PyDrive\n",
        "from pydrive.auth import GoogleAuth\n",
        "from pydrive.drive import GoogleDrive\n",
        "from google.colab import auth\n",
        "from oauth2client.client import GoogleCredentials\n",
        "# Authenticate and create the PyDrive client.\n",
        "auth.authenticate_user()\n",
        "gauth = GoogleAuth()\n",
        "gauth.credentials = GoogleCredentials.get_application_default()\n",
        "drive = GoogleDrive(gauth)\n",
        "\n",
        "id = '1gNfBqguzBu8cHKMPc8C44GbvD443dNC5'\n",
        "downloaded = drive.CreateFile({'id':id}) \n",
        "downloaded.GetContentFile('twitter.csv')  \n",
        "\n",
        "import pandas as pd\n",
        "df = pd.read_csv(\"twitter.csv\")\n",
        "df_pick = df.sample(400,random_state=24)\n",
        "\n",
        "raw_text = df_pick[\"Text\"].tolist()\n",
        "raw_label = df_pick[\"Label\"].tolist()\n",
        "\n",
        "from sklearn.model_selection import train_test_split\n",
        "text_train,text_test,label_train,label_test = train_test_split(raw_text,raw_label,test_size=0.25,random_state=42)"
      ],
      "execution_count": 29,
      "outputs": []
    },
    {
      "cell_type": "markdown",
      "metadata": {
        "id": "i92SvLGOLuPv"
      },
      "source": [
        "### Preprocessing [Complete this section]"
      ]
    },
    {
      "cell_type": "markdown",
      "metadata": {
        "id": "Xfp_5N2fLuPw"
      },
      "source": [
        "**Case Folding**"
      ]
    },
    {
      "cell_type": "code",
      "metadata": {
        "id": "l9LggrTtLuPx"
      },
      "source": [
        "text_train1 = text_train.copy()\n",
        "text_train = [s.lower() for s in text_train]\n",
        "text_test = [s.lower() for s in text_test]"
      ],
      "execution_count": 30,
      "outputs": []
    },
    {
      "cell_type": "markdown",
      "metadata": {
        "id": "hb4GVZYCLuP1"
      },
      "source": [
        "**Remove punctuations [Please complete this section]**"
      ]
    },
    {
      "cell_type": "code",
      "metadata": {
        "id": "Vl4MgL1XLuP2"
      },
      "source": [
        "import re\n",
        "def remove_punctuation_re(x):\n",
        "    x = re.sub(r'[^\\w\\s]','',x)\n",
        "    return x\n",
        "    \n",
        "text_train = [remove_punctuation_re(s) for s in text_train]\n",
        "text_test = [remove_punctuation_re(s) for s in text_test]\n",
        "# print(text_train[1])\n",
        "# print(text_train1[1])"
      ],
      "execution_count": 31,
      "outputs": []
    },
    {
      "cell_type": "markdown",
      "metadata": {
        "id": "YvIc4FCRLuQC"
      },
      "source": [
        "**Tokenization [Please complete this section]**"
      ]
    },
    {
      "cell_type": "code",
      "metadata": {
        "id": "V3I1iHIWLuQD",
        "colab": {
          "base_uri": "https://localhost:8080/"
        },
        "outputId": "60371775-bee1-47a3-bc9c-4a6fd88185ca"
      },
      "source": [
        "import nltk\n",
        "nltk.download('punkt')\n",
        "\n",
        "from nltk.tokenize import word_tokenize\n",
        "from nltk.tokenize import TreebankWordTokenizer\n",
        "tknzr = TreebankWordTokenizer()\n",
        "#Please complete this\n",
        "text_train = [word_tokenize(x) for x in text_train]\n",
        "text_test = [word_tokenize(x) for x in text_test]\n",
        "# print(text_train[1])"
      ],
      "execution_count": 32,
      "outputs": [
        {
          "output_type": "stream",
          "text": [
            "[nltk_data] Downloading package punkt to /root/nltk_data...\n",
            "[nltk_data]   Package punkt is already up-to-date!\n"
          ],
          "name": "stdout"
        }
      ]
    },
    {
      "cell_type": "markdown",
      "metadata": {
        "id": "ucmu2pWTLuQG"
      },
      "source": [
        "**Remove stopwords [Please complete this section]**"
      ]
    },
    {
      "cell_type": "code",
      "metadata": {
        "id": "4blOZaW7LuQH",
        "colab": {
          "base_uri": "https://localhost:8080/"
        },
        "outputId": "35cc692b-2e12-4402-a9a4-b3dff72a6320"
      },
      "source": [
        "nltk.download('stopwords')\n",
        "from nltk.corpus import stopwords as sw\n",
        "stop_words = sw.words()\n",
        "\n",
        "text_train_ns=[]\n",
        "for tokens in text_train:\n",
        "    filtered_sentence = [w for w in tokens if not w in stop_words]\n",
        "    text_train_ns.append(filtered_sentence)\n",
        "\n",
        "text_test_ns=[]\n",
        "for tokens in text_test:\n",
        "    filtered_sentence = [w for w in tokens if not w in stop_words]\n",
        "    text_test_ns.append(filtered_sentence)"
      ],
      "execution_count": 33,
      "outputs": [
        {
          "output_type": "stream",
          "text": [
            "[nltk_data] Downloading package stopwords to /root/nltk_data...\n",
            "[nltk_data]   Package stopwords is already up-to-date!\n"
          ],
          "name": "stdout"
        }
      ]
    },
    {
      "cell_type": "markdown",
      "metadata": {
        "id": "QqFS0duZLuQM"
      },
      "source": [
        "**Lemmatisation [Please complete this section]**"
      ]
    },
    {
      "cell_type": "code",
      "metadata": {
        "id": "6BTXGVwjLuQN",
        "colab": {
          "base_uri": "https://localhost:8080/"
        },
        "outputId": "d5c1b809-8eb9-4db3-bf5f-b7d3196ccc24"
      },
      "source": [
        "nltk.download('wordnet')\n",
        "\n",
        "from nltk.stem import WordNetLemmatizer\n",
        "\n",
        "lemmatizer = WordNetLemmatizer()\n",
        "\n",
        "text_train_le = []\n",
        "for tokens in text_train_ns:\n",
        "    lemma_sentence = [lemmatizer.lemmatize(w) for w in tokens ]\n",
        "    text_train_le.append(lemma_sentence)\n",
        "\n",
        "text_test_le = []\n",
        "for tokens in text_test_ns:\n",
        "    lemma_sentence = [lemmatizer.lemmatize(w) for w in tokens ]\n",
        "    text_test_le.append(lemma_sentence)\n"
      ],
      "execution_count": 34,
      "outputs": [
        {
          "output_type": "stream",
          "text": [
            "[nltk_data] Downloading package wordnet to /root/nltk_data...\n",
            "[nltk_data]   Package wordnet is already up-to-date!\n"
          ],
          "name": "stdout"
        }
      ]
    },
    {
      "cell_type": "markdown",
      "metadata": {
        "id": "MpQvfCJHLuQQ"
      },
      "source": [
        "**Label Encoding [Please complete this section]**"
      ]
    },
    {
      "cell_type": "code",
      "metadata": {
        "id": "FkcRYxaZLuQQ",
        "colab": {
          "base_uri": "https://localhost:8080/"
        },
        "outputId": "7900e0b9-b461-4944-ac7c-59bca77fa2ea"
      },
      "source": [
        "import numpy as np\n",
        "\n",
        "from sklearn.preprocessing import LabelEncoder\n",
        "\n",
        "unique_labels = np.unique(label_train)\n",
        "\n",
        "lEnc = LabelEncoder()\n",
        "# Please encode the labels (Do NOT add new lines of code in this section)\n",
        "# Hint: Try to understand the difference between fit_transform and transform\n",
        "label_train_encoded = lEnc.fit_transform(label_train)\n",
        "label_test_encoded = lEnc.transform(label_test)\n",
        "\n",
        "n_class = len(unique_labels)\n",
        "print(unique_labels)\n",
        "print(lEnc.transform(unique_labels))\n",
        "\n",
        "# print(label_train[:10])\n",
        "# print(label_train_encoded[:10])\n",
        "# print(label_test[:10])\n",
        "# print(label_test_encoded[:10])"
      ],
      "execution_count": 35,
      "outputs": [
        {
          "output_type": "stream",
          "text": [
            "['none' 'racism' 'sexism']\n",
            "[0 1 2]\n"
          ],
          "name": "stdout"
        }
      ]
    },
    {
      "cell_type": "markdown",
      "metadata": {
        "id": "ISP1ipGf9r8f"
      },
      "source": [
        "Sample output for Label Encoding (Only for format reference)\n",
        "\n",
        "![WeChat Image_20210403214048.png](data:image/png;base64,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)"
      ]
    },
    {
      "cell_type": "markdown",
      "metadata": {
        "id": "brgyXIhALuQT"
      },
      "source": [
        "### Embeddings [Complete this section]"
      ]
    },
    {
      "cell_type": "markdown",
      "metadata": {
        "id": "ltZvof0NLuQX"
      },
      "source": [
        "**Get Word List**"
      ]
    },
    {
      "cell_type": "code",
      "metadata": {
        "id": "O1V_W5PvLuQa",
        "colab": {
          "base_uri": "https://localhost:8080/"
        },
        "outputId": "989f3919-e5b3-4ef0-be28-60000e21c8e2"
      },
      "source": [
        "word_set = set() \n",
        "for sent in text_train_le:\n",
        "    for word in sent:\n",
        "        word_set.add(word)\n",
        "word_set.add('[PAD]')\n",
        "word_set.add('[UNKNOWN]')\n",
        "\n",
        "word_list = list(word_set) \n",
        "word_list.sort()\n",
        "print(word_list)\n",
        "\n",
        "word_index = {}\n",
        "ind = 0\n",
        "for word in word_list:\n",
        "    word_index[word] = ind\n",
        "    ind += 1\n",
        "print(word_index)"
      ],
      "execution_count": 36,
      "outputs": [
        {
          "output_type": "stream",
          "text": [
            "['0', '06jank', '0xjared', '1', '11', '12', '14', '1400', '15', '17', '1shadeofritch', '2', '2027279099', '22000', '2ndbestidiot', '3', '3outof10', '4', '44', '47', '4x', '5', '6', '7', '80', '800', '90', '911', '98halima', '99', '[PAD]', '[UNKNOWN]', '__chris33__', '_marisajane', 'abducted', 'abdul_a95', 'aberration', 'ability', 'ablahad', 'able', 'absolutely', 'abuse', 'ac360', 'accept', 'acceptable', 'accepted', 'accessorizing', 'account', 'achieve', 'across', 'actoractress', 'actually', 'adjective', 'admits', 'adult', 'afar', 'afraid', 'ago', 'agree', 'ahahahaha', 'air', 'airstrikes', 'aisle', 'ajwatamr', 'akheemv', 'aledthomas22', 'alihadi68', 'alihashem_tv', 'alive', 'all_hailcaesar', 'allegedly', 'allstatejackie', 'ally', 'along', 'already', 'alternet', 'amaze', 'amazing', 'amazingly', 'amberhasalamb', 'ameliagreenhall', 'american', 'amohedin', 'amp', 'amymek', 'anasmechch', 'andcamping', 'andre', 'angelemichelle', 'anitaingle', 'annoying', 'another', 'answer', 'anti', 'antiharassment', 'antizholim', 'anyone', 'anything', 'apartheid', 'arab_fury', 'arabic', 'arabthomness', 'archangel_dux', 'arena', 'argh', 'argonblue', 'argument', 'armedyoure', 'armenian', 'armpit', 'army', 'arquette', 'article', 'asad', 'asem_1994', 'ask', 'asked', 'askgoog', 'askhermore', 'asshole', 'astounding', 'athlete', 'attack', 'attacked', 'attacking', 'attracted', 'attractive', 'attributing', 'attrocities', 'auntysoapbox', 'australia', 'away', 'awful', 'awkward', 'awww', 'b', 'babbling', 'back', 'backing', 'backwards', 'bad', 'bag', 'baghdad', 'bahai144', 'bamboozled', 'banter', 'barackobama', 'basically', 'bastendorfgames', 'batchelorshow', 'bcz', 'beadsland', 'beat', 'beautiful', 'beautifula', 'beavis', 'beckles', 'begun', 'behaving', 'behead', 'behind', 'belief', 'believe', 'benkuchera', 'best', 'better', 'beyond', 'bgs', 'bhamdailynews', 'biebervalue', 'big', 'bigot', 'bigotry', 'bigtime', 'bilalighumman', 'bill', 'bimbo', 'bimbolines', 'bit', 'bitch', 'bixs', 'blabber', 'blackopal80', 'block', 'blocked', 'bloke', 'blonde', 'blondemoment', 'blow', 'blumenthal', 'body', 'book', 'booted', 'boring', 'bos', 'bottle', 'bought', 'bout', 'bowl', 'boy', 'bq281473', 'breakfast', 'brekky', 'bringing', 'bristolben', 'british', 'broke', 'bronny25', 'bruciebabe', 'bruh', 'brushyblues', 'bsilverstrim77', 'budlightbro', 'built', 'bullied', 'burcucekmece', 'burn', 'burning', 'burqua', 'bus', 'business', 'buttercupashby', 'butthead', 'button', 'buying', 'c2e2', 'call', 'cambrian_man', 'campagnebds', 'canned', 'cant', 'captive', 'car', 'card', 'case', 'cashing', 'castrating', 'catwalk', 'cause', 'caved', 'ccot', 'cdnkhadija', 'celebrating', 'celine', 'cemcfarland', 'century', 'challenge', 'chance', 'change', 'changed', 'changing', 'channel', 'channel7', 'chaos', 'character', 'cheeseplus', 'chef', 'cheney', 'chicken', 'child', 'chloeandkelly', 'choice', 'christ', 'christian', 'christiansyazidis', 'christmas', 'christophheer52', 'chriswarcraft', 'chuck', 'chuckle', 'chuckpfarrer', 'churner', 'cia', 'cityofmandurah', 'civilian', 'cjsajulga', 'claim', 'claiming', 'clarify', 'clearly', 'close', 'colin', 'colins', 'colonelkickhead', 'come', 'comedian', 'coming', 'comment', 'committed', 'compensation', 'competition', 'complains', 'completely', 'compromise', 'concerned', 'conclusion', 'conducting', 'configuration', 'confuse', 'conserv_miss', 'consider', 'conspiracy', 'constant', 'constantly', 'constructed', 'content', 'contradicted', 'contributing', 'cook', 'cooked', 'cooking', 'cordial', 'cornflakes', 'could', 'country', 'couple', 'court', 'coworkers', 'coz', 'crabfest15', 'crap', 'crash', 'created', 'creates', 'creating', 'credibility', 'cretin', 'cringing', 'critiquing', 'culture', 'cunt', 'cup', 'curd', 'curious', 'customer', 'cut', 'cuz', 'cytheria', 'd20', 'daesh', 'damn', 'damnitscloudy', 'danhickey2199', 'danis', 'dankmtl', 'darchmare', 'darrenkopp', 'data', 'dave', 'davidjo52951945', 'davidsgallant', 'dc', 'dead', 'deal', 'death', 'declared', 'deconstruct', 'deconstructing', 'deduction', 'defend', 'definitely', 'delicate', 'demanded', 'dentist', 'describes', 'desertfox899', 'desire', 'desk', 'desperately', 'dessert', 'destined', 'destroys', 'deusexjuice', 'devops', 'dianh4', 'dick', 'dictatorship', 'didazahra', 'didnt', 'difference', 'different', 'direct', 'directhex', 'direction', 'directly', 'discerningmumin', 'discrimination', 'disgrace', 'disgusted', 'disgusting', 'dish', 'disheartened', 'disturbing', 'divisiveness', 'dkim', 'doammuslims', 'doctor', 'doesnt', 'dogging', 'doh', 'dolly', 'domestic', 'done', 'dont', 'double', 'draskos', 'drdisco_', 'dream', 'dreamer', 'dreaminpng', 'drive', 'drivemaneuveroperate', 'driver', 'driving', 'dropped', 'dry', 'dubhe80', 'duckiemcphee', 'dude', 'due', 'dumb', 'dumbest', 'dummy', 'dye', 'dying', 'ear', 'earth', 'easier', 'easy', 'eat', 'ebola', 'ebooks', 'economics', 'econtried', 'edgeofthesandbx', 'edible', 'efficient', 'effort', 'egypt', 'egyptian', 'either', 'eloisepeace', 'else', 'email', 'emilie', 'empty', 'endless', 'enemy', 'engaging', 'enough', 'enslaved', 'entertaining', 'entree', 'ep', 'episode', 'equal', 'equalpay', 'espn', 'eternity', 'etsho127', 'evacuated', 'evans', 'even', 'eventually', 'ever', 'every', 'everyone', 'everything', 'evidence', 'evilsunbro', 'ew', 'except', 'excited', 'excuse', 'executed', 'expect', 'expedition', 'expertise', 'explain', 'explained', 'exposefalsehood', 'expression', 'exterminate', 'extreme', 'eye', 'eyesmkr', 'ezidi', 'ezidipress', 'ezidis', 'f3ew', 'face', 'faced', 'fact', 'faded', 'fail', 'fair', 'fan', 'fanatic', 'farbenstau', 'fascist', 'fat', 'feardept', 'feel', 'feeling', 'female', 'femfreefriday', 'feminism', 'feminist', 'fetch', 'fetish', 'fewer', 'fight', 'fighting', 'filthy', 'finalbroadcast', 'finally', 'find', 'fine', 'finger', 'first', 'flip', 'floss', 'flying', 'folk', 'followed', 'food', 'foodie_ben', 'foot', 'forbidden', 'force', 'forced', 'ford', 'form', 'formula', 'fought', 'foxnews', 'foxnewspolitics', 'free', 'freebsd', 'freebsdgirl', 'freebsdglri', 'freedom', 'freezer', 'fried', 'friend', 'fuck', 'fucking', 'fucktards', 'fun', 'funding', 'fyoudbag', 'gailsimone', 'gal', 'game', 'gamergate', 'gangraped', 'gap', 'garbage', 'garydlum', 'gaters', 'gatery', 'gator', 'gbabeuf', 'gbazov', 'gel', 'genius', 'genocide', 'get', 'getting', 'gg', 'ggautoblocker', 'ggreenwald', 'gilmore', 'girl', 'girlziplocked', 'give', 'given', 'giving', 'glad', 'glennf', 'glhf', 'glove', 'go', 'god', 'going', 'gon', 'gone', 'good', 'goodluck', 'goosenetworkusa', 'gosh', 'got', 'govt', 'grafana', 'grahamdavida', 'great', 'greater', 'greenlinerzjm', 'grin', 'gross', 'ground', 'group', 'grow', 'grown', 'guardian', 'gueensland', 'guess', 'guilt', 'gulf', 'gumboots', 'guy', 'hadith', 'haha', 'hair', 'halalflaws', 'hamas', 'hand', 'handle', 'happen', 'happened', 'happens', 'happy', 'happycampers', 'harassed', 'harassment', 'haroonstyles', 'harshly', 'hate', 'hated', 'hatefilled', 'hating', 'hatred', 'havent', 'hawaiinshirts', 'hayles_comet', 'hdmovieus', 'he', 'head', 'heart', 'hell', 'hello', 'help', 'helping', 'here', 'hide', 'hilarious', 'himat', 'hit', 'hitler', 'hockey', 'holder', 'home', 'homophobe', 'honestly', 'hope', 'hoping', 'hostage', 'however', 'hows', 'howtogetawaywithmurder', 'ht', 'http', 'httpstco6kgw1lejfr', 'httpstcoum5svjgazu', 'httpstcoxufwsigxfk', 'httpt', 'httptco', 'httptco1pl9gqrdp7', 'httptco4u', 'httptco5vsf5jroi6', 'httptco8xldnwbvzx', 'httptcobwr6ap0ooo', 'httptcocaxxus108l', 'httptcocbcr9u4fc9', 'httptcodajgdn1wy3', 'httptcoddecobanzx', 'httptcofdylhlkdcv', 'httptcoganrh4k87a', 'httptcogbvojnmbcv', 'httptcoglncgkuukp', 'httptcoh8f7n04q5o', 'httptcoltoxypkwww', 'httptcom4jcka5ir0', 'httptcom5j2tpksm5', 'httptcomdb4iu9whd', 'httptcomxuw3hz4tb', 'httptconleyqfnkyp', 'httptcontojwo4lnt', 'httptcoocsy7crghf', 'httptcopfs5zlkt07', 'httptcopnhzjrhhqr', 'httptcoq95ei17sua', 'httptcoqaa6bwi4pm', 'httptcoqmdsdtfvya', 'httptcoqv', 'httptcorbthvmh9jj', 'httptcospmvzcjj6o', 'httptcot65iytpvdk', 'httptcotfsodcowbx', 'httptcoumkitlb5h9', 'httptcouq19q6pnaq', 'httptcovanp6y7clr', 'httptcowhy3a8o33z', 'httptcoyspbfitztb', 'httptcozjbwagvnrg', 'hugged', 'human', 'humanistfury', 'humanity', 'hungrycampers', 'hw', 'hypatiadotca', 'hypocrite', 'ice', 'id', 'idea', 'ideaology', 'ideaor', 'ideology', 'idiot', 'idiotim', 'idontneedfeminism', 'ied', 'ignorance', 'ignorant', 'ignoring', 'ihatethiskid', 'ilivundrurbed', 'illegal', 'ilovebreakfast', 'iloveobama', 'imagine', 'imperialism', 'implies', 'important', 'info', 'information', 'input', 'instant', 'instead', 'insufferable', 'insulted', 'insulting', 'integration', 'intel', 'interact', 'interest', 'interesting', 'international', 'internet', 'intersection', 'intolerance', 'invented', 'iraq', 'iron', 'isi', 'isisutterly', 'islam', 'islamdefense', 'islamic', 'islamist', 'isnt', 'israel', 'israeliregime', 'issue', 'itll', 'itsbariecool', 'itsfact', 'ive', 'ivyexec', 'izrinhariri', 'jac', 'jealous', 'jeffreygoldberg', 'jennykutner', 'jeremiahfelt', 'jew', 'jhamby', 'jihadi_11', 'jihadis', 'jimcramer', 'jncatron', 'job', 'johncantile', 'johnnygjokaj', 'johnnyrejection', 'joke', 'journalist', 'judge', 'juliet777777', 'justdavidvideos', 'justhonest', 'justkelly_ok', 'kaitlynburnell', 'kamaluf', 'kardashian', 'kat', 'katampandre', 'katandandre', 'katie', 'katieandnikki', 'keep', 'keyboard', 'keynote', 'kid', 'kidding', 'kill', 'killa', 'killed', 'killerblondes', 'killing', 'kind', 'kirkuk', 'kmactane', 'knew', 'know', 'knowingly', 'kobane', 'kuffir', 'kurd', 'kurdish', 'lactualaloupe', 'lad', 'lady', 'lajouetreine', 'large', 'last', 'latest', 'laugh', 'launcher', 'law', 'lazy', 'lb', 'ldstarr18', 'le', 'lead', 'leaning', 'led', 'left', 'legitimately', 'lemon', 'lesson', 'letting', 'level', 'liar', 'liberate', 'libya', 'license', 'licking', 'lie', 'lied', 'life', 'light', 'like', 'likely', 'lilbeastunleash', 'lime', 'line', 'link', 'lipstick', 'lisamromano', 'lissasauras', 'listen', 'lithobolos', 'little', 'live', 'liver', 'lol', 'long', 'loo', 'look', 'looked', 'looking', 'lose', 'loser', 'lost', 'lot', 'love', 'low', 'lt3', 'lucaswj', 'luck', 'lunatic', 'lynnemcgranger', 'm_m_myers', 'maajidnawaz', 'mad', 'madasahatter_17', 'maddr11', 'made', 'magazine', 'magnus919', 'maja_stina', 'major', 'majority', 'make', 'making', 'mami_mermelada', 'man', 'manbabies', 'manu', 'manure', 'many', 'map', 'marc_leibowitz', 'market', 'markimbriaco', 'maroon', 'marriage', 'married', 'masontillidie', 'math', 'matter', 'mattstratton', 'mattybboi83', 'maxblumenthal', 'maxcaras', 'may', 'maybe', 'mccheesy904', 'mean', 'meaning', 'meatball', 'meatgirls', 'mechasauce', 'medium', 'meh', 'mehdirhasan', 'mellym09', 'melting', 'mention', 'menu', 'messed', 'microbrain', 'middle', 'mikeage', 'military', 'militia', 'minasmith64', 'minister', 'minority', 'misfitinchains', 'miskelayla', 'miss', 'missed', 'missing', 'mistertodd', 'mkr', 'mkr2015', 'mkrkat', 'mmmm', 'model', 'moderate', 'modern', 'mohammed', 'monday', 'month', 'moron', 'mosul', 'mouth', 'moving', 'much', 'mugnezee', 'multiple', 'murde', 'murder', 'murdered', 'murtaza', 'muslim', 'muslimtwo', 'mutilated', 'myersnfl', 'mykitchenrules', 'mystrongstate', 'nader_haq', 'naga', 'nainfidels', 'naminglisting', 'narîn', 'nasty', 'naturally', 'nazi', 'near', 'necessarily', 'need', 'needarethinkinformat', 'negated', 'negotiate', 'neilasaurus', 'never', 'new', 'new_babylonia', 'newscoverup', 'next', 'nice', 'nigelbigmeech', 'night', 'nikki', 'nobody', 'noise', 'nomcookiesnom', 'none', 'nooo', 'nope', 'notchrissmith', 'note', 'nothing', 'notsexist', 'novorossiyan', 'nscottg', 'number', 'number10gov', 'nytimes', 'obamacare', 'obamas', 'obsurfer84', 'obviously', 'occasion', 'offense', 'offensive', 'offering', 'oh', 'oil', 'oktar', 'old', 'oldgfatherclock', 'one', 'open', 'opener', 'opinion', 'opponent', 'opposed', 'optional', 'oreilly', 'org', 'origin', 'others', 'outside', 'overweight', 'owais00', 'p', 'p8952_', 'page', 'painful', 'pakistan', 'paknsave', 'palestine', 'pancake', 'paraketa', 'pardusxy', 'parent', 'paris', 'participate', 'passport', 'past', 'pastor', 'patrickosgood', 'pawarnhoff', 'pay', 'paying', 'pc', 'peace', 'peacenothate_', 'pedophile', 'pedophilia', 'peerworker', 'penalty', 'people', 'peopleschoice', 'perfect', 'period', 'perk', 'perl', 'personality', 'pervious', 'peymaneh123', 'phxken', 'pie', 'piece', 'pile', 'pilgars', 'pilot', 'pissing', 'pjnet', 'plane', 'planning', 'playing', 'playstations', 'please', 'pleasing', 'pnibbler', 'point', 'pole', 'police', 'political', 'politicalant', 'politics_pr', 'poor', 'poorly', 'population', 'portland', 'possible', 'possibly', 'post', 'posting', 'power', 'present', 'pressure', 'pretend', 'pretty', 'previous', 'price', 'prime', 'prisonersofwar', 'pro', 'probably', 'problem', 'problematic', 'producer', 'production', 'profile', 'project', 'promise', 'promo', 'promogirls', 'promoted', 'proof', 'propaganda', 'prophet', 'prospect', 'protecting', 'proudpatriot101', 'prove', 'provide', 'provision', 'psog', 'psogeco', 'psychbarakat', 'public', 'punch', 'purse', 'put', 'question', 'questionsformen', 'quietly', 'quit', 'quite', 'quran', 'r', 'race', 'racist', 'raised', 'random', 'randomhero30', 'raniakhalek', 'ransom', 'rape', 'raped', 'rapper', 'rapperguydmv', 'raqqa', 'raqqa_sl', 'rate', 'rather', 'ratio', 'ravenhuwolf', 'raw', 'rayyoosheh', 'react', 'read', 'readable', 'real', 'really', 'realryansipple', 'realtalk', 'reason', 'reasonably', 'rebel', 'recall', 'reckless', 'recognize', 'recommends', 'record', 'recruit', 'recuperate', 'redux', 'reevaluate', 'reference', 'referring', 'refine', 'regarding', 'regulation', 'rejected', 'relationship', 'release', 'religion', 'religious', 'relisha', 'reload', 'remember', 'reminded', 'rennie93', 'repeatedly', 'repetition', 'replacement', 'report', 'reputation', 'request', 'resorting', 'respond', 'restaurant', 'retreat', 'revolting', 'reza_rahman', 'rigged', 'right', 'rinehart33', 'rip', 'rjennromao', 'rkhayer', 'rkinglive2dance', 'rob', 'robbed', 'robert', 'robinriedstra', 'roll', 'roof', 'room', 'rooshv', 'rose', 'rotherham', 'rougek68', 'round', 'routinely', 'rt', 'rts', 'rudawenglish', 'rudd', 'rude', 'rudoren', 'ruin', 'run', 'running', 'russian', 'said', 'saifullah666', 'sajid_fairooz', 'sake', 'salmon', 'salon', 'saltnburnem', 'salty', 'samkitsengupta', 'santa', 'sarah_jane666', 'sas', 'satire', 'saudi', 'sausage', 'save', 'saw', 'say', 'scared', 'schmeezi', 'school', 'score', 'scratch', 'screencaps', 'script', 'scripted', 'scroll', 'scum', 'season', 'see', 'seen', 'segment', 'self', 'selfies', 'selling', 'sellout', 'semite', 'semzyxx', 'sensitive', 'sent', 'serious', 'seriously', 'serlasco', 'serve', 'served', 'service', 'serving', 'set', 'setup', 'sevilzadeh', 'sex', 'sexhonest', 'sexism', 'sexist', 'sexually', 'shami_is_back', 'shaz', 'shell', 'shermertron', 'sherri', 'shia', 'shingal', 'shirt', 'shit', 'shoe0nhead', 'short', 'shovel', 'show', 'shower', 'shred', 'shut', 'sick', 'side', 'sighhhh', 'simpson', 'since', 'singer', 'sinjar', 'sirgoldenrod', 'six', 'skank', 'slagkick', 'slap', 'slave', 'slaved', 'sleep', 'sleeping', 'slide', 'slightly', 'sloshedtrain2', 'slow', 'smack', 'smackem', 'small', 'smarter', 'smash', 'sold', 'soldier', 'someone', 'something', 'sometimes', 'somewhat', 'soon', 'sorbent', 'sorbet', 'sorry', 'sorrynotsorry', 'sound', 'source', 'space', 'spacekatgal', 'spacequeentbh', 'spam', 'spatchcock', 'speak', 'speaking', 'speech', 'spiritual', 'spoiled', 'sport', 'sports2inflatio', 'sputnik', 'srhbutts', 'stalin', 'stand', 'standard', 'standing', 'starius', 'started', 'starting', 'state', 'statistic', 'stats', 'stay', 'stayed', 'staying', 'step', 'steve', 'stiff', 'still', 'stood', 'stop', 'stopping', 'stopwadhwa2015', 'story', 'strategically', 'streaming', 'stretch', 'strike', 'strong', 'struggle', 'student', 'stuff', 'stupid', 'stylist', 'subject', 'subtle', 'success', 'suck', 'sudixitca', 'suicide', 'sumersloan', 'super', 'superior', 'support', 'supported', 'sure', 'surgery', 'swallow', 'swiftonsecurity', 'switching', 'syazlicious', 'syria', 'systemic', 'tacky', 'taken', 'taking', 'tal', 'taliban', 'talk', 'talladega', 'taqiyya', 'tarah', 'tart', 'tasteless', 'tatibresolin', 'tbh', 'tbielawa', 'tcot', 'teach', 'teaching', 'team', 'tell', 'telling', 'tempting', 'terrible', 'terror', 'terrorism', 'terrorist', 'testicle', 'texasarlington', 'thanks', 'thatll', 'thats', 'theckman', 'thedoubleclicks', 'thegeek_chick', 'thegoodguysau', 'thelindsayellis', 'thelmasleaze', 'themirai', 'themselvespffft', 'themuslimguy', 'thequinnspiracy', 'there', 'theyre', 'thing', 'think', 'thinking', 'third', 'thought', 'threw', 'throw', 'tied', 'tim', 'time', 'timespan', 'tiny', 'tip', 'tnr', 'tobyrobertbull', 'today', 'todayreal', 'told', 'tolerate', 'tomato', 'tonight', 'toodles', 'tool', 'top', 'total', 'train', 'transic_nyc', 'translator', 'treating', 'trend', 'tried', 'tripple', 'trolley', 'troop', 'trophy', 'truaemusic', 'truly', 'try', 'trying', 'turf', 'turk', 'tv', 'tw', 'tweet', 'twist', 'twista202', 'twitter', 'two', 'typed', 'typically', 'typo', 'u', 'ugly', 'ukraine', 'ukrainian', 'ultrafundamentalist', 'unacceptable', 'unapologetic', 'unashamed', 'uncalled', 'understand', 'understands', 'unfair', 'uninvolved', 'university', 'update', 'uplay', 'upon', 'use', 'user', 'username', 'usually', 'valenti', 'value', 'vandaliser', 'vc', 'vcs', 'venereveritas13', 'venomous9', 'versa', 'verse', 'vex0rian', 'via', 'vice', 'victim', 'victorymonk', 'video', 'videobeautiful', 'violence', 'voice', 'vonta624', 'vote', 'voted', 'w', 'wadhwa', 'wait', 'waiting', 'wakeuplibsgtjoenbc', 'walk', 'wan', 'wanted', 'warriorsialkot', 'washed', 'washingtonpost', 'wasnt', 'watan71969', 'watch', 'watched', 'watching', 'way', 'week', 'weekly', 'well', 'went', 'werent', 'west', 'western', 'wetsprocket', 'wheat', 'wheel', 'whereisyourdignity', 'whether', 'whiny', 'white', 'whiteblack', 'whitening', 'whole', 'wi', 'wife', 'win', 'wing', 'wish', 'witch_sniffer', 'without', 'witty', 'wizardryofozil', 'wks', 'wnba', 'wnyc', 'wocracial', 'woman', 'womenagainstfeminism', 'womeninterpret', 'word', 'work', 'worker', 'working', 'worse', 'worst', 'would', 'wouldnt', 'wouldve', 'wow', 'wrecking', 'write', 'writer', 'writing', 'wrong', 'xmjee', 'yall', 'yawn', 'yeah', 'year', 'yes', 'yesallwomen', 'yesyouresexist', 'yet', 'yield', 'youd', 'youll', 'young', 'youre', 'yousufpoosuf', 'youtube', 'ypg', 'yum', 'zaibatsunews', 'zene55', 'zero', 'zython86']\n",
            "{'0': 0, '06jank': 1, '0xjared': 2, '1': 3, '11': 4, '12': 5, '14': 6, '1400': 7, '15': 8, '17': 9, '1shadeofritch': 10, '2': 11, '2027279099': 12, '22000': 13, '2ndbestidiot': 14, '3': 15, '3outof10': 16, '4': 17, '44': 18, '47': 19, '4x': 20, '5': 21, '6': 22, '7': 23, '80': 24, '800': 25, '90': 26, '911': 27, '98halima': 28, '99': 29, '[PAD]': 30, '[UNKNOWN]': 31, '__chris33__': 32, '_marisajane': 33, 'abducted': 34, 'abdul_a95': 35, 'aberration': 36, 'ability': 37, 'ablahad': 38, 'able': 39, 'absolutely': 40, 'abuse': 41, 'ac360': 42, 'accept': 43, 'acceptable': 44, 'accepted': 45, 'accessorizing': 46, 'account': 47, 'achieve': 48, 'across': 49, 'actoractress': 50, 'actually': 51, 'adjective': 52, 'admits': 53, 'adult': 54, 'afar': 55, 'afraid': 56, 'ago': 57, 'agree': 58, 'ahahahaha': 59, 'air': 60, 'airstrikes': 61, 'aisle': 62, 'ajwatamr': 63, 'akheemv': 64, 'aledthomas22': 65, 'alihadi68': 66, 'alihashem_tv': 67, 'alive': 68, 'all_hailcaesar': 69, 'allegedly': 70, 'allstatejackie': 71, 'ally': 72, 'along': 73, 'already': 74, 'alternet': 75, 'amaze': 76, 'amazing': 77, 'amazingly': 78, 'amberhasalamb': 79, 'ameliagreenhall': 80, 'american': 81, 'amohedin': 82, 'amp': 83, 'amymek': 84, 'anasmechch': 85, 'andcamping': 86, 'andre': 87, 'angelemichelle': 88, 'anitaingle': 89, 'annoying': 90, 'another': 91, 'answer': 92, 'anti': 93, 'antiharassment': 94, 'antizholim': 95, 'anyone': 96, 'anything': 97, 'apartheid': 98, 'arab_fury': 99, 'arabic': 100, 'arabthomness': 101, 'archangel_dux': 102, 'arena': 103, 'argh': 104, 'argonblue': 105, 'argument': 106, 'armedyoure': 107, 'armenian': 108, 'armpit': 109, 'army': 110, 'arquette': 111, 'article': 112, 'asad': 113, 'asem_1994': 114, 'ask': 115, 'asked': 116, 'askgoog': 117, 'askhermore': 118, 'asshole': 119, 'astounding': 120, 'athlete': 121, 'attack': 122, 'attacked': 123, 'attacking': 124, 'attracted': 125, 'attractive': 126, 'attributing': 127, 'attrocities': 128, 'auntysoapbox': 129, 'australia': 130, 'away': 131, 'awful': 132, 'awkward': 133, 'awww': 134, 'b': 135, 'babbling': 136, 'back': 137, 'backing': 138, 'backwards': 139, 'bad': 140, 'bag': 141, 'baghdad': 142, 'bahai144': 143, 'bamboozled': 144, 'banter': 145, 'barackobama': 146, 'basically': 147, 'bastendorfgames': 148, 'batchelorshow': 149, 'bcz': 150, 'beadsland': 151, 'beat': 152, 'beautiful': 153, 'beautifula': 154, 'beavis': 155, 'beckles': 156, 'begun': 157, 'behaving': 158, 'behead': 159, 'behind': 160, 'belief': 161, 'believe': 162, 'benkuchera': 163, 'best': 164, 'better': 165, 'beyond': 166, 'bgs': 167, 'bhamdailynews': 168, 'biebervalue': 169, 'big': 170, 'bigot': 171, 'bigotry': 172, 'bigtime': 173, 'bilalighumman': 174, 'bill': 175, 'bimbo': 176, 'bimbolines': 177, 'bit': 178, 'bitch': 179, 'bixs': 180, 'blabber': 181, 'blackopal80': 182, 'block': 183, 'blocked': 184, 'bloke': 185, 'blonde': 186, 'blondemoment': 187, 'blow': 188, 'blumenthal': 189, 'body': 190, 'book': 191, 'booted': 192, 'boring': 193, 'bos': 194, 'bottle': 195, 'bought': 196, 'bout': 197, 'bowl': 198, 'boy': 199, 'bq281473': 200, 'breakfast': 201, 'brekky': 202, 'bringing': 203, 'bristolben': 204, 'british': 205, 'broke': 206, 'bronny25': 207, 'bruciebabe': 208, 'bruh': 209, 'brushyblues': 210, 'bsilverstrim77': 211, 'budlightbro': 212, 'built': 213, 'bullied': 214, 'burcucekmece': 215, 'burn': 216, 'burning': 217, 'burqua': 218, 'bus': 219, 'business': 220, 'buttercupashby': 221, 'butthead': 222, 'button': 223, 'buying': 224, 'c2e2': 225, 'call': 226, 'cambrian_man': 227, 'campagnebds': 228, 'canned': 229, 'cant': 230, 'captive': 231, 'car': 232, 'card': 233, 'case': 234, 'cashing': 235, 'castrating': 236, 'catwalk': 237, 'cause': 238, 'caved': 239, 'ccot': 240, 'cdnkhadija': 241, 'celebrating': 242, 'celine': 243, 'cemcfarland': 244, 'century': 245, 'challenge': 246, 'chance': 247, 'change': 248, 'changed': 249, 'changing': 250, 'channel': 251, 'channel7': 252, 'chaos': 253, 'character': 254, 'cheeseplus': 255, 'chef': 256, 'cheney': 257, 'chicken': 258, 'child': 259, 'chloeandkelly': 260, 'choice': 261, 'christ': 262, 'christian': 263, 'christiansyazidis': 264, 'christmas': 265, 'christophheer52': 266, 'chriswarcraft': 267, 'chuck': 268, 'chuckle': 269, 'chuckpfarrer': 270, 'churner': 271, 'cia': 272, 'cityofmandurah': 273, 'civilian': 274, 'cjsajulga': 275, 'claim': 276, 'claiming': 277, 'clarify': 278, 'clearly': 279, 'close': 280, 'colin': 281, 'colins': 282, 'colonelkickhead': 283, 'come': 284, 'comedian': 285, 'coming': 286, 'comment': 287, 'committed': 288, 'compensation': 289, 'competition': 290, 'complains': 291, 'completely': 292, 'compromise': 293, 'concerned': 294, 'conclusion': 295, 'conducting': 296, 'configuration': 297, 'confuse': 298, 'conserv_miss': 299, 'consider': 300, 'conspiracy': 301, 'constant': 302, 'constantly': 303, 'constructed': 304, 'content': 305, 'contradicted': 306, 'contributing': 307, 'cook': 308, 'cooked': 309, 'cooking': 310, 'cordial': 311, 'cornflakes': 312, 'could': 313, 'country': 314, 'couple': 315, 'court': 316, 'coworkers': 317, 'coz': 318, 'crabfest15': 319, 'crap': 320, 'crash': 321, 'created': 322, 'creates': 323, 'creating': 324, 'credibility': 325, 'cretin': 326, 'cringing': 327, 'critiquing': 328, 'culture': 329, 'cunt': 330, 'cup': 331, 'curd': 332, 'curious': 333, 'customer': 334, 'cut': 335, 'cuz': 336, 'cytheria': 337, 'd20': 338, 'daesh': 339, 'damn': 340, 'damnitscloudy': 341, 'danhickey2199': 342, 'danis': 343, 'dankmtl': 344, 'darchmare': 345, 'darrenkopp': 346, 'data': 347, 'dave': 348, 'davidjo52951945': 349, 'davidsgallant': 350, 'dc': 351, 'dead': 352, 'deal': 353, 'death': 354, 'declared': 355, 'deconstruct': 356, 'deconstructing': 357, 'deduction': 358, 'defend': 359, 'definitely': 360, 'delicate': 361, 'demanded': 362, 'dentist': 363, 'describes': 364, 'desertfox899': 365, 'desire': 366, 'desk': 367, 'desperately': 368, 'dessert': 369, 'destined': 370, 'destroys': 371, 'deusexjuice': 372, 'devops': 373, 'dianh4': 374, 'dick': 375, 'dictatorship': 376, 'didazahra': 377, 'didnt': 378, 'difference': 379, 'different': 380, 'direct': 381, 'directhex': 382, 'direction': 383, 'directly': 384, 'discerningmumin': 385, 'discrimination': 386, 'disgrace': 387, 'disgusted': 388, 'disgusting': 389, 'dish': 390, 'disheartened': 391, 'disturbing': 392, 'divisiveness': 393, 'dkim': 394, 'doammuslims': 395, 'doctor': 396, 'doesnt': 397, 'dogging': 398, 'doh': 399, 'dolly': 400, 'domestic': 401, 'done': 402, 'dont': 403, 'double': 404, 'draskos': 405, 'drdisco_': 406, 'dream': 407, 'dreamer': 408, 'dreaminpng': 409, 'drive': 410, 'drivemaneuveroperate': 411, 'driver': 412, 'driving': 413, 'dropped': 414, 'dry': 415, 'dubhe80': 416, 'duckiemcphee': 417, 'dude': 418, 'due': 419, 'dumb': 420, 'dumbest': 421, 'dummy': 422, 'dye': 423, 'dying': 424, 'ear': 425, 'earth': 426, 'easier': 427, 'easy': 428, 'eat': 429, 'ebola': 430, 'ebooks': 431, 'economics': 432, 'econtried': 433, 'edgeofthesandbx': 434, 'edible': 435, 'efficient': 436, 'effort': 437, 'egypt': 438, 'egyptian': 439, 'either': 440, 'eloisepeace': 441, 'else': 442, 'email': 443, 'emilie': 444, 'empty': 445, 'endless': 446, 'enemy': 447, 'engaging': 448, 'enough': 449, 'enslaved': 450, 'entertaining': 451, 'entree': 452, 'ep': 453, 'episode': 454, 'equal': 455, 'equalpay': 456, 'espn': 457, 'eternity': 458, 'etsho127': 459, 'evacuated': 460, 'evans': 461, 'even': 462, 'eventually': 463, 'ever': 464, 'every': 465, 'everyone': 466, 'everything': 467, 'evidence': 468, 'evilsunbro': 469, 'ew': 470, 'except': 471, 'excited': 472, 'excuse': 473, 'executed': 474, 'expect': 475, 'expedition': 476, 'expertise': 477, 'explain': 478, 'explained': 479, 'exposefalsehood': 480, 'expression': 481, 'exterminate': 482, 'extreme': 483, 'eye': 484, 'eyesmkr': 485, 'ezidi': 486, 'ezidipress': 487, 'ezidis': 488, 'f3ew': 489, 'face': 490, 'faced': 491, 'fact': 492, 'faded': 493, 'fail': 494, 'fair': 495, 'fan': 496, 'fanatic': 497, 'farbenstau': 498, 'fascist': 499, 'fat': 500, 'feardept': 501, 'feel': 502, 'feeling': 503, 'female': 504, 'femfreefriday': 505, 'feminism': 506, 'feminist': 507, 'fetch': 508, 'fetish': 509, 'fewer': 510, 'fight': 511, 'fighting': 512, 'filthy': 513, 'finalbroadcast': 514, 'finally': 515, 'find': 516, 'fine': 517, 'finger': 518, 'first': 519, 'flip': 520, 'floss': 521, 'flying': 522, 'folk': 523, 'followed': 524, 'food': 525, 'foodie_ben': 526, 'foot': 527, 'forbidden': 528, 'force': 529, 'forced': 530, 'ford': 531, 'form': 532, 'formula': 533, 'fought': 534, 'foxnews': 535, 'foxnewspolitics': 536, 'free': 537, 'freebsd': 538, 'freebsdgirl': 539, 'freebsdglri': 540, 'freedom': 541, 'freezer': 542, 'fried': 543, 'friend': 544, 'fuck': 545, 'fucking': 546, 'fucktards': 547, 'fun': 548, 'funding': 549, 'fyoudbag': 550, 'gailsimone': 551, 'gal': 552, 'game': 553, 'gamergate': 554, 'gangraped': 555, 'gap': 556, 'garbage': 557, 'garydlum': 558, 'gaters': 559, 'gatery': 560, 'gator': 561, 'gbabeuf': 562, 'gbazov': 563, 'gel': 564, 'genius': 565, 'genocide': 566, 'get': 567, 'getting': 568, 'gg': 569, 'ggautoblocker': 570, 'ggreenwald': 571, 'gilmore': 572, 'girl': 573, 'girlziplocked': 574, 'give': 575, 'given': 576, 'giving': 577, 'glad': 578, 'glennf': 579, 'glhf': 580, 'glove': 581, 'go': 582, 'god': 583, 'going': 584, 'gon': 585, 'gone': 586, 'good': 587, 'goodluck': 588, 'goosenetworkusa': 589, 'gosh': 590, 'got': 591, 'govt': 592, 'grafana': 593, 'grahamdavida': 594, 'great': 595, 'greater': 596, 'greenlinerzjm': 597, 'grin': 598, 'gross': 599, 'ground': 600, 'group': 601, 'grow': 602, 'grown': 603, 'guardian': 604, 'gueensland': 605, 'guess': 606, 'guilt': 607, 'gulf': 608, 'gumboots': 609, 'guy': 610, 'hadith': 611, 'haha': 612, 'hair': 613, 'halalflaws': 614, 'hamas': 615, 'hand': 616, 'handle': 617, 'happen': 618, 'happened': 619, 'happens': 620, 'happy': 621, 'happycampers': 622, 'harassed': 623, 'harassment': 624, 'haroonstyles': 625, 'harshly': 626, 'hate': 627, 'hated': 628, 'hatefilled': 629, 'hating': 630, 'hatred': 631, 'havent': 632, 'hawaiinshirts': 633, 'hayles_comet': 634, 'hdmovieus': 635, 'he': 636, 'head': 637, 'heart': 638, 'hell': 639, 'hello': 640, 'help': 641, 'helping': 642, 'here': 643, 'hide': 644, 'hilarious': 645, 'himat': 646, 'hit': 647, 'hitler': 648, 'hockey': 649, 'holder': 650, 'home': 651, 'homophobe': 652, 'honestly': 653, 'hope': 654, 'hoping': 655, 'hostage': 656, 'however': 657, 'hows': 658, 'howtogetawaywithmurder': 659, 'ht': 660, 'http': 661, 'httpstco6kgw1lejfr': 662, 'httpstcoum5svjgazu': 663, 'httpstcoxufwsigxfk': 664, 'httpt': 665, 'httptco': 666, 'httptco1pl9gqrdp7': 667, 'httptco4u': 668, 'httptco5vsf5jroi6': 669, 'httptco8xldnwbvzx': 670, 'httptcobwr6ap0ooo': 671, 'httptcocaxxus108l': 672, 'httptcocbcr9u4fc9': 673, 'httptcodajgdn1wy3': 674, 'httptcoddecobanzx': 675, 'httptcofdylhlkdcv': 676, 'httptcoganrh4k87a': 677, 'httptcogbvojnmbcv': 678, 'httptcoglncgkuukp': 679, 'httptcoh8f7n04q5o': 680, 'httptcoltoxypkwww': 681, 'httptcom4jcka5ir0': 682, 'httptcom5j2tpksm5': 683, 'httptcomdb4iu9whd': 684, 'httptcomxuw3hz4tb': 685, 'httptconleyqfnkyp': 686, 'httptcontojwo4lnt': 687, 'httptcoocsy7crghf': 688, 'httptcopfs5zlkt07': 689, 'httptcopnhzjrhhqr': 690, 'httptcoq95ei17sua': 691, 'httptcoqaa6bwi4pm': 692, 'httptcoqmdsdtfvya': 693, 'httptcoqv': 694, 'httptcorbthvmh9jj': 695, 'httptcospmvzcjj6o': 696, 'httptcot65iytpvdk': 697, 'httptcotfsodcowbx': 698, 'httptcoumkitlb5h9': 699, 'httptcouq19q6pnaq': 700, 'httptcovanp6y7clr': 701, 'httptcowhy3a8o33z': 702, 'httptcoyspbfitztb': 703, 'httptcozjbwagvnrg': 704, 'hugged': 705, 'human': 706, 'humanistfury': 707, 'humanity': 708, 'hungrycampers': 709, 'hw': 710, 'hypatiadotca': 711, 'hypocrite': 712, 'ice': 713, 'id': 714, 'idea': 715, 'ideaology': 716, 'ideaor': 717, 'ideology': 718, 'idiot': 719, 'idiotim': 720, 'idontneedfeminism': 721, 'ied': 722, 'ignorance': 723, 'ignorant': 724, 'ignoring': 725, 'ihatethiskid': 726, 'ilivundrurbed': 727, 'illegal': 728, 'ilovebreakfast': 729, 'iloveobama': 730, 'imagine': 731, 'imperialism': 732, 'implies': 733, 'important': 734, 'info': 735, 'information': 736, 'input': 737, 'instant': 738, 'instead': 739, 'insufferable': 740, 'insulted': 741, 'insulting': 742, 'integration': 743, 'intel': 744, 'interact': 745, 'interest': 746, 'interesting': 747, 'international': 748, 'internet': 749, 'intersection': 750, 'intolerance': 751, 'invented': 752, 'iraq': 753, 'iron': 754, 'isi': 755, 'isisutterly': 756, 'islam': 757, 'islamdefense': 758, 'islamic': 759, 'islamist': 760, 'isnt': 761, 'israel': 762, 'israeliregime': 763, 'issue': 764, 'itll': 765, 'itsbariecool': 766, 'itsfact': 767, 'ive': 768, 'ivyexec': 769, 'izrinhariri': 770, 'jac': 771, 'jealous': 772, 'jeffreygoldberg': 773, 'jennykutner': 774, 'jeremiahfelt': 775, 'jew': 776, 'jhamby': 777, 'jihadi_11': 778, 'jihadis': 779, 'jimcramer': 780, 'jncatron': 781, 'job': 782, 'johncantile': 783, 'johnnygjokaj': 784, 'johnnyrejection': 785, 'joke': 786, 'journalist': 787, 'judge': 788, 'juliet777777': 789, 'justdavidvideos': 790, 'justhonest': 791, 'justkelly_ok': 792, 'kaitlynburnell': 793, 'kamaluf': 794, 'kardashian': 795, 'kat': 796, 'katampandre': 797, 'katandandre': 798, 'katie': 799, 'katieandnikki': 800, 'keep': 801, 'keyboard': 802, 'keynote': 803, 'kid': 804, 'kidding': 805, 'kill': 806, 'killa': 807, 'killed': 808, 'killerblondes': 809, 'killing': 810, 'kind': 811, 'kirkuk': 812, 'kmactane': 813, 'knew': 814, 'know': 815, 'knowingly': 816, 'kobane': 817, 'kuffir': 818, 'kurd': 819, 'kurdish': 820, 'lactualaloupe': 821, 'lad': 822, 'lady': 823, 'lajouetreine': 824, 'large': 825, 'last': 826, 'latest': 827, 'laugh': 828, 'launcher': 829, 'law': 830, 'lazy': 831, 'lb': 832, 'ldstarr18': 833, 'le': 834, 'lead': 835, 'leaning': 836, 'led': 837, 'left': 838, 'legitimately': 839, 'lemon': 840, 'lesson': 841, 'letting': 842, 'level': 843, 'liar': 844, 'liberate': 845, 'libya': 846, 'license': 847, 'licking': 848, 'lie': 849, 'lied': 850, 'life': 851, 'light': 852, 'like': 853, 'likely': 854, 'lilbeastunleash': 855, 'lime': 856, 'line': 857, 'link': 858, 'lipstick': 859, 'lisamromano': 860, 'lissasauras': 861, 'listen': 862, 'lithobolos': 863, 'little': 864, 'live': 865, 'liver': 866, 'lol': 867, 'long': 868, 'loo': 869, 'look': 870, 'looked': 871, 'looking': 872, 'lose': 873, 'loser': 874, 'lost': 875, 'lot': 876, 'love': 877, 'low': 878, 'lt3': 879, 'lucaswj': 880, 'luck': 881, 'lunatic': 882, 'lynnemcgranger': 883, 'm_m_myers': 884, 'maajidnawaz': 885, 'mad': 886, 'madasahatter_17': 887, 'maddr11': 888, 'made': 889, 'magazine': 890, 'magnus919': 891, 'maja_stina': 892, 'major': 893, 'majority': 894, 'make': 895, 'making': 896, 'mami_mermelada': 897, 'man': 898, 'manbabies': 899, 'manu': 900, 'manure': 901, 'many': 902, 'map': 903, 'marc_leibowitz': 904, 'market': 905, 'markimbriaco': 906, 'maroon': 907, 'marriage': 908, 'married': 909, 'masontillidie': 910, 'math': 911, 'matter': 912, 'mattstratton': 913, 'mattybboi83': 914, 'maxblumenthal': 915, 'maxcaras': 916, 'may': 917, 'maybe': 918, 'mccheesy904': 919, 'mean': 920, 'meaning': 921, 'meatball': 922, 'meatgirls': 923, 'mechasauce': 924, 'medium': 925, 'meh': 926, 'mehdirhasan': 927, 'mellym09': 928, 'melting': 929, 'mention': 930, 'menu': 931, 'messed': 932, 'microbrain': 933, 'middle': 934, 'mikeage': 935, 'military': 936, 'militia': 937, 'minasmith64': 938, 'minister': 939, 'minority': 940, 'misfitinchains': 941, 'miskelayla': 942, 'miss': 943, 'missed': 944, 'missing': 945, 'mistertodd': 946, 'mkr': 947, 'mkr2015': 948, 'mkrkat': 949, 'mmmm': 950, 'model': 951, 'moderate': 952, 'modern': 953, 'mohammed': 954, 'monday': 955, 'month': 956, 'moron': 957, 'mosul': 958, 'mouth': 959, 'moving': 960, 'much': 961, 'mugnezee': 962, 'multiple': 963, 'murde': 964, 'murder': 965, 'murdered': 966, 'murtaza': 967, 'muslim': 968, 'muslimtwo': 969, 'mutilated': 970, 'myersnfl': 971, 'mykitchenrules': 972, 'mystrongstate': 973, 'nader_haq': 974, 'naga': 975, 'nainfidels': 976, 'naminglisting': 977, 'narîn': 978, 'nasty': 979, 'naturally': 980, 'nazi': 981, 'near': 982, 'necessarily': 983, 'need': 984, 'needarethinkinformat': 985, 'negated': 986, 'negotiate': 987, 'neilasaurus': 988, 'never': 989, 'new': 990, 'new_babylonia': 991, 'newscoverup': 992, 'next': 993, 'nice': 994, 'nigelbigmeech': 995, 'night': 996, 'nikki': 997, 'nobody': 998, 'noise': 999, 'nomcookiesnom': 1000, 'none': 1001, 'nooo': 1002, 'nope': 1003, 'notchrissmith': 1004, 'note': 1005, 'nothing': 1006, 'notsexist': 1007, 'novorossiyan': 1008, 'nscottg': 1009, 'number': 1010, 'number10gov': 1011, 'nytimes': 1012, 'obamacare': 1013, 'obamas': 1014, 'obsurfer84': 1015, 'obviously': 1016, 'occasion': 1017, 'offense': 1018, 'offensive': 1019, 'offering': 1020, 'oh': 1021, 'oil': 1022, 'oktar': 1023, 'old': 1024, 'oldgfatherclock': 1025, 'one': 1026, 'open': 1027, 'opener': 1028, 'opinion': 1029, 'opponent': 1030, 'opposed': 1031, 'optional': 1032, 'oreilly': 1033, 'org': 1034, 'origin': 1035, 'others': 1036, 'outside': 1037, 'overweight': 1038, 'owais00': 1039, 'p': 1040, 'p8952_': 1041, 'page': 1042, 'painful': 1043, 'pakistan': 1044, 'paknsave': 1045, 'palestine': 1046, 'pancake': 1047, 'paraketa': 1048, 'pardusxy': 1049, 'parent': 1050, 'paris': 1051, 'participate': 1052, 'passport': 1053, 'past': 1054, 'pastor': 1055, 'patrickosgood': 1056, 'pawarnhoff': 1057, 'pay': 1058, 'paying': 1059, 'pc': 1060, 'peace': 1061, 'peacenothate_': 1062, 'pedophile': 1063, 'pedophilia': 1064, 'peerworker': 1065, 'penalty': 1066, 'people': 1067, 'peopleschoice': 1068, 'perfect': 1069, 'period': 1070, 'perk': 1071, 'perl': 1072, 'personality': 1073, 'pervious': 1074, 'peymaneh123': 1075, 'phxken': 1076, 'pie': 1077, 'piece': 1078, 'pile': 1079, 'pilgars': 1080, 'pilot': 1081, 'pissing': 1082, 'pjnet': 1083, 'plane': 1084, 'planning': 1085, 'playing': 1086, 'playstations': 1087, 'please': 1088, 'pleasing': 1089, 'pnibbler': 1090, 'point': 1091, 'pole': 1092, 'police': 1093, 'political': 1094, 'politicalant': 1095, 'politics_pr': 1096, 'poor': 1097, 'poorly': 1098, 'population': 1099, 'portland': 1100, 'possible': 1101, 'possibly': 1102, 'post': 1103, 'posting': 1104, 'power': 1105, 'present': 1106, 'pressure': 1107, 'pretend': 1108, 'pretty': 1109, 'previous': 1110, 'price': 1111, 'prime': 1112, 'prisonersofwar': 1113, 'pro': 1114, 'probably': 1115, 'problem': 1116, 'problematic': 1117, 'producer': 1118, 'production': 1119, 'profile': 1120, 'project': 1121, 'promise': 1122, 'promo': 1123, 'promogirls': 1124, 'promoted': 1125, 'proof': 1126, 'propaganda': 1127, 'prophet': 1128, 'prospect': 1129, 'protecting': 1130, 'proudpatriot101': 1131, 'prove': 1132, 'provide': 1133, 'provision': 1134, 'psog': 1135, 'psogeco': 1136, 'psychbarakat': 1137, 'public': 1138, 'punch': 1139, 'purse': 1140, 'put': 1141, 'question': 1142, 'questionsformen': 1143, 'quietly': 1144, 'quit': 1145, 'quite': 1146, 'quran': 1147, 'r': 1148, 'race': 1149, 'racist': 1150, 'raised': 1151, 'random': 1152, 'randomhero30': 1153, 'raniakhalek': 1154, 'ransom': 1155, 'rape': 1156, 'raped': 1157, 'rapper': 1158, 'rapperguydmv': 1159, 'raqqa': 1160, 'raqqa_sl': 1161, 'rate': 1162, 'rather': 1163, 'ratio': 1164, 'ravenhuwolf': 1165, 'raw': 1166, 'rayyoosheh': 1167, 'react': 1168, 'read': 1169, 'readable': 1170, 'real': 1171, 'really': 1172, 'realryansipple': 1173, 'realtalk': 1174, 'reason': 1175, 'reasonably': 1176, 'rebel': 1177, 'recall': 1178, 'reckless': 1179, 'recognize': 1180, 'recommends': 1181, 'record': 1182, 'recruit': 1183, 'recuperate': 1184, 'redux': 1185, 'reevaluate': 1186, 'reference': 1187, 'referring': 1188, 'refine': 1189, 'regarding': 1190, 'regulation': 1191, 'rejected': 1192, 'relationship': 1193, 'release': 1194, 'religion': 1195, 'religious': 1196, 'relisha': 1197, 'reload': 1198, 'remember': 1199, 'reminded': 1200, 'rennie93': 1201, 'repeatedly': 1202, 'repetition': 1203, 'replacement': 1204, 'report': 1205, 'reputation': 1206, 'request': 1207, 'resorting': 1208, 'respond': 1209, 'restaurant': 1210, 'retreat': 1211, 'revolting': 1212, 'reza_rahman': 1213, 'rigged': 1214, 'right': 1215, 'rinehart33': 1216, 'rip': 1217, 'rjennromao': 1218, 'rkhayer': 1219, 'rkinglive2dance': 1220, 'rob': 1221, 'robbed': 1222, 'robert': 1223, 'robinriedstra': 1224, 'roll': 1225, 'roof': 1226, 'room': 1227, 'rooshv': 1228, 'rose': 1229, 'rotherham': 1230, 'rougek68': 1231, 'round': 1232, 'routinely': 1233, 'rt': 1234, 'rts': 1235, 'rudawenglish': 1236, 'rudd': 1237, 'rude': 1238, 'rudoren': 1239, 'ruin': 1240, 'run': 1241, 'running': 1242, 'russian': 1243, 'said': 1244, 'saifullah666': 1245, 'sajid_fairooz': 1246, 'sake': 1247, 'salmon': 1248, 'salon': 1249, 'saltnburnem': 1250, 'salty': 1251, 'samkitsengupta': 1252, 'santa': 1253, 'sarah_jane666': 1254, 'sas': 1255, 'satire': 1256, 'saudi': 1257, 'sausage': 1258, 'save': 1259, 'saw': 1260, 'say': 1261, 'scared': 1262, 'schmeezi': 1263, 'school': 1264, 'score': 1265, 'scratch': 1266, 'screencaps': 1267, 'script': 1268, 'scripted': 1269, 'scroll': 1270, 'scum': 1271, 'season': 1272, 'see': 1273, 'seen': 1274, 'segment': 1275, 'self': 1276, 'selfies': 1277, 'selling': 1278, 'sellout': 1279, 'semite': 1280, 'semzyxx': 1281, 'sensitive': 1282, 'sent': 1283, 'serious': 1284, 'seriously': 1285, 'serlasco': 1286, 'serve': 1287, 'served': 1288, 'service': 1289, 'serving': 1290, 'set': 1291, 'setup': 1292, 'sevilzadeh': 1293, 'sex': 1294, 'sexhonest': 1295, 'sexism': 1296, 'sexist': 1297, 'sexually': 1298, 'shami_is_back': 1299, 'shaz': 1300, 'shell': 1301, 'shermertron': 1302, 'sherri': 1303, 'shia': 1304, 'shingal': 1305, 'shirt': 1306, 'shit': 1307, 'shoe0nhead': 1308, 'short': 1309, 'shovel': 1310, 'show': 1311, 'shower': 1312, 'shred': 1313, 'shut': 1314, 'sick': 1315, 'side': 1316, 'sighhhh': 1317, 'simpson': 1318, 'since': 1319, 'singer': 1320, 'sinjar': 1321, 'sirgoldenrod': 1322, 'six': 1323, 'skank': 1324, 'slagkick': 1325, 'slap': 1326, 'slave': 1327, 'slaved': 1328, 'sleep': 1329, 'sleeping': 1330, 'slide': 1331, 'slightly': 1332, 'sloshedtrain2': 1333, 'slow': 1334, 'smack': 1335, 'smackem': 1336, 'small': 1337, 'smarter': 1338, 'smash': 1339, 'sold': 1340, 'soldier': 1341, 'someone': 1342, 'something': 1343, 'sometimes': 1344, 'somewhat': 1345, 'soon': 1346, 'sorbent': 1347, 'sorbet': 1348, 'sorry': 1349, 'sorrynotsorry': 1350, 'sound': 1351, 'source': 1352, 'space': 1353, 'spacekatgal': 1354, 'spacequeentbh': 1355, 'spam': 1356, 'spatchcock': 1357, 'speak': 1358, 'speaking': 1359, 'speech': 1360, 'spiritual': 1361, 'spoiled': 1362, 'sport': 1363, 'sports2inflatio': 1364, 'sputnik': 1365, 'srhbutts': 1366, 'stalin': 1367, 'stand': 1368, 'standard': 1369, 'standing': 1370, 'starius': 1371, 'started': 1372, 'starting': 1373, 'state': 1374, 'statistic': 1375, 'stats': 1376, 'stay': 1377, 'stayed': 1378, 'staying': 1379, 'step': 1380, 'steve': 1381, 'stiff': 1382, 'still': 1383, 'stood': 1384, 'stop': 1385, 'stopping': 1386, 'stopwadhwa2015': 1387, 'story': 1388, 'strategically': 1389, 'streaming': 1390, 'stretch': 1391, 'strike': 1392, 'strong': 1393, 'struggle': 1394, 'student': 1395, 'stuff': 1396, 'stupid': 1397, 'stylist': 1398, 'subject': 1399, 'subtle': 1400, 'success': 1401, 'suck': 1402, 'sudixitca': 1403, 'suicide': 1404, 'sumersloan': 1405, 'super': 1406, 'superior': 1407, 'support': 1408, 'supported': 1409, 'sure': 1410, 'surgery': 1411, 'swallow': 1412, 'swiftonsecurity': 1413, 'switching': 1414, 'syazlicious': 1415, 'syria': 1416, 'systemic': 1417, 'tacky': 1418, 'taken': 1419, 'taking': 1420, 'tal': 1421, 'taliban': 1422, 'talk': 1423, 'talladega': 1424, 'taqiyya': 1425, 'tarah': 1426, 'tart': 1427, 'tasteless': 1428, 'tatibresolin': 1429, 'tbh': 1430, 'tbielawa': 1431, 'tcot': 1432, 'teach': 1433, 'teaching': 1434, 'team': 1435, 'tell': 1436, 'telling': 1437, 'tempting': 1438, 'terrible': 1439, 'terror': 1440, 'terrorism': 1441, 'terrorist': 1442, 'testicle': 1443, 'texasarlington': 1444, 'thanks': 1445, 'thatll': 1446, 'thats': 1447, 'theckman': 1448, 'thedoubleclicks': 1449, 'thegeek_chick': 1450, 'thegoodguysau': 1451, 'thelindsayellis': 1452, 'thelmasleaze': 1453, 'themirai': 1454, 'themselvespffft': 1455, 'themuslimguy': 1456, 'thequinnspiracy': 1457, 'there': 1458, 'theyre': 1459, 'thing': 1460, 'think': 1461, 'thinking': 1462, 'third': 1463, 'thought': 1464, 'threw': 1465, 'throw': 1466, 'tied': 1467, 'tim': 1468, 'time': 1469, 'timespan': 1470, 'tiny': 1471, 'tip': 1472, 'tnr': 1473, 'tobyrobertbull': 1474, 'today': 1475, 'todayreal': 1476, 'told': 1477, 'tolerate': 1478, 'tomato': 1479, 'tonight': 1480, 'toodles': 1481, 'tool': 1482, 'top': 1483, 'total': 1484, 'train': 1485, 'transic_nyc': 1486, 'translator': 1487, 'treating': 1488, 'trend': 1489, 'tried': 1490, 'tripple': 1491, 'trolley': 1492, 'troop': 1493, 'trophy': 1494, 'truaemusic': 1495, 'truly': 1496, 'try': 1497, 'trying': 1498, 'turf': 1499, 'turk': 1500, 'tv': 1501, 'tw': 1502, 'tweet': 1503, 'twist': 1504, 'twista202': 1505, 'twitter': 1506, 'two': 1507, 'typed': 1508, 'typically': 1509, 'typo': 1510, 'u': 1511, 'ugly': 1512, 'ukraine': 1513, 'ukrainian': 1514, 'ultrafundamentalist': 1515, 'unacceptable': 1516, 'unapologetic': 1517, 'unashamed': 1518, 'uncalled': 1519, 'understand': 1520, 'understands': 1521, 'unfair': 1522, 'uninvolved': 1523, 'university': 1524, 'update': 1525, 'uplay': 1526, 'upon': 1527, 'use': 1528, 'user': 1529, 'username': 1530, 'usually': 1531, 'valenti': 1532, 'value': 1533, 'vandaliser': 1534, 'vc': 1535, 'vcs': 1536, 'venereveritas13': 1537, 'venomous9': 1538, 'versa': 1539, 'verse': 1540, 'vex0rian': 1541, 'via': 1542, 'vice': 1543, 'victim': 1544, 'victorymonk': 1545, 'video': 1546, 'videobeautiful': 1547, 'violence': 1548, 'voice': 1549, 'vonta624': 1550, 'vote': 1551, 'voted': 1552, 'w': 1553, 'wadhwa': 1554, 'wait': 1555, 'waiting': 1556, 'wakeuplibsgtjoenbc': 1557, 'walk': 1558, 'wan': 1559, 'wanted': 1560, 'warriorsialkot': 1561, 'washed': 1562, 'washingtonpost': 1563, 'wasnt': 1564, 'watan71969': 1565, 'watch': 1566, 'watched': 1567, 'watching': 1568, 'way': 1569, 'week': 1570, 'weekly': 1571, 'well': 1572, 'went': 1573, 'werent': 1574, 'west': 1575, 'western': 1576, 'wetsprocket': 1577, 'wheat': 1578, 'wheel': 1579, 'whereisyourdignity': 1580, 'whether': 1581, 'whiny': 1582, 'white': 1583, 'whiteblack': 1584, 'whitening': 1585, 'whole': 1586, 'wi': 1587, 'wife': 1588, 'win': 1589, 'wing': 1590, 'wish': 1591, 'witch_sniffer': 1592, 'without': 1593, 'witty': 1594, 'wizardryofozil': 1595, 'wks': 1596, 'wnba': 1597, 'wnyc': 1598, 'wocracial': 1599, 'woman': 1600, 'womenagainstfeminism': 1601, 'womeninterpret': 1602, 'word': 1603, 'work': 1604, 'worker': 1605, 'working': 1606, 'worse': 1607, 'worst': 1608, 'would': 1609, 'wouldnt': 1610, 'wouldve': 1611, 'wow': 1612, 'wrecking': 1613, 'write': 1614, 'writer': 1615, 'writing': 1616, 'wrong': 1617, 'xmjee': 1618, 'yall': 1619, 'yawn': 1620, 'yeah': 1621, 'year': 1622, 'yes': 1623, 'yesallwomen': 1624, 'yesyouresexist': 1625, 'yet': 1626, 'yield': 1627, 'youd': 1628, 'youll': 1629, 'young': 1630, 'youre': 1631, 'yousufpoosuf': 1632, 'youtube': 1633, 'ypg': 1634, 'yum': 1635, 'zaibatsunews': 1636, 'zene55': 1637, 'zero': 1638, 'zython86': 1639}\n"
          ],
          "name": "stdout"
        }
      ]
    },
    {
      "cell_type": "markdown",
      "metadata": {
        "id": "Kt-zErr0-OJC"
      },
      "source": [
        "Sample output for Get Word List (Only for format reference since the following pic is not a full print result. But the format is clear to see.)\n",
        "\n",
        "![WeChat Image_20210403214048.png](data:image/png;base64,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)"
      ]
    },
    {
      "cell_type": "markdown",
      "metadata": {
        "id": "GcB7P5DZqo_1"
      },
      "source": [
        "**padding and encoding [Please complete this section]**"
      ]
    },
    {
      "cell_type": "code",
      "metadata": {
        "id": "PwyLQcojqqRv"
      },
      "source": [
        "# The sequence length is pre-defined, you can't change this value for this exercise\n",
        "seq_length = 16\n",
        "\n",
        "# Please Complete this function\n",
        "# Hint: You should pay attention to: (1) if the sentence length > seq_length (2) if the word not in word_index dictionary\n",
        "def encode_and_add_padding(sentences, seq_length, word_index):\n",
        "    sent_encoded = []\n",
        "    for sent in sentences:\n",
        "      temp_encoded = []\n",
        "      for word in sent:\n",
        "        # implement a try catch to encode words not in word_index dictionary\n",
        "        try:\n",
        "          temp_encoded.append(word_index[word])\n",
        "        except:\n",
        "          # catch if word not in word_index dictionary\n",
        "          temp_encoded.append(word_index['[UNKNOWN]'])\n",
        "      # if sentence length < seq_length\n",
        "      if len(temp_encoded) < seq_length:\n",
        "        temp_encoded += [word_index['[PAD]']] * (seq_length - len(temp_encoded))\n",
        "      else:\n",
        "        # if sentence length > seq_length then just append up to the sequence\n",
        "        sent_encoded.append(temp_encoded[:seq_length])\n",
        "        continue\n",
        "      sent_encoded.append(temp_encoded)\n",
        "    return sent_encoded\n",
        "\n",
        "train_pad_encoded = encode_and_add_padding(text_train_le, seq_length, word_index )\n",
        "test_pad_encoded = encode_and_add_padding(text_test_le, seq_length, word_index )\n",
        "\n",
        "# print(text_train_le[2])\n",
        "# train_pad_encoded[2]"
      ],
      "execution_count": 37,
      "outputs": []
    },
    {
      "cell_type": "markdown",
      "metadata": {
        "id": "rUA2H0-HLuQe"
      },
      "source": [
        "\n",
        "**Download Embeddings [Please complete this section]**\n",
        "\n",
        "You can find the details from https://github.com/RaRe-Technologies/gensim-data"
      ]
    },
    {
      "cell_type": "code",
      "metadata": {
        "id": "856alejrLuQe",
        "colab": {
          "base_uri": "https://localhost:8080/"
        },
        "outputId": "66b17951-afad-419c-8453-bb41f67b145c"
      },
      "source": [
        "import gensim.downloader as api\n",
        "# glove-twitter-50\n",
        "# fasttext-wiki-news-subwords-300\n",
        "word_emb_model = api.load(\"glove-wiki-gigaword-100\") # Download an embedding other than glove-twitter-25"
      ],
      "execution_count": 38,
      "outputs": [
        {
          "output_type": "stream",
          "text": [
            "[==================================================] 100.0% 128.1/128.1MB downloaded\n"
          ],
          "name": "stdout"
        }
      ]
    },
    {
      "cell_type": "markdown",
      "metadata": {
        "id": "sCZMaK0zLuQj"
      },
      "source": [
        "**Get embeddings**"
      ]
    },
    {
      "cell_type": "code",
      "metadata": {
        "id": "bdSLmjkSLuQk"
      },
      "source": [
        "# Get the Embedding lookup table\n",
        "import numpy as np\n",
        "emb_dim = word_emb_model.vector_size\n",
        "\n",
        "emb_table = []\n",
        "for i, word in enumerate(word_list):\n",
        "    if word in word_emb_model:\n",
        "        emb_table.append(word_emb_model[word])\n",
        "    else:\n",
        "        emb_table.append([0]*emb_dim)\n",
        "emb_table = np.array(emb_table)"
      ],
      "execution_count": 39,
      "outputs": []
    },
    {
      "cell_type": "markdown",
      "metadata": {
        "id": "yJ96KxTcLuQo"
      },
      "source": [
        "### Model"
      ]
    },
    {
      "cell_type": "code",
      "metadata": {
        "id": "jCZG8wAXLuQp"
      },
      "source": [
        "vocab_size = len(word_list)\n",
        "n_hidden = 50\n",
        "total_epoch = 100\n",
        "learning_rate = 0.01"
      ],
      "execution_count": 40,
      "outputs": []
    },
    {
      "cell_type": "code",
      "metadata": {
        "id": "NRrSAS-DLuQs",
        "colab": {
          "base_uri": "https://localhost:8080/"
        },
        "outputId": "fb53d11a-e309-455c-c416-f3e1f4538b50"
      },
      "source": [
        "import torch\n",
        "#You can enable GPU here (cuda); or just CPU\n",
        "device = torch.device(\"cuda\" if torch.cuda.is_available() else \"cpu\")\n",
        "\n",
        "import numpy as np\n",
        "\n",
        "import torch.nn as nn\n",
        "import torch.nn.functional as F\n",
        "import torch.optim as optim\n",
        "from sklearn.metrics import accuracy_score\n",
        "\n",
        "class Model(nn.Module):\n",
        "    def __init__(self):\n",
        "        super(Model, self).__init__()\n",
        "        self.emb = nn.Embedding(vocab_size, emb_dim)\n",
        "        self.emb.weight.data.copy_(torch.from_numpy(emb_table))\n",
        "        self.emb.weight.requires_grad = False\n",
        "        self.lstm = nn.LSTM(emb_dim, n_hidden, num_layers=2, batch_first =True, dropout=0.2)\n",
        "        self.linear = nn.Linear(n_hidden,n_class)\n",
        "\n",
        "    def forward(self, x):\n",
        "        x = self.emb(x)\n",
        "        x,_ = self.lstm(x)\n",
        "        x = self.linear(x[:,-1,:])\n",
        "        return x\n",
        "\n",
        "\n",
        "model = Model().to(device)\n",
        "criterion = nn.CrossEntropyLoss()\n",
        "optimizer = optim.Adam(model.parameters(), lr=learning_rate)\n",
        "\n",
        "input_torch = torch.from_numpy(np.array(train_pad_encoded)).to(device)\n",
        "target_torch = torch.from_numpy(np.array(label_train_encoded)).view(-1).to(device)\n",
        "\n",
        "\n",
        "for epoch in range(total_epoch):  \n",
        "    \n",
        "    model.train()\n",
        "    optimizer.zero_grad()\n",
        "    outputs = model(input_torch) \n",
        "    loss = criterion(outputs, target_torch)\n",
        "    loss.backward()\n",
        "    optimizer.step()\n",
        "    \n",
        "    if epoch%10 == 9:\n",
        "        predicted = torch.argmax(outputs, -1)\n",
        "        acc= accuracy_score(predicted.cpu().numpy(),target_torch.cpu().numpy())\n",
        "\n",
        "        print('Epoch: %d, loss: %.5f, train_acc: %.2f' %(epoch + 1, loss.item(), acc))\n",
        "\n",
        "print('Finished Training')\n"
      ],
      "execution_count": 41,
      "outputs": [
        {
          "output_type": "stream",
          "text": [
            "Epoch: 10, loss: 0.74109, train_acc: 0.68\n",
            "Epoch: 20, loss: 0.60283, train_acc: 0.73\n",
            "Epoch: 30, loss: 0.54278, train_acc: 0.76\n",
            "Epoch: 40, loss: 0.49668, train_acc: 0.76\n",
            "Epoch: 50, loss: 0.28611, train_acc: 0.92\n",
            "Epoch: 60, loss: 0.17890, train_acc: 0.96\n",
            "Epoch: 70, loss: 0.16447, train_acc: 0.96\n",
            "Epoch: 80, loss: 0.15346, train_acc: 0.96\n",
            "Epoch: 90, loss: 0.18839, train_acc: 0.95\n",
            "Epoch: 100, loss: 0.16475, train_acc: 0.96\n",
            "Finished Training\n"
          ],
          "name": "stdout"
        }
      ]
    },
    {
      "cell_type": "markdown",
      "metadata": {
        "id": "nh4UNBcM-2nC"
      },
      "source": [
        "Sample output for model training (Only for format reference)\n",
        "\n",
        "![WeChat Image_20210403214048.png](data:image/png;base64,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)"
      ]
    },
    {
      "cell_type": "markdown",
      "metadata": {
        "id": "nWTw2QWfN0Xc"
      },
      "source": [
        "### Save and Load the model [Complete this section]"
      ]
    },
    {
      "cell_type": "markdown",
      "metadata": {
        "id": "abct4WjhO4Bq"
      },
      "source": [
        "**Save the model [Complete this part]**"
      ]
    },
    {
      "cell_type": "code",
      "metadata": {
        "id": "gPRrmNS5ONQB"
      },
      "source": [
        "torch.save(model, 'lab5.pt')"
      ],
      "execution_count": 42,
      "outputs": []
    },
    {
      "cell_type": "markdown",
      "metadata": {
        "id": "75fQ4jx5ON-t"
      },
      "source": [
        "**Load the model**"
      ]
    },
    {
      "cell_type": "code",
      "metadata": {
        "id": "F1AUVT1uOQm6",
        "colab": {
          "base_uri": "https://localhost:8080/"
        },
        "outputId": "ef765a7d-e50e-4e48-d37d-817234013a57"
      },
      "source": [
        "model2 = torch.load('lab5.pt')\n",
        "model2.eval()"
      ],
      "execution_count": 43,
      "outputs": [
        {
          "output_type": "execute_result",
          "data": {
            "text/plain": [
              "Model(\n",
              "  (emb): Embedding(1640, 100)\n",
              "  (lstm): LSTM(100, 50, num_layers=2, batch_first=True, dropout=0.2)\n",
              "  (linear): Linear(in_features=50, out_features=3, bias=True)\n",
              ")"
            ]
          },
          "metadata": {
            "tags": []
          },
          "execution_count": 43
        }
      ]
    },
    {
      "cell_type": "markdown",
      "metadata": {
        "id": "nwYMhviBLuQw"
      },
      "source": [
        "### Testing"
      ]
    },
    {
      "cell_type": "code",
      "metadata": {
        "id": "UoueHNI1LuQx",
        "colab": {
          "base_uri": "https://localhost:8080/"
        },
        "outputId": "7478c311-12fd-4ff3-80fd-85710b83c3ee"
      },
      "source": [
        "input_torch = torch.from_numpy(np.array(test_pad_encoded)).to(device)\n",
        "\n",
        "outputs = model2(input_torch) \n",
        "predicted = torch.argmax(outputs, -1)\n",
        "\n",
        "from sklearn.metrics import classification_report\n",
        "print(classification_report(label_test_encoded,predicted.cpu().numpy()))"
      ],
      "execution_count": 44,
      "outputs": [
        {
          "output_type": "stream",
          "text": [
            "              precision    recall  f1-score   support\n",
            "\n",
            "           0       0.79      0.77      0.78        65\n",
            "           1       0.70      0.70      0.70        10\n",
            "           2       0.48      0.52      0.50        25\n",
            "\n",
            "    accuracy                           0.70       100\n",
            "   macro avg       0.66      0.66      0.66       100\n",
            "weighted avg       0.71      0.70      0.70       100\n",
            "\n"
          ],
          "name": "stdout"
        }
      ]
    },
    {
      "cell_type": "markdown",
      "metadata": {
        "id": "6GD58ttk_FMV"
      },
      "source": [
        "Sample output for Testing (Only for format reference)\n",
        "\n",
        "![WeChat Image_20210403214048.png](data:image/png;base64,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)"
      ]
    }
  ]
}