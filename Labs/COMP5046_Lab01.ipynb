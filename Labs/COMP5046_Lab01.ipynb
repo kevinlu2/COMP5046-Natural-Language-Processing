{
  "nbformat": 4,
  "nbformat_minor": 0,
  "metadata": {
    "colab": {
      "name": "COMP5046_Lab01.ipynb",
      "provenance": [],
      "collapsed_sections": [
        "3-tNXEbFOf-g",
        "lONWx3FtSwWJ",
        "7g3eNemEOklg",
        "I2cusD7IovCi",
        "P4rd7JPrr4sc",
        "rJfYbAtPrMNS"
      ],
      "toc_visible": true,
      "include_colab_link": true
    },
    "kernelspec": {
      "name": "python3",
      "display_name": "Python 3"
    },
    "accelerator": "GPU"
  },
  "cells": [
    {
      "cell_type": "markdown",
      "metadata": {
        "id": "view-in-github",
        "colab_type": "text"
      },
      "source": [
        "<a href=\"https://colab.research.google.com/github/kevinlu2/COMP5046/blob/main/Labs/COMP5046_Lab01.ipynb\" target=\"_parent\"><img src=\"https://colab.research.google.com/assets/colab-badge.svg\" alt=\"Open In Colab\"/></a>"
      ]
    },
    {
      "cell_type": "markdown",
      "metadata": {
        "id": "3-tNXEbFOf-g"
      },
      "source": [
        "# Lab 01"
      ]
    },
    {
      "cell_type": "markdown",
      "metadata": {
        "id": "6Vmb3ZK5SOhz"
      },
      "source": [
        "# PyTorch"
      ]
    },
    {
      "cell_type": "markdown",
      "metadata": {
        "id": "9jJgT_lITGdG"
      },
      "source": [
        "[PyTorch](https://pytorch.org/) is an open source machine learning library used for applications such as natural language processing and computer vision. It is based on the [Torch](http://torch.ch/) library.\n",
        "\n",
        "Before we use Pytorch it is (obviously) neccessary to understand what Pytorch is. Let's start from the two core concepts: **Tensor**, **(Computational) Graph** and **Automatic Differentiation**\n",
        "\n",
        "\n",
        "## Tensor\n",
        "A tensor is a generalization of vectors and matrices to potentially higher dimensions. It is the primary data structure used by neural networks. Normally, we can use **nd**-tensor to call any of its instances where **nd** stands for **n** **dimensional**.\n",
        "\n",
        "There are three basic attributes we need to know about tensors:\n",
        "*   *Rank*: The number of dimensions present within the tensor. e.g. rank-2 tensor means 2d-tensor.\n",
        "*   *Axes*: Used to refer to a specific dimensions. The number of axes equals to the number of dimensions. The length of an axis represents the number of elements running along this axis. \n",
        "*   *Shape*: Formed by the length of each axis. e.g. shape(1,2) means a 2d-tensor with the first axis of length 1 and the second axis of length 2. \n",
        "\n",
        "\n",
        "![Tensor_Rank](https://drive.google.com/uc?id=1o5wulLHGxUuPxH3t3xfV8U7d2CrsL1oG)\n",
        "\n",
        "\n",
        "A [torch.Tensor](https://pytorch.org/docs/stable/tensors.html) (tensor in PyTorch) has the following key properties : \n",
        "*   *torch.dtype*: an object representing the data type of a torch.Tensor. e.g. torch.float32\n",
        "*   *torch.device*: an object representing the device on which a torch.Tensor is or will be allocated. e.g. CPU or CUDA (GPU)\n",
        "*   *torch.layout*: an object representing the memory layout of a torch.Tensor.\n",
        "\n",
        "More details with illustrative examples can be found [here](https://pytorch.org/docs/stable/tensor_attributes.html#tensor-attributes-doc) \n",
        "\n",
        "\n"
      ]
    },
    {
      "cell_type": "markdown",
      "metadata": {
        "id": "lONWx3FtSwWJ"
      },
      "source": [
        "## Computational Graph and Automatic Differentiation\n",
        "PyTorch uses (directed acyclic) computational graphs  to graph the functional operations that are applied to tensors inside neural networks so as to computationally calculate derivatives for the network optimization. In graphs, the nodes are Tensors while the eages are functions that produce output Tensors from input Tensors (e.g. summation, mutiplication). Those graphs enable PyTorch to do the automatic differentiation for us, i.e. it can automatically calculate the derivatives that are needed for network optimization. We will learn more about it through pratical examples in following sections.\n",
        "\n",
        "Specifically, PyTorch generates the computational graph on the fly as when operations are created during forward passes in neural networks, which is refered as dynamic computational graph. This is the one of the main differences between PyTorch and TensorFlow which uses static computational graphs.  \n",
        "\n"
      ]
    },
    {
      "cell_type": "markdown",
      "metadata": {
        "id": "xWQxFb_W8flk"
      },
      "source": [
        "## Importing PyTorch library\n",
        "[Google Colab](https://colab.research.google.com/notebooks/welcome.ipynb) has torch library installed as default so you just need to import it as below:"
      ]
    },
    {
      "cell_type": "code",
      "metadata": {
        "id": "horLjqk6TNZX",
        "colab": {
          "base_uri": "https://localhost:8080/"
        },
        "outputId": "d819f2c0-1857-4bca-8cc1-577104e0d9d3"
      },
      "source": [
        "import torch\n",
        "print(torch.__version__) #check version"
      ],
      "execution_count": 1,
      "outputs": [
        {
          "output_type": "stream",
          "text": [
            "1.8.0+cu101\n"
          ],
          "name": "stdout"
        }
      ]
    },
    {
      "cell_type": "markdown",
      "metadata": {
        "id": "XPp2MGCe1apL"
      },
      "source": [
        "## Tensor creation\n",
        "With PyTorch, we will be implementing lots of models. To get started, let's  have a look at how to create a tensor.\n",
        "\n",
        "We can creating tensors **with numerical data**, typically numpy arrays."
      ]
    },
    {
      "cell_type": "code",
      "metadata": {
        "id": "bSymfXYxUT-8",
        "colab": {
          "base_uri": "https://localhost:8080/"
        },
        "outputId": "2ee5dc36-ebc4-4ddf-8f84-48bb796ae4c7"
      },
      "source": [
        "import numpy as np\n",
        "\n",
        "# Scalar (0 Rank)\n",
        "data = torch.tensor(1)\n",
        "print(data.shape)\n",
        "\n",
        "\n",
        "# Vector (1 Rank)\n",
        "data = np.array([1,2]) \n",
        "data = torch.Tensor(data)\n",
        "print(data.shape)\n",
        "\n",
        "\n",
        "# Matrix (2 Rank)\n",
        "data = np.ones((2,2,)) \n",
        "data = torch.Tensor(data)\n",
        "print(data.shape)\n",
        "\n",
        "\n",
        "# Cube (3 Rank)\n",
        "data = np.ones((2,2,2)) \n",
        "data = torch.Tensor(data)\n",
        "print(data.shape)\n",
        "\n",
        "\n",
        "# Vector of cubes (4 Rank)\n",
        "data = np.ones((2,2,2,2)) \n",
        "data = torch.Tensor(data)\n",
        "print(data.shape)"
      ],
      "execution_count": 2,
      "outputs": [
        {
          "output_type": "stream",
          "text": [
            "torch.Size([])\n",
            "torch.Size([2])\n",
            "torch.Size([2, 2])\n",
            "torch.Size([2, 2, 2])\n",
            "torch.Size([2, 2, 2, 2])\n"
          ],
          "name": "stdout"
        }
      ]
    },
    {
      "cell_type": "markdown",
      "metadata": {
        "id": "6LEAyEhrn03F"
      },
      "source": [
        "Notice that although both torch.Tensor() and torch.tensor() can be used to  generate tensors, there are some differences:\n",
        "\n",
        "*   uppercase T VS. lowercase t (obviously)\n",
        "*   torch.Tensor() is the constructor of the torch.Tensor class while the torch.tensor() is a factory function that constructs torch.Tensor objects and return them to the caller \n",
        "*   torch.Tensor() can return an empty tensor without specifying incoming data while torch.tensor() with no input data will prouduce a TypeError (you can try)\n",
        "*   torch.Tensor uses the default dtype \"float32\" while the torch.tensor() choose the same dtype based on the incoming data (type inference), this can be easily illustrated through following example:\n",
        "\n"
      ]
    },
    {
      "cell_type": "code",
      "metadata": {
        "id": "fxsULaaptyF7",
        "colab": {
          "base_uri": "https://localhost:8080/"
        },
        "outputId": "fb4de76c-009c-4469-e92b-113d27767977"
      },
      "source": [
        "data = np.array([1,2]) \n",
        "print(data.dtype)\n",
        "\n",
        "data_T = torch.Tensor(data)\n",
        "print(data_T)\n",
        "print(data_T.dtype)\n",
        "print(data_T.dtype==torch.get_default_dtype()) #get the torch default data type, \n",
        "\n",
        "#which can also be changed through 'torch.set_default_dtype(dtype)'\n",
        "print()\n",
        "\n",
        "data_t = torch.tensor(data)\n",
        "print(data_t)\n",
        "print(data_t.dtype)\n",
        "print()\n",
        "\n",
        "#we can also specify a datatype with torch.tensor()\n",
        "data_t = torch.tensor(data, dtype=torch.float64)\n",
        "print(data_t)\n",
        "print(data_t.dtype)"
      ],
      "execution_count": 3,
      "outputs": [
        {
          "output_type": "stream",
          "text": [
            "int64\n",
            "tensor([1., 2.])\n",
            "torch.float32\n",
            "True\n",
            "\n",
            "tensor([1, 2])\n",
            "torch.int64\n",
            "\n",
            "tensor([1., 2.], dtype=torch.float64)\n",
            "torch.float64\n"
          ],
          "name": "stdout"
        }
      ]
    },
    {
      "cell_type": "markdown",
      "metadata": {
        "id": "cE2tWt771BYk"
      },
      "source": [
        "Expect for torch.Tensor() and torch.tensor(), We can also use torch.as_tensor and torch.from_numpy"
      ]
    },
    {
      "cell_type": "code",
      "metadata": {
        "id": "hE5zySUlbYPK",
        "colab": {
          "base_uri": "https://localhost:8080/"
        },
        "outputId": "1612471e-91f8-4b52-c8fb-11f9ebd8c9ec"
      },
      "source": [
        "# Create tensor using torch.as_tensor \n",
        "data = np.ones((2,2,2)) \n",
        "data = torch.as_tensor(data)\n",
        "print(data.shape)\n",
        "print(data.dtype)\n",
        "# Create tensor using torch.from_numpy\n",
        "data = np.ones((2,2,2,2))\n",
        "data = torch.from_numpy(data)\n",
        "print(data.shape)\n",
        "print(data.dtype)"
      ],
      "execution_count": 4,
      "outputs": [
        {
          "output_type": "stream",
          "text": [
            "torch.Size([2, 2, 2])\n",
            "torch.float64\n",
            "torch.Size([2, 2, 2, 2])\n",
            "torch.float64\n"
          ],
          "name": "stdout"
        }
      ]
    },
    {
      "cell_type": "markdown",
      "metadata": {
        "id": "Q-hrVh5Eb50F"
      },
      "source": [
        "Alternatively, we can also create tensors **without data** using factory functions"
      ]
    },
    {
      "cell_type": "code",
      "metadata": {
        "id": "XGnl32afcBnv",
        "colab": {
          "base_uri": "https://localhost:8080/"
        },
        "outputId": "0c2bd7e4-ac60-4a1d-9b00-c61b44ee85fd"
      },
      "source": [
        "# torch.eye: Returns an identity matrix \n",
        "torch.eye(2)"
      ],
      "execution_count": 5,
      "outputs": [
        {
          "output_type": "execute_result",
          "data": {
            "text/plain": [
              "tensor([[1., 0.],\n",
              "        [0., 1.]])"
            ]
          },
          "metadata": {
            "tags": []
          },
          "execution_count": 5
        }
      ]
    },
    {
      "cell_type": "code",
      "metadata": {
        "id": "R8QlyKrPcxs_",
        "colab": {
          "base_uri": "https://localhost:8080/"
        },
        "outputId": "b54697d9-d6f8-48da-d8e7-b00d139bffcc"
      },
      "source": [
        "# torch.zeros: Returns a tensor of given shape filled with all zeros\n",
        "torch.zeros(2,2)"
      ],
      "execution_count": 6,
      "outputs": [
        {
          "output_type": "execute_result",
          "data": {
            "text/plain": [
              "tensor([[0., 0.],\n",
              "        [0., 0.]])"
            ]
          },
          "metadata": {
            "tags": []
          },
          "execution_count": 6
        }
      ]
    },
    {
      "cell_type": "code",
      "metadata": {
        "id": "rO_IkTuSc66X",
        "colab": {
          "base_uri": "https://localhost:8080/"
        },
        "outputId": "494729ce-b229-45aa-f6e8-1ffc9c11a45b"
      },
      "source": [
        "# torch.ones: Returns a tensor of given shape filled with all ones\n",
        "torch.ones(2,2)"
      ],
      "execution_count": 7,
      "outputs": [
        {
          "output_type": "execute_result",
          "data": {
            "text/plain": [
              "tensor([[1., 1.],\n",
              "        [1., 1.]])"
            ]
          },
          "metadata": {
            "tags": []
          },
          "execution_count": 7
        }
      ]
    },
    {
      "cell_type": "code",
      "metadata": {
        "id": "BZqJpoIXc8wL",
        "colab": {
          "base_uri": "https://localhost:8080/"
        },
        "outputId": "c3fa9c56-b8de-48b6-af4b-e68bb40fba65"
      },
      "source": [
        "# torch.rand: Returns a tensor of given shape filled with values drawn from a uniform distribution on [0, 1).\n",
        "torch.rand(2,2)"
      ],
      "execution_count": 8,
      "outputs": [
        {
          "output_type": "execute_result",
          "data": {
            "text/plain": [
              "tensor([[0.9544, 0.6959],\n",
              "        [0.8255, 0.1977]])"
            ]
          },
          "metadata": {
            "tags": []
          },
          "execution_count": 8
        }
      ]
    },
    {
      "cell_type": "markdown",
      "metadata": {
        "id": "NTOQtikExO7M"
      },
      "source": [
        "More factory functions for tensor creation can be found [here](https://pytorch.org/cppdocs/notes/tensor_creation.html#factory-functions)"
      ]
    },
    {
      "cell_type": "markdown",
      "metadata": {
        "id": "Bff_DPKHbSvY"
      },
      "source": [
        "## Basic tensor operations"
      ]
    },
    {
      "cell_type": "markdown",
      "metadata": {
        "id": "rKz1UOFEHYVr"
      },
      "source": [
        "The list of operations with examples can be found [here](https://pytorch.org/docs/stable/torch.html#math-operations). Please go through and try to practise yourself with examples before you move on. You don't need to remember all of them, you can easily refer back when needed."
      ]
    },
    {
      "cell_type": "markdown",
      "metadata": {
        "id": "IE91VTvN_YVB"
      },
      "source": [
        "## Simple Linear Regression\n",
        "\n",
        "![Linear_Regression](https://upload.wikimedia.org/wikipedia/commons/thumb/3/3a/Linear_regression.svg/320px-Linear_regression.svg.png)\n",
        "\n",
        "The following code implements a simple linear regression algorithm.\n",
        "\n"
      ]
    },
    {
      "cell_type": "markdown",
      "metadata": {
        "id": "3fXyR-6lGlie"
      },
      "source": [
        "### Linear Regression from scratch"
      ]
    },
    {
      "cell_type": "markdown",
      "metadata": {
        "id": "ALnKOtUpGZyk"
      },
      "source": [
        "Prepare data"
      ]
    },
    {
      "cell_type": "code",
      "metadata": {
        "id": "uK900tGJBcbt"
      },
      "source": [
        "import numpy\n",
        "import matplotlib.pyplot as plt\n",
        "import torch\n",
        "\n",
        "# training data\n",
        "x_training = numpy.asarray([1,2,5,8,9,12,14,16,18,20])\n",
        "y_training = numpy.asarray([1500,3500,7200,11000,12500,18500,22000,24500,28000,30500])\n",
        "\n",
        "x_test = numpy.asarray([3,7,13,15,19])\n",
        "y_test = numpy.asarray([4400,10000,19500,23500,29000])\n",
        "\n",
        "# creating tensor for trainig from training data\n",
        "x_data = torch.from_numpy(x_training)\n",
        "y_data = torch.from_numpy(y_training)\n",
        "x_test_data = torch.from_numpy(x_test)\n",
        "y_test_data = torch.from_numpy(y_test)\n"
      ],
      "execution_count": 9,
      "outputs": []
    },
    {
      "cell_type": "markdown",
      "metadata": {
        "id": "u4DA9NoJG10G"
      },
      "source": [
        " Once the dataset is prepared, we can start defining our model architecture\n",
        " \n",
        " Let's first build it from scratch so as to gain a clear understanding about how the automatic differentiation works\n",
        "\n"
      ]
    },
    {
      "cell_type": "code",
      "metadata": {
        "id": "IzlkNOOpGk8r",
        "colab": {
          "base_uri": "https://localhost:8080/"
        },
        "outputId": "9854dcea-b5f8-445a-94bb-d2ef2e400bbe"
      },
      "source": [
        "# Define weights and biases\n",
        "weight = torch.tensor(numpy.random.randn(), requires_grad=True)\n",
        "bias = torch.tensor(numpy.random.randn(), requires_grad=True)\n",
        "print(weight)\n",
        "print(bias)"
      ],
      "execution_count": 10,
      "outputs": [
        {
          "output_type": "stream",
          "text": [
            "tensor(1.9416, requires_grad=True)\n",
            "tensor(-0.3124, requires_grad=True)\n"
          ],
          "name": "stdout"
        }
      ]
    },
    {
      "cell_type": "markdown",
      "metadata": {
        "id": "9p3lWE7DL_c2"
      },
      "source": [
        "Note that we set 'requires_grad=True' above, which turns on the automatic gradient computation for weight and bias.\r\n",
        "\r\n",
        "Every Tensor has a flag: 'requires_grad' that allows for fine grained exclusion of subgraphs from gradient computation and can increase efficiency. If there’s a single input to an operation that requires gradient, its output will also require gradient. Conversely, only if all inputs don’t require gradient, the output also won’t require it. Backward computation is never performed in the subgraphs, where all Tensors didn’t require gradients."
      ]
    },
    {
      "cell_type": "code",
      "metadata": {
        "id": "FnGNiyccJEU7"
      },
      "source": [
        "# Define the model\n",
        "# Hypothesis = W * X + b (Linear Model)\n",
        "def linearRegression(x):\n",
        "  return x * weight + bias"
      ],
      "execution_count": 11,
      "outputs": []
    },
    {
      "cell_type": "code",
      "metadata": {
        "id": "eYVxYYEaJw_9",
        "colab": {
          "base_uri": "https://localhost:8080/"
        },
        "outputId": "af659e23-64ec-4e1e-d3c6-b4ade77ef7b6"
      },
      "source": [
        "# Generate predictions and compare with ground truth labels\n",
        "# As we can see, we randomly initialise the weight and bias, the model does not predict properly at the moment\n",
        "predictions = linearRegression(x_data)\n",
        "print(predictions)\n",
        "print(y_data)"
      ],
      "execution_count": 12,
      "outputs": [
        {
          "output_type": "stream",
          "text": [
            "tensor([ 1.6292,  3.5708,  9.3956, 15.2204, 17.1620, 22.9868, 26.8700, 30.7532,\n",
            "        34.6363, 38.5195], grad_fn=<AddBackward0>)\n",
            "tensor([ 1500,  3500,  7200, 11000, 12500, 18500, 22000, 24500, 28000, 30500])\n"
          ],
          "name": "stdout"
        }
      ]
    },
    {
      "cell_type": "code",
      "metadata": {
        "id": "4rjCmeI3KxEy"
      },
      "source": [
        "# Define loss function \n",
        "# here we use mean squared error (MSE)\n",
        "def mse(x1, x2):\n",
        "  diff = x1 - x2\n",
        "  return torch.sum(diff*diff)/diff.numel()"
      ],
      "execution_count": 13,
      "outputs": []
    },
    {
      "cell_type": "code",
      "metadata": {
        "id": "MnnZ_W8yLPLw",
        "colab": {
          "base_uri": "https://localhost:8080/"
        },
        "outputId": "eaf30db2-ec10-4d45-86da-d29172573454"
      },
      "source": [
        "# Compute loss\n",
        "# As we all know, the lower, the better\n",
        "loss = mse(predictions, y_data)\n",
        "print(loss)"
      ],
      "execution_count": 14,
      "outputs": [
        {
          "output_type": "stream",
          "text": [
            "tensor(3.4756e+08, grad_fn=<DivBackward0>)\n"
          ],
          "name": "stdout"
        }
      ]
    },
    {
      "cell_type": "markdown",
      "metadata": {
        "id": "Ua8D9hd2MmSb"
      },
      "source": [
        "As is mentioned, PyTorch automatically compute the gradient/derivative of the loss (with regard to the weight and bias here). This was enabled when we set 'requires_grad=True' to them.\n",
        "\n",
        "All we need to do now is to call the backward() over our loss, which will trigger the automatical computation of gradients based on the chain rule."
      ]
    },
    {
      "cell_type": "code",
      "metadata": {
        "id": "cQ5PL5rbNJ09"
      },
      "source": [
        "# Compute gradients\n",
        "loss.backward()"
      ],
      "execution_count": 15,
      "outputs": []
    },
    {
      "cell_type": "markdown",
      "metadata": {
        "id": "qwuD_tYMNnZP"
      },
      "source": [
        "After the backward passing, the gradients are stored in the .grad property of the involved tensors. Let's have a look."
      ]
    },
    {
      "cell_type": "code",
      "metadata": {
        "id": "w5glqZhkN1Fl",
        "colab": {
          "base_uri": "https://localhost:8080/"
        },
        "outputId": "b1613116-94e6-4a2c-a0d0-730346bb9424"
      },
      "source": [
        "# Gradient for weight\n",
        "print(weight)\n",
        "print(weight.grad)\n",
        "print()\n",
        "\n",
        "# Gradient for bias\n",
        "print(bias)\n",
        "print(bias.grad)"
      ],
      "execution_count": 16,
      "outputs": [
        {
          "output_type": "stream",
          "text": [
            "tensor(1.9416, requires_grad=True)\n",
            "tensor(-455626.0938)\n",
            "\n",
            "tensor(-0.3124, requires_grad=True)\n",
            "tensor(-31799.8535)\n"
          ],
          "name": "stdout"
        }
      ]
    },
    {
      "cell_type": "markdown",
      "metadata": {
        "id": "bvHjhErrPiDk"
      },
      "source": [
        "Now we can easily adjust the weight and bias using the gradients.\n",
        "\n",
        "We need to reset the gradients before the next forward pass, because PyTorch accumulates gradients."
      ]
    },
    {
      "cell_type": "code",
      "metadata": {
        "id": "F_HXZkOUP-vB",
        "colab": {
          "base_uri": "https://localhost:8080/"
        },
        "outputId": "05db4cc8-7f0d-41bc-d5f4-2bb16c657a25"
      },
      "source": [
        "# We do not want gradient for the update operation\n",
        "# There will not be automatic gradient computation within the torch.no_grad() \n",
        "# We use learning rate of 1e-5 here\n",
        "\n",
        "with torch.no_grad(): \n",
        "  weight -= weight.grad * 1e-5\n",
        "  bias -= bias * 1e-5\n",
        "  # remember to reset the gradients\n",
        "  weight.grad.zero_()\n",
        "  bias.grad.zero_()\n",
        "print(weight)\n",
        "print(bias)\n"
      ],
      "execution_count": 17,
      "outputs": [
        {
          "output_type": "stream",
          "text": [
            "tensor(6.4979, requires_grad=True)\n",
            "tensor(-0.3124, requires_grad=True)\n"
          ],
          "name": "stdout"
        }
      ]
    },
    {
      "cell_type": "code",
      "metadata": {
        "id": "MSj4yiSSSOJj",
        "colab": {
          "base_uri": "https://localhost:8080/"
        },
        "outputId": "adc15e3c-6577-43b5-dfb3-54800eb30ff0"
      },
      "source": [
        "print(weight.grad)\n",
        "print(bias.grad)"
      ],
      "execution_count": 18,
      "outputs": [
        {
          "output_type": "stream",
          "text": [
            "tensor(0.)\n",
            "tensor(0.)\n"
          ],
          "name": "stdout"
        }
      ]
    },
    {
      "cell_type": "markdown",
      "metadata": {
        "id": "3rmo63CASlPp"
      },
      "source": [
        "Let's predict and compute loss again. The loss should be lower with new weights and biases"
      ]
    },
    {
      "cell_type": "code",
      "metadata": {
        "id": "xRBatrmLSxmW",
        "colab": {
          "base_uri": "https://localhost:8080/"
        },
        "outputId": "e51c4d5d-4170-4ec3-bfa5-485ccedbcf80"
      },
      "source": [
        "predictions = linearRegression(x_data)\n",
        "loss = mse(predictions, y_data)\n",
        "print(loss)"
      ],
      "execution_count": 19,
      "outputs": [
        {
          "output_type": "stream",
          "text": [
            "tensor(3.4549e+08, grad_fn=<DivBackward0>)\n"
          ],
          "name": "stdout"
        }
      ]
    },
    {
      "cell_type": "markdown",
      "metadata": {
        "id": "OE05OxGETIGd"
      },
      "source": [
        "Hope you now have an initial clear understanding of how automatic gradient computing works.\n",
        "\n",
        "Let's start training the model for multiple epochs.\n",
        "\n",
        "We can just simply create python loop to do it."
      ]
    },
    {
      "cell_type": "code",
      "metadata": {
        "id": "glakWvo4TmmU",
        "colab": {
          "base_uri": "https://localhost:8080/",
          "height": 1000
        },
        "outputId": "719a92a5-f114-4bdb-cfb9-0fa9ed64a9e5"
      },
      "source": [
        "# An epoch is one iteration over the entire input data\n",
        "no_of_epochs = 5000\n",
        "# How often you want to display training info.\n",
        "display_interval = 200\n",
        "\n",
        "for epoch in range(no_of_epochs):\n",
        "  predictions = linearRegression(x_data)\n",
        "  loss = mse(predictions, y_data)\n",
        "  loss.backward()\n",
        "  with torch.no_grad():\n",
        "    weight -= weight.grad * 1e-5\n",
        "    bias -= bias.grad * 1e-5\n",
        "    weight.grad.zero_()\n",
        "    bias.grad.zero_()\n",
        "  if epoch % display_interval == 0 :\n",
        "      # calculate the cost of the current model\n",
        "      predictions = linearRegression(x_data)\n",
        "      loss = mse(predictions, y_data)           \n",
        "      print(\"Epoch:\", '%04d' %(epoch), \"loss=\", \"{:.8f}\".format(loss), \"W=\", \"{:.4f}\".format(weight), \"b=\",  \"{:.4f}\".format(bias))\n",
        "\n",
        "print(\"=========================================================\")\n",
        "training_loss = mse(linearRegression(x_data), y_data)   \n",
        "print(\"Optimised:\", \"loss=\", \"{:.9f}\".format(training_loss.data), \\\n",
        "              \"W=\", \"{:.9f}\".format(weight.data), \"b=\", \"{:.9f}\".format(bias.data))\n",
        "    \n",
        "# Plot training data on the graph\n",
        "plt.plot(x_training, y_training, 'ro', label='Training data')\n",
        "plt.plot(x_training, weight.data * x_training + bias.data, label='Linear')\n",
        "plt.legend()\n",
        "plt.show()\n",
        "\n",
        "# Calculate testing loss\n",
        "testing_loss = mse(linearRegression(x_test_data), y_test_data) \n",
        "print(\"Testing loss=\", \"{:.9f}\".format(testing_loss.data))\n",
        "print(\"Absolute mean square loss difference:\", \"{:.9f}\".format(abs(\n",
        "      training_loss.data - testing_loss.data)))\n",
        "  \n",
        "# Plot testing data on the graph\n",
        "plt.plot(x_test, y_test, 'bo', label='Testing data')\n",
        "plt.plot(x_test, weight.data * x_test + bias.data, label='Linear')\n",
        "plt.legend()\n",
        "plt.show()"
      ],
      "execution_count": 20,
      "outputs": [
        {
          "output_type": "stream",
          "text": [
            "Epoch: 0000 loss= 343415392.00000000 W= 11.0405 b= 0.0047\n",
            "Epoch: 0200 loss= 103354464.00000000 W= 692.6461 b= 47.4477\n",
            "Epoch: 0400 loss= 31317844.00000000 W= 1066.0400 b= 73.2065\n",
            "Epoch: 0600 loss= 9701307.00000000 W= 1270.5980 b= 87.0870\n",
            "Epoch: 0800 loss= 3214571.25000000 W= 1382.6699 b= 94.4609\n",
            "Epoch: 1000 loss= 1267959.25000000 W= 1444.0782 b= 98.2709\n",
            "Epoch: 1200 loss= 683731.12500000 W= 1477.7339 b= 100.1287\n",
            "Epoch: 1400 loss= 508335.34375000 W= 1496.1854 b= 100.9174\n",
            "Epoch: 1600 loss= 455609.25000000 W= 1506.3101 b= 101.1207\n",
            "Epoch: 1800 loss= 439699.68750000 W= 1511.8715 b= 101.0036\n",
            "Epoch: 2000 loss= 434835.00000000 W= 1514.9346 b= 100.7111\n",
            "Epoch: 2200 loss= 433286.25000000 W= 1516.6282 b= 100.3229\n",
            "Epoch: 2400 loss= 432731.84375000 W= 1517.5721 b= 99.8825\n",
            "Epoch: 2600 loss= 432476.43750000 W= 1518.1050 b= 99.4137\n",
            "Epoch: 2800 loss= 432310.50000000 W= 1518.4132 b= 98.9296\n",
            "Epoch: 3000 loss= 432172.15625000 W= 1518.5973 b= 98.4373\n",
            "Epoch: 3200 loss= 432041.40625000 W= 1518.7140 b= 97.9408\n",
            "Epoch: 3400 loss= 431914.68750000 W= 1518.7938 b= 97.4422\n",
            "Epoch: 3600 loss= 431787.93750000 W= 1518.8510 b= 96.9432\n",
            "Epoch: 3800 loss= 431662.31250000 W= 1518.8998 b= 96.4442\n",
            "Epoch: 4000 loss= 431536.31250000 W= 1518.9486 b= 95.9453\n",
            "Epoch: 4200 loss= 431410.65625000 W= 1518.9877 b= 95.4463\n",
            "Epoch: 4400 loss= 431285.81250000 W= 1519.0227 b= 94.9473\n",
            "Epoch: 4600 loss= 431160.50000000 W= 1519.0577 b= 94.4484\n",
            "Epoch: 4800 loss= 431036.40625000 W= 1519.0928 b= 93.9509\n",
            "=========================================================\n",
            "Optimised: loss= 430912.843750000 W= 1519.127441406 b= 93.455924988\n"
          ],
          "name": "stdout"
        },
        {
          "output_type": "display_data",
          "data": {
            "image/png": "[encoded data removed]",
            "text/plain": [
              "<Figure size 432x288 with 1 Axes>"
            ]
          },
          "metadata": {
            "tags": [],
            "needs_background": "light"
          }
        },
        {
          "output_type": "stream",
          "text": [
            "Testing loss= 218960.093750000\n",
            "Absolute mean square loss difference: 211952.750000000\n"
          ],
          "name": "stdout"
        },
        {
          "output_type": "display_data",
          "data": {
            "image/png": "[encoded data removed]",
            "text/plain": [
              "<Figure size 432x288 with 1 Axes>"
            ]
          },
          "metadata": {
            "tags": [],
            "needs_background": "light"
          }
        }
      ]
    },
    {
      "cell_type": "markdown",
      "metadata": {
        "id": "54_Tj-BIaDPU"
      },
      "source": [
        "### Linear Regression using PyTorch built-ins"
      ]
    },
    {
      "cell_type": "markdown",
      "metadata": {
        "id": "yUrcVErtayVN"
      },
      "source": [
        "Prepare data"
      ]
    },
    {
      "cell_type": "code",
      "metadata": {
        "id": "5DwoqFKbaiSY"
      },
      "source": [
        "import numpy\n",
        "import matplotlib.pyplot as plt\n",
        "import torch\n",
        "import torch.nn as nn\n",
        "\n",
        "# training data: this time we use 2d array\n",
        "# Assuming we have 90 samples of 10 features about a house condition, such as bedroom number, distance to city center etc.\n",
        "# and will predict the house price \n",
        "x_data = torch.randn(90, 10)\n",
        "y_data = torch.randn(90, 1)\n",
        "\n",
        "# testing data:\n",
        "x_test_data = torch.randn(10, 10)\n",
        "y_test_data = torch.randn(10, 1)\n",
        "\n"
      ],
      "execution_count": 21,
      "outputs": []
    },
    {
      "cell_type": "markdown",
      "metadata": {
        "id": "79_tCTbKa_Go"
      },
      "source": [
        "This time we don't need to initialize the weight and bias manually. Instead, we will define the model using the built-in [torch.nn.Linear](https://pytorch.org/docs/stable/nn.html#linear).\n",
        "\n",
        "[**torch.nn**](https://pytorch.org/docs/stable/nn.html) is a subpackage that contains modules and extensible classes for us to build neural networks.\n",
        "\n"
      ]
    },
    {
      "cell_type": "code",
      "metadata": {
        "id": "rA8sqMF_bOSL",
        "colab": {
          "base_uri": "https://localhost:8080/"
        },
        "outputId": "97bbbeeb-ac5e-421d-ed71-48683cea587a"
      },
      "source": [
        "# Define model\n",
        "linearRegression =  nn.Linear(10,1)\n",
        "print(linearRegression.weight)\n",
        "print(linearRegression.bias)"
      ],
      "execution_count": 22,
      "outputs": [
        {
          "output_type": "stream",
          "text": [
            "Parameter containing:\n",
            "tensor([[ 0.1248, -0.1032, -0.2341, -0.2937, -0.1560, -0.0490, -0.2693, -0.0192,\n",
            "          0.3033,  0.1319]], requires_grad=True)\n",
            "Parameter containing:\n",
            "tensor([-0.1322], requires_grad=True)\n"
          ],
          "name": "stdout"
        }
      ]
    },
    {
      "cell_type": "markdown",
      "metadata": {
        "id": "D4UxFi0bbeC3"
      },
      "source": [
        "Similarly, we don't manually updating the weight and bias using gradients by ourselves. Instead, we will use the optimizer optim.SGD.\n",
        "\n",
        "[**torch.optim**](https://pytorch.org/docs/stable/optim.html) is a subpackage that contains the standard optimization operations like Adam and SGD.\n",
        "\n"
      ]
    },
    {
      "cell_type": "code",
      "metadata": {
        "id": "k62ayy77bu5W"
      },
      "source": [
        "# Define optimizer\n",
        "# Just pass the model parameters to be updated and specify the learning rate when calling optim.SGD\n",
        "# SGD optimizer in PyTorch actually is Mini-batch Gradient Descent with momentum.\n",
        "# In this case, as the batch size of our model is N, SGD here is actually Batch Gradient Descent.\n",
        "optimizer = torch.optim.SGD(linearRegression.parameters(), lr=1e-5)"
      ],
      "execution_count": 23,
      "outputs": []
    },
    {
      "cell_type": "markdown",
      "metadata": {
        "id": "vfKM513UcH-4"
      },
      "source": [
        "Again, we use the built-in loss function mse_loss instead of defining it manually.\n",
        "\n",
        "We will need the [**torch.nn.functional**](https://pytorch.org/docs/stable/nn.functional.html) interface, which contains typical operations used for building neural networks such as convolution operations, activation functions and loss functions we need here."
      ]
    },
    {
      "cell_type": "code",
      "metadata": {
        "id": "sKWCYuiocOUS",
        "colab": {
          "base_uri": "https://localhost:8080/"
        },
        "outputId": "b34b5ebb-5258-4e80-ee1a-760ca2c3b730"
      },
      "source": [
        "# Import nn.functional \n",
        "import torch.nn.functional as F\n",
        "\n",
        "# Define the loss function\n",
        "loss_func = F.mse_loss\n",
        "\n",
        "# Calculate loss\n",
        "loss = loss_func(linearRegression(x_data), y_data)\n",
        "print(loss)"
      ],
      "execution_count": 24,
      "outputs": [
        {
          "output_type": "stream",
          "text": [
            "tensor(1.4840, grad_fn=<MseLossBackward>)\n"
          ],
          "name": "stdout"
        }
      ]
    },
    {
      "cell_type": "markdown",
      "metadata": {
        "id": "l1pjqzZCNJgJ"
      },
      "source": [
        "Train the model"
      ]
    },
    {
      "cell_type": "code",
      "metadata": {
        "id": "xbYtLruwwRfr",
        "colab": {
          "base_uri": "https://localhost:8080/"
        },
        "outputId": "430cce2e-5df8-498a-a91a-9d923cf5fd99"
      },
      "source": [
        "# An epoch is one iteration over the entire input data\n",
        "no_of_epochs = 5000\n",
        "# How often you want to display training info.\n",
        "display_interval = 200\n",
        "\n",
        "for epoch in range(no_of_epochs):\n",
        "  predictions = linearRegression(x_data)\n",
        "  loss = loss_func(predictions, y_data)\n",
        "  loss.backward()\n",
        "  optimizer.step() #call step() to automatically update the parameters through our defined optimizer, which can be called once after backward()\n",
        "  optimizer.zero_grad() #reset the gradient as what we did before\n",
        "  if epoch % display_interval == 0 :\n",
        "      # calculate the cost of the current model\n",
        "      predictions = linearRegression(x_data)\n",
        "      loss = loss_func(predictions, y_data)          \n",
        "      print(\"Epoch:\", '%04d' % (epoch), \"loss=\", \"{:.8f}\".format(loss))\n",
        "\n",
        "print(\"=========================================================\")\n",
        "training_loss = mse(linearRegression(x_data), y_data)   \n",
        "print(\"Optimised:\", \"loss=\", \"{:.9f}\".format(training_loss.data))\n",
        "\n",
        "\n",
        "# Calculate testing loss\n",
        "testing_loss = loss_func(linearRegression(x_test_data), y_test_data) \n",
        "print(\"Testing loss=\", \"{:.9f}\".format(testing_loss.data))\n",
        "print(\"Absolute mean square loss difference:\", \"{:.9f}\".format(abs(\n",
        "      training_loss.data - testing_loss.data)))"
      ],
      "execution_count": 25,
      "outputs": [
        {
          "output_type": "stream",
          "text": [
            "Epoch: 0000 loss= 1.48393166\n",
            "Epoch: 0200 loss= 1.47939551\n",
            "Epoch: 0400 loss= 1.47490287\n",
            "Epoch: 0600 loss= 1.47045302\n",
            "Epoch: 0800 loss= 1.46604550\n",
            "Epoch: 1000 loss= 1.46168005\n",
            "Epoch: 1200 loss= 1.45735562\n",
            "Epoch: 1400 loss= 1.45307207\n",
            "Epoch: 1600 loss= 1.44882977\n",
            "Epoch: 1800 loss= 1.44462740\n",
            "Epoch: 2000 loss= 1.44046474\n",
            "Epoch: 2200 loss= 1.43634117\n",
            "Epoch: 2400 loss= 1.43225670\n",
            "Epoch: 2600 loss= 1.42821062\n",
            "Epoch: 2800 loss= 1.42420316\n",
            "Epoch: 3000 loss= 1.42023301\n",
            "Epoch: 3200 loss= 1.41630042\n",
            "Epoch: 3400 loss= 1.41240489\n",
            "Epoch: 3600 loss= 1.40854609\n",
            "Epoch: 3800 loss= 1.40472364\n",
            "Epoch: 4000 loss= 1.40093684\n",
            "Epoch: 4200 loss= 1.39718556\n",
            "Epoch: 4400 loss= 1.39346969\n",
            "Epoch: 4600 loss= 1.38978863\n",
            "Epoch: 4800 loss= 1.38614166\n",
            "=========================================================\n",
            "Optimised: loss= 1.382547021\n",
            "Testing loss= 1.244058847\n",
            "Absolute mean square loss difference: 0.138488173\n"
          ],
          "name": "stdout"
        }
      ]
    },
    {
      "cell_type": "markdown",
      "metadata": {
        "id": "7g3eNemEOklg"
      },
      "source": [
        "# NLTK Library and WordNet"
      ]
    },
    {
      "cell_type": "markdown",
      "metadata": {
        "id": "D8btJKEBxSS1"
      },
      "source": [
        "WordNet® is a large lexical database of English. Nouns, verbs, adjectives and adverbs are grouped into sets of cognitive synonyms (synsets), each expressing a distinct concept."
      ]
    },
    {
      "cell_type": "markdown",
      "metadata": {
        "id": "ofWRw7omOeWf"
      },
      "source": [
        "In Python, NLTK library includes English WordNet.\n",
        "\n",
        "**To use wordnet, you need to download the wordnet data via NLTK library**\n",
        "\n",
        " * **[NLTK](https://www.nltk.org/)** is a **N**atural **L**anguage **T**ool**k**iit for python. "
      ]
    },
    {
      "cell_type": "code",
      "metadata": {
        "id": "iVqxuaIpOIOl"
      },
      "source": [
        "import nltk"
      ],
      "execution_count": 26,
      "outputs": []
    },
    {
      "cell_type": "markdown",
      "metadata": {
        "id": "I2cusD7IovCi"
      },
      "source": [
        "## WordNet"
      ]
    },
    {
      "cell_type": "code",
      "metadata": {
        "id": "OuDwzN6OosjB",
        "colab": {
          "base_uri": "https://localhost:8080/"
        },
        "outputId": "71a894f9-34e4-46e5-ef33-19c0cec6c733"
      },
      "source": [
        "nltk.download('wordnet')"
      ],
      "execution_count": 27,
      "outputs": [
        {
          "output_type": "stream",
          "text": [
            "[nltk_data] Downloading package wordnet to /root/nltk_data...\n",
            "[nltk_data]   Package wordnet is already up-to-date!\n"
          ],
          "name": "stdout"
        },
        {
          "output_type": "execute_result",
          "data": {
            "text/plain": [
              "True"
            ]
          },
          "metadata": {
            "tags": []
          },
          "execution_count": 27
        }
      ]
    },
    {
      "cell_type": "code",
      "metadata": {
        "id": "1JKvb0XKNzxw"
      },
      "source": [
        "from nltk.corpus import wordnet as wn"
      ],
      "execution_count": 28,
      "outputs": []
    },
    {
      "cell_type": "markdown",
      "metadata": {
        "id": "ucVb1XeAnnFo"
      },
      "source": [
        "Let's get a set of synonyms that share a common meaning."
      ]
    },
    {
      "cell_type": "code",
      "metadata": {
        "id": "ecoLLQPlxlOc"
      },
      "source": [
        "dog = wn.synset('dog.n.01')\n",
        "person = wn.synset('person.n.01')\n",
        "cat = wn.synset('cat.n.01')\n",
        "computer = wn.synset('computer.n.01')"
      ],
      "execution_count": 29,
      "outputs": []
    },
    {
      "cell_type": "markdown",
      "metadata": {
        "id": "P4rd7JPrr4sc"
      },
      "source": [
        "### path_similarity()\n",
        "path_similarity() returns a score denoting how similar two word senses are, based on the shortest path that connects the senses in the is-a (hypernym/hypnoym) taxonomy. The score is in the range 0 to 1."
      ]
    },
    {
      "cell_type": "code",
      "metadata": {
        "id": "aiTFSsHqsREt",
        "colab": {
          "base_uri": "https://localhost:8080/"
        },
        "outputId": "5a9522a4-ea31-46c6-c3bb-a2c2d1330c60"
      },
      "source": [
        "print(\"dog<->cat : \", wn.path_similarity(dog,cat))\n",
        "print(\"person<->cat : \", wn.path_similarity(person,cat))\n",
        "print(\"person<->dog : \", wn.path_similarity(person,dog))\n",
        "print(\"person<->computer : \", wn.path_similarity(person,computer))"
      ],
      "execution_count": 30,
      "outputs": [
        {
          "output_type": "stream",
          "text": [
            "dog<->cat :  0.2\n",
            "person<->cat :  0.1\n",
            "person<->dog :  0.2\n",
            "person<->computer :  0.1111111111111111\n"
          ],
          "name": "stdout"
        }
      ]
    },
    {
      "cell_type": "markdown",
      "metadata": {
        "id": "rJfYbAtPrMNS"
      },
      "source": [
        "### Wu-Palmer Similarity (wup_similarity() )\n",
        "wup_similarity() returns a score denoting how similar two word senses are, based on the depth of the two senses in the taxonomy and that of their Least Common Subsumer (most specific ancestor node)."
      ]
    },
    {
      "cell_type": "code",
      "metadata": {
        "id": "Jno6d9Mdrbu0",
        "colab": {
          "base_uri": "https://localhost:8080/"
        },
        "outputId": "71d44f4b-719e-4d6f-cbe8-afb65d535c4d"
      },
      "source": [
        "print(\"dog<->cat : \", wn.wup_similarity(dog,cat))\n",
        "print(\"person<->cat : \", wn.wup_similarity(person,cat))\n",
        "print(\"person<->dog : \", wn.wup_similarity(person,dog))\n",
        "print(\"person<->computer : \", wn.wup_similarity(person,computer))"
      ],
      "execution_count": 31,
      "outputs": [
        {
          "output_type": "stream",
          "text": [
            "dog<->cat :  0.8571428571428571\n",
            "person<->cat :  0.5714285714285714\n",
            "person<->dog :  0.75\n",
            "person<->computer :  0.5\n"
          ],
          "name": "stdout"
        }
      ]
    },
    {
      "cell_type": "markdown",
      "metadata": {
        "id": "RVtVC7LnqS9T"
      },
      "source": [
        "# TFIDF (Term Frequency Inverse Document Frequency)\n",
        "\n",
        "TFIDF is a statistical measure used to evaluate how important a word is to a document in a collection or corpus. The importance increases proportionally to the number of times a word appears in the document but is offset by the frequency of the word in the corpus.\n",
        "\n",
        "\n",
        "**Tokenization**"
      ]
    },
    {
      "cell_type": "code",
      "metadata": {
        "id": "hcjJPxPIHsVo",
        "colab": {
          "base_uri": "https://localhost:8080/"
        },
        "outputId": "fb2e87cc-2964-4120-ebbe-e9964e5ac6a9"
      },
      "source": [
        "import nltk\n",
        "nltk.download('punkt')\n",
        "from nltk.tokenize import word_tokenize, sent_tokenize\n",
        "\n",
        "import re\n",
        "import numpy as np\n",
        "\n",
        "nltk.download('stopwords')\n",
        "from nltk.corpus import stopwords as sw\n",
        "\n",
        "corpus = [\n",
        "    'Caren loves the NLP. The NLP hates Caren', #document 1\n",
        "    'Caren hates the NLP' #document 2\n",
        "]\n",
        "\n",
        "# Tokenize sentences - for only doc1\n",
        "tokenized_sentence = sent_tokenize(corpus[0])\n",
        "print(\"\\ntokenized_sentence: \")\n",
        "print(tokenized_sentence)\n",
        "\n",
        "# Remove punctuations - for only doc1\n",
        "clean_doc1 = re.sub(r'[^\\w\\s]','',corpus[0])\n",
        "print(\"\\nclean_sentence: \")\n",
        "print(clean_doc1)\n",
        "\n",
        "# Tokenize words - for only doc1\n",
        "tokenized_doc1 = word_tokenize(clean_doc1)\n",
        "print(\"\\ntokenized_word: \")\n",
        "print(tokenized_doc1)\n",
        "\n",
        "# Convert the tokens into lowercase: lower_tokens\n",
        "lower_tokens = [t.lower() for t in tokenized_doc1]\n",
        "print(\"\\nlower_case: \")\n",
        "print(lower_tokens)\n",
        "\n",
        "# stop word removal\n",
        "sww = sw.words()\n",
        "tokenized_doc1 = [w for w in lower_tokens if not w in sww]\n",
        "print(\"\\ntokensized_word (in lower case, w/o stopwords): \")\n",
        "print(tokenized_doc1)\n",
        "\n",
        "# same process for doc2\n",
        "clean_doc2 = re.sub(r'[^\\w\\s]','',corpus[1])\n",
        "tokenized_doc2 = word_tokenize(clean_doc2)\n",
        "lower_tokens2 = [t.lower() for t in tokenized_doc2]\n",
        "tokenized_doc2 = [w for w in lower_tokens2 if not w in sww]\n",
        "\n",
        "tokensized_docs = [tokenized_doc1, tokenized_doc2]\n",
        "print(\"\\nfinal_docs: \")\n",
        "print(tokensized_docs[0])\n",
        "print(tokensized_docs[1])"
      ],
      "execution_count": 32,
      "outputs": [
        {
          "output_type": "stream",
          "text": [
            "[nltk_data] Downloading package punkt to /root/nltk_data...\n",
            "[nltk_data]   Package punkt is already up-to-date!\n",
            "[nltk_data] Downloading package stopwords to /root/nltk_data...\n",
            "[nltk_data]   Package stopwords is already up-to-date!\n",
            "\n",
            "tokenized_sentence: \n",
            "['Caren loves the NLP.', 'The NLP hates Caren']\n",
            "\n",
            "clean_sentence: \n",
            "Caren loves the NLP The NLP hates Caren\n",
            "\n",
            "tokenized_word: \n",
            "['Caren', 'loves', 'the', 'NLP', 'The', 'NLP', 'hates', 'Caren']\n",
            "\n",
            "lower_case: \n",
            "['caren', 'loves', 'the', 'nlp', 'the', 'nlp', 'hates', 'caren']\n",
            "\n",
            "tokensized_word (in lower case, w/o stopwords): \n",
            "['caren', 'loves', 'nlp', 'nlp', 'hates', 'caren']\n",
            "\n",
            "final_docs: \n",
            "['caren', 'loves', 'nlp', 'nlp', 'hates', 'caren']\n",
            "['caren', 'hates', 'nlp']\n"
          ],
          "name": "stdout"
        }
      ]
    },
    {
      "cell_type": "markdown",
      "metadata": {
        "id": "NSeX6VnhTeA5"
      },
      "source": [
        "**Document Frequency (DF)**\n",
        "\n",
        "DF is the count of occurrences of term t in the document set N\n",
        "\n",
        "*df(t) = occurrence of t in documents*\n",
        "\n",
        "*idf(t) = log(N/(df + 1))*\n",
        "\n"
      ]
    },
    {
      "cell_type": "code",
      "metadata": {
        "id": "aEOTCuiZTdl6",
        "colab": {
          "base_uri": "https://localhost:8080/"
        },
        "outputId": "9e7eb992-7b7a-4caf-fd41-404782d00378"
      },
      "source": [
        "DF = {}\n",
        "\n",
        "for tokensized_doc in tokensized_docs:\n",
        "    # get each unique word in the doc - and count the number of occurrences in the document\n",
        "    for term in np.unique(tokensized_doc):\n",
        "        try:\n",
        "            DF[term] +=1\n",
        "        except:\n",
        "            DF[term] =1\n",
        "\n",
        "DF"
      ],
      "execution_count": 33,
      "outputs": [
        {
          "output_type": "execute_result",
          "data": {
            "text/plain": [
              "{'caren': 2, 'hates': 2, 'loves': 1, 'nlp': 2}"
            ]
          },
          "metadata": {
            "tags": []
          },
          "execution_count": 33
        }
      ]
    },
    {
      "cell_type": "code",
      "metadata": {
        "id": "G6s15-FpdhrM",
        "colab": {
          "base_uri": "https://localhost:8080/"
        },
        "outputId": "3be5a105-fc0f-481c-c4cf-d369f347c58f"
      },
      "source": [
        "DF['caren']"
      ],
      "execution_count": 34,
      "outputs": [
        {
          "output_type": "execute_result",
          "data": {
            "text/plain": [
              "2"
            ]
          },
          "metadata": {
            "tags": []
          },
          "execution_count": 34
        }
      ]
    },
    {
      "cell_type": "markdown",
      "metadata": {
        "id": "AEpq2ws8Lsos"
      },
      "source": [
        "**TF-IDF calculation**"
      ]
    },
    {
      "cell_type": "markdown",
      "metadata": {
        "id": "K9QHJ8gA1iMO"
      },
      "source": [
        "In the following sample code, we will use [Counter](https://docs.python.org/3/library/collections.html#collections.Counter) to easily count the word occurance in a document. [Counter](https://docs.python.org/3/library/collections.html#collections.Counter) is a Python class that enables counting for elements from an iterable."
      ]
    },
    {
      "cell_type": "code",
      "metadata": {
        "id": "tNeraCvfIO3E",
        "colab": {
          "base_uri": "https://localhost:8080/"
        },
        "outputId": "744d83a3-31dd-4e5d-8c00-0a4960873d6d"
      },
      "source": [
        "from nltk.corpus import stopwords\n",
        "from nltk.tokenize import word_tokenize\n",
        "from collections import Counter\n",
        "import math\n",
        "\n",
        "\n",
        "tf_idf = {}\n",
        "\n",
        "# total number of documents\n",
        "N = len(tokensized_docs) \n",
        "\n",
        "doc_id = 0\n",
        "# get each tokenised doc\n",
        "for tokensized_doc in tokensized_docs:\n",
        "    # initialise counter for the doc\n",
        "    counter = Counter(tokensized_doc)\n",
        "    # calculate total number of words in the doc\n",
        "    total_num_words = len(tokensized_doc)    \n",
        "\n",
        "    # get each unique word in the doc\n",
        "    for term in np.unique(tokensized_doc):\n",
        "\n",
        "        # calculate Term Frequency \n",
        "        tf = counter[term]/total_num_words\n",
        "        \n",
        "        # calculate Document Frequency\n",
        "        df = DF[term]\n",
        "\n",
        "        # calculate Inverse Document Frequency\n",
        "        idf = math.log(N/(df+1))+1\n",
        "\n",
        "        # calculate TF-IDF\n",
        "        tf_idf[doc_id, term] = tf*idf\n",
        "\n",
        "    doc_id += 1\n",
        "\n",
        "tf_idf"
      ],
      "execution_count": 35,
      "outputs": [
        {
          "output_type": "execute_result",
          "data": {
            "text/plain": [
              "{(0, 'caren'): 0.19817829729727854,\n",
              " (0, 'hates'): 0.09908914864863927,\n",
              " (0, 'loves'): 0.16666666666666666,\n",
              " (0, 'nlp'): 0.19817829729727854,\n",
              " (1, 'caren'): 0.19817829729727854,\n",
              " (1, 'hates'): 0.19817829729727854,\n",
              " (1, 'nlp'): 0.19817829729727854}"
            ]
          },
          "metadata": {
            "tags": []
          },
          "execution_count": 35
        }
      ]
    },
    {
      "cell_type": "markdown",
      "metadata": {
        "id": "tETfBpygMC-u"
      },
      "source": [
        "**Sort by the importance - Descending Order**"
      ]
    },
    {
      "cell_type": "markdown",
      "metadata": {
        "id": "hAB7bU-15uK1"
      },
      "source": [
        "We use Python built-in function [sorted](https://docs.python.org/3/howto/sorting.html) for sorting the words based on its tf_idf values."
      ]
    },
    {
      "cell_type": "code",
      "metadata": {
        "id": "0R4BI1-UH35-",
        "colab": {
          "base_uri": "https://localhost:8080/"
        },
        "outputId": "6c7eaec7-7ca2-4271-f612-c9b5563bbda4"
      },
      "source": [
        "import numpy as np\n",
        "#sort the dictionary based on values\n",
        "dict_exmaple = tf_idf\n",
        "sorted_dict = sorted(dict_exmaple.items(), key=lambda x: x[1], reverse=True)\n",
        "sorted_dict"
      ],
      "execution_count": 36,
      "outputs": [
        {
          "output_type": "execute_result",
          "data": {
            "text/plain": [
              "[((0, 'caren'), 0.19817829729727854),\n",
              " ((0, 'nlp'), 0.19817829729727854),\n",
              " ((1, 'caren'), 0.19817829729727854),\n",
              " ((1, 'hates'), 0.19817829729727854),\n",
              " ((1, 'nlp'), 0.19817829729727854),\n",
              " ((0, 'loves'), 0.16666666666666666),\n",
              " ((0, 'hates'), 0.09908914864863927)]"
            ]
          },
          "metadata": {
            "tags": []
          },
          "execution_count": 36
        }
      ]
    },
    {
      "cell_type": "markdown",
      "metadata": {
        "id": "aqD22EW5PZRa"
      },
      "source": [
        "# Exercise\n",
        "Please complete the following **two questions** E1 and E2 and you should submit **\"ipynb\" file to Canvas** (You can download it from \"File\" > \"Download .ipynb\")."
      ]
    },
    {
      "cell_type": "markdown",
      "metadata": {
        "id": "KF-vRmAYVpMk"
      },
      "source": [
        "##E1. What are the advantages of using TF-IDF over TF (Term Frequency)?\r\n",
        "Please write down your answer below with a **supportive example**, using your own words. "
      ]
    },
    {
      "cell_type": "code",
      "metadata": {
        "cellView": "form",
        "id": "jMj_HobwXgR8"
      },
      "source": [
        "#@Lab01 - E1\r\n",
        "\r\n",
        "Answer = \" Type in here \" #@param {type:\"raw\"}"
      ],
      "execution_count": 37,
      "outputs": []
    },
    {
      "cell_type": "markdown",
      "metadata": {
        "id": "wda8pzFGy4LS"
      },
      "source": [
        "## E2. Write a function which returns the top N (e.g. 10 or 20) words with the largest TF value and with the largest TF-IDF values for a paragraph of corpus (Wikipedia page)."
      ]
    },
    {
      "cell_type": "markdown",
      "metadata": {
        "id": "-Zqy-jz_zJKR"
      },
      "source": [
        "In thise exercise, we will simply use the documents by using the [wikipedia library](https://pypi.org/project/wikipedia/), which is a Python library that makes it easy to access and parse data from Wikipedia. "
      ]
    },
    {
      "cell_type": "code",
      "metadata": {
        "id": "bAd2bqFR3CfJ",
        "colab": {
          "base_uri": "https://localhost:8080/"
        },
        "outputId": "ad96bfe0-cc2e-4026-ac0a-f42e1104ed63"
      },
      "source": [
        "# Install and import the wikipedia library\n",
        "!pip install wikipedia\n",
        "import wikipedia"
      ],
      "execution_count": 38,
      "outputs": [
        {
          "output_type": "stream",
          "text": [
            "Requirement already satisfied: wikipedia in /usr/local/lib/python3.7/dist-packages (1.4.0)\n",
            "Requirement already satisfied: beautifulsoup4 in /usr/local/lib/python3.7/dist-packages (from wikipedia) (4.6.3)\n",
            "Requirement already satisfied: requests<3.0.0,>=2.0.0 in /usr/local/lib/python3.7/dist-packages (from wikipedia) (2.23.0)\n",
            "Requirement already satisfied: urllib3!=1.25.0,!=1.25.1,<1.26,>=1.21.1 in /usr/local/lib/python3.7/dist-packages (from requests<3.0.0,>=2.0.0->wikipedia) (1.24.3)\n",
            "Requirement already satisfied: idna<3,>=2.5 in /usr/local/lib/python3.7/dist-packages (from requests<3.0.0,>=2.0.0->wikipedia) (2.10)\n",
            "Requirement already satisfied: certifi>=2017.4.17 in /usr/local/lib/python3.7/dist-packages (from requests<3.0.0,>=2.0.0->wikipedia) (2020.12.5)\n",
            "Requirement already satisfied: chardet<4,>=3.0.2 in /usr/local/lib/python3.7/dist-packages (from requests<3.0.0,>=2.0.0->wikipedia) (3.0.4)\n"
          ],
          "name": "stdout"
        }
      ]
    },
    {
      "cell_type": "code",
      "metadata": {
        "id": "4JSYTirTx6ML"
      },
      "source": [
        "# Let's collect the page content from the following COVID-19 related wiki pages as documents\n",
        "# by using wikipedia.page(COVID).content, which returns a list of COVID-19 related documents \n",
        "COVID_docs = [\"COVID-19_pandemic\", \"Coronavirus_disease_2019\", \"Long_COVID\"]\n",
        "documents = [wikipedia.page(COVID).content for COVID in COVID_docs]\n"
      ],
      "execution_count": 39,
      "outputs": []
    },
    {
      "cell_type": "code",
      "metadata": {
        "colab": {
          "base_uri": "https://localhost:8080/"
        },
        "id": "gi73fUXy1pC7",
        "outputId": "5b9d8b90-c2fa-436d-f71c-bb7767f9fe5f"
      },
      "source": [
        "tokensized_docs = []\n",
        "\n",
        "# Preprocessing\n",
        "for document in documents:\n",
        "  # Remove punctuations\n",
        "  clean_doc = re.sub(r'[^\\w\\s]','',document)\n",
        "  # Tokenize words\n",
        "  tokenized_doc = word_tokenize(clean_doc)\n",
        "  # Convert the tokens into lowercase: lower_tokens\n",
        "  lower_tokens = [t.lower() for t in tokenized_doc]\n",
        "  # stop word removal\n",
        "  tokenized_doc = [w for w in lower_tokens if not w in sw.words()]\n",
        "  # add tokenized doc to new list\n",
        "  tokensized_docs.append(tokenized_doc)\n",
        "\n",
        "print(len(tokensized_docs))\n",
        "\n",
        "DF = {}\n",
        "for tokensized_doc in tokensized_docs:\n",
        "    # get each unique word in the doc - and count the number of occurrences in the document\n",
        "    for term in np.unique(tokensized_doc):\n",
        "        try:\n",
        "            DF[term] +=1\n",
        "        except:\n",
        "            DF[term] =1\n",
        "tf_idf = {}\n",
        "tf_dict = {}\n",
        "\n",
        "# total number of documents\n",
        "N = len(tokensized_docs) \n",
        "\n",
        "doc_id = 0\n",
        "# get each tokenised doc\n",
        "for tokensized_doc in tokensized_docs:\n",
        "    # initialise counter for the doc\n",
        "    counter = Counter(tokensized_doc)\n",
        "    # calculate total number of words in the doc\n",
        "    total_num_words = len(tokensized_doc)    \n",
        "\n",
        "    # get each unique word in the doc\n",
        "    for term in np.unique(tokensized_doc):\n",
        "\n",
        "        # calculate Term Frequency \n",
        "        tf = counter[term]/total_num_words\n",
        "        tf_dict[doc_id, term] = tf\n",
        "        \n",
        "        # calculate Document Frequency\n",
        "        df = DF[term]\n",
        "\n",
        "        # calculate Inverse Document Frequency\n",
        "        idf = math.log(N/(df+1))+1\n",
        "\n",
        "        # calculate TF-IDF\n",
        "        tf_idf[doc_id, term] = tf*idf\n",
        "\n",
        "    doc_id += 1\n",
        "\n",
        "#sort the dictionary based on values\n",
        "sorted_tfidf = sorted(tf_idf.items(), key=lambda x: x[1], reverse=True)\n",
        "sorted_tf = sorted(tf_dict.items(), key=lambda x: x[1], reverse=True)\n",
        "top = 10\n",
        "print(\"Top {} Term Frequency Inverse Document Frequency\". format(top))\n",
        "for term in sorted_tfidf[:top]:\n",
        "  print(term)\n",
        "print(\"Top {} Term Frequency\". format(top))\n",
        "for term in sorted_tf[:top]:\n",
        "  print(term)"
      ],
      "execution_count": 40,
      "outputs": [
        {
          "output_type": "stream",
          "text": [
            "3\n",
            "Top 10 Term Frequency Inverse Document Frequency\n",
            "((2, 'covid'), 0.027225901398086828)\n",
            "((2, 'symptoms'), 0.01939349765951737)\n",
            "((2, 'long'), 0.016772754732555562)\n",
            "((1, 'covid19'), 0.014203390311366968)\n",
            "((0, '2020'), 0.01016628821429428)\n",
            "((0, 'covid19'), 0.00939171387415757)\n",
            "((2, 'covid19'), 0.008910525951670144)\n",
            "((2, 'people'), 0.008910525951670144)\n",
            "((2, 'infection'), 0.008386377366277781)\n",
            "((0, 'cases'), 0.008326674156469599)\n",
            "Top 10 Term Frequency\n",
            "((2, 'covid'), 0.027225901398086828)\n",
            "((2, 'symptoms'), 0.027225901398086828)\n",
            "((2, 'long'), 0.0235467255334805)\n",
            "((1, 'covid19'), 0.019939678284182305)\n",
            "((0, '2020'), 0.014272121788772598)\n",
            "((0, 'covid19'), 0.013184722033437542)\n",
            "((2, 'covid19'), 0.012509197939661517)\n",
            "((2, 'people'), 0.012509197939661517)\n",
            "((2, 'infection'), 0.01177336276674025)\n",
            "((0, 'cases'), 0.011689547369851842)\n"
          ],
          "name": "stdout"
        }
      ]
    },
    {
      "cell_type": "markdown",
      "metadata": {
        "id": "OTE6EjOF_TBx"
      },
      "source": [
        "### Complete this section"
      ]
    },
    {
      "cell_type": "markdown",
      "metadata": {
        "id": "_r3bS9yT2Z2k"
      },
      "source": [
        "\r\n",
        "Please fill in the following functions with code body: \r\n",
        "\r\n",
        "Pass both the (list of) documents and the number of (top) words to focus into the function.\r\n",
        "\r\n",
        "In the function, you may:\r\n",
        "  \r\n",
        "*   process the documents (e.g. tokenization) - provided in the sample code above. **Please add two additional stop words: covid19 and covid.**\r\n",
        "*   calculate the tf/tfidf values for each unique words ([Counter](https://docs.python.org/3/library/collections.html#collections.Counter) can be a one of the good choices)\r\n",
        "*   sorting the words based on the tf/tfidf values (Using Python built-in function [sorted](https://docs.python.org/3/howto/sorting.html) might be helpful for sorting)\r\n",
        "*   print out the top n tf words tfidf words from the sorted list in parallel for comparison\r\n",
        "\r\n",
        "In your final submission, the print log should be kept in the cell execution output field. Note that you can write extra functions if you need, but do remember to include the functions in this section for final submission.\r\n",
        "\r\n",
        "  \r\n",
        "  \r\n",
        "  "
      ]
    },
    {
      "cell_type": "code",
      "metadata": {
        "id": "w7urSTB005hb",
        "colab": {
          "base_uri": "https://localhost:8080/"
        },
        "outputId": "79b81ddb-2c92-49a8-8387-8abc0c13f265"
      },
      "source": [
        "import nltk\r\n",
        "from nltk.tokenize import word_tokenize\r\n",
        "import re\r\n",
        "import numpy as np\r\n",
        "from nltk.corpus import stopwords as sw\r\n",
        "from nltk.corpus import stopwords\r\n",
        "from nltk.tokenize import word_tokenize\r\n",
        "from collections import Counter\r\n",
        "import math\r\n",
        "\r\n",
        "def get_tokenised_documents(documents, additionalStopWords=[]):\r\n",
        "  # intialise list to store tokenized corpus\r\n",
        "  tokenized_documents = []\r\n",
        "  for document in documents:\r\n",
        "    # Remove punctuations\r\n",
        "    clean_doc = re.sub(r'[^\\w\\s]','',document)\r\n",
        "    # Tokenize words\r\n",
        "    tokenized_doc = word_tokenize(clean_doc)\r\n",
        "    # Convert the tokens into lowercase: lower_tokens\r\n",
        "    lower_tokens = [t.lower() for t in tokenized_doc]\r\n",
        "    # stop word removal\r\n",
        "    stopwords = sw.words()\r\n",
        "    # add any additional stop words\r\n",
        "    stopwords.extend(additionalStopWords)\r\n",
        "    tokenized_doc = [w for w in lower_tokens if not w in stopwords]\r\n",
        "    # add tokenized doc to new list\r\n",
        "    tokenized_documents.append(tokenized_doc)\r\n",
        "  return tokenized_documents\r\n",
        "\r\n",
        "def get_document_freq(tokenized_docs):\r\n",
        "  DF = {}\r\n",
        "  for tokensized_doc in tokenized_docs:\r\n",
        "      # get each unique word in the doc - and count the number of occurrences in the document\r\n",
        "      for term in np.unique(tokensized_doc):\r\n",
        "          try:\r\n",
        "              DF[term] +=1\r\n",
        "          except:\r\n",
        "              DF[term] =1\r\n",
        "  return DF\r\n",
        "\r\n",
        "def get_tf_and_idf(corpus, top_n):\r\n",
        "  ## Write your code body here\r\n",
        "  # process the document (** add covid19 and covid as two additional stop words)\r\n",
        "  additionalStopWords = [\"covid19\", \"covid\"]\r\n",
        "  tokenized_documents = get_tokenised_documents(corpus, additionalStopWords)\r\n",
        "\r\n",
        "  # calculate the tf/tfidf values for each unique words\r\n",
        "  # get document frequency first in order to calculate tf-idf\r\n",
        "  DF = get_document_freq(tokenized_documents)\r\n",
        "  \r\n",
        "  # initilaise dicitonary to store tf and tf-idf\r\n",
        "  tf_idf = {}\r\n",
        "  tf_dict = {}\r\n",
        "\r\n",
        "  # total number of documents\r\n",
        "  N = len(tokenized_documents)\r\n",
        "  doc_id = 0\r\n",
        "  # get each tokenised doc\r\n",
        "  for tokensized_doc in tokenized_documents:\r\n",
        "      # initialise counter for the doc\r\n",
        "      counter = Counter(tokensized_doc)\r\n",
        "      # calculate total number of words in the doc\r\n",
        "      total_num_words = len(tokensized_doc)    \r\n",
        "      # get each unique word in the doc\r\n",
        "      for term in np.unique(tokensized_doc):\r\n",
        "          # calculate Term Frequency \r\n",
        "          tf = counter[term]/total_num_words\r\n",
        "          # apped term frequency to document\r\n",
        "          tf_dict[doc_id, term] = tf\r\n",
        "          # get Document Frequency\r\n",
        "          df = DF[term]\r\n",
        "          # calculate Inverse Document Frequency\r\n",
        "          idf = math.log(N/(df+1))+1\r\n",
        "          # calculate TF-IDF and appened\r\n",
        "          tf_idf[doc_id, term] = tf*idf\r\n",
        "      doc_id += 1\r\n",
        "\r\n",
        "  # sorting the words based on the tf/tfidf valuse\r\n",
        "  sorted_tfidf = sorted(tf_idf.items(), key=lambda x: x[1], reverse=True)\r\n",
        "  sorted_tf = sorted(tf_dict.items(), key=lambda x: x[1], reverse=True)\r\n",
        "\r\n",
        "  # print out the top n tf words and top n tfidf words from the sorted list in parallel for comparision\r\n",
        "  print(\"Top {} TF and TF-IDF\".format(top_n))\r\n",
        "  for tf, tfidf in zip(sorted_tf[:top_n], sorted_tfidf[:top_n]):\r\n",
        "    print(tf, tfidf)\r\n",
        "\r\n",
        "# Call the funtion, the execution print out log should be kept for submission\r\n",
        "get_tf_and_idf(corpus, 10)\r\n",
        "get_tf_and_idf(documents, 10)"
      ],
      "execution_count": 41,
      "outputs": [
        {
          "output_type": "stream",
          "text": [
            "Top 10 TF and TF-IDF\n",
            "((0, 'caren'), 0.3333333333333333) ((0, 'caren'), 0.19817829729727854)\n",
            "((0, 'nlp'), 0.3333333333333333) ((0, 'nlp'), 0.19817829729727854)\n",
            "((1, 'caren'), 0.3333333333333333) ((1, 'caren'), 0.19817829729727854)\n",
            "((1, 'hates'), 0.3333333333333333) ((1, 'hates'), 0.19817829729727854)\n",
            "((1, 'nlp'), 0.3333333333333333) ((1, 'nlp'), 0.19817829729727854)\n",
            "((0, 'hates'), 0.16666666666666666) ((0, 'loves'), 0.16666666666666666)\n",
            "((0, 'loves'), 0.16666666666666666) ((0, 'hates'), 0.09908914864863927)\n",
            "Top 10 TF and TF-IDF\n",
            "((2, 'symptoms'), 0.028352490421455937) ((2, 'symptoms'), 0.020195987217842225)\n",
            "((2, 'long'), 0.024521072796934867) ((2, 'long'), 0.017466799755971655)\n",
            "((0, '2020'), 0.014462809917355372) ((0, '2020'), 0.010302118786854409)\n",
            "((2, 'people'), 0.013026819923371647) ((2, 'people'), 0.009279237370359942)\n",
            "((2, 'infection'), 0.012260536398467433) ((2, 'infection'), 0.008733399877985827)\n",
            "((0, 'cases'), 0.011845730027548209) ((0, 'cases'), 0.008437925863518849)\n",
            "((1, 'virus'), 0.011114911080711354) ((1, 'virus'), 0.007917350425895048)\n",
            "((2, 'patients'), 0.010727969348659003) ((2, 'patients'), 0.007641724893237599)\n",
            "((2, '2020'), 0.00996168582375479) ((2, '2020'), 0.007095887400863486)\n",
            "((2, 'syndrome'), 0.00996168582375479) ((2, 'syndrome'), 0.007095887400863486)\n"
          ],
          "name": "stdout"
        }
      ]
    },
    {
      "cell_type": "code",
      "metadata": {
        "id": "V0s42Gmq7yhe"
      },
      "source": [
        ""
      ],
      "execution_count": 41,
      "outputs": []
    }
  ]
}