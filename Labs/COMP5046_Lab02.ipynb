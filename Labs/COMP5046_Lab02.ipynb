{
  "nbformat": 4,
  "nbformat_minor": 0,
  "metadata": {
    "colab": {
      "name": "COMP5046_Lab02.ipynb",
      "provenance": [],
      "collapsed_sections": [],
      "include_colab_link": true
    },
    "kernelspec": {
      "name": "python3",
      "display_name": "Python 3"
    },
    "accelerator": "GPU"
  },
  "cells": [
    {
      "cell_type": "markdown",
      "metadata": {
        "id": "view-in-github",
        "colab_type": "text"
      },
      "source": [
        "<a href=\"https://colab.research.google.com/github/kevinlu2/COMP5046/blob/main/Labs/COMP5046_Lab02.ipynb\" target=\"_parent\"><img src=\"https://colab.research.google.com/assets/colab-badge.svg\" alt=\"Open In Colab\"/></a>"
      ]
    },
    {
      "cell_type": "markdown",
      "metadata": {
        "id": "GCHPkKbuhPF6"
      },
      "source": [
        "# Lab 02\r\n",
        "\r\n",
        "## Word2Vec"
      ]
    },
    {
      "cell_type": "code",
      "metadata": {
        "id": "GNyhgK5QTOuD",
        "colab": {
          "base_uri": "https://localhost:8080/"
        },
        "outputId": "931394a3-a281-4361-ba88-dcaa958b3cb4"
      },
      "source": [
        "import pprint\n",
        "import re\n",
        "\n",
        "# For parsing our XML data\n",
        "from lxml import etree \n",
        "\n",
        "# For data processing\n",
        "import nltk\n",
        "nltk.download('punkt')\n",
        "from nltk.tokenize import word_tokenize, sent_tokenize\n",
        "\n",
        "# For implementing the word2vec family of algorithms\n",
        "from gensim.models import Word2Vec\n",
        "\n",
        "import warnings\n",
        "warnings.simplefilter(action='ignore', category=FutureWarning)"
      ],
      "execution_count": 1,
      "outputs": [
        {
          "output_type": "stream",
          "text": [
            "[nltk_data] Downloading package punkt to /root/nltk_data...\n",
            "[nltk_data]   Unzipping tokenizers/punkt.zip.\n"
          ],
          "name": "stdout"
        }
      ]
    },
    {
      "cell_type": "markdown",
      "metadata": {
        "id": "Bmae7urS8RHD"
      },
      "source": [
        "### Download data from Google Drive\r\n",
        "For today's lab we will download and use the TED script data from Google Drive."
      ]
    },
    {
      "cell_type": "markdown",
      "metadata": {
        "id": "gV7vMHSahdnf"
      },
      "source": [
        "#### Google Drive Access Setup\r\n",
        "By running the following code, it will generate a link and a field for entering the verification code.\r\n",
        "\r\n",
        "Click the link, which will direct to the Google Sign In page. Sign in with your own Google account by following the instructions on the page.\r\n",
        "\r\n",
        "Then copy the generated verification code from the page into the verification code field and press Enter "
      ]
    },
    {
      "cell_type": "code",
      "metadata": {
        "id": "oTSQtnPkfyzj"
      },
      "source": [
        "!pip install -U -q PyDrive\n",
        "from pydrive.auth import GoogleAuth\n",
        "from pydrive.drive import GoogleDrive\n",
        "from google.colab import auth\n",
        "from oauth2client.client import GoogleCredentials\n",
        "# Authenticate and create the PyDrive client.\n",
        "auth.authenticate_user()\n",
        "gauth = GoogleAuth()\n",
        "gauth.credentials = GoogleCredentials.get_application_default()\n",
        "drive = GoogleDrive(gauth)"
      ],
      "execution_count": 2,
      "outputs": []
    },
    {
      "cell_type": "markdown",
      "metadata": {
        "id": "ewAbjQzThnT5"
      },
      "source": [
        "#### Downloading TED Scripts from Google Drive \n",
        "Click on left side \"Files\" tab and see the file is downloaded successfully."
      ]
    },
    {
      "cell_type": "code",
      "metadata": {
        "id": "EVk7tjwvhl-6"
      },
      "source": [
        "id = '1B47OiEiG2Lo1jUY6hy_zMmHBxfKQuJ8-'\n",
        "downloaded = drive.CreateFile({'id':id}) \n",
        "downloaded.GetContentFile('ted_en-20160408.xml')  "
      ],
      "execution_count": 3,
      "outputs": []
    },
    {
      "cell_type": "markdown",
      "metadata": {
        "id": "FIPpEvI4kqMV"
      },
      "source": [
        "### Data Preprocessing"
      ]
    },
    {
      "cell_type": "code",
      "metadata": {
        "id": "VYmEQgB7XoDE",
        "colab": {
          "base_uri": "https://localhost:8080/"
        },
        "outputId": "3adbdc31-1d15-4a1c-c30b-658807ed34ca"
      },
      "source": [
        "targetXML=open('ted_en-20160408.xml', 'r', encoding='UTF8')\n",
        "\n",
        "# Getting contents of <content> tag from the xml file\n",
        "target_text = etree.parse(targetXML)\n",
        "parse_text = '\\n'.join(target_text.xpath('//content/text()'))\n",
        "\n",
        "# Removing \"Sound-effect labels\" using regular expression (regex) (i.e. (Audio), (Laughter))\n",
        "content_text = re.sub(r'\\([^)]*\\)', '', parse_text)\n",
        "\n",
        "# Tokenising the sentence to process it by using NLTK library\n",
        "sent_text=sent_tokenize(content_text)\n",
        "\n",
        "# Removing punctuation and changing all characters to lower case\n",
        "normalized_text = []\n",
        "for string in sent_text:\n",
        "     tokens = re.sub(r\"[^a-z0-9]+\", \" \", string.lower())\n",
        "     normalized_text.append(tokens)\n",
        "\n",
        "# Tokenising each sentence to process individual word\n",
        "sentences=[]\n",
        "sentences=[word_tokenize(sentence) for sentence in normalized_text]\n",
        "\n",
        "# Prints only 10 (tokenised) sentences\n",
        "print(sentences[:10])"
      ],
      "execution_count": 4,
      "outputs": [
        {
          "output_type": "stream",
          "text": [
            "[['here', 'are', 'two', 'reasons', 'companies', 'fail', 'they', 'only', 'do', 'more', 'of', 'the', 'same', 'or', 'they', 'only', 'do', 'what', 's', 'new'], ['to', 'me', 'the', 'real', 'real', 'solution', 'to', 'quality', 'growth', 'is', 'figuring', 'out', 'the', 'balance', 'between', 'two', 'activities', 'exploration', 'and', 'exploitation'], ['both', 'are', 'necessary', 'but', 'it', 'can', 'be', 'too', 'much', 'of', 'a', 'good', 'thing'], ['consider', 'facit'], ['i', 'm', 'actually', 'old', 'enough', 'to', 'remember', 'them'], ['facit', 'was', 'a', 'fantastic', 'company'], ['they', 'were', 'born', 'deep', 'in', 'the', 'swedish', 'forest', 'and', 'they', 'made', 'the', 'best', 'mechanical', 'calculators', 'in', 'the', 'world'], ['everybody', 'used', 'them'], ['and', 'what', 'did', 'facit', 'do', 'when', 'the', 'electronic', 'calculator', 'came', 'along'], ['they', 'continued', 'doing', 'exactly', 'the', 'same']]\n"
          ],
          "name": "stdout"
        }
      ]
    },
    {
      "cell_type": "markdown",
      "metadata": {
        "id": "CojV1MbhkQxK"
      },
      "source": [
        "### Word2Vec - Continuous Bag-Of-Words (CBOW)"
      ]
    },
    {
      "cell_type": "markdown",
      "metadata": {
        "id": "vLq1VIZ7TDog"
      },
      "source": [
        "For more details about gensim.models.word2vec you can refer to [API for Gensim Word2Vec](https://radimrehurek.com/gensim/models/word2vec.html)"
      ]
    },
    {
      "cell_type": "code",
      "metadata": {
        "id": "zW1iEee3lZC9"
      },
      "source": [
        "# Initialize and train a word2vec model with the following parameters:\r\n",
        "# sentence: iterable of iterables, i.e. the list of lists of tokens from our data\r\n",
        "# size: dimensionality of the word vectors\r\n",
        "# window: window size\r\n",
        "# min_count: ignores all words with total frequency lower than the specified count value\r\n",
        "# workers: Use specified number of worker threads to train the model (=faster training with multicore machines)\r\n",
        "# sg: training algorithm, 0 for CBOW, 1 for skip-gram\r\n",
        "wv_cbow_model = Word2Vec(sentences=sentences, size=100, window=5, min_count=5, workers=2, sg=0)"
      ],
      "execution_count": 5,
      "outputs": []
    },
    {
      "cell_type": "code",
      "metadata": {
        "id": "2FKp3X7pkRm6",
        "colab": {
          "base_uri": "https://localhost:8080/"
        },
        "outputId": "ff1be9f5-efa8-4c23-fda3-bcf4d387575a"
      },
      "source": [
        "# The trained word vectors are stored in a KeyedVectors instance as model.wv\n",
        "# Get the top 10 similar words to 'man' by calling most_similar() \n",
        "# most_similar() computes cosine similarity between a simple mean of the vectors of the given words and the vectors for each word in the model \n",
        "\n",
        "similar_words=wv_cbow_model.wv.most_similar(\"man\") # topn=10 by default\n",
        "pprint.pprint(similar_words)"
      ],
      "execution_count": 6,
      "outputs": [
        {
          "output_type": "stream",
          "text": [
            "[('woman', 0.8340693116188049),\n",
            " ('guy', 0.8061996698379517),\n",
            " ('lady', 0.7682861089706421),\n",
            " ('boy', 0.7678177952766418),\n",
            " ('girl', 0.7544349431991577),\n",
            " ('soldier', 0.7394479513168335),\n",
            " ('gentleman', 0.7391047477722168),\n",
            " ('kid', 0.6965989470481873),\n",
            " ('photographer', 0.6774575710296631),\n",
            " ('rabbi', 0.668375551700592)]\n"
          ],
          "name": "stdout"
        }
      ]
    },
    {
      "cell_type": "markdown",
      "metadata": {
        "id": "dsFHg0znlPSf"
      },
      "source": [
        "### Word2Vec - Skip Gram"
      ]
    },
    {
      "cell_type": "code",
      "metadata": {
        "id": "k16AowhCWUXu"
      },
      "source": [
        "# Now we switch to a Skip Gram model by setting parameter sg=1\r\n",
        "wv_sg_model = Word2Vec(sentences=sentences, size=100, window=5, min_count=5, workers=2, sg=1)"
      ],
      "execution_count": 7,
      "outputs": []
    },
    {
      "cell_type": "code",
      "metadata": {
        "id": "e8UiVfr2cBtA",
        "colab": {
          "base_uri": "https://localhost:8080/"
        },
        "outputId": "873046ee-66d6-43d9-8355-99055929fe4a"
      },
      "source": [
        "similar_words=wv_sg_model.wv.most_similar(\"man\")\n",
        "pprint.pprint(similar_words)"
      ],
      "execution_count": 8,
      "outputs": [
        {
          "output_type": "stream",
          "text": [
            "[('guy', 0.7470706701278687),\n",
            " ('woman', 0.7428766489028931),\n",
            " ('boy', 0.6943693161010742),\n",
            " ('soldier', 0.6870145797729492),\n",
            " ('michelangelo', 0.6762663125991821),\n",
            " ('rabbi', 0.6621532440185547),\n",
            " ('adage', 0.6579524874687195),\n",
            " ('son', 0.6563680171966553),\n",
            " ('gentleman', 0.6548632383346558),\n",
            " ('pope', 0.6484037041664124)]\n"
          ],
          "name": "stdout"
        }
      ]
    },
    {
      "cell_type": "markdown",
      "metadata": {
        "id": "NfF7YqvpppbG"
      },
      "source": [
        "## Word2Vec vs FastText"
      ]
    },
    {
      "cell_type": "markdown",
      "metadata": {
        "id": "d8IV7D6VAEcr"
      },
      "source": [
        "Word2Vec - Skip Gram cannot find similar words to \"electrofishing\" as \"electrofishing\" is not in the vocabulary."
      ]
    },
    {
      "cell_type": "code",
      "metadata": {
        "id": "oS9c2uWWquWG",
        "colab": {
          "base_uri": "https://localhost:8080/",
          "height": 321
        },
        "outputId": "9a62258b-02d6-4cfa-8fab-8089133a1b13"
      },
      "source": [
        "similar_words=wv_sg_model.wv.most_similar(\"electrofishing\")\n",
        "pprint.pprint(similar_words)"
      ],
      "execution_count": null,
      "outputs": [
        {
          "output_type": "error",
          "ename": "KeyError",
          "evalue": "ignored",
          "traceback": [
            "\u001b[0;31m---------------------------------------------------------------------------\u001b[0m",
            "\u001b[0;31mKeyError\u001b[0m                                  Traceback (most recent call last)",
            "\u001b[0;32m<ipython-input-9-a2f7ec57b31e>\u001b[0m in \u001b[0;36m<module>\u001b[0;34m()\u001b[0m\n\u001b[0;32m----> 1\u001b[0;31m \u001b[0msimilar_words\u001b[0m\u001b[0;34m=\u001b[0m\u001b[0mwv_sg_model\u001b[0m\u001b[0;34m.\u001b[0m\u001b[0mwv\u001b[0m\u001b[0;34m.\u001b[0m\u001b[0mmost_similar\u001b[0m\u001b[0;34m(\u001b[0m\u001b[0;34m\"electrofishing\"\u001b[0m\u001b[0;34m)\u001b[0m\u001b[0;34m\u001b[0m\u001b[0;34m\u001b[0m\u001b[0m\n\u001b[0m\u001b[1;32m      2\u001b[0m \u001b[0mpprint\u001b[0m\u001b[0;34m.\u001b[0m\u001b[0mpprint\u001b[0m\u001b[0;34m(\u001b[0m\u001b[0msimilar_words\u001b[0m\u001b[0;34m)\u001b[0m\u001b[0;34m\u001b[0m\u001b[0;34m\u001b[0m\u001b[0m\n",
            "\u001b[0;32m/usr/local/lib/python3.7/dist-packages/gensim/models/keyedvectors.py\u001b[0m in \u001b[0;36mmost_similar\u001b[0;34m(self, positive, negative, topn, restrict_vocab, indexer)\u001b[0m\n\u001b[1;32m    529\u001b[0m                 \u001b[0mmean\u001b[0m\u001b[0;34m.\u001b[0m\u001b[0mappend\u001b[0m\u001b[0;34m(\u001b[0m\u001b[0mweight\u001b[0m \u001b[0;34m*\u001b[0m \u001b[0mword\u001b[0m\u001b[0;34m)\u001b[0m\u001b[0;34m\u001b[0m\u001b[0;34m\u001b[0m\u001b[0m\n\u001b[1;32m    530\u001b[0m             \u001b[0;32melse\u001b[0m\u001b[0;34m:\u001b[0m\u001b[0;34m\u001b[0m\u001b[0;34m\u001b[0m\u001b[0m\n\u001b[0;32m--> 531\u001b[0;31m                 \u001b[0mmean\u001b[0m\u001b[0;34m.\u001b[0m\u001b[0mappend\u001b[0m\u001b[0;34m(\u001b[0m\u001b[0mweight\u001b[0m \u001b[0;34m*\u001b[0m \u001b[0mself\u001b[0m\u001b[0;34m.\u001b[0m\u001b[0mword_vec\u001b[0m\u001b[0;34m(\u001b[0m\u001b[0mword\u001b[0m\u001b[0;34m,\u001b[0m \u001b[0muse_norm\u001b[0m\u001b[0;34m=\u001b[0m\u001b[0;32mTrue\u001b[0m\u001b[0;34m)\u001b[0m\u001b[0;34m)\u001b[0m\u001b[0;34m\u001b[0m\u001b[0;34m\u001b[0m\u001b[0m\n\u001b[0m\u001b[1;32m    532\u001b[0m                 \u001b[0;32mif\u001b[0m \u001b[0mword\u001b[0m \u001b[0;32min\u001b[0m \u001b[0mself\u001b[0m\u001b[0;34m.\u001b[0m\u001b[0mvocab\u001b[0m\u001b[0;34m:\u001b[0m\u001b[0;34m\u001b[0m\u001b[0;34m\u001b[0m\u001b[0m\n\u001b[1;32m    533\u001b[0m                     \u001b[0mall_words\u001b[0m\u001b[0;34m.\u001b[0m\u001b[0madd\u001b[0m\u001b[0;34m(\u001b[0m\u001b[0mself\u001b[0m\u001b[0;34m.\u001b[0m\u001b[0mvocab\u001b[0m\u001b[0;34m[\u001b[0m\u001b[0mword\u001b[0m\u001b[0;34m]\u001b[0m\u001b[0;34m.\u001b[0m\u001b[0mindex\u001b[0m\u001b[0;34m)\u001b[0m\u001b[0;34m\u001b[0m\u001b[0;34m\u001b[0m\u001b[0m\n",
            "\u001b[0;32m/usr/local/lib/python3.7/dist-packages/gensim/models/keyedvectors.py\u001b[0m in \u001b[0;36mword_vec\u001b[0;34m(self, word, use_norm)\u001b[0m\n\u001b[1;32m    450\u001b[0m             \u001b[0;32mreturn\u001b[0m \u001b[0mresult\u001b[0m\u001b[0;34m\u001b[0m\u001b[0;34m\u001b[0m\u001b[0m\n\u001b[1;32m    451\u001b[0m         \u001b[0;32melse\u001b[0m\u001b[0;34m:\u001b[0m\u001b[0;34m\u001b[0m\u001b[0;34m\u001b[0m\u001b[0m\n\u001b[0;32m--> 452\u001b[0;31m             \u001b[0;32mraise\u001b[0m \u001b[0mKeyError\u001b[0m\u001b[0;34m(\u001b[0m\u001b[0;34m\"word '%s' not in vocabulary\"\u001b[0m \u001b[0;34m%\u001b[0m \u001b[0mword\u001b[0m\u001b[0;34m)\u001b[0m\u001b[0;34m\u001b[0m\u001b[0;34m\u001b[0m\u001b[0m\n\u001b[0m\u001b[1;32m    453\u001b[0m \u001b[0;34m\u001b[0m\u001b[0m\n\u001b[1;32m    454\u001b[0m     \u001b[0;32mdef\u001b[0m \u001b[0mget_vector\u001b[0m\u001b[0;34m(\u001b[0m\u001b[0mself\u001b[0m\u001b[0;34m,\u001b[0m \u001b[0mword\u001b[0m\u001b[0;34m)\u001b[0m\u001b[0;34m:\u001b[0m\u001b[0;34m\u001b[0m\u001b[0;34m\u001b[0m\u001b[0m\n",
            "\u001b[0;31mKeyError\u001b[0m: \"word 'electrofishing' not in vocabulary\""
          ]
        }
      ]
    },
    {
      "cell_type": "markdown",
      "metadata": {
        "id": "5TpkScI8sA9G"
      },
      "source": [
        "### FastText - Skip Gram"
      ]
    },
    {
      "cell_type": "code",
      "metadata": {
        "id": "YAqOR1Vqps6M"
      },
      "source": [
        "from gensim.models import FastText"
      ],
      "execution_count": 9,
      "outputs": []
    },
    {
      "cell_type": "code",
      "metadata": {
        "id": "kqkvyiUw_DRh"
      },
      "source": [
        "# Now we initialize and train FastText with Skip Gram architecture (sg=1)\r\n",
        "ft_sg_model = FastText(sentences, size=100, window=5, min_count=5, workers=2, sg=1)"
      ],
      "execution_count": 10,
      "outputs": []
    },
    {
      "cell_type": "code",
      "metadata": {
        "id": "kv26QObJriB7",
        "colab": {
          "base_uri": "https://localhost:8080/"
        },
        "outputId": "4a80e887-1764-4e4f-a344-a5e565570f84"
      },
      "source": [
        "# As we can see, FastText allows us to obtain word vectors for out-of-vocabulary words\n",
        "result=ft_sg_model.wv.most_similar(\"electrofishing\")\n",
        "pprint.pprint(result)"
      ],
      "execution_count": 11,
      "outputs": [
        {
          "output_type": "stream",
          "text": [
            "[('electrolux', 0.8123034834861755),\n",
            " ('electro', 0.7991408109664917),\n",
            " ('electrolyte', 0.7959124445915222),\n",
            " ('electric', 0.7732639312744141),\n",
            " ('electroshock', 0.772376537322998),\n",
            " ('electrochemical', 0.7620791792869568),\n",
            " ('electronic', 0.7615846395492554),\n",
            " ('electron', 0.7581126689910889),\n",
            " ('electrogram', 0.7563213109970093),\n",
            " ('airbus', 0.7552685737609863)]\n"
          ],
          "name": "stdout"
        }
      ]
    },
    {
      "cell_type": "markdown",
      "metadata": {
        "id": "X0x2aQpfsFSx"
      },
      "source": [
        "### FastText - Continuous Bag-Of-Words (CBOW)"
      ]
    },
    {
      "cell_type": "code",
      "metadata": {
        "id": "BUBqvqpc2sbL"
      },
      "source": [
        "# Now we initialize and train FastText with CBOW architecture (sg=0)\r\n",
        "ft_cbow_model = FastText(sentences, size=100, window=5, min_count=5, workers=2, sg=0)"
      ],
      "execution_count": 12,
      "outputs": []
    },
    {
      "cell_type": "code",
      "metadata": {
        "id": "kUj1RUzM2nLA",
        "colab": {
          "base_uri": "https://localhost:8080/"
        },
        "outputId": "18cac7d6-9c5c-49d0-f836-496ca25750da"
      },
      "source": [
        "# Again, FastText allows us to obtain word vectors for out-of-vocabulary words\n",
        "result=ft_cbow_model.wv.most_similar(\"electrofishing\")\n",
        "pprint.pprint(result)"
      ],
      "execution_count": 13,
      "outputs": [
        {
          "output_type": "stream",
          "text": [
            "[('electric', 0.9160802364349365),\n",
            " ('electro', 0.9015165567398071),\n",
            " ('electrolux', 0.8953797817230225),\n",
            " ('electronic', 0.8814699053764343),\n",
            " ('electron', 0.8771697878837585),\n",
            " ('electrolyte', 0.8751893043518066),\n",
            " ('electrode', 0.8717366456985474),\n",
            " ('electrical', 0.8664981126785278),\n",
            " ('electroshock', 0.8596742749214172),\n",
            " ('electromagnet', 0.8522251844406128)]\n"
          ],
          "name": "stdout"
        }
      ]
    },
    {
      "cell_type": "markdown",
      "metadata": {
        "id": "6hjmOhmRi7Ov"
      },
      "source": [
        "## King - Man + Woman = ?"
      ]
    },
    {
      "cell_type": "markdown",
      "metadata": {
        "id": "Xw7b9OSwjGm0"
      },
      "source": [
        "Try both CBOW and Skip Gram model to calculate \"King - Man + Woman = ?\""
      ]
    },
    {
      "cell_type": "code",
      "metadata": {
        "id": "ovTXjSdgrw36",
        "colab": {
          "base_uri": "https://localhost:8080/"
        },
        "outputId": "a8539646-a916-4c11-df81-942d928017a9"
      },
      "source": [
        "# We can specify the positive/negative word list with the positive/negative parameters\n",
        "# Top N most similar words can be specified with the topn parameter\n",
        "result = wv_cbow_model.wv.most_similar(positive=['woman', 'king'], negative=['man'], topn=1)\n",
        "print(result)"
      ],
      "execution_count": 14,
      "outputs": [
        {
          "output_type": "stream",
          "text": [
            "[('president', 0.7754454612731934)]\n"
          ],
          "name": "stdout"
        }
      ]
    },
    {
      "cell_type": "code",
      "metadata": {
        "id": "gUtbE2jwq1to",
        "colab": {
          "base_uri": "https://localhost:8080/"
        },
        "outputId": "efc677e7-f7cd-42e0-d404-fefb7f566649"
      },
      "source": [
        "result = wv_sg_model.wv.most_similar(positive=['woman', 'king'], negative=['man'], topn=1)\n",
        "print(result)\n"
      ],
      "execution_count": 15,
      "outputs": [
        {
          "output_type": "stream",
          "text": [
            "[('luther', 0.6569207906723022)]\n"
          ],
          "name": "stdout"
        }
      ]
    },
    {
      "cell_type": "code",
      "metadata": {
        "id": "3PWf2I4_WZpG",
        "colab": {
          "base_uri": "https://localhost:8080/"
        },
        "outputId": "f1acb418-7322-4bef-b2be-cde7296e53de"
      },
      "source": [
        "result = ft_cbow_model.wv.most_similar(positive=['woman', 'king'], negative=['man'], topn=1)\n",
        "print(result)\n"
      ],
      "execution_count": 16,
      "outputs": [
        {
          "output_type": "stream",
          "text": [
            "[('kidding', 0.8954141139984131)]\n"
          ],
          "name": "stdout"
        }
      ]
    },
    {
      "cell_type": "code",
      "metadata": {
        "id": "j9x51rRhWZrx",
        "colab": {
          "base_uri": "https://localhost:8080/"
        },
        "outputId": "6c70fa96-3738-4571-8961-8e27d14ad444"
      },
      "source": [
        "result = ft_sg_model.wv.most_similar(positive=['woman', 'king'], negative=['man'], topn=1)\n",
        "print(result)\n"
      ],
      "execution_count": 17,
      "outputs": [
        {
          "output_type": "stream",
          "text": [
            "[('jarring', 0.7055376172065735)]\n"
          ],
          "name": "stdout"
        }
      ]
    },
    {
      "cell_type": "markdown",
      "metadata": {
        "id": "KpAd8t-wjTMA"
      },
      "source": [
        "This is not what we expected...Probably not enough data to answer as \"Queen\"\n",
        "\n",
        "Let's try with bigger sized data (Google has already trained Word2Vec with Google News data) in the following section\n"
      ]
    },
    {
      "cell_type": "markdown",
      "metadata": {
        "id": "GMY5w8F7rElp"
      },
      "source": [
        "## Using Pretrained word embeddings with Gensim\n",
        "\n"
      ]
    },
    {
      "cell_type": "markdown",
      "metadata": {
        "id": "keivkY13L4Nz"
      },
      "source": [
        "### 1.Download and load from Google pretrained Word2Vec binary file\r\n",
        "[Link to Project](https://code.google.com/archive/p/word2vec/)"
      ]
    },
    {
      "cell_type": "code",
      "metadata": {
        "id": "teQvZDSirVVC"
      },
      "source": [
        "# Download the pre-trained vectors trained on part of Google News dataset (about 100 billion words)\n",
        "# Beware, this file is big (3.39GB) - might be long waiting! \n",
        "id2 = '0B7XkCwpI5KDYNlNUTTlSS21pQmM'\n",
        "downloaded = drive.CreateFile({'id':id2}) \n",
        "downloaded.GetContentFile('GoogleNews-vectors-negative300.bin.gz')  "
      ],
      "execution_count": 18,
      "outputs": []
    },
    {
      "cell_type": "code",
      "metadata": {
        "id": "iTrXl4FRMitm"
      },
      "source": [
        "# Uncompress the downloaded file\r\n",
        "!gzip -d /content/GoogleNews-vectors-negative300.bin.gz"
      ],
      "execution_count": 19,
      "outputs": []
    },
    {
      "cell_type": "markdown",
      "metadata": {
        "id": "4HWa8itmJOCD"
      },
      "source": [
        "**Note: you may encounter a session crash with the pretrained word2vec code below due to out-of-memory issues. If it happens, you may start again directly from this section.**"
      ]
    },
    {
      "cell_type": "code",
      "metadata": {
        "id": "64e_sRJ1rhUa"
      },
      "source": [
        "from gensim.models import KeyedVectors\n",
        "import warnings\n",
        "warnings.simplefilter(action='ignore', category=FutureWarning)\n",
        "\n",
        "# Load the pretrained vectors with KeyedVectors instance - might be long waiting! \n",
        "filename = 'GoogleNews-vectors-negative300.bin'\n",
        "gn_wv_model = KeyedVectors.load_word2vec_format('GoogleNews-vectors-negative300.bin', binary=True)"
      ],
      "execution_count": null,
      "outputs": []
    },
    {
      "cell_type": "code",
      "metadata": {
        "id": "PvMQp2-Tr3zl",
        "colab": {
          "base_uri": "https://localhost:8080/"
        },
        "outputId": "90086aff-5ec8-40bd-a146-6764cc19b009"
      },
      "source": [
        "# Now we can try to calculate \"King - Man + Woman = ?\" again\n",
        "result = gn_wv_model.most_similar(positive=['woman', 'king'], negative=['man'], topn=1)\n",
        "print(result)"
      ],
      "execution_count": null,
      "outputs": [
        {
          "output_type": "stream",
          "text": [
            "[('queen', 0.7118192911148071)]\n"
          ],
          "name": "stdout"
        }
      ]
    },
    {
      "cell_type": "markdown",
      "metadata": {
        "id": "12Ws7QvPMq9s"
      },
      "source": [
        "### 2.Load a pretrained word embedding model using API\r\n",
        "The following code illustrates another way of loading pretrained word embeddings with Gensim. Here we try with GloVe embedding trained on twitter data"
      ]
    },
    {
      "cell_type": "code",
      "metadata": {
        "id": "cvAP4nyYM_qZ",
        "colab": {
          "base_uri": "https://localhost:8080/"
        },
        "outputId": "d11fa9d5-cbb0-46e3-c74e-4ed65ebb64d9"
      },
      "source": [
        "import gensim.downloader as api\r\n",
        "\r\n",
        "# download the model and return as object ready for use\r\n",
        "model = api.load(\"glove-twitter-25\")  \r\n",
        "# The similarity() function can calculate the cosine similarity between two given words\r\n",
        "print(model.similarity(\"cat\",\"dog\"))\r\n",
        "# The distance() function is another way of calculating the similarity between two given words, which returns 1-cosine similarity instead\r\n",
        "print(model.distance(\"cat\",\"dog\"))"
      ],
      "execution_count": 20,
      "outputs": [
        {
          "output_type": "stream",
          "text": [
            "[================================================--] 97.1% 101.8/104.8MB downloaded\n",
            "0.95908207\n",
            "0.040917932987213135\n"
          ],
          "name": "stdout"
        }
      ]
    },
    {
      "cell_type": "markdown",
      "metadata": {
        "id": "pqLruu6247Ze"
      },
      "source": [
        "# [Tips] Play with Colab Form Fields \n",
        "**The Form** supports multiple types of fields, including **input fields**, **dropdown menus**. \n",
        "\n",
        "In Lab1 E1, we already used the input fields. Let's try more now. You can edit this section by double-clicking it. \n",
        "\n",
        "Let's get familiar by changing the value in each input field (on the right) and checking the changes in the code (on the left) - vice versa"
      ]
    },
    {
      "cell_type": "code",
      "metadata": {
        "id": "XBNvQmee5QIG",
        "colab": {
          "base_uri": "https://localhost:8080/"
        },
        "outputId": "65172b3b-5ee2-45c9-83c0-d660fa5b3d0a"
      },
      "source": [
        "#@title Example form fields\n",
        "#@markdown please put description\n",
        "\n",
        "string = 'test'  #@param {type: \"string\"}\n",
        "slider_value = 111  #@param {type: \"slider\", min: 100, max: 200}\n",
        "number = 102  #@param {type: \"number\"}\n",
        "date = '2020-01-05'  #@param {type: \"date\"}\n",
        "pick_me = \"monday\"  #@param ['monday', 'tuesday', 'wednesday', 'thursday']\n",
        "select_or_input = \"apples\" #@param [\"apples\", \"bananas\", \"oranges\"] {allow-input: true}\n",
        "\n",
        "\n",
        "#print the output\n",
        "print(\"string is\",string)\n",
        "print('slider_value',slider_value)"
      ],
      "execution_count": 21,
      "outputs": [
        {
          "output_type": "stream",
          "text": [
            "string is examples\n",
            "slider_value 111\n"
          ],
          "name": "stdout"
        }
      ]
    },
    {
      "cell_type": "markdown",
      "metadata": {
        "id": "UfESzUvhCZOt"
      },
      "source": [
        "# Exercise\r\n",
        "Please complete the following **two questions** E1 and E2 and and submit your **\"ipynb\" file to Canvas**. (You can download it using \"File\" > \"Download .ipynb\")."
      ]
    },
    {
      "cell_type": "markdown",
      "metadata": {
        "id": "c7G_msPjCgQJ"
      },
      "source": [
        "##E1. What are the advantages of Facebook's FastText over Google's Word2Vec?\r\n",
        "Please write down your answer below with a **supportive example**, using your own words. "
      ]
    },
    {
      "cell_type": "code",
      "metadata": {
        "cellView": "form",
        "id": "P7IQSvnKIdTC"
      },
      "source": [
        "#@Lab01 - E1\r\n",
        "\r\n",
        "Answer = \" Type your answer in here \" #@param {type:\"raw\"}"
      ],
      "execution_count": null,
      "outputs": []
    },
    {
      "cell_type": "markdown",
      "metadata": {
        "id": "DupJY3rOcozM"
      },
      "source": [
        "## E2. Let's find synonyms\n",
        "Let's assume the cosine similarity, or distance, between two word embedding vectors can indicate if the words are semantically similar to each other. In this exercise, you will implement a function called find_synonym(), in which:\n",
        "\n",
        "1. A list of 6 words are given\n",
        "2. You need to implement your own algorithm to find the **synonym for each of the words (i.e. words with the highest cosine similarity or smallest distance)** in the list **from the rest of 5 words** based on the cosine similarity calculated. (Using the .similarity() or distance() function from *Load pretrained word embedding model using API* section above may help)\n",
        "3. Print out the synonyms found\n",
        "\n",
        "Please use the pretrained 50-dimensional GloVe word embedding trained on wikipedia and gigaword corpus. (You can use the gensim.downloader to load by passing 'glove-wiki-gigaword-50' to the .load() function, refer to the *Load pretrained word embedding model using API* section above)\n",
        "\n",
        "Before the function, you may need to import any required libraries.\n",
        "\n",
        "\n",
        "\n",
        "\n"
      ]
    },
    {
      "cell_type": "markdown",
      "metadata": {
        "id": "qVZ1L3slQ_TV"
      },
      "source": [
        "# New Section"
      ]
    },
    {
      "cell_type": "code",
      "metadata": {
        "id": "HCd23jclUGYF",
        "colab": {
          "base_uri": "https://localhost:8080/"
        },
        "outputId": "e627a2ea-a631-4ffa-b21d-93ce1163f117"
      },
      "source": [
        "# Complete the following function based on the requirements above\r\n",
        "\r\n",
        "# The list of words to find synonyms\r\n",
        "words = [\"beautiful\", \"smart\", \"clever\", \"stupid\", \"lovely\", \"foolish\"]\r\n",
        " \r\n",
        "# Load GloVe\r\n",
        "import gensim.downloader as api\r\n",
        "model = api.load(\"glove-wiki-gigaword-50\")\r\n",
        "\r\n",
        "# Find synonym and return the synonym from the given words list for the given word \r\n",
        "def find_synonym(word_list): \r\n",
        "  # intialise variable to hold results\r\n",
        "  result = []\r\n",
        "  # iterate through the list of words\r\n",
        "  for word in word_list:\r\n",
        "    # intialise vairable to hold similarity values\r\n",
        "    synonym_value = {}\r\n",
        "    # target_list = word_list[:]\r\n",
        "    # target_list.remove(word)\r\n",
        "    # iterate through other words in list\r\n",
        "    for target in word_list:\r\n",
        "      # skip if word is itself\r\n",
        "      if word == target:\r\n",
        "        continue\r\n",
        "      # store the comapared word and its similarity value\r\n",
        "      synonym_value[target] = model.similarity(word,target)\r\n",
        "      # max(d, key=d.get)\r\n",
        "      # synonym_value.append(model.similarity(word,w))\r\n",
        "    # result.append((word, target_list[synonym_value.index(max(synonym_value))]))\r\n",
        "\r\n",
        "    # keep word and its other word in list wiht highest similarity value\r\n",
        "    result.append((word, max(synonym_value, key=synonym_value.get)))\r\n",
        "  return result\r\n",
        "  \r\n",
        " \r\n",
        "# Call the function to get the synonyms and print out the synonyms for each word\r\n",
        "# funciton call to get list of synonyms from the given list of words\r\n",
        "synonyms = find_synonym(words)\r\n",
        "# print out synonyms for each word\r\n",
        "for synonym in synonyms:\r\n",
        "  print(synonym)"
      ],
      "execution_count": 37,
      "outputs": [
        {
          "output_type": "stream",
          "text": [
            "('beautiful', 'lovely')\n",
            "('smart', 'clever')\n",
            "('clever', 'smart')\n",
            "('stupid', 'foolish')\n",
            "('lovely', 'beautiful')\n",
            "('foolish', 'stupid')\n"
          ],
          "name": "stdout"
        }
      ]
    },
    {
      "cell_type": "markdown",
      "metadata": {
        "id": "btfv_GUrkFCu"
      },
      "source": [
        "**E2 Sample output**\r\n",
        "\r\n",
        "The following is **the sample output for E2**, each of the given word is saved in tuple with its synonym, e.g. the given word beautiful and its synonym lovely in the first tuple. - Please just check the **output format**."
      ]
    },
    {
      "cell_type": "markdown",
      "metadata": {
        "id": "xQka2c-tjzJB"
      },
      "source": [
        "![WeChat Image_20210313235923.png](data:image/png;base64,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)"
      ]
    },
    {
      "cell_type": "markdown",
      "metadata": {
        "id": "YrjbuZYrXD88"
      },
      "source": [
        "# Extension"
      ]
    },
    {
      "cell_type": "markdown",
      "metadata": {
        "id": "8UWjBxLdTcEi"
      },
      "source": [
        "## Word Embedding Visual Inspector (WEVI)\n",
        "If you would like to visualise how Word2Vec is learning, the following link is useful https://ronxin.github.io/wevi/"
      ]
    }
  ]
}